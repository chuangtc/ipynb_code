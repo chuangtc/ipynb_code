{
  "nbformat": 4,
  "nbformat_minor": 0,
  "metadata": {
    "colab": {
      "name": "[Colab]用Colab使用股海小英雄頻道程式碼.ipynb",
      "provenance": [],
      "collapsed_sections": [],
      "authorship_tag": "ABX9TyPshIBkyd+j3iRWjMNzksBh",
      "include_colab_link": true
    },
    "kernelspec": {
      "name": "python3",
      "display_name": "Python 3"
    },
    "language_info": {
      "name": "python"
    }
  },
  "cells": [
    {
      "cell_type": "markdown",
      "metadata": {
        "id": "view-in-github",
        "colab_type": "text"
      },
      "source": [
        "<a href=\"https://colab.research.google.com/github/Jade-ChiaChunHou/Youtube_finance_analysis/blob/master/%E8%82%A1%E6%B5%B7%E5%B0%8F%E8%8B%B1%E9%9B%84_%E6%96%B0%E6%89%8B%E4%B8%8A%E8%B7%AF%E7%B3%BB%E5%88%97/%5BColab%5D%E7%94%A8Colab%E4%BD%BF%E7%94%A8%E8%82%A1%E6%B5%B7%E5%B0%8F%E8%8B%B1%E9%9B%84%E9%A0%BB%E9%81%93%E7%A8%8B%E5%BC%8F%E7%A2%BC.ipynb\" target=\"_parent\"><img src=\"https://colab.research.google.com/assets/colab-badge.svg\" alt=\"Open In Colab\"/></a>"
      ]
    },
    {
      "cell_type": "markdown",
      "metadata": {
        "id": "AIxL4DyNPQdE"
      },
      "source": [
        "# **Part1:怎麼Colab使用股海小英雄頻道的程式碼？**\n",
        "\n",
        "### 步驟1: 先到股海小英雄頻道放程式碼的地方！\n",
        "* [股海小英雄Github](https://github.com/Jade-ChiaChunHou/Youtube_finance_analysis)\n",
        "\n",
        "### 步驟2: 複製股海小英雄頻道的程式碼 \n",
        "  - 複製單一程式碼：打開colab程式碼連結，按上方列“複製到雲端硬碟”\n",
        "  - 複製頻道全部程式碼：用git clone指令下載全部頻道程式碼\n",
        "\n",
        "### 步驟3: 動手執行看看，複製到自己雲端硬碟的檔案"
      ]
    },
    {
      "cell_type": "markdown",
      "metadata": {
        "id": "aNMjPbUGZ6cV"
      },
      "source": [
        "## Par1 步驟2:複製頻道全部程式碼到雲端硬碟(Google Drive)：用git clone指令下載全部頻道程式碼"
      ]
    },
    {
      "cell_type": "code",
      "metadata": {
        "colab": {
          "base_uri": "https://localhost:8080/",
          "height": 35
        },
        "id": "AvHDoMblZ_p3",
        "outputId": "bd0b6966-05cf-4642-9403-dd89f4dd4b08"
      },
      "source": [
        "#確定當前目錄(directory)\n",
        "%pwd"
      ],
      "execution_count": 27,
      "outputs": [
        {
          "output_type": "execute_result",
          "data": {
            "application/vnd.google.colaboratory.intrinsic+json": {
              "type": "string"
            },
            "text/plain": [
              "'/content/drive/My Drive'"
            ]
          },
          "metadata": {
            "tags": []
          },
          "execution_count": 27
        }
      ]
    },
    {
      "cell_type": "code",
      "metadata": {
        "colab": {
          "base_uri": "https://localhost:8080/"
        },
        "id": "7uieYa89bSCq",
        "outputId": "f62f2582-f524-4a8c-b706-820c6f7311ae"
      },
      "source": [
        "#同意讓Colab存取本帳號的雲端硬碟(Google drive)\n",
        "# 此處需要登入google帳號，獲取授權碼之後輸入即可連動雲端硬碟\n",
        "from google.colab import drive\n",
        "drive.mount('/content/drive')"
      ],
      "execution_count": null,
      "outputs": [
        {
          "output_type": "stream",
          "text": [
            "Drive already mounted at /content/drive; to attempt to forcibly remount, call drive.mount(\"/content/drive\", force_remount=True).\n"
          ],
          "name": "stdout"
        }
      ]
    },
    {
      "cell_type": "code",
      "metadata": {
        "colab": {
          "base_uri": "https://localhost:8080/"
        },
        "id": "kyqgJVdHaowT",
        "outputId": "60e4aba3-9c07-47d9-c333-d3376a725a9d"
      },
      "source": [
        "#切換至drive目錄\n",
        "%cd /content/drive/MyDrive/"
      ],
      "execution_count": null,
      "outputs": [
        {
          "output_type": "stream",
          "text": [
            "/content/drive/MyDrive\n"
          ],
          "name": "stdout"
        }
      ]
    },
    {
      "cell_type": "code",
      "metadata": {
        "id": "E3rxtmmja1OS",
        "colab": {
          "base_uri": "https://localhost:8080/",
          "height": 35
        },
        "outputId": "20f2e688-8a20-417c-800a-9de1bb6366d8"
      },
      "source": [
        "#確定當前目錄在'/content/drive/MyDrive/'\n",
        "%pwd"
      ],
      "execution_count": null,
      "outputs": [
        {
          "output_type": "execute_result",
          "data": {
            "application/vnd.google.colaboratory.intrinsic+json": {
              "type": "string"
            },
            "text/plain": [
              "'/content/drive/My Drive'"
            ]
          },
          "metadata": {
            "tags": []
          },
          "execution_count": 24
        }
      ]
    },
    {
      "cell_type": "code",
      "metadata": {
        "colab": {
          "base_uri": "https://localhost:8080/"
        },
        "id": "GNJW0RiXb7g1",
        "outputId": "ac8ff426-324a-447f-f081-1f8464bac181"
      },
      "source": [
        "#下載股海小英雄頻道程式碼到當前目錄\n",
        "!git clone https://github.com/Jade-ChiaChunHou/Youtube_finance_analysis.git"
      ],
      "execution_count": 28,
      "outputs": [
        {
          "output_type": "stream",
          "text": [
            "Cloning into 'Youtube_finance_analysis'...\n",
            "remote: Enumerating objects: 382, done.\u001b[K\n",
            "remote: Counting objects: 100% (159/159), done.\u001b[K\n",
            "remote: Compressing objects: 100% (112/112), done.\u001b[K\n",
            "remote: Total 382 (delta 108), reused 47 (delta 47), pack-reused 223\u001b[K\n",
            "Receiving objects: 100% (382/382), 11.72 MiB | 2.76 MiB/s, done.\n",
            "Resolving deltas: 100% (206/206), done.\n"
          ],
          "name": "stdout"
        }
      ]
    },
    {
      "cell_type": "markdown",
      "metadata": {
        "id": "B6vnweWeQsgB"
      },
      "source": [
        "# **Part2:在Colab使用Python\b\b,注意以下這幾個指令不同！**\n",
        "\n",
        "### 2.1 另存檔案\n",
        " - 2.1.1 本機\n",
        " - 2.1.2 雲端硬碟(Google Drive)\n",
        "\n",
        "### 2.2 讀檔案\n",
        "  - 雲端硬碟(Google Drive)"
      ]
    },
    {
      "cell_type": "markdown",
      "metadata": {
        "id": "yS36Ha-gSu4i"
      },
      "source": [
        "## 用股海小英雄頻道，下載台股大盤資料函式，當做範例\n",
        "想了解詳細內容可以看這支影片:[【Python 爬蟲】台股大盤資料免費下載｜不必再到證交所的網站慢慢下載！](https://youtu.be/taiSnAeTs7Y)"
      ]
    },
    {
      "cell_type": "code",
      "metadata": {
        "id": "_NRCLnTgy92J"
      },
      "source": [
        "# 下載資料套件\n",
        "import requests as r\n",
        "\n",
        "#資料處理套件\n",
        "import pandas as pd\n",
        "import json\n",
        "from datetime import datetime, date\n",
        "\n",
        "#股海小英雄自製下載台股大盤函式\n",
        "def get_stock_market_data(start_year, start_month, end_year, end_month):\n",
        "    start_date = str(date(start_year, start_month, 1))\n",
        "    end_date = str(date(end_year, end_month, 1))\n",
        "    month_list = pd.date_range(start_date, end_date, freq='MS').strftime(\"%Y%m%d\").tolist()\n",
        "    \n",
        "    # 下載大盤資料\n",
        "    df = pd.DataFrame()\n",
        "    for month in month_list:\n",
        "        url = \"https://www.twse.com.tw/indicesReport/MI_5MINS_HIST?response=json&date=\" + month\n",
        "        res = r.get(url)\n",
        "        stock_json = res.json()\n",
        "        stock_df = pd.DataFrame.from_dict(stock_json['data'])\n",
        "        df = df.append(stock_df, ignore_index = True)\n",
        "    \n",
        "    # 資料轉型\n",
        "    for col in range(0, 5):\n",
        "        for row in range(df.shape[0]):\n",
        "            # 把\"日期\"從字串(string)換成時間(datetime)，並將民國年換成西元年\n",
        "            if col == 0:\n",
        "                day = df.iloc[row,0].split('/')\n",
        "                df.iloc[row, 0] = datetime(int(day[0]) + 1911, int(day[1]), int(day[2]))  \n",
        "            # 把\"開盤價\", \"最高價\", \"最低價\", \"收盤價\"帶有逗號的字串(string)換成浮點數(float) \n",
        "            elif col != 0:\n",
        "                df.iloc[row, col] = float(df.iloc[row,col].replace(',', ''))\n",
        "    \n",
        "    # 把日期從字串(string)換成時間(datetime)，並將民國年換成西元年\n",
        "    df.columns = ['日期', '開盤價', '最高價', '最低價', '收盤價']\n",
        "    return df"
      ],
      "execution_count": null,
      "outputs": []
    },
    {
      "cell_type": "code",
      "metadata": {
        "colab": {
          "base_uri": "https://localhost:8080/",
          "height": 359
        },
        "id": "sMdwOZJFUABM",
        "outputId": "91a09fb3-6dd1-41be-92c9-d005b823d011"
      },
      "source": [
        "#下載2021年6月到2021年7月的台股大盤資料，存入df dataframe內\n",
        "df = get_stock_market_data(start_year = 2021, start_month = 6, end_year = 2021, end_month = 7)\n",
        "df.head(10)"
      ],
      "execution_count": null,
      "outputs": [
        {
          "output_type": "execute_result",
          "data": {
            "text/html": [
              "<div>\n",
              "<style scoped>\n",
              "    .dataframe tbody tr th:only-of-type {\n",
              "        vertical-align: middle;\n",
              "    }\n",
              "\n",
              "    .dataframe tbody tr th {\n",
              "        vertical-align: top;\n",
              "    }\n",
              "\n",
              "    .dataframe thead th {\n",
              "        text-align: right;\n",
              "    }\n",
              "</style>\n",
              "<table border=\"1\" class=\"dataframe\">\n",
              "  <thead>\n",
              "    <tr style=\"text-align: right;\">\n",
              "      <th></th>\n",
              "      <th>日期</th>\n",
              "      <th>開盤價</th>\n",
              "      <th>最高價</th>\n",
              "      <th>最低價</th>\n",
              "      <th>收盤價</th>\n",
              "    </tr>\n",
              "  </thead>\n",
              "  <tbody>\n",
              "    <tr>\n",
              "      <th>0</th>\n",
              "      <td>2021-06-01 00:00:00</td>\n",
              "      <td>17098.5</td>\n",
              "      <td>17184.3</td>\n",
              "      <td>17060.5</td>\n",
              "      <td>17162.4</td>\n",
              "    </tr>\n",
              "    <tr>\n",
              "      <th>1</th>\n",
              "      <td>2021-06-02 00:00:00</td>\n",
              "      <td>17192.9</td>\n",
              "      <td>17274.7</td>\n",
              "      <td>17056.4</td>\n",
              "      <td>17165</td>\n",
              "    </tr>\n",
              "    <tr>\n",
              "      <th>2</th>\n",
              "      <td>2021-06-03 00:00:00</td>\n",
              "      <td>17201.3</td>\n",
              "      <td>17311.3</td>\n",
              "      <td>17198.9</td>\n",
              "      <td>17246.2</td>\n",
              "    </tr>\n",
              "    <tr>\n",
              "      <th>3</th>\n",
              "      <td>2021-06-04 00:00:00</td>\n",
              "      <td>17225.1</td>\n",
              "      <td>17225.1</td>\n",
              "      <td>17084.5</td>\n",
              "      <td>17147.4</td>\n",
              "    </tr>\n",
              "    <tr>\n",
              "      <th>4</th>\n",
              "      <td>2021-06-07 00:00:00</td>\n",
              "      <td>17176.1</td>\n",
              "      <td>17189.2</td>\n",
              "      <td>16775.8</td>\n",
              "      <td>17083.9</td>\n",
              "    </tr>\n",
              "    <tr>\n",
              "      <th>5</th>\n",
              "      <td>2021-06-08 00:00:00</td>\n",
              "      <td>17094.3</td>\n",
              "      <td>17181.5</td>\n",
              "      <td>17056.5</td>\n",
              "      <td>17076.2</td>\n",
              "    </tr>\n",
              "    <tr>\n",
              "      <th>6</th>\n",
              "      <td>2021-06-09 00:00:00</td>\n",
              "      <td>17082.5</td>\n",
              "      <td>17082.5</td>\n",
              "      <td>16907.4</td>\n",
              "      <td>16966.2</td>\n",
              "    </tr>\n",
              "    <tr>\n",
              "      <th>7</th>\n",
              "      <td>2021-06-10 00:00:00</td>\n",
              "      <td>17024.5</td>\n",
              "      <td>17159.2</td>\n",
              "      <td>16978</td>\n",
              "      <td>17159.2</td>\n",
              "    </tr>\n",
              "    <tr>\n",
              "      <th>8</th>\n",
              "      <td>2021-06-11 00:00:00</td>\n",
              "      <td>17200.5</td>\n",
              "      <td>17278.5</td>\n",
              "      <td>17193.6</td>\n",
              "      <td>17213.5</td>\n",
              "    </tr>\n",
              "    <tr>\n",
              "      <th>9</th>\n",
              "      <td>2021-06-15 00:00:00</td>\n",
              "      <td>17279.7</td>\n",
              "      <td>17371.3</td>\n",
              "      <td>17279.7</td>\n",
              "      <td>17371.3</td>\n",
              "    </tr>\n",
              "  </tbody>\n",
              "</table>\n",
              "</div>"
            ],
            "text/plain": [
              "                    日期      開盤價      最高價      最低價      收盤價\n",
              "0  2021-06-01 00:00:00  17098.5  17184.3  17060.5  17162.4\n",
              "1  2021-06-02 00:00:00  17192.9  17274.7  17056.4    17165\n",
              "2  2021-06-03 00:00:00  17201.3  17311.3  17198.9  17246.2\n",
              "3  2021-06-04 00:00:00  17225.1  17225.1  17084.5  17147.4\n",
              "4  2021-06-07 00:00:00  17176.1  17189.2  16775.8  17083.9\n",
              "5  2021-06-08 00:00:00  17094.3  17181.5  17056.5  17076.2\n",
              "6  2021-06-09 00:00:00  17082.5  17082.5  16907.4  16966.2\n",
              "7  2021-06-10 00:00:00  17024.5  17159.2    16978  17159.2\n",
              "8  2021-06-11 00:00:00  17200.5  17278.5  17193.6  17213.5\n",
              "9  2021-06-15 00:00:00  17279.7  17371.3  17279.7  17371.3"
            ]
          },
          "metadata": {
            "tags": []
          },
          "execution_count": 8
        }
      ]
    },
    {
      "cell_type": "markdown",
      "metadata": {
        "id": "CLW8SpU0M-jb"
      },
      "source": [
        "## 2.1.1 另存檔案到本機"
      ]
    },
    {
      "cell_type": "code",
      "metadata": {
        "id": "Ibxe5KgUMwKP",
        "colab": {
          "base_uri": "https://localhost:8080/",
          "height": 17
        },
        "outputId": "2c7c2243-154b-4002-e761-0c8c3382c1b6"
      },
      "source": [
        "from google.colab import files\n",
        "df.to_csv(\"stock.csv\") \n",
        "files.download(\"stock.csv\")"
      ],
      "execution_count": 40,
      "outputs": [
        {
          "output_type": "display_data",
          "data": {
            "application/javascript": [
              "\n",
              "    async function download(id, filename, size) {\n",
              "      if (!google.colab.kernel.accessAllowed) {\n",
              "        return;\n",
              "      }\n",
              "      const div = document.createElement('div');\n",
              "      const label = document.createElement('label');\n",
              "      label.textContent = `Downloading \"${filename}\": `;\n",
              "      div.appendChild(label);\n",
              "      const progress = document.createElement('progress');\n",
              "      progress.max = size;\n",
              "      div.appendChild(progress);\n",
              "      document.body.appendChild(div);\n",
              "\n",
              "      const buffers = [];\n",
              "      let downloaded = 0;\n",
              "\n",
              "      const channel = await google.colab.kernel.comms.open(id);\n",
              "      // Send a message to notify the kernel that we're ready.\n",
              "      channel.send({})\n",
              "\n",
              "      for await (const message of channel.messages) {\n",
              "        // Send a message to notify the kernel that we're ready.\n",
              "        channel.send({})\n",
              "        if (message.buffers) {\n",
              "          for (const buffer of message.buffers) {\n",
              "            buffers.push(buffer);\n",
              "            downloaded += buffer.byteLength;\n",
              "            progress.value = downloaded;\n",
              "          }\n",
              "        }\n",
              "      }\n",
              "      const blob = new Blob(buffers, {type: 'application/binary'});\n",
              "      const a = document.createElement('a');\n",
              "      a.href = window.URL.createObjectURL(blob);\n",
              "      a.download = filename;\n",
              "      div.appendChild(a);\n",
              "      a.click();\n",
              "      div.remove();\n",
              "    }\n",
              "  "
            ],
            "text/plain": [
              "<IPython.core.display.Javascript object>"
            ]
          },
          "metadata": {
            "tags": []
          }
        },
        {
          "output_type": "display_data",
          "data": {
            "application/javascript": [
              "download(\"download_2fe830ff-215f-4b6a-b678-44e5edb36c68\", \"stock.csv\", 2559)"
            ],
            "text/plain": [
              "<IPython.core.display.Javascript object>"
            ]
          },
          "metadata": {
            "tags": []
          }
        }
      ]
    },
    {
      "cell_type": "markdown",
      "metadata": {
        "id": "a8LavHL5eusf"
      },
      "source": [
        "## 2.1.2 另存檔案到雲端硬碟(Google Drive)"
      ]
    },
    {
      "cell_type": "code",
      "metadata": {
        "colab": {
          "base_uri": "https://localhost:8080/"
        },
        "id": "NUNDpaGkv9qa",
        "outputId": "fd470ab7-9600-4476-c803-52a74258ab4e"
      },
      "source": [
        "from google.colab import drive\n",
        "drive.mount('/content/drive')"
      ],
      "execution_count": null,
      "outputs": [
        {
          "output_type": "stream",
          "text": [
            "Drive already mounted at /content/drive; to attempt to forcibly remount, call drive.mount(\"/content/drive\", force_remount=True).\n"
          ],
          "name": "stdout"
        }
      ]
    },
    {
      "cell_type": "code",
      "metadata": {
        "id": "BMErHjxdzVNy"
      },
      "source": [
        "df.to_csv('/content/drive/MyDrive/Youtube_finance_analysis/stock.csv')"
      ],
      "execution_count": 31,
      "outputs": []
    },
    {
      "cell_type": "markdown",
      "metadata": {
        "id": "8nZtvxEue73o"
      },
      "source": [
        "## 2.2 讀資料在雲端硬碟(Google Drive)"
      ]
    },
    {
      "cell_type": "code",
      "metadata": {
        "colab": {
          "base_uri": "https://localhost:8080/",
          "height": 359
        },
        "id": "JmNMT1Fne7IR",
        "outputId": "25a97ae1-c016-470f-e389-a44e6f573e73"
      },
      "source": [
        "df2 = pd.read_csv('/content/drive/MyDrive/Youtube_finance_analysis/stock.csv', index_col = 0)\n",
        "df2.head(10)"
      ],
      "execution_count": 39,
      "outputs": [
        {
          "output_type": "execute_result",
          "data": {
            "text/html": [
              "<div>\n",
              "<style scoped>\n",
              "    .dataframe tbody tr th:only-of-type {\n",
              "        vertical-align: middle;\n",
              "    }\n",
              "\n",
              "    .dataframe tbody tr th {\n",
              "        vertical-align: top;\n",
              "    }\n",
              "\n",
              "    .dataframe thead th {\n",
              "        text-align: right;\n",
              "    }\n",
              "</style>\n",
              "<table border=\"1\" class=\"dataframe\">\n",
              "  <thead>\n",
              "    <tr style=\"text-align: right;\">\n",
              "      <th></th>\n",
              "      <th>日期</th>\n",
              "      <th>開盤價</th>\n",
              "      <th>最高價</th>\n",
              "      <th>最低價</th>\n",
              "      <th>收盤價</th>\n",
              "    </tr>\n",
              "  </thead>\n",
              "  <tbody>\n",
              "    <tr>\n",
              "      <th>0</th>\n",
              "      <td>2021-06-01 00:00:00</td>\n",
              "      <td>17098.49</td>\n",
              "      <td>17184.30</td>\n",
              "      <td>17060.45</td>\n",
              "      <td>17162.38</td>\n",
              "    </tr>\n",
              "    <tr>\n",
              "      <th>1</th>\n",
              "      <td>2021-06-02 00:00:00</td>\n",
              "      <td>17192.91</td>\n",
              "      <td>17274.66</td>\n",
              "      <td>17056.42</td>\n",
              "      <td>17165.04</td>\n",
              "    </tr>\n",
              "    <tr>\n",
              "      <th>2</th>\n",
              "      <td>2021-06-03 00:00:00</td>\n",
              "      <td>17201.30</td>\n",
              "      <td>17311.28</td>\n",
              "      <td>17198.89</td>\n",
              "      <td>17246.16</td>\n",
              "    </tr>\n",
              "    <tr>\n",
              "      <th>3</th>\n",
              "      <td>2021-06-04 00:00:00</td>\n",
              "      <td>17225.06</td>\n",
              "      <td>17225.06</td>\n",
              "      <td>17084.49</td>\n",
              "      <td>17147.41</td>\n",
              "    </tr>\n",
              "    <tr>\n",
              "      <th>4</th>\n",
              "      <td>2021-06-07 00:00:00</td>\n",
              "      <td>17176.09</td>\n",
              "      <td>17189.23</td>\n",
              "      <td>16775.85</td>\n",
              "      <td>17083.91</td>\n",
              "    </tr>\n",
              "    <tr>\n",
              "      <th>5</th>\n",
              "      <td>2021-06-08 00:00:00</td>\n",
              "      <td>17094.34</td>\n",
              "      <td>17181.52</td>\n",
              "      <td>17056.53</td>\n",
              "      <td>17076.21</td>\n",
              "    </tr>\n",
              "    <tr>\n",
              "      <th>6</th>\n",
              "      <td>2021-06-09 00:00:00</td>\n",
              "      <td>17082.52</td>\n",
              "      <td>17082.52</td>\n",
              "      <td>16907.43</td>\n",
              "      <td>16966.22</td>\n",
              "    </tr>\n",
              "    <tr>\n",
              "      <th>7</th>\n",
              "      <td>2021-06-10 00:00:00</td>\n",
              "      <td>17024.54</td>\n",
              "      <td>17159.22</td>\n",
              "      <td>16978.01</td>\n",
              "      <td>17159.22</td>\n",
              "    </tr>\n",
              "    <tr>\n",
              "      <th>8</th>\n",
              "      <td>2021-06-11 00:00:00</td>\n",
              "      <td>17200.45</td>\n",
              "      <td>17278.55</td>\n",
              "      <td>17193.61</td>\n",
              "      <td>17213.52</td>\n",
              "    </tr>\n",
              "    <tr>\n",
              "      <th>9</th>\n",
              "      <td>2021-06-15 00:00:00</td>\n",
              "      <td>17279.70</td>\n",
              "      <td>17371.29</td>\n",
              "      <td>17279.70</td>\n",
              "      <td>17371.29</td>\n",
              "    </tr>\n",
              "  </tbody>\n",
              "</table>\n",
              "</div>"
            ],
            "text/plain": [
              "                    日期       開盤價       最高價       最低價       收盤價\n",
              "0  2021-06-01 00:00:00  17098.49  17184.30  17060.45  17162.38\n",
              "1  2021-06-02 00:00:00  17192.91  17274.66  17056.42  17165.04\n",
              "2  2021-06-03 00:00:00  17201.30  17311.28  17198.89  17246.16\n",
              "3  2021-06-04 00:00:00  17225.06  17225.06  17084.49  17147.41\n",
              "4  2021-06-07 00:00:00  17176.09  17189.23  16775.85  17083.91\n",
              "5  2021-06-08 00:00:00  17094.34  17181.52  17056.53  17076.21\n",
              "6  2021-06-09 00:00:00  17082.52  17082.52  16907.43  16966.22\n",
              "7  2021-06-10 00:00:00  17024.54  17159.22  16978.01  17159.22\n",
              "8  2021-06-11 00:00:00  17200.45  17278.55  17193.61  17213.52\n",
              "9  2021-06-15 00:00:00  17279.70  17371.29  17279.70  17371.29"
            ]
          },
          "metadata": {
            "tags": []
          },
          "execution_count": 39
        }
      ]
    }
  ]
}