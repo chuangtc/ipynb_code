{
 "cells": [
  {
   "cell_type": "markdown",
   "metadata": {},
   "source": [
    "# K線 反轉型態 - 多頭吞噬/空頭吞噬型態 "
   ]
  },
  {
   "cell_type": "markdown",
   "metadata": {},
   "source": [
    "# Part 0: Import 套件"
   ]
  },
  {
   "cell_type": "markdown",
   "metadata": {},
   "source": [
    "- TA-Lib: https://mrjbq7.github.io/ta-lib/install.html\n",
    "- plotly: https://plotly.com/python/\n",
    "- yfinance: https://pypi.org/project/yfinance/"
   ]
  },
  {
   "cell_type": "code",
   "execution_count": 2,
   "metadata": {
    "tags": []
   },
   "outputs": [],
   "source": [
    "#財經分析套件\n",
    "import talib\n",
    "\n",
    "# 下載資料套件\n",
    "import yfinance as yf\n",
    "import requests as r\n",
    "\n",
    "#資料處理套件\n",
    "import pandas as pd\n",
    "import json\n",
    "from datetime import datetime, date\n",
    "\n",
    "# 畫圖套件\n",
    "import plotly.graph_objects as go"
   ]
  },
  {
   "cell_type": "markdown",
   "metadata": {},
   "source": [
    "如果沒有上述套件 可以用pip install 或 conda install 指令安裝\n",
    "1. pip install\n",
    "    - pip install plotly\n",
    "    - pip install TA-Lib\n",
    "    - pip install yfinance\n",
    "2. conda install\n",
    "    - conda install -c plotly plotly\n",
    "    - conda install -c conda-forge ta-lib"
   ]
  },
  {
   "cell_type": "markdown",
   "metadata": {},
   "source": [
    "# Part 1: 在台股個股Ｋ線圖上，標示出 多頭吞噬/空頭吞噬 Ｋ線型態"
   ]
  },
  {
   "cell_type": "markdown",
   "metadata": {},
   "source": [
    "## 1.1 下載台股個股歷史走勢資料\n",
    "\n",
    "- 股海小英雄youtube影片：[【Python 爬蟲】台股個股資料免費下載｜選擇想要的個股資料！](https://youtu.be/_4CEymrQbV8)\n",
    "- 資料來源：[證交所 個股日成交資訊](https://www.twse.com.tw/zh/page/trading/exchange/STOCK_DAY.html)"
   ]
  },
  {
   "cell_type": "code",
   "execution_count": 3,
   "metadata": {},
   "outputs": [],
   "source": [
    "def get_tw_stock_data(start_year, start_month, end_year, end_month, stock_code):\n",
    "    start_date = str(date(start_year, start_month, 1))\n",
    "    end_date = str(date(end_year, end_month, 1))\n",
    "    month_list = pd.date_range(start_date, end_date, freq='MS').strftime(\"%Y%m%d\").tolist()\n",
    "    \n",
    "    df = pd.DataFrame()\n",
    "    for month in month_list:\n",
    "        url = \"https://www.twse.com.tw/exchangeReport/STOCK_DAY?response=json&date=\"+ month + \"&stockNo=\" + str(stock_code)\n",
    "        res = r.get(url)\n",
    "        stock_json = res.json()\n",
    "        stock_df = pd.DataFrame.from_dict(stock_json['data'])\n",
    "        df = df.append(stock_df, ignore_index = True)\n",
    "        \n",
    "    # 資料轉型\n",
    "    for col in [0, 1, 2, 3, 4, 5, 6, 8]:\n",
    "        for row in range(df.shape[0]):\n",
    "            # 把\"日期\"從字串(string)換成時間(datetime)，並將民國年換成西元年\n",
    "            if col == 0:\n",
    "                day = df.iloc[row,0].split('/')\n",
    "                df.iloc[row, 0] = datetime(int(day[0]) + 1911, int(day[1]), int(day[2]))  \n",
    "            # 把\"開盤價\", \"最高價\", \"最低價\", \"收盤價\"帶有逗號的字串(string)換成浮點數(float) \n",
    "            elif col != 0:\n",
    "                df.iloc[row, col] = float(df.iloc[row,col].replace(',', ''))\n",
    "    \n",
    "    df.columns = ['日期', '成交股數', '成交金額', '開盤價', '最高價', '最低價', '收盤價', '漲跌價差', '成交筆數']\n",
    "    return df"
   ]
  },
  {
   "cell_type": "code",
   "execution_count": 4,
   "metadata": {},
   "outputs": [
    {
     "data": {
      "text/html": [
       "<div>\n",
       "<style scoped>\n",
       "    .dataframe tbody tr th:only-of-type {\n",
       "        vertical-align: middle;\n",
       "    }\n",
       "\n",
       "    .dataframe tbody tr th {\n",
       "        vertical-align: top;\n",
       "    }\n",
       "\n",
       "    .dataframe thead th {\n",
       "        text-align: right;\n",
       "    }\n",
       "</style>\n",
       "<table border=\"1\" class=\"dataframe\">\n",
       "  <thead>\n",
       "    <tr style=\"text-align: right;\">\n",
       "      <th></th>\n",
       "      <th>日期</th>\n",
       "      <th>成交股數</th>\n",
       "      <th>成交金額</th>\n",
       "      <th>開盤價</th>\n",
       "      <th>最高價</th>\n",
       "      <th>最低價</th>\n",
       "      <th>收盤價</th>\n",
       "      <th>漲跌價差</th>\n",
       "      <th>成交筆數</th>\n",
       "    </tr>\n",
       "  </thead>\n",
       "  <tbody>\n",
       "    <tr>\n",
       "      <th>0</th>\n",
       "      <td>2021-06-01 00:00:00</td>\n",
       "      <td>542547770.0</td>\n",
       "      <td>55984576106.0</td>\n",
       "      <td>101.5</td>\n",
       "      <td>108.0</td>\n",
       "      <td>98.2</td>\n",
       "      <td>108.0</td>\n",
       "      <td>+9.40</td>\n",
       "      <td>196823.0</td>\n",
       "    </tr>\n",
       "    <tr>\n",
       "      <th>1</th>\n",
       "      <td>2021-06-02 00:00:00</td>\n",
       "      <td>696150855.0</td>\n",
       "      <td>78107414405.0</td>\n",
       "      <td>110.0</td>\n",
       "      <td>115.5</td>\n",
       "      <td>108.5</td>\n",
       "      <td>110.5</td>\n",
       "      <td>+2.50</td>\n",
       "      <td>232375.0</td>\n",
       "    </tr>\n",
       "    <tr>\n",
       "      <th>2</th>\n",
       "      <td>2021-06-03 00:00:00</td>\n",
       "      <td>561492548.0</td>\n",
       "      <td>65330004183.0</td>\n",
       "      <td>114.0</td>\n",
       "      <td>121.0</td>\n",
       "      <td>112.5</td>\n",
       "      <td>119.0</td>\n",
       "      <td>+8.50</td>\n",
       "      <td>185050.0</td>\n",
       "    </tr>\n",
       "    <tr>\n",
       "      <th>3</th>\n",
       "      <td>2021-06-04 00:00:00</td>\n",
       "      <td>440988606.0</td>\n",
       "      <td>52466457011.0</td>\n",
       "      <td>119.0</td>\n",
       "      <td>121.5</td>\n",
       "      <td>116.0</td>\n",
       "      <td>116.5</td>\n",
       "      <td>-2.50</td>\n",
       "      <td>174236.0</td>\n",
       "    </tr>\n",
       "    <tr>\n",
       "      <th>4</th>\n",
       "      <td>2021-06-07 00:00:00</td>\n",
       "      <td>669467351.0</td>\n",
       "      <td>74752165886.0</td>\n",
       "      <td>119.0</td>\n",
       "      <td>120.5</td>\n",
       "      <td>105.0</td>\n",
       "      <td>110.5</td>\n",
       "      <td>-6.00</td>\n",
       "      <td>248926.0</td>\n",
       "    </tr>\n",
       "  </tbody>\n",
       "</table>\n",
       "</div>"
      ],
      "text/plain": [
       "                    日期         成交股數           成交金額    開盤價    最高價    最低價  \\\n",
       "0  2021-06-01 00:00:00  542547770.0  55984576106.0  101.5  108.0   98.2   \n",
       "1  2021-06-02 00:00:00  696150855.0  78107414405.0  110.0  115.5  108.5   \n",
       "2  2021-06-03 00:00:00  561492548.0  65330004183.0  114.0  121.0  112.5   \n",
       "3  2021-06-04 00:00:00  440988606.0  52466457011.0  119.0  121.5  116.0   \n",
       "4  2021-06-07 00:00:00  669467351.0  74752165886.0  119.0  120.5  105.0   \n",
       "\n",
       "     收盤價   漲跌價差      成交筆數  \n",
       "0  108.0  +9.40  196823.0  \n",
       "1  110.5  +2.50  232375.0  \n",
       "2  119.0  +8.50  185050.0  \n",
       "3  116.5  -2.50  174236.0  \n",
       "4  110.5  -6.00  248926.0  "
      ]
     },
     "execution_count": 4,
     "metadata": {},
     "output_type": "execute_result"
    }
   ],
   "source": [
    "#下載台股長榮海運:2603\n",
    "df = get_tw_stock_data(start_year = 2021, \n",
    "                       start_month = 6, \n",
    "                       end_year = 2021, \n",
    "                       end_month = 8, \n",
    "                       stock_code = 2603)\n",
    "df.head()"
   ]
  },
  {
   "cell_type": "markdown",
   "metadata": {
    "tags": []
   },
   "source": [
    "## 1.2: 用Ta-Lib套件，找出 多頭吞噬/空頭吞噬 K線型態\n",
    "- [Ta-Lib K線型態介紹](https://www.quantshare.com/index.php?option=manual&dir=/QuantShare%20Language/Candlestick%20Pattern)"
   ]
  },
  {
   "cell_type": "markdown",
   "metadata": {},
   "source": [
    "### Ta-Lib支援的K線型態們"
   ]
  },
  {
   "cell_type": "code",
   "execution_count": 5,
   "metadata": {
    "tags": []
   },
   "outputs": [
    {
     "name": "stdout",
     "output_type": "stream",
     "text": [
      "['CDL2CROWS', 'CDL3BLACKCROWS', 'CDL3INSIDE', 'CDL3LINESTRIKE', 'CDL3OUTSIDE', 'CDL3STARSINSOUTH', 'CDL3WHITESOLDIERS', 'CDLABANDONEDBABY', 'CDLADVANCEBLOCK', 'CDLBELTHOLD', 'CDLBREAKAWAY', 'CDLCLOSINGMARUBOZU', 'CDLCONCEALBABYSWALL', 'CDLCOUNTERATTACK', 'CDLDARKCLOUDCOVER', 'CDLDOJI', 'CDLDOJISTAR', 'CDLDRAGONFLYDOJI', 'CDLENGULFING', 'CDLEVENINGDOJISTAR', 'CDLEVENINGSTAR', 'CDLGAPSIDESIDEWHITE', 'CDLGRAVESTONEDOJI', 'CDLHAMMER', 'CDLHANGINGMAN', 'CDLHARAMI', 'CDLHARAMICROSS', 'CDLHIGHWAVE', 'CDLHIKKAKE', 'CDLHIKKAKEMOD', 'CDLHOMINGPIGEON', 'CDLIDENTICAL3CROWS', 'CDLINNECK', 'CDLINVERTEDHAMMER', 'CDLKICKING', 'CDLKICKINGBYLENGTH', 'CDLLADDERBOTTOM', 'CDLLONGLEGGEDDOJI', 'CDLLONGLINE', 'CDLMARUBOZU', 'CDLMATCHINGLOW', 'CDLMATHOLD', 'CDLMORNINGDOJISTAR', 'CDLMORNINGSTAR', 'CDLONNECK', 'CDLPIERCING', 'CDLRICKSHAWMAN', 'CDLRISEFALL3METHODS', 'CDLSEPARATINGLINES', 'CDLSHOOTINGSTAR', 'CDLSHORTLINE', 'CDLSPINNINGTOP', 'CDLSTALLEDPATTERN', 'CDLSTICKSANDWICH', 'CDLTAKURI', 'CDLTASUKIGAP', 'CDLTHRUSTING', 'CDLTRISTAR', 'CDLUNIQUE3RIVER', 'CDLUPSIDEGAP2CROWS', 'CDLXSIDEGAP3METHODS']\n"
     ]
    }
   ],
   "source": [
    "print(talib.get_function_groups()['Pattern Recognition'])"
   ]
  },
  {
   "cell_type": "markdown",
   "metadata": {},
   "source": [
    "### Ta-Lib K線型態函式名稱\n",
    "- 吞噬: 'CDLENGULFING'\n",
    "\n",
    "### Ta-Lib K線型態函式回傳值\n",
    "- 偏上漲型態: +100\n",
    "- 無此型態: 0\n",
    "- 偏下跌型態: -100"
   ]
  },
  {
   "cell_type": "markdown",
   "metadata": {},
   "source": [
    "### 計算 吞噬 型態"
   ]
  },
  {
   "cell_type": "code",
   "execution_count": 6,
   "metadata": {},
   "outputs": [
    {
     "data": {
      "text/html": [
       "<div>\n",
       "<style scoped>\n",
       "    .dataframe tbody tr th:only-of-type {\n",
       "        vertical-align: middle;\n",
       "    }\n",
       "\n",
       "    .dataframe tbody tr th {\n",
       "        vertical-align: top;\n",
       "    }\n",
       "\n",
       "    .dataframe thead th {\n",
       "        text-align: right;\n",
       "    }\n",
       "</style>\n",
       "<table border=\"1\" class=\"dataframe\">\n",
       "  <thead>\n",
       "    <tr style=\"text-align: right;\">\n",
       "      <th></th>\n",
       "      <th>日期</th>\n",
       "      <th>成交股數</th>\n",
       "      <th>成交金額</th>\n",
       "      <th>開盤價</th>\n",
       "      <th>最高價</th>\n",
       "      <th>最低價</th>\n",
       "      <th>收盤價</th>\n",
       "      <th>漲跌價差</th>\n",
       "      <th>成交筆數</th>\n",
       "      <th>CDLENGULFING</th>\n",
       "    </tr>\n",
       "  </thead>\n",
       "  <tbody>\n",
       "    <tr>\n",
       "      <th>0</th>\n",
       "      <td>2021-06-01 00:00:00</td>\n",
       "      <td>542547770.0</td>\n",
       "      <td>55984576106.0</td>\n",
       "      <td>101.5</td>\n",
       "      <td>108.0</td>\n",
       "      <td>98.2</td>\n",
       "      <td>108.0</td>\n",
       "      <td>+9.40</td>\n",
       "      <td>196823.0</td>\n",
       "      <td>0</td>\n",
       "    </tr>\n",
       "    <tr>\n",
       "      <th>1</th>\n",
       "      <td>2021-06-02 00:00:00</td>\n",
       "      <td>696150855.0</td>\n",
       "      <td>78107414405.0</td>\n",
       "      <td>110.0</td>\n",
       "      <td>115.5</td>\n",
       "      <td>108.5</td>\n",
       "      <td>110.5</td>\n",
       "      <td>+2.50</td>\n",
       "      <td>232375.0</td>\n",
       "      <td>0</td>\n",
       "    </tr>\n",
       "    <tr>\n",
       "      <th>2</th>\n",
       "      <td>2021-06-03 00:00:00</td>\n",
       "      <td>561492548.0</td>\n",
       "      <td>65330004183.0</td>\n",
       "      <td>114.0</td>\n",
       "      <td>121.0</td>\n",
       "      <td>112.5</td>\n",
       "      <td>119.0</td>\n",
       "      <td>+8.50</td>\n",
       "      <td>185050.0</td>\n",
       "      <td>0</td>\n",
       "    </tr>\n",
       "    <tr>\n",
       "      <th>3</th>\n",
       "      <td>2021-06-04 00:00:00</td>\n",
       "      <td>440988606.0</td>\n",
       "      <td>52466457011.0</td>\n",
       "      <td>119.0</td>\n",
       "      <td>121.5</td>\n",
       "      <td>116.0</td>\n",
       "      <td>116.5</td>\n",
       "      <td>-2.50</td>\n",
       "      <td>174236.0</td>\n",
       "      <td>0</td>\n",
       "    </tr>\n",
       "    <tr>\n",
       "      <th>4</th>\n",
       "      <td>2021-06-07 00:00:00</td>\n",
       "      <td>669467351.0</td>\n",
       "      <td>74752165886.0</td>\n",
       "      <td>119.0</td>\n",
       "      <td>120.5</td>\n",
       "      <td>105.0</td>\n",
       "      <td>110.5</td>\n",
       "      <td>-6.00</td>\n",
       "      <td>248926.0</td>\n",
       "      <td>0</td>\n",
       "    </tr>\n",
       "  </tbody>\n",
       "</table>\n",
       "</div>"
      ],
      "text/plain": [
       "                    日期         成交股數           成交金額    開盤價    最高價    最低價  \\\n",
       "0  2021-06-01 00:00:00  542547770.0  55984576106.0  101.5  108.0   98.2   \n",
       "1  2021-06-02 00:00:00  696150855.0  78107414405.0  110.0  115.5  108.5   \n",
       "2  2021-06-03 00:00:00  561492548.0  65330004183.0  114.0  121.0  112.5   \n",
       "3  2021-06-04 00:00:00  440988606.0  52466457011.0  119.0  121.5  116.0   \n",
       "4  2021-06-07 00:00:00  669467351.0  74752165886.0  119.0  120.5  105.0   \n",
       "\n",
       "     收盤價   漲跌價差      成交筆數  CDLENGULFING  \n",
       "0  108.0  +9.40  196823.0             0  \n",
       "1  110.5  +2.50  232375.0             0  \n",
       "2  119.0  +8.50  185050.0             0  \n",
       "3  116.5  -2.50  174236.0             0  \n",
       "4  110.5  -6.00  248926.0             0  "
      ]
     },
     "execution_count": 6,
     "metadata": {},
     "output_type": "execute_result"
    }
   ],
   "source": [
    "# 使用ta-lib吞噬型態函式\n",
    "candle_names = ['CDLENGULFING']\n",
    "\n",
    "# 加K線型態的欄位 create columns for  pattern\n",
    "for candle in candle_names:\n",
    "    df[candle] = getattr(talib, candle)(df['開盤價'], df['最高價'], df['最低價'], df['收盤價'])\n",
    "\n",
    "df.head()"
   ]
  },
  {
   "cell_type": "markdown",
   "metadata": {},
   "source": [
    "### 找出 吞噬: 'CDLENGULFING' 型態\n",
    "- 'CDLENGULFING' 函式回傳值 **100**: 多頭吞噬，偏上漲型態\n",
    "- 'CDLENGULFING' 函式回傳值 **-100**: 空頭吞噬，偏下跌型態"
   ]
  },
  {
   "cell_type": "code",
   "execution_count": 7,
   "metadata": {},
   "outputs": [
    {
     "data": {
      "text/html": [
       "<div>\n",
       "<style scoped>\n",
       "    .dataframe tbody tr th:only-of-type {\n",
       "        vertical-align: middle;\n",
       "    }\n",
       "\n",
       "    .dataframe tbody tr th {\n",
       "        vertical-align: top;\n",
       "    }\n",
       "\n",
       "    .dataframe thead th {\n",
       "        text-align: right;\n",
       "    }\n",
       "</style>\n",
       "<table border=\"1\" class=\"dataframe\">\n",
       "  <thead>\n",
       "    <tr style=\"text-align: right;\">\n",
       "      <th></th>\n",
       "      <th>日期</th>\n",
       "      <th>成交股數</th>\n",
       "      <th>成交金額</th>\n",
       "      <th>開盤價</th>\n",
       "      <th>最高價</th>\n",
       "      <th>最低價</th>\n",
       "      <th>收盤價</th>\n",
       "      <th>漲跌價差</th>\n",
       "      <th>成交筆數</th>\n",
       "      <th>CDLENGULFING</th>\n",
       "    </tr>\n",
       "  </thead>\n",
       "  <tbody>\n",
       "    <tr>\n",
       "      <th>16</th>\n",
       "      <td>2021-06-24 00:00:00</td>\n",
       "      <td>135489137.0</td>\n",
       "      <td>19902117472.0</td>\n",
       "      <td>136.5</td>\n",
       "      <td>152.0</td>\n",
       "      <td>136.0</td>\n",
       "      <td>152.0</td>\n",
       "      <td>+13.50</td>\n",
       "      <td>74539.0</td>\n",
       "      <td>100</td>\n",
       "    </tr>\n",
       "    <tr>\n",
       "      <th>28</th>\n",
       "      <td>2021-07-12 00:00:00</td>\n",
       "      <td>62036379.0</td>\n",
       "      <td>11478840019.0</td>\n",
       "      <td>195.0</td>\n",
       "      <td>197.5</td>\n",
       "      <td>174.5</td>\n",
       "      <td>183.0</td>\n",
       "      <td>-4.00</td>\n",
       "      <td>37539.0</td>\n",
       "      <td>-100</td>\n",
       "    </tr>\n",
       "    <tr>\n",
       "      <th>42</th>\n",
       "      <td>2021-07-30 00:00:00</td>\n",
       "      <td>775707663.0</td>\n",
       "      <td>110746265916.0</td>\n",
       "      <td>145.0</td>\n",
       "      <td>150.5</td>\n",
       "      <td>131.0</td>\n",
       "      <td>132.0</td>\n",
       "      <td>-12.50</td>\n",
       "      <td>342643.0</td>\n",
       "      <td>-100</td>\n",
       "    </tr>\n",
       "  </tbody>\n",
       "</table>\n",
       "</div>"
      ],
      "text/plain": [
       "                     日期         成交股數            成交金額    開盤價    最高價    最低價  \\\n",
       "16  2021-06-24 00:00:00  135489137.0   19902117472.0  136.5  152.0  136.0   \n",
       "28  2021-07-12 00:00:00   62036379.0   11478840019.0  195.0  197.5  174.5   \n",
       "42  2021-07-30 00:00:00  775707663.0  110746265916.0  145.0  150.5  131.0   \n",
       "\n",
       "      收盤價    漲跌價差      成交筆數  CDLENGULFING  \n",
       "16  152.0  +13.50   74539.0           100  \n",
       "28  183.0   -4.00   37539.0          -100  \n",
       "42  132.0  -12.50  342643.0          -100  "
      ]
     },
     "execution_count": 7,
     "metadata": {},
     "output_type": "execute_result"
    }
   ],
   "source": [
    "idx = df[df['CDLENGULFING']!= 0].index\n",
    "df[df['CDLENGULFING']!= 0]"
   ]
  },
  {
   "cell_type": "markdown",
   "metadata": {},
   "source": [
    "## 1.3: 在台股個股Ｋ線圖上，標示出吞噬Ｋ線型態\n",
    "- 股海小英雄youtube影片：[【股市分析】用K線預測大盤趨勢](https://youtu.be/FX6YAyOdEaE)"
   ]
  },
  {
   "cell_type": "code",
   "execution_count": 13,
   "metadata": {},
   "outputs": [
    {
     "data": {
      "application/vnd.plotly.v1+json": {
       "config": {
        "plotlyServerURL": "https://plot.ly"
       },
       "data": [
        {
         "close": [
          108,
          110.5,
          119,
          116.5,
          110.5,
          115.5,
          116,
          113.5,
          124,
          136,
          133.5,
          136.5,
          140,
          152,
          153.5,
          138.5,
          152,
          160,
          176,
          179.5,
          197,
          213,
          206.5,
          217,
          224,
          202,
          207.5,
          187,
          183,
          165,
          148.5,
          163,
          178.5,
          186,
          169.5,
          155,
          143.5,
          154,
          140.5,
          126.5,
          131.5,
          144.5,
          132,
          141.5,
          141,
          143.5,
          138.5,
          142
         ],
         "decreasing": {
          "line": {
           "color": "green"
          }
         },
         "high": [
          108,
          115.5,
          121,
          121.5,
          120.5,
          116,
          120.5,
          118.5,
          124,
          136,
          147.5,
          136.5,
          142.5,
          153.5,
          160,
          150.5,
          152,
          160,
          176,
          185,
          197,
          216,
          219,
          218,
          233,
          220.5,
          213,
          201.5,
          197.5,
          187,
          157,
          163,
          179,
          189,
          183,
          183.5,
          157.5,
          157,
          153.5,
          137.5,
          133,
          144.5,
          150.5,
          144.5,
          146.5,
          145,
          144.5,
          149
         ],
         "increasing": {
          "line": {
           "color": "red"
          }
         },
         "low": [
          98.2,
          108.5,
          112.5,
          116,
          105,
          110.5,
          114,
          108,
          114,
          125.5,
          132,
          127,
          133,
          139,
          149,
          138.5,
          136,
          151,
          168,
          170,
          181.5,
          195,
          200,
          197.5,
          212,
          202,
          182,
          187,
          174.5,
          165,
          148.5,
          154,
          168,
          183.5,
          168,
          153,
          139.5,
          140,
          140,
          126.5,
          116.5,
          131.5,
          131,
          123.5,
          137.5,
          140.5,
          137,
          137
         ],
         "open": [
          101.5,
          110,
          114,
          119,
          119,
          110.5,
          120,
          117.5,
          115.5,
          127,
          138,
          133.5,
          133.5,
          139,
          158.5,
          148,
          136.5,
          157,
          168,
          180,
          181.5,
          204,
          213,
          217,
          218.5,
          215.5,
          202,
          187,
          195,
          187,
          156,
          154,
          168,
          186,
          183,
          180,
          157.5,
          147.5,
          152.5,
          133.5,
          126.5,
          136,
          145,
          133,
          140.5,
          141,
          143.5,
          138
         ],
         "type": "candlestick",
         "x": [
          "2021-06-01T00:00:00",
          "2021-06-02T00:00:00",
          "2021-06-03T00:00:00",
          "2021-06-04T00:00:00",
          "2021-06-07T00:00:00",
          "2021-06-08T00:00:00",
          "2021-06-09T00:00:00",
          "2021-06-10T00:00:00",
          "2021-06-11T00:00:00",
          "2021-06-15T00:00:00",
          "2021-06-16T00:00:00",
          "2021-06-17T00:00:00",
          "2021-06-18T00:00:00",
          "2021-06-21T00:00:00",
          "2021-06-22T00:00:00",
          "2021-06-23T00:00:00",
          "2021-06-24T00:00:00",
          "2021-06-25T00:00:00",
          "2021-06-28T00:00:00",
          "2021-06-29T00:00:00",
          "2021-06-30T00:00:00",
          "2021-07-01T00:00:00",
          "2021-07-02T00:00:00",
          "2021-07-05T00:00:00",
          "2021-07-06T00:00:00",
          "2021-07-07T00:00:00",
          "2021-07-08T00:00:00",
          "2021-07-09T00:00:00",
          "2021-07-12T00:00:00",
          "2021-07-13T00:00:00",
          "2021-07-14T00:00:00",
          "2021-07-15T00:00:00",
          "2021-07-16T00:00:00",
          "2021-07-19T00:00:00",
          "2021-07-20T00:00:00",
          "2021-07-21T00:00:00",
          "2021-07-22T00:00:00",
          "2021-07-23T00:00:00",
          "2021-07-26T00:00:00",
          "2021-07-27T00:00:00",
          "2021-07-28T00:00:00",
          "2021-07-29T00:00:00",
          "2021-07-30T00:00:00",
          "2021-08-02T00:00:00",
          "2021-08-03T00:00:00",
          "2021-08-04T00:00:00",
          "2021-08-05T00:00:00",
          "2021-08-06T00:00:00"
         ]
        }
       ],
       "layout": {
        "annotations": [
         {
          "arrowhead": 1,
          "font": {
           "size": 15
          },
          "opacity": 0.9,
          "showarrow": true,
          "text": "多頭吞噬 ",
          "x": "2021-06-24T00:00:00",
          "y": 153
         },
         {
          "arrowhead": 1,
          "font": {
           "size": 15
          },
          "opacity": 0.9,
          "showarrow": true,
          "text": "空頭吞噬 ",
          "x": "2021-07-12T00:00:00",
          "y": 198.5
         },
         {
          "arrowhead": 1,
          "font": {
           "size": 15
          },
          "opacity": 0.9,
          "showarrow": true,
          "text": "空頭吞噬 ",
          "x": "2021-07-30T00:00:00",
          "y": 151.5
         }
        ],
        "height": 600,
        "template": {
         "data": {
          "bar": [
           {
            "error_x": {
             "color": "#2a3f5f"
            },
            "error_y": {
             "color": "#2a3f5f"
            },
            "marker": {
             "line": {
              "color": "#E5ECF6",
              "width": 0.5
             },
             "pattern": {
              "fillmode": "overlay",
              "size": 10,
              "solidity": 0.2
             }
            },
            "type": "bar"
           }
          ],
          "barpolar": [
           {
            "marker": {
             "line": {
              "color": "#E5ECF6",
              "width": 0.5
             },
             "pattern": {
              "fillmode": "overlay",
              "size": 10,
              "solidity": 0.2
             }
            },
            "type": "barpolar"
           }
          ],
          "carpet": [
           {
            "aaxis": {
             "endlinecolor": "#2a3f5f",
             "gridcolor": "white",
             "linecolor": "white",
             "minorgridcolor": "white",
             "startlinecolor": "#2a3f5f"
            },
            "baxis": {
             "endlinecolor": "#2a3f5f",
             "gridcolor": "white",
             "linecolor": "white",
             "minorgridcolor": "white",
             "startlinecolor": "#2a3f5f"
            },
            "type": "carpet"
           }
          ],
          "choropleth": [
           {
            "colorbar": {
             "outlinewidth": 0,
             "ticks": ""
            },
            "type": "choropleth"
           }
          ],
          "contour": [
           {
            "colorbar": {
             "outlinewidth": 0,
             "ticks": ""
            },
            "colorscale": [
             [
              0,
              "#0d0887"
             ],
             [
              0.1111111111111111,
              "#46039f"
             ],
             [
              0.2222222222222222,
              "#7201a8"
             ],
             [
              0.3333333333333333,
              "#9c179e"
             ],
             [
              0.4444444444444444,
              "#bd3786"
             ],
             [
              0.5555555555555556,
              "#d8576b"
             ],
             [
              0.6666666666666666,
              "#ed7953"
             ],
             [
              0.7777777777777778,
              "#fb9f3a"
             ],
             [
              0.8888888888888888,
              "#fdca26"
             ],
             [
              1,
              "#f0f921"
             ]
            ],
            "type": "contour"
           }
          ],
          "contourcarpet": [
           {
            "colorbar": {
             "outlinewidth": 0,
             "ticks": ""
            },
            "type": "contourcarpet"
           }
          ],
          "heatmap": [
           {
            "colorbar": {
             "outlinewidth": 0,
             "ticks": ""
            },
            "colorscale": [
             [
              0,
              "#0d0887"
             ],
             [
              0.1111111111111111,
              "#46039f"
             ],
             [
              0.2222222222222222,
              "#7201a8"
             ],
             [
              0.3333333333333333,
              "#9c179e"
             ],
             [
              0.4444444444444444,
              "#bd3786"
             ],
             [
              0.5555555555555556,
              "#d8576b"
             ],
             [
              0.6666666666666666,
              "#ed7953"
             ],
             [
              0.7777777777777778,
              "#fb9f3a"
             ],
             [
              0.8888888888888888,
              "#fdca26"
             ],
             [
              1,
              "#f0f921"
             ]
            ],
            "type": "heatmap"
           }
          ],
          "heatmapgl": [
           {
            "colorbar": {
             "outlinewidth": 0,
             "ticks": ""
            },
            "colorscale": [
             [
              0,
              "#0d0887"
             ],
             [
              0.1111111111111111,
              "#46039f"
             ],
             [
              0.2222222222222222,
              "#7201a8"
             ],
             [
              0.3333333333333333,
              "#9c179e"
             ],
             [
              0.4444444444444444,
              "#bd3786"
             ],
             [
              0.5555555555555556,
              "#d8576b"
             ],
             [
              0.6666666666666666,
              "#ed7953"
             ],
             [
              0.7777777777777778,
              "#fb9f3a"
             ],
             [
              0.8888888888888888,
              "#fdca26"
             ],
             [
              1,
              "#f0f921"
             ]
            ],
            "type": "heatmapgl"
           }
          ],
          "histogram": [
           {
            "marker": {
             "pattern": {
              "fillmode": "overlay",
              "size": 10,
              "solidity": 0.2
             }
            },
            "type": "histogram"
           }
          ],
          "histogram2d": [
           {
            "colorbar": {
             "outlinewidth": 0,
             "ticks": ""
            },
            "colorscale": [
             [
              0,
              "#0d0887"
             ],
             [
              0.1111111111111111,
              "#46039f"
             ],
             [
              0.2222222222222222,
              "#7201a8"
             ],
             [
              0.3333333333333333,
              "#9c179e"
             ],
             [
              0.4444444444444444,
              "#bd3786"
             ],
             [
              0.5555555555555556,
              "#d8576b"
             ],
             [
              0.6666666666666666,
              "#ed7953"
             ],
             [
              0.7777777777777778,
              "#fb9f3a"
             ],
             [
              0.8888888888888888,
              "#fdca26"
             ],
             [
              1,
              "#f0f921"
             ]
            ],
            "type": "histogram2d"
           }
          ],
          "histogram2dcontour": [
           {
            "colorbar": {
             "outlinewidth": 0,
             "ticks": ""
            },
            "colorscale": [
             [
              0,
              "#0d0887"
             ],
             [
              0.1111111111111111,
              "#46039f"
             ],
             [
              0.2222222222222222,
              "#7201a8"
             ],
             [
              0.3333333333333333,
              "#9c179e"
             ],
             [
              0.4444444444444444,
              "#bd3786"
             ],
             [
              0.5555555555555556,
              "#d8576b"
             ],
             [
              0.6666666666666666,
              "#ed7953"
             ],
             [
              0.7777777777777778,
              "#fb9f3a"
             ],
             [
              0.8888888888888888,
              "#fdca26"
             ],
             [
              1,
              "#f0f921"
             ]
            ],
            "type": "histogram2dcontour"
           }
          ],
          "mesh3d": [
           {
            "colorbar": {
             "outlinewidth": 0,
             "ticks": ""
            },
            "type": "mesh3d"
           }
          ],
          "parcoords": [
           {
            "line": {
             "colorbar": {
              "outlinewidth": 0,
              "ticks": ""
             }
            },
            "type": "parcoords"
           }
          ],
          "pie": [
           {
            "automargin": true,
            "type": "pie"
           }
          ],
          "scatter": [
           {
            "marker": {
             "colorbar": {
              "outlinewidth": 0,
              "ticks": ""
             }
            },
            "type": "scatter"
           }
          ],
          "scatter3d": [
           {
            "line": {
             "colorbar": {
              "outlinewidth": 0,
              "ticks": ""
             }
            },
            "marker": {
             "colorbar": {
              "outlinewidth": 0,
              "ticks": ""
             }
            },
            "type": "scatter3d"
           }
          ],
          "scattercarpet": [
           {
            "marker": {
             "colorbar": {
              "outlinewidth": 0,
              "ticks": ""
             }
            },
            "type": "scattercarpet"
           }
          ],
          "scattergeo": [
           {
            "marker": {
             "colorbar": {
              "outlinewidth": 0,
              "ticks": ""
             }
            },
            "type": "scattergeo"
           }
          ],
          "scattergl": [
           {
            "marker": {
             "colorbar": {
              "outlinewidth": 0,
              "ticks": ""
             }
            },
            "type": "scattergl"
           }
          ],
          "scattermapbox": [
           {
            "marker": {
             "colorbar": {
              "outlinewidth": 0,
              "ticks": ""
             }
            },
            "type": "scattermapbox"
           }
          ],
          "scatterpolar": [
           {
            "marker": {
             "colorbar": {
              "outlinewidth": 0,
              "ticks": ""
             }
            },
            "type": "scatterpolar"
           }
          ],
          "scatterpolargl": [
           {
            "marker": {
             "colorbar": {
              "outlinewidth": 0,
              "ticks": ""
             }
            },
            "type": "scatterpolargl"
           }
          ],
          "scatterternary": [
           {
            "marker": {
             "colorbar": {
              "outlinewidth": 0,
              "ticks": ""
             }
            },
            "type": "scatterternary"
           }
          ],
          "surface": [
           {
            "colorbar": {
             "outlinewidth": 0,
             "ticks": ""
            },
            "colorscale": [
             [
              0,
              "#0d0887"
             ],
             [
              0.1111111111111111,
              "#46039f"
             ],
             [
              0.2222222222222222,
              "#7201a8"
             ],
             [
              0.3333333333333333,
              "#9c179e"
             ],
             [
              0.4444444444444444,
              "#bd3786"
             ],
             [
              0.5555555555555556,
              "#d8576b"
             ],
             [
              0.6666666666666666,
              "#ed7953"
             ],
             [
              0.7777777777777778,
              "#fb9f3a"
             ],
             [
              0.8888888888888888,
              "#fdca26"
             ],
             [
              1,
              "#f0f921"
             ]
            ],
            "type": "surface"
           }
          ],
          "table": [
           {
            "cells": {
             "fill": {
              "color": "#EBF0F8"
             },
             "line": {
              "color": "white"
             }
            },
            "header": {
             "fill": {
              "color": "#C8D4E3"
             },
             "line": {
              "color": "white"
             }
            },
            "type": "table"
           }
          ]
         },
         "layout": {
          "annotationdefaults": {
           "arrowcolor": "#2a3f5f",
           "arrowhead": 0,
           "arrowwidth": 1
          },
          "autotypenumbers": "strict",
          "coloraxis": {
           "colorbar": {
            "outlinewidth": 0,
            "ticks": ""
           }
          },
          "colorscale": {
           "diverging": [
            [
             0,
             "#8e0152"
            ],
            [
             0.1,
             "#c51b7d"
            ],
            [
             0.2,
             "#de77ae"
            ],
            [
             0.3,
             "#f1b6da"
            ],
            [
             0.4,
             "#fde0ef"
            ],
            [
             0.5,
             "#f7f7f7"
            ],
            [
             0.6,
             "#e6f5d0"
            ],
            [
             0.7,
             "#b8e186"
            ],
            [
             0.8,
             "#7fbc41"
            ],
            [
             0.9,
             "#4d9221"
            ],
            [
             1,
             "#276419"
            ]
           ],
           "sequential": [
            [
             0,
             "#0d0887"
            ],
            [
             0.1111111111111111,
             "#46039f"
            ],
            [
             0.2222222222222222,
             "#7201a8"
            ],
            [
             0.3333333333333333,
             "#9c179e"
            ],
            [
             0.4444444444444444,
             "#bd3786"
            ],
            [
             0.5555555555555556,
             "#d8576b"
            ],
            [
             0.6666666666666666,
             "#ed7953"
            ],
            [
             0.7777777777777778,
             "#fb9f3a"
            ],
            [
             0.8888888888888888,
             "#fdca26"
            ],
            [
             1,
             "#f0f921"
            ]
           ],
           "sequentialminus": [
            [
             0,
             "#0d0887"
            ],
            [
             0.1111111111111111,
             "#46039f"
            ],
            [
             0.2222222222222222,
             "#7201a8"
            ],
            [
             0.3333333333333333,
             "#9c179e"
            ],
            [
             0.4444444444444444,
             "#bd3786"
            ],
            [
             0.5555555555555556,
             "#d8576b"
            ],
            [
             0.6666666666666666,
             "#ed7953"
            ],
            [
             0.7777777777777778,
             "#fb9f3a"
            ],
            [
             0.8888888888888888,
             "#fdca26"
            ],
            [
             1,
             "#f0f921"
            ]
           ]
          },
          "colorway": [
           "#636efa",
           "#EF553B",
           "#00cc96",
           "#ab63fa",
           "#FFA15A",
           "#19d3f3",
           "#FF6692",
           "#B6E880",
           "#FF97FF",
           "#FECB52"
          ],
          "font": {
           "color": "#2a3f5f"
          },
          "geo": {
           "bgcolor": "white",
           "lakecolor": "white",
           "landcolor": "#E5ECF6",
           "showlakes": true,
           "showland": true,
           "subunitcolor": "white"
          },
          "hoverlabel": {
           "align": "left"
          },
          "hovermode": "closest",
          "mapbox": {
           "style": "light"
          },
          "paper_bgcolor": "white",
          "plot_bgcolor": "#E5ECF6",
          "polar": {
           "angularaxis": {
            "gridcolor": "white",
            "linecolor": "white",
            "ticks": ""
           },
           "bgcolor": "#E5ECF6",
           "radialaxis": {
            "gridcolor": "white",
            "linecolor": "white",
            "ticks": ""
           }
          },
          "scene": {
           "xaxis": {
            "backgroundcolor": "#E5ECF6",
            "gridcolor": "white",
            "gridwidth": 2,
            "linecolor": "white",
            "showbackground": true,
            "ticks": "",
            "zerolinecolor": "white"
           },
           "yaxis": {
            "backgroundcolor": "#E5ECF6",
            "gridcolor": "white",
            "gridwidth": 2,
            "linecolor": "white",
            "showbackground": true,
            "ticks": "",
            "zerolinecolor": "white"
           },
           "zaxis": {
            "backgroundcolor": "#E5ECF6",
            "gridcolor": "white",
            "gridwidth": 2,
            "linecolor": "white",
            "showbackground": true,
            "ticks": "",
            "zerolinecolor": "white"
           }
          },
          "shapedefaults": {
           "line": {
            "color": "#2a3f5f"
           }
          },
          "ternary": {
           "aaxis": {
            "gridcolor": "white",
            "linecolor": "white",
            "ticks": ""
           },
           "baxis": {
            "gridcolor": "white",
            "linecolor": "white",
            "ticks": ""
           },
           "bgcolor": "#E5ECF6",
           "caxis": {
            "gridcolor": "white",
            "linecolor": "white",
            "ticks": ""
           }
          },
          "title": {
           "x": 0.05
          },
          "xaxis": {
           "automargin": true,
           "gridcolor": "white",
           "linecolor": "white",
           "ticks": "",
           "title": {
            "standoff": 15
           },
           "zerolinecolor": "white",
           "zerolinewidth": 2
          },
          "yaxis": {
           "automargin": true,
           "gridcolor": "white",
           "linecolor": "white",
           "ticks": "",
           "title": {
            "standoff": 15
           },
           "zerolinecolor": "white",
           "zerolinewidth": 2
          }
         }
        },
        "title": {
         "text": "2021/06 - 2021/08 長榮海運(2603) K線圖 - 多頭吞噬/空頭吞噬型態"
        },
        "width": 1000,
        "xaxis": {
         "autorange": true,
         "range": [
          "2021-05-31 12:00",
          "2021-08-06 12:00"
         ],
         "rangeslider": {
          "autorange": true,
          "range": [
           "2021-05-31 12:00",
           "2021-08-06 12:00"
          ],
          "yaxis": {
           "_template": null,
           "rangemode": "match"
          }
         },
         "title": {
          "text": "日期"
         },
         "type": "date"
        },
        "yaxis": {
         "autorange": true,
         "range": [
          90.71111111111111,
          240.48888888888888
         ],
         "title": {
          "text": "股價"
         }
        }
       }
      },
      "image/png": "[encoded data removed]",
      "text/html": [
       "<div>                            <div id=\"79e734f1-5822-4ea6-b579-a995b2ba7e83\" class=\"plotly-graph-div\" style=\"height:600px; width:1000px;\"></div>            <script type=\"text/javascript\">                require([\"plotly\"], function(Plotly) {                    window.PLOTLYENV=window.PLOTLYENV || {};                                    if (document.getElementById(\"79e734f1-5822-4ea6-b579-a995b2ba7e83\")) {                    Plotly.newPlot(                        \"79e734f1-5822-4ea6-b579-a995b2ba7e83\",                        [{\"close\":[108.0,110.5,119.0,116.5,110.5,115.5,116.0,113.5,124.0,136.0,133.5,136.5,140.0,152.0,153.5,138.5,152.0,160.0,176.0,179.5,197.0,213.0,206.5,217.0,224.0,202.0,207.5,187.0,183.0,165.0,148.5,163.0,178.5,186.0,169.5,155.0,143.5,154.0,140.5,126.5,131.5,144.5,132.0,141.5,141.0,143.5,138.5,142.0],\"decreasing\":{\"line\":{\"color\":\"green\"}},\"high\":[108.0,115.5,121.0,121.5,120.5,116.0,120.5,118.5,124.0,136.0,147.5,136.5,142.5,153.5,160.0,150.5,152.0,160.0,176.0,185.0,197.0,216.0,219.0,218.0,233.0,220.5,213.0,201.5,197.5,187.0,157.0,163.0,179.0,189.0,183.0,183.5,157.5,157.0,153.5,137.5,133.0,144.5,150.5,144.5,146.5,145.0,144.5,149.0],\"increasing\":{\"line\":{\"color\":\"red\"}},\"low\":[98.2,108.5,112.5,116.0,105.0,110.5,114.0,108.0,114.0,125.5,132.0,127.0,133.0,139.0,149.0,138.5,136.0,151.0,168.0,170.0,181.5,195.0,200.0,197.5,212.0,202.0,182.0,187.0,174.5,165.0,148.5,154.0,168.0,183.5,168.0,153.0,139.5,140.0,140.0,126.5,116.5,131.5,131.0,123.5,137.5,140.5,137.0,137.0],\"open\":[101.5,110.0,114.0,119.0,119.0,110.5,120.0,117.5,115.5,127.0,138.0,133.5,133.5,139.0,158.5,148.0,136.5,157.0,168.0,180.0,181.5,204.0,213.0,217.0,218.5,215.5,202.0,187.0,195.0,187.0,156.0,154.0,168.0,186.0,183.0,180.0,157.5,147.5,152.5,133.5,126.5,136.0,145.0,133.0,140.5,141.0,143.5,138.0],\"type\":\"candlestick\",\"x\":[\"2021-06-01T00:00:00\",\"2021-06-02T00:00:00\",\"2021-06-03T00:00:00\",\"2021-06-04T00:00:00\",\"2021-06-07T00:00:00\",\"2021-06-08T00:00:00\",\"2021-06-09T00:00:00\",\"2021-06-10T00:00:00\",\"2021-06-11T00:00:00\",\"2021-06-15T00:00:00\",\"2021-06-16T00:00:00\",\"2021-06-17T00:00:00\",\"2021-06-18T00:00:00\",\"2021-06-21T00:00:00\",\"2021-06-22T00:00:00\",\"2021-06-23T00:00:00\",\"2021-06-24T00:00:00\",\"2021-06-25T00:00:00\",\"2021-06-28T00:00:00\",\"2021-06-29T00:00:00\",\"2021-06-30T00:00:00\",\"2021-07-01T00:00:00\",\"2021-07-02T00:00:00\",\"2021-07-05T00:00:00\",\"2021-07-06T00:00:00\",\"2021-07-07T00:00:00\",\"2021-07-08T00:00:00\",\"2021-07-09T00:00:00\",\"2021-07-12T00:00:00\",\"2021-07-13T00:00:00\",\"2021-07-14T00:00:00\",\"2021-07-15T00:00:00\",\"2021-07-16T00:00:00\",\"2021-07-19T00:00:00\",\"2021-07-20T00:00:00\",\"2021-07-21T00:00:00\",\"2021-07-22T00:00:00\",\"2021-07-23T00:00:00\",\"2021-07-26T00:00:00\",\"2021-07-27T00:00:00\",\"2021-07-28T00:00:00\",\"2021-07-29T00:00:00\",\"2021-07-30T00:00:00\",\"2021-08-02T00:00:00\",\"2021-08-03T00:00:00\",\"2021-08-04T00:00:00\",\"2021-08-05T00:00:00\",\"2021-08-06T00:00:00\"]}],                        {\"annotations\":[{\"arrowhead\":1,\"font\":{\"size\":15},\"opacity\":0.9,\"showarrow\":true,\"text\":\"\\u591a\\u982d\\u541e\\u566c \",\"x\":\"2021-06-24T00:00:00\",\"y\":153.0},{\"arrowhead\":1,\"font\":{\"size\":15},\"opacity\":0.9,\"showarrow\":true,\"text\":\"\\u7a7a\\u982d\\u541e\\u566c \",\"x\":\"2021-07-12T00:00:00\",\"y\":198.5},{\"arrowhead\":1,\"font\":{\"size\":15},\"opacity\":0.9,\"showarrow\":true,\"text\":\"\\u7a7a\\u982d\\u541e\\u566c \",\"x\":\"2021-07-30T00:00:00\",\"y\":151.5}],\"height\":600,\"template\":{\"data\":{\"bar\":[{\"error_x\":{\"color\":\"#2a3f5f\"},\"error_y\":{\"color\":\"#2a3f5f\"},\"marker\":{\"line\":{\"color\":\"#E5ECF6\",\"width\":0.5},\"pattern\":{\"fillmode\":\"overlay\",\"size\":10,\"solidity\":0.2}},\"type\":\"bar\"}],\"barpolar\":[{\"marker\":{\"line\":{\"color\":\"#E5ECF6\",\"width\":0.5},\"pattern\":{\"fillmode\":\"overlay\",\"size\":10,\"solidity\":0.2}},\"type\":\"barpolar\"}],\"carpet\":[{\"aaxis\":{\"endlinecolor\":\"#2a3f5f\",\"gridcolor\":\"white\",\"linecolor\":\"white\",\"minorgridcolor\":\"white\",\"startlinecolor\":\"#2a3f5f\"},\"baxis\":{\"endlinecolor\":\"#2a3f5f\",\"gridcolor\":\"white\",\"linecolor\":\"white\",\"minorgridcolor\":\"white\",\"startlinecolor\":\"#2a3f5f\"},\"type\":\"carpet\"}],\"choropleth\":[{\"colorbar\":{\"outlinewidth\":0,\"ticks\":\"\"},\"type\":\"choropleth\"}],\"contour\":[{\"colorbar\":{\"outlinewidth\":0,\"ticks\":\"\"},\"colorscale\":[[0.0,\"#0d0887\"],[0.1111111111111111,\"#46039f\"],[0.2222222222222222,\"#7201a8\"],[0.3333333333333333,\"#9c179e\"],[0.4444444444444444,\"#bd3786\"],[0.5555555555555556,\"#d8576b\"],[0.6666666666666666,\"#ed7953\"],[0.7777777777777778,\"#fb9f3a\"],[0.8888888888888888,\"#fdca26\"],[1.0,\"#f0f921\"]],\"type\":\"contour\"}],\"contourcarpet\":[{\"colorbar\":{\"outlinewidth\":0,\"ticks\":\"\"},\"type\":\"contourcarpet\"}],\"heatmap\":[{\"colorbar\":{\"outlinewidth\":0,\"ticks\":\"\"},\"colorscale\":[[0.0,\"#0d0887\"],[0.1111111111111111,\"#46039f\"],[0.2222222222222222,\"#7201a8\"],[0.3333333333333333,\"#9c179e\"],[0.4444444444444444,\"#bd3786\"],[0.5555555555555556,\"#d8576b\"],[0.6666666666666666,\"#ed7953\"],[0.7777777777777778,\"#fb9f3a\"],[0.8888888888888888,\"#fdca26\"],[1.0,\"#f0f921\"]],\"type\":\"heatmap\"}],\"heatmapgl\":[{\"colorbar\":{\"outlinewidth\":0,\"ticks\":\"\"},\"colorscale\":[[0.0,\"#0d0887\"],[0.1111111111111111,\"#46039f\"],[0.2222222222222222,\"#7201a8\"],[0.3333333333333333,\"#9c179e\"],[0.4444444444444444,\"#bd3786\"],[0.5555555555555556,\"#d8576b\"],[0.6666666666666666,\"#ed7953\"],[0.7777777777777778,\"#fb9f3a\"],[0.8888888888888888,\"#fdca26\"],[1.0,\"#f0f921\"]],\"type\":\"heatmapgl\"}],\"histogram\":[{\"marker\":{\"pattern\":{\"fillmode\":\"overlay\",\"size\":10,\"solidity\":0.2}},\"type\":\"histogram\"}],\"histogram2d\":[{\"colorbar\":{\"outlinewidth\":0,\"ticks\":\"\"},\"colorscale\":[[0.0,\"#0d0887\"],[0.1111111111111111,\"#46039f\"],[0.2222222222222222,\"#7201a8\"],[0.3333333333333333,\"#9c179e\"],[0.4444444444444444,\"#bd3786\"],[0.5555555555555556,\"#d8576b\"],[0.6666666666666666,\"#ed7953\"],[0.7777777777777778,\"#fb9f3a\"],[0.8888888888888888,\"#fdca26\"],[1.0,\"#f0f921\"]],\"type\":\"histogram2d\"}],\"histogram2dcontour\":[{\"colorbar\":{\"outlinewidth\":0,\"ticks\":\"\"},\"colorscale\":[[0.0,\"#0d0887\"],[0.1111111111111111,\"#46039f\"],[0.2222222222222222,\"#7201a8\"],[0.3333333333333333,\"#9c179e\"],[0.4444444444444444,\"#bd3786\"],[0.5555555555555556,\"#d8576b\"],[0.6666666666666666,\"#ed7953\"],[0.7777777777777778,\"#fb9f3a\"],[0.8888888888888888,\"#fdca26\"],[1.0,\"#f0f921\"]],\"type\":\"histogram2dcontour\"}],\"mesh3d\":[{\"colorbar\":{\"outlinewidth\":0,\"ticks\":\"\"},\"type\":\"mesh3d\"}],\"parcoords\":[{\"line\":{\"colorbar\":{\"outlinewidth\":0,\"ticks\":\"\"}},\"type\":\"parcoords\"}],\"pie\":[{\"automargin\":true,\"type\":\"pie\"}],\"scatter\":[{\"marker\":{\"colorbar\":{\"outlinewidth\":0,\"ticks\":\"\"}},\"type\":\"scatter\"}],\"scatter3d\":[{\"line\":{\"colorbar\":{\"outlinewidth\":0,\"ticks\":\"\"}},\"marker\":{\"colorbar\":{\"outlinewidth\":0,\"ticks\":\"\"}},\"type\":\"scatter3d\"}],\"scattercarpet\":[{\"marker\":{\"colorbar\":{\"outlinewidth\":0,\"ticks\":\"\"}},\"type\":\"scattercarpet\"}],\"scattergeo\":[{\"marker\":{\"colorbar\":{\"outlinewidth\":0,\"ticks\":\"\"}},\"type\":\"scattergeo\"}],\"scattergl\":[{\"marker\":{\"colorbar\":{\"outlinewidth\":0,\"ticks\":\"\"}},\"type\":\"scattergl\"}],\"scattermapbox\":[{\"marker\":{\"colorbar\":{\"outlinewidth\":0,\"ticks\":\"\"}},\"type\":\"scattermapbox\"}],\"scatterpolar\":[{\"marker\":{\"colorbar\":{\"outlinewidth\":0,\"ticks\":\"\"}},\"type\":\"scatterpolar\"}],\"scatterpolargl\":[{\"marker\":{\"colorbar\":{\"outlinewidth\":0,\"ticks\":\"\"}},\"type\":\"scatterpolargl\"}],\"scatterternary\":[{\"marker\":{\"colorbar\":{\"outlinewidth\":0,\"ticks\":\"\"}},\"type\":\"scatterternary\"}],\"surface\":[{\"colorbar\":{\"outlinewidth\":0,\"ticks\":\"\"},\"colorscale\":[[0.0,\"#0d0887\"],[0.1111111111111111,\"#46039f\"],[0.2222222222222222,\"#7201a8\"],[0.3333333333333333,\"#9c179e\"],[0.4444444444444444,\"#bd3786\"],[0.5555555555555556,\"#d8576b\"],[0.6666666666666666,\"#ed7953\"],[0.7777777777777778,\"#fb9f3a\"],[0.8888888888888888,\"#fdca26\"],[1.0,\"#f0f921\"]],\"type\":\"surface\"}],\"table\":[{\"cells\":{\"fill\":{\"color\":\"#EBF0F8\"},\"line\":{\"color\":\"white\"}},\"header\":{\"fill\":{\"color\":\"#C8D4E3\"},\"line\":{\"color\":\"white\"}},\"type\":\"table\"}]},\"layout\":{\"annotationdefaults\":{\"arrowcolor\":\"#2a3f5f\",\"arrowhead\":0,\"arrowwidth\":1},\"autotypenumbers\":\"strict\",\"coloraxis\":{\"colorbar\":{\"outlinewidth\":0,\"ticks\":\"\"}},\"colorscale\":{\"diverging\":[[0,\"#8e0152\"],[0.1,\"#c51b7d\"],[0.2,\"#de77ae\"],[0.3,\"#f1b6da\"],[0.4,\"#fde0ef\"],[0.5,\"#f7f7f7\"],[0.6,\"#e6f5d0\"],[0.7,\"#b8e186\"],[0.8,\"#7fbc41\"],[0.9,\"#4d9221\"],[1,\"#276419\"]],\"sequential\":[[0.0,\"#0d0887\"],[0.1111111111111111,\"#46039f\"],[0.2222222222222222,\"#7201a8\"],[0.3333333333333333,\"#9c179e\"],[0.4444444444444444,\"#bd3786\"],[0.5555555555555556,\"#d8576b\"],[0.6666666666666666,\"#ed7953\"],[0.7777777777777778,\"#fb9f3a\"],[0.8888888888888888,\"#fdca26\"],[1.0,\"#f0f921\"]],\"sequentialminus\":[[0.0,\"#0d0887\"],[0.1111111111111111,\"#46039f\"],[0.2222222222222222,\"#7201a8\"],[0.3333333333333333,\"#9c179e\"],[0.4444444444444444,\"#bd3786\"],[0.5555555555555556,\"#d8576b\"],[0.6666666666666666,\"#ed7953\"],[0.7777777777777778,\"#fb9f3a\"],[0.8888888888888888,\"#fdca26\"],[1.0,\"#f0f921\"]]},\"colorway\":[\"#636efa\",\"#EF553B\",\"#00cc96\",\"#ab63fa\",\"#FFA15A\",\"#19d3f3\",\"#FF6692\",\"#B6E880\",\"#FF97FF\",\"#FECB52\"],\"font\":{\"color\":\"#2a3f5f\"},\"geo\":{\"bgcolor\":\"white\",\"lakecolor\":\"white\",\"landcolor\":\"#E5ECF6\",\"showlakes\":true,\"showland\":true,\"subunitcolor\":\"white\"},\"hoverlabel\":{\"align\":\"left\"},\"hovermode\":\"closest\",\"mapbox\":{\"style\":\"light\"},\"paper_bgcolor\":\"white\",\"plot_bgcolor\":\"#E5ECF6\",\"polar\":{\"angularaxis\":{\"gridcolor\":\"white\",\"linecolor\":\"white\",\"ticks\":\"\"},\"bgcolor\":\"#E5ECF6\",\"radialaxis\":{\"gridcolor\":\"white\",\"linecolor\":\"white\",\"ticks\":\"\"}},\"scene\":{\"xaxis\":{\"backgroundcolor\":\"#E5ECF6\",\"gridcolor\":\"white\",\"gridwidth\":2,\"linecolor\":\"white\",\"showbackground\":true,\"ticks\":\"\",\"zerolinecolor\":\"white\"},\"yaxis\":{\"backgroundcolor\":\"#E5ECF6\",\"gridcolor\":\"white\",\"gridwidth\":2,\"linecolor\":\"white\",\"showbackground\":true,\"ticks\":\"\",\"zerolinecolor\":\"white\"},\"zaxis\":{\"backgroundcolor\":\"#E5ECF6\",\"gridcolor\":\"white\",\"gridwidth\":2,\"linecolor\":\"white\",\"showbackground\":true,\"ticks\":\"\",\"zerolinecolor\":\"white\"}},\"shapedefaults\":{\"line\":{\"color\":\"#2a3f5f\"}},\"ternary\":{\"aaxis\":{\"gridcolor\":\"white\",\"linecolor\":\"white\",\"ticks\":\"\"},\"baxis\":{\"gridcolor\":\"white\",\"linecolor\":\"white\",\"ticks\":\"\"},\"bgcolor\":\"#E5ECF6\",\"caxis\":{\"gridcolor\":\"white\",\"linecolor\":\"white\",\"ticks\":\"\"}},\"title\":{\"x\":0.05},\"xaxis\":{\"automargin\":true,\"gridcolor\":\"white\",\"linecolor\":\"white\",\"ticks\":\"\",\"title\":{\"standoff\":15},\"zerolinecolor\":\"white\",\"zerolinewidth\":2},\"yaxis\":{\"automargin\":true,\"gridcolor\":\"white\",\"linecolor\":\"white\",\"ticks\":\"\",\"title\":{\"standoff\":15},\"zerolinecolor\":\"white\",\"zerolinewidth\":2}}},\"title\":{\"text\":\"2021/06 - 2021/08 \\u9577\\u69ae\\u6d77\\u904b(2603) K\\u7dda\\u5716 - \\u591a\\u982d\\u541e\\u566c/\\u7a7a\\u982d\\u541e\\u566c\\u578b\\u614b\"},\"width\":1000,\"xaxis\":{\"title\":{\"text\":\"\\u65e5\\u671f\"}},\"yaxis\":{\"title\":{\"text\":\"\\u80a1\\u50f9\"}}},                        {\"responsive\": true}                    ).then(function(){\n",
       "                            \n",
       "var gd = document.getElementById('79e734f1-5822-4ea6-b579-a995b2ba7e83');\n",
       "var x = new MutationObserver(function (mutations, observer) {{\n",
       "        var display = window.getComputedStyle(gd).display;\n",
       "        if (!display || display === 'none') {{\n",
       "            console.log([gd, 'removed!']);\n",
       "            Plotly.purge(gd);\n",
       "            observer.disconnect();\n",
       "        }}\n",
       "}});\n",
       "\n",
       "// Listen for the removal of the full notebook cells\n",
       "var notebookContainer = gd.closest('#notebook-container');\n",
       "if (notebookContainer) {{\n",
       "    x.observe(notebookContainer, {childList: true});\n",
       "}}\n",
       "\n",
       "// Listen for the clearing of the current output cell\n",
       "var outputEl = gd.closest('.output');\n",
       "if (outputEl) {{\n",
       "    x.observe(outputEl, {childList: true});\n",
       "}}\n",
       "\n",
       "                        })                };                });            </script>        </div>"
      ]
     },
     "metadata": {},
     "output_type": "display_data"
    }
   ],
   "source": [
    "# 畫大盤Ｋ線圖\n",
    "fig = go.Figure(data = [go.Candlestick(x = df['日期'],\n",
    "                open = df['開盤價'],\n",
    "                high = df['最高價'],\n",
    "                low = df['最低價'],\n",
    "                close = df['收盤價'],\n",
    "                increasing_line_color = 'red', \n",
    "                decreasing_line_color = 'green')])\n",
    "# 標示吞噬型態\n",
    "for i in range(len(idx)):\n",
    "    day = df.iloc[idx[i], 0]\n",
    "    direction = '多頭' if df.iloc[idx[i], -1] > 0 else '空頭'\n",
    "    high = float(df[df['日期'] == day]['最高價'])\n",
    "    fig.add_annotation(x = day, \n",
    "                       y = high + 1,\n",
    "                       opacity = 0.9,\n",
    "                       font_size = 15,\n",
    "                       text = direction + \"吞噬 \",\n",
    "                       showarrow = True,\n",
    "                       arrowhead = 1)\n",
    "    \n",
    "# 設圖標及圖長寬\n",
    "fig.update_layout(\n",
    "    title_text = \"2021/06 - 2021/08 長榮海運(2603) K線圖 - 多頭吞噬/空頭吞噬型態\",\n",
    "    width = 1000,\n",
    "    height = 600\n",
    ")\n",
    "# 設x軸標題\n",
    "fig.update_xaxes(title_text = \"日期\")\n",
    "\n",
    "# 設y軸標題\n",
    "fig.update_yaxes(title_text = \"股價\")\n",
    "\n",
    "fig.show()"
   ]
  },
  {
   "cell_type": "markdown",
   "metadata": {},
   "source": [
    "# Part 2: 在陸股個股Ｋ線圖上，標示出 多頭吞噬/空頭吞噬 Ｋ線型態"
   ]
  },
  {
   "cell_type": "markdown",
   "metadata": {},
   "source": [
    "## 2.1 下載陸股個股歷史走勢資料\n",
    "- 股海小英雄youtube影片：[【Python 股票】美股個股資料免費下載｜用Yahoo財經套件(yfinance)取得資料｜擺脫限制](https://youtu.be/ZIFmDbIb-ro)"
   ]
  },
  {
   "cell_type": "code",
   "execution_count": 14,
   "metadata": {},
   "outputs": [
    {
     "name": "stdout",
     "output_type": "stream",
     "text": [
      "[*********************100%***********************]  1 of 1 completed\n"
     ]
    },
    {
     "data": {
      "text/html": [
       "<div>\n",
       "<style scoped>\n",
       "    .dataframe tbody tr th:only-of-type {\n",
       "        vertical-align: middle;\n",
       "    }\n",
       "\n",
       "    .dataframe tbody tr th {\n",
       "        vertical-align: top;\n",
       "    }\n",
       "\n",
       "    .dataframe thead th {\n",
       "        text-align: right;\n",
       "    }\n",
       "</style>\n",
       "<table border=\"1\" class=\"dataframe\">\n",
       "  <thead>\n",
       "    <tr style=\"text-align: right;\">\n",
       "      <th></th>\n",
       "      <th>Open</th>\n",
       "      <th>High</th>\n",
       "      <th>Low</th>\n",
       "      <th>Close</th>\n",
       "      <th>Adj Close</th>\n",
       "      <th>Volume</th>\n",
       "    </tr>\n",
       "    <tr>\n",
       "      <th>Date</th>\n",
       "      <th></th>\n",
       "      <th></th>\n",
       "      <th></th>\n",
       "      <th></th>\n",
       "      <th></th>\n",
       "      <th></th>\n",
       "    </tr>\n",
       "  </thead>\n",
       "  <tbody>\n",
       "    <tr>\n",
       "      <th>2021-02-05</th>\n",
       "      <td>2325.000000</td>\n",
       "      <td>2364.600098</td>\n",
       "      <td>2291.0</td>\n",
       "      <td>2313.000000</td>\n",
       "      <td>2291.421875</td>\n",
       "      <td>3972906</td>\n",
       "    </tr>\n",
       "    <tr>\n",
       "      <th>2021-02-08</th>\n",
       "      <td>2337.000000</td>\n",
       "      <td>2378.879883</td>\n",
       "      <td>2313.0</td>\n",
       "      <td>2368.800049</td>\n",
       "      <td>2346.701416</td>\n",
       "      <td>3578573</td>\n",
       "    </tr>\n",
       "    <tr>\n",
       "      <th>2021-02-09</th>\n",
       "      <td>2368.800049</td>\n",
       "      <td>2456.429932</td>\n",
       "      <td>2350.0</td>\n",
       "      <td>2456.429932</td>\n",
       "      <td>2433.513672</td>\n",
       "      <td>3329655</td>\n",
       "    </tr>\n",
       "    <tr>\n",
       "      <th>2021-02-10</th>\n",
       "      <td>2485.000000</td>\n",
       "      <td>2601.199951</td>\n",
       "      <td>2485.0</td>\n",
       "      <td>2601.000000</td>\n",
       "      <td>2576.735107</td>\n",
       "      <td>6137057</td>\n",
       "    </tr>\n",
       "    <tr>\n",
       "      <th>2021-02-18</th>\n",
       "      <td>2587.979980</td>\n",
       "      <td>2627.879883</td>\n",
       "      <td>2465.0</td>\n",
       "      <td>2471.000000</td>\n",
       "      <td>2447.947754</td>\n",
       "      <td>6591232</td>\n",
       "    </tr>\n",
       "  </tbody>\n",
       "</table>\n",
       "</div>"
      ],
      "text/plain": [
       "                   Open         High     Low        Close    Adj Close  \\\n",
       "Date                                                                     \n",
       "2021-02-05  2325.000000  2364.600098  2291.0  2313.000000  2291.421875   \n",
       "2021-02-08  2337.000000  2378.879883  2313.0  2368.800049  2346.701416   \n",
       "2021-02-09  2368.800049  2456.429932  2350.0  2456.429932  2433.513672   \n",
       "2021-02-10  2485.000000  2601.199951  2485.0  2601.000000  2576.735107   \n",
       "2021-02-18  2587.979980  2627.879883  2465.0  2471.000000  2447.947754   \n",
       "\n",
       "             Volume  \n",
       "Date                 \n",
       "2021-02-05  3972906  \n",
       "2021-02-08  3578573  \n",
       "2021-02-09  3329655  \n",
       "2021-02-10  6137057  \n",
       "2021-02-18  6591232  "
      ]
     },
     "execution_count": 14,
     "metadata": {},
     "output_type": "execute_result"
    }
   ],
   "source": [
    "# 下載A股貴州茅台：600519.SS\n",
    "stock = yf.download(\"600519.SS\", \"2021-02-05\", \"2021-06-06\")\n",
    "stock.head()"
   ]
  },
  {
   "cell_type": "markdown",
   "metadata": {},
   "source": [
    "## 2.2: 用Ta-Lib套件，找出 多頭吞噬/空頭吞噬 K線型態\n",
    "### 計算 吞噬 型態"
   ]
  },
  {
   "cell_type": "code",
   "execution_count": 15,
   "metadata": {},
   "outputs": [
    {
     "data": {
      "text/html": [
       "<div>\n",
       "<style scoped>\n",
       "    .dataframe tbody tr th:only-of-type {\n",
       "        vertical-align: middle;\n",
       "    }\n",
       "\n",
       "    .dataframe tbody tr th {\n",
       "        vertical-align: top;\n",
       "    }\n",
       "\n",
       "    .dataframe thead th {\n",
       "        text-align: right;\n",
       "    }\n",
       "</style>\n",
       "<table border=\"1\" class=\"dataframe\">\n",
       "  <thead>\n",
       "    <tr style=\"text-align: right;\">\n",
       "      <th></th>\n",
       "      <th>Open</th>\n",
       "      <th>High</th>\n",
       "      <th>Low</th>\n",
       "      <th>Close</th>\n",
       "      <th>Adj Close</th>\n",
       "      <th>Volume</th>\n",
       "      <th>CDLENGULFING</th>\n",
       "    </tr>\n",
       "    <tr>\n",
       "      <th>Date</th>\n",
       "      <th></th>\n",
       "      <th></th>\n",
       "      <th></th>\n",
       "      <th></th>\n",
       "      <th></th>\n",
       "      <th></th>\n",
       "      <th></th>\n",
       "    </tr>\n",
       "  </thead>\n",
       "  <tbody>\n",
       "    <tr>\n",
       "      <th>2021-02-05</th>\n",
       "      <td>2325.000000</td>\n",
       "      <td>2364.600098</td>\n",
       "      <td>2291.0</td>\n",
       "      <td>2313.000000</td>\n",
       "      <td>2291.421875</td>\n",
       "      <td>3972906</td>\n",
       "      <td>0</td>\n",
       "    </tr>\n",
       "    <tr>\n",
       "      <th>2021-02-08</th>\n",
       "      <td>2337.000000</td>\n",
       "      <td>2378.879883</td>\n",
       "      <td>2313.0</td>\n",
       "      <td>2368.800049</td>\n",
       "      <td>2346.701416</td>\n",
       "      <td>3578573</td>\n",
       "      <td>0</td>\n",
       "    </tr>\n",
       "    <tr>\n",
       "      <th>2021-02-09</th>\n",
       "      <td>2368.800049</td>\n",
       "      <td>2456.429932</td>\n",
       "      <td>2350.0</td>\n",
       "      <td>2456.429932</td>\n",
       "      <td>2433.513672</td>\n",
       "      <td>3329655</td>\n",
       "      <td>0</td>\n",
       "    </tr>\n",
       "    <tr>\n",
       "      <th>2021-02-10</th>\n",
       "      <td>2485.000000</td>\n",
       "      <td>2601.199951</td>\n",
       "      <td>2485.0</td>\n",
       "      <td>2601.000000</td>\n",
       "      <td>2576.735107</td>\n",
       "      <td>6137057</td>\n",
       "      <td>0</td>\n",
       "    </tr>\n",
       "    <tr>\n",
       "      <th>2021-02-18</th>\n",
       "      <td>2587.979980</td>\n",
       "      <td>2627.879883</td>\n",
       "      <td>2465.0</td>\n",
       "      <td>2471.000000</td>\n",
       "      <td>2447.947754</td>\n",
       "      <td>6591232</td>\n",
       "      <td>0</td>\n",
       "    </tr>\n",
       "  </tbody>\n",
       "</table>\n",
       "</div>"
      ],
      "text/plain": [
       "                   Open         High     Low        Close    Adj Close  \\\n",
       "Date                                                                     \n",
       "2021-02-05  2325.000000  2364.600098  2291.0  2313.000000  2291.421875   \n",
       "2021-02-08  2337.000000  2378.879883  2313.0  2368.800049  2346.701416   \n",
       "2021-02-09  2368.800049  2456.429932  2350.0  2456.429932  2433.513672   \n",
       "2021-02-10  2485.000000  2601.199951  2485.0  2601.000000  2576.735107   \n",
       "2021-02-18  2587.979980  2627.879883  2465.0  2471.000000  2447.947754   \n",
       "\n",
       "             Volume  CDLENGULFING  \n",
       "Date                               \n",
       "2021-02-05  3972906             0  \n",
       "2021-02-08  3578573             0  \n",
       "2021-02-09  3329655             0  \n",
       "2021-02-10  6137057             0  \n",
       "2021-02-18  6591232             0  "
      ]
     },
     "execution_count": 15,
     "metadata": {},
     "output_type": "execute_result"
    }
   ],
   "source": [
    "# 使用ta-lib吞噬型態函式\n",
    "df = stock\n",
    "candle_names = ['CDLENGULFING']\n",
    "\n",
    "# 加各種K線型態的欄位 create columns for  pattern\n",
    "for candle in candle_names:\n",
    "    df[candle] = getattr(talib, candle)(df['Open'], df['High'], df['Low'], df['Close'])\n",
    "\n",
    "df.head()"
   ]
  },
  {
   "cell_type": "markdown",
   "metadata": {},
   "source": [
    "### 找出 吞噬: 'CDLENGULFING' 型態\n",
    "- 'CDLENGULFING' 函式回傳值 **100**: 多頭吞噬，偏上漲型態\n",
    "- 'CDLENGULFING' 函式回傳值 **-100**: 空頭吞噬，偏下跌型態"
   ]
  },
  {
   "cell_type": "code",
   "execution_count": 16,
   "metadata": {},
   "outputs": [
    {
     "data": {
      "text/html": [
       "<div>\n",
       "<style scoped>\n",
       "    .dataframe tbody tr th:only-of-type {\n",
       "        vertical-align: middle;\n",
       "    }\n",
       "\n",
       "    .dataframe tbody tr th {\n",
       "        vertical-align: top;\n",
       "    }\n",
       "\n",
       "    .dataframe thead th {\n",
       "        text-align: right;\n",
       "    }\n",
       "</style>\n",
       "<table border=\"1\" class=\"dataframe\">\n",
       "  <thead>\n",
       "    <tr style=\"text-align: right;\">\n",
       "      <th></th>\n",
       "      <th>Open</th>\n",
       "      <th>High</th>\n",
       "      <th>Low</th>\n",
       "      <th>Close</th>\n",
       "      <th>Adj Close</th>\n",
       "      <th>Volume</th>\n",
       "      <th>CDLENGULFING</th>\n",
       "    </tr>\n",
       "    <tr>\n",
       "      <th>Date</th>\n",
       "      <th></th>\n",
       "      <th></th>\n",
       "      <th></th>\n",
       "      <th></th>\n",
       "      <th></th>\n",
       "      <th></th>\n",
       "      <th></th>\n",
       "    </tr>\n",
       "  </thead>\n",
       "  <tbody>\n",
       "    <tr>\n",
       "      <th>2021-02-24</th>\n",
       "      <td>2307.989990</td>\n",
       "      <td>2310.0</td>\n",
       "      <td>2160.500000</td>\n",
       "      <td>2189.0</td>\n",
       "      <td>2168.578613</td>\n",
       "      <td>8211578</td>\n",
       "      <td>-100</td>\n",
       "    </tr>\n",
       "    <tr>\n",
       "      <th>2021-03-08</th>\n",
       "      <td>2074.959961</td>\n",
       "      <td>2085.0</td>\n",
       "      <td>1960.000000</td>\n",
       "      <td>1960.0</td>\n",
       "      <td>1941.714966</td>\n",
       "      <td>6309959</td>\n",
       "      <td>-100</td>\n",
       "    </tr>\n",
       "    <tr>\n",
       "      <th>2021-04-22</th>\n",
       "      <td>2089.899902</td>\n",
       "      <td>2099.0</td>\n",
       "      <td>2051.500000</td>\n",
       "      <td>2055.5</td>\n",
       "      <td>2036.324097</td>\n",
       "      <td>2685002</td>\n",
       "      <td>-100</td>\n",
       "    </tr>\n",
       "    <tr>\n",
       "      <th>2021-05-11</th>\n",
       "      <td>1876.000000</td>\n",
       "      <td>1966.0</td>\n",
       "      <td>1873.300049</td>\n",
       "      <td>1959.0</td>\n",
       "      <td>1940.724365</td>\n",
       "      <td>4249412</td>\n",
       "      <td>100</td>\n",
       "    </tr>\n",
       "  </tbody>\n",
       "</table>\n",
       "</div>"
      ],
      "text/plain": [
       "                   Open    High          Low   Close    Adj Close   Volume  \\\n",
       "Date                                                                         \n",
       "2021-02-24  2307.989990  2310.0  2160.500000  2189.0  2168.578613  8211578   \n",
       "2021-03-08  2074.959961  2085.0  1960.000000  1960.0  1941.714966  6309959   \n",
       "2021-04-22  2089.899902  2099.0  2051.500000  2055.5  2036.324097  2685002   \n",
       "2021-05-11  1876.000000  1966.0  1873.300049  1959.0  1940.724365  4249412   \n",
       "\n",
       "            CDLENGULFING  \n",
       "Date                      \n",
       "2021-02-24          -100  \n",
       "2021-03-08          -100  \n",
       "2021-04-22          -100  \n",
       "2021-05-11           100  "
      ]
     },
     "execution_count": 16,
     "metadata": {},
     "output_type": "execute_result"
    }
   ],
   "source": [
    "idx = df[df['CDLENGULFING']!= 0].index\n",
    "df[df['CDLENGULFING']!= 0]"
   ]
  },
  {
   "cell_type": "markdown",
   "metadata": {},
   "source": [
    "## 2.3: 在陸股個股Ｋ線圖上，標示出吞噬Ｋ線型態\n",
    "- 股海小英雄youtube影片：[【股市分析】用K線預測大盤趨勢](https://youtu.be/FX6YAyOdEaE)"
   ]
  },
  {
   "cell_type": "code",
   "execution_count": 19,
   "metadata": {},
   "outputs": [
    {
     "data": {
      "application/vnd.plotly.v1+json": {
       "config": {
        "plotlyServerURL": "https://plot.ly"
       },
       "data": [
        {
         "close": [
          2313,
          2368.800048828125,
          2456.429931640625,
          2601,
          2471,
          2460,
          2288.02001953125,
          2307,
          2189,
          2150,
          2122.780029296875,
          2158,
          2058,
          2140,
          2033,
          2060.110107421875,
          1960,
          1936.989990234375,
          1970.010009765625,
          2048,
          2026,
          1975.449951171875,
          2010.5,
          2030.3599853515625,
          2069.699951171875,
          2010,
          1989.989990234375,
          1996,
          1989,
          1971,
          2013,
          2034.0999755859375,
          2056.050048828125,
          2009,
          2044.5,
          2162,
          2126.030029296875,
          2061,
          2070,
          2020,
          2008.8900146484375,
          2021,
          2047,
          2015.5999755859375,
          2054.97998046875,
          2088,
          2094.800048828125,
          2080,
          2055.5,
          2108.93994140625,
          2077.820068359375,
          2094.43994140625,
          2042,
          2026.3599853515625,
          2006.780029296875,
          1959,
          1903,
          1879.030029296875,
          1959,
          1984,
          1971.5,
          2009.8499755859375,
          2057.9599609375,
          2059.31005859375,
          2049,
          2058.8798828125,
          2042.0999755859375,
          2071.2900390625,
          2194.5,
          2220,
          2245,
          2230,
          2218,
          2240.949951171875,
          2222,
          2222.219970703125,
          2251.5
         ],
         "decreasing": {
          "line": {
           "color": "green"
          }
         },
         "high": [
          2364.60009765625,
          2378.8798828125,
          2456.429931640625,
          2601.199951171875,
          2627.8798828125,
          2496.659912109375,
          2455,
          2344.889892578125,
          2310,
          2224.5,
          2179.949951171875,
          2177.639892578125,
          2180,
          2149.77001953125,
          2096,
          2095,
          2085,
          2000,
          1999.8699951171875,
          2079.989990234375,
          2077,
          2069.800048828125,
          2019.989990234375,
          2050,
          2086.360107421875,
          2036.050048828125,
          2026.0899658203125,
          2008.800048828125,
          2013,
          1988.8800048828125,
          2022,
          2096.35009765625,
          2086,
          2046.02001953125,
          2046.800048828125,
          2165,
          2161.97998046875,
          2117.300048828125,
          2079,
          2054,
          2030,
          2049.800048828125,
          2048,
          2046.9000244140625,
          2068,
          2098.360107421875,
          2129,
          2097.800048828125,
          2099,
          2119.8798828125,
          2135,
          2095.25,
          2047.5,
          2049.93994140625,
          2036,
          2006.8399658203125,
          1967.97998046875,
          1909,
          1966,
          1999,
          1985.050048828125,
          2030.5,
          2085.199951171875,
          2077,
          2074.81005859375,
          2074.10009765625,
          2079.8798828125,
          2080.06005859375,
          2200.10009765625,
          2241.800048828125,
          2320,
          2250,
          2218.35009765625,
          2248.949951171875,
          2264,
          2260.340087890625,
          2288
         ],
         "increasing": {
          "line": {
           "color": "red"
          }
         },
         "low": [
          2291,
          2313,
          2350,
          2485,
          2465,
          2381.60009765625,
          2278.219970703125,
          2265,
          2160.5,
          2121.2099609375,
          2067.300048828125,
          2120,
          2033,
          2033,
          2010.0999755859375,
          1988,
          1960,
          1900.1800537109375,
          1967,
          1961.47998046875,
          2002.010009765625,
          1951.1500244140625,
          1965,
          1976.010009765625,
          2039,
          1992.22998046875,
          1955.550048828125,
          1970,
          1981,
          1946.800048828125,
          1958,
          2026.1500244140625,
          2035.0799560546875,
          2000,
          2001.219970703125,
          2056,
          2102.300048828125,
          2050,
          2044,
          2005.010009765625,
          1991.699951171875,
          2009,
          2016,
          1990,
          2012,
          2033,
          2070,
          2065.10009765625,
          2051.5,
          2052.5,
          2073.60009765625,
          2065.090087890625,
          2003,
          2014,
          2003.7099609375,
          1953,
          1901,
          1866.010009765625,
          1873.300048828125,
          1949,
          1953,
          1976,
          2025.0999755859375,
          2045.06005859375,
          2040,
          2045.3599853515625,
          2037.02001953125,
          2031,
          2085,
          2193.080078125,
          2201.10009765625,
          2205.510009765625,
          2172,
          2206,
          2208.179931640625,
          2210.080078125,
          2214.0400390625
         ],
         "open": [
          2325,
          2337,
          2368.800048828125,
          2485,
          2587.97998046875,
          2451.159912109375,
          2455,
          2288.02001953125,
          2307.989990234375,
          2209,
          2100,
          2160,
          2180,
          2040,
          2095,
          2000,
          2074.9599609375,
          1955,
          1977,
          1976.989990234375,
          2070,
          2050,
          1972.800048828125,
          2000,
          2043.6099853515625,
          2035,
          2000.0999755859375,
          1998.8800048828125,
          1981,
          1970.010009765625,
          1985,
          2043.199951171875,
          2040,
          2045.0999755859375,
          2024,
          2056,
          2161,
          2104.06005859375,
          2047.030029296875,
          2042,
          2011,
          2020,
          2035,
          2030.9000244140625,
          2025.0799560546875,
          2055,
          2071.10009765625,
          2076,
          2089.89990234375,
          2055.969970703125,
          2132,
          2087.080078125,
          2010,
          2047.0400390625,
          2026,
          2000,
          1965,
          1900,
          1876,
          1949.0799560546875,
          1965.75,
          1982,
          2025.0999755859375,
          2065,
          2059,
          2074,
          2055.080078125,
          2051,
          2085,
          2207.97998046875,
          2211.02001953125,
          2240.969970703125,
          2215.5,
          2222,
          2250,
          2220,
          2215
         ],
         "type": "candlestick",
         "x": [
          "2021-02-05T00:00:00",
          "2021-02-08T00:00:00",
          "2021-02-09T00:00:00",
          "2021-02-10T00:00:00",
          "2021-02-18T00:00:00",
          "2021-02-19T00:00:00",
          "2021-02-22T00:00:00",
          "2021-02-23T00:00:00",
          "2021-02-24T00:00:00",
          "2021-02-25T00:00:00",
          "2021-02-26T00:00:00",
          "2021-03-01T00:00:00",
          "2021-03-02T00:00:00",
          "2021-03-03T00:00:00",
          "2021-03-04T00:00:00",
          "2021-03-05T00:00:00",
          "2021-03-08T00:00:00",
          "2021-03-09T00:00:00",
          "2021-03-10T00:00:00",
          "2021-03-11T00:00:00",
          "2021-03-12T00:00:00",
          "2021-03-15T00:00:00",
          "2021-03-16T00:00:00",
          "2021-03-17T00:00:00",
          "2021-03-18T00:00:00",
          "2021-03-19T00:00:00",
          "2021-03-22T00:00:00",
          "2021-03-23T00:00:00",
          "2021-03-24T00:00:00",
          "2021-03-25T00:00:00",
          "2021-03-26T00:00:00",
          "2021-03-29T00:00:00",
          "2021-03-30T00:00:00",
          "2021-03-31T00:00:00",
          "2021-04-01T00:00:00",
          "2021-04-02T00:00:00",
          "2021-04-06T00:00:00",
          "2021-04-07T00:00:00",
          "2021-04-08T00:00:00",
          "2021-04-09T00:00:00",
          "2021-04-12T00:00:00",
          "2021-04-13T00:00:00",
          "2021-04-14T00:00:00",
          "2021-04-15T00:00:00",
          "2021-04-16T00:00:00",
          "2021-04-19T00:00:00",
          "2021-04-20T00:00:00",
          "2021-04-21T00:00:00",
          "2021-04-22T00:00:00",
          "2021-04-23T00:00:00",
          "2021-04-26T00:00:00",
          "2021-04-27T00:00:00",
          "2021-04-28T00:00:00",
          "2021-04-29T00:00:00",
          "2021-04-30T00:00:00",
          "2021-05-06T00:00:00",
          "2021-05-07T00:00:00",
          "2021-05-10T00:00:00",
          "2021-05-11T00:00:00",
          "2021-05-12T00:00:00",
          "2021-05-13T00:00:00",
          "2021-05-14T00:00:00",
          "2021-05-17T00:00:00",
          "2021-05-18T00:00:00",
          "2021-05-19T00:00:00",
          "2021-05-20T00:00:00",
          "2021-05-21T00:00:00",
          "2021-05-24T00:00:00",
          "2021-05-25T00:00:00",
          "2021-05-26T00:00:00",
          "2021-05-27T00:00:00",
          "2021-05-28T00:00:00",
          "2021-05-31T00:00:00",
          "2021-06-01T00:00:00",
          "2021-06-02T00:00:00",
          "2021-06-03T00:00:00",
          "2021-06-04T00:00:00"
         ]
        }
       ],
       "layout": {
        "annotations": [
         {
          "arrowhead": 1,
          "font": {
           "size": 15
          },
          "opacity": 0.9,
          "showarrow": true,
          "text": "空頭吞噬 ",
          "x": "2021-02-24T00:00:00",
          "y": 2311
         },
         {
          "arrowhead": 1,
          "font": {
           "size": 15
          },
          "opacity": 0.9,
          "showarrow": true,
          "text": "空頭吞噬 ",
          "x": "2021-03-08T00:00:00",
          "y": 2086
         },
         {
          "arrowhead": 1,
          "font": {
           "size": 15
          },
          "opacity": 0.9,
          "showarrow": true,
          "text": "空頭吞噬 ",
          "x": "2021-04-22T00:00:00",
          "y": 2100
         },
         {
          "arrowhead": 1,
          "font": {
           "size": 15
          },
          "opacity": 0.9,
          "showarrow": true,
          "text": "多頭吞噬 ",
          "x": "2021-05-11T00:00:00",
          "y": 1967
         }
        ],
        "height": 600,
        "template": {
         "data": {
          "bar": [
           {
            "error_x": {
             "color": "#2a3f5f"
            },
            "error_y": {
             "color": "#2a3f5f"
            },
            "marker": {
             "line": {
              "color": "#E5ECF6",
              "width": 0.5
             },
             "pattern": {
              "fillmode": "overlay",
              "size": 10,
              "solidity": 0.2
             }
            },
            "type": "bar"
           }
          ],
          "barpolar": [
           {
            "marker": {
             "line": {
              "color": "#E5ECF6",
              "width": 0.5
             },
             "pattern": {
              "fillmode": "overlay",
              "size": 10,
              "solidity": 0.2
             }
            },
            "type": "barpolar"
           }
          ],
          "carpet": [
           {
            "aaxis": {
             "endlinecolor": "#2a3f5f",
             "gridcolor": "white",
             "linecolor": "white",
             "minorgridcolor": "white",
             "startlinecolor": "#2a3f5f"
            },
            "baxis": {
             "endlinecolor": "#2a3f5f",
             "gridcolor": "white",
             "linecolor": "white",
             "minorgridcolor": "white",
             "startlinecolor": "#2a3f5f"
            },
            "type": "carpet"
           }
          ],
          "choropleth": [
           {
            "colorbar": {
             "outlinewidth": 0,
             "ticks": ""
            },
            "type": "choropleth"
           }
          ],
          "contour": [
           {
            "colorbar": {
             "outlinewidth": 0,
             "ticks": ""
            },
            "colorscale": [
             [
              0,
              "#0d0887"
             ],
             [
              0.1111111111111111,
              "#46039f"
             ],
             [
              0.2222222222222222,
              "#7201a8"
             ],
             [
              0.3333333333333333,
              "#9c179e"
             ],
             [
              0.4444444444444444,
              "#bd3786"
             ],
             [
              0.5555555555555556,
              "#d8576b"
             ],
             [
              0.6666666666666666,
              "#ed7953"
             ],
             [
              0.7777777777777778,
              "#fb9f3a"
             ],
             [
              0.8888888888888888,
              "#fdca26"
             ],
             [
              1,
              "#f0f921"
             ]
            ],
            "type": "contour"
           }
          ],
          "contourcarpet": [
           {
            "colorbar": {
             "outlinewidth": 0,
             "ticks": ""
            },
            "type": "contourcarpet"
           }
          ],
          "heatmap": [
           {
            "colorbar": {
             "outlinewidth": 0,
             "ticks": ""
            },
            "colorscale": [
             [
              0,
              "#0d0887"
             ],
             [
              0.1111111111111111,
              "#46039f"
             ],
             [
              0.2222222222222222,
              "#7201a8"
             ],
             [
              0.3333333333333333,
              "#9c179e"
             ],
             [
              0.4444444444444444,
              "#bd3786"
             ],
             [
              0.5555555555555556,
              "#d8576b"
             ],
             [
              0.6666666666666666,
              "#ed7953"
             ],
             [
              0.7777777777777778,
              "#fb9f3a"
             ],
             [
              0.8888888888888888,
              "#fdca26"
             ],
             [
              1,
              "#f0f921"
             ]
            ],
            "type": "heatmap"
           }
          ],
          "heatmapgl": [
           {
            "colorbar": {
             "outlinewidth": 0,
             "ticks": ""
            },
            "colorscale": [
             [
              0,
              "#0d0887"
             ],
             [
              0.1111111111111111,
              "#46039f"
             ],
             [
              0.2222222222222222,
              "#7201a8"
             ],
             [
              0.3333333333333333,
              "#9c179e"
             ],
             [
              0.4444444444444444,
              "#bd3786"
             ],
             [
              0.5555555555555556,
              "#d8576b"
             ],
             [
              0.6666666666666666,
              "#ed7953"
             ],
             [
              0.7777777777777778,
              "#fb9f3a"
             ],
             [
              0.8888888888888888,
              "#fdca26"
             ],
             [
              1,
              "#f0f921"
             ]
            ],
            "type": "heatmapgl"
           }
          ],
          "histogram": [
           {
            "marker": {
             "pattern": {
              "fillmode": "overlay",
              "size": 10,
              "solidity": 0.2
             }
            },
            "type": "histogram"
           }
          ],
          "histogram2d": [
           {
            "colorbar": {
             "outlinewidth": 0,
             "ticks": ""
            },
            "colorscale": [
             [
              0,
              "#0d0887"
             ],
             [
              0.1111111111111111,
              "#46039f"
             ],
             [
              0.2222222222222222,
              "#7201a8"
             ],
             [
              0.3333333333333333,
              "#9c179e"
             ],
             [
              0.4444444444444444,
              "#bd3786"
             ],
             [
              0.5555555555555556,
              "#d8576b"
             ],
             [
              0.6666666666666666,
              "#ed7953"
             ],
             [
              0.7777777777777778,
              "#fb9f3a"
             ],
             [
              0.8888888888888888,
              "#fdca26"
             ],
             [
              1,
              "#f0f921"
             ]
            ],
            "type": "histogram2d"
           }
          ],
          "histogram2dcontour": [
           {
            "colorbar": {
             "outlinewidth": 0,
             "ticks": ""
            },
            "colorscale": [
             [
              0,
              "#0d0887"
             ],
             [
              0.1111111111111111,
              "#46039f"
             ],
             [
              0.2222222222222222,
              "#7201a8"
             ],
             [
              0.3333333333333333,
              "#9c179e"
             ],
             [
              0.4444444444444444,
              "#bd3786"
             ],
             [
              0.5555555555555556,
              "#d8576b"
             ],
             [
              0.6666666666666666,
              "#ed7953"
             ],
             [
              0.7777777777777778,
              "#fb9f3a"
             ],
             [
              0.8888888888888888,
              "#fdca26"
             ],
             [
              1,
              "#f0f921"
             ]
            ],
            "type": "histogram2dcontour"
           }
          ],
          "mesh3d": [
           {
            "colorbar": {
             "outlinewidth": 0,
             "ticks": ""
            },
            "type": "mesh3d"
           }
          ],
          "parcoords": [
           {
            "line": {
             "colorbar": {
              "outlinewidth": 0,
              "ticks": ""
             }
            },
            "type": "parcoords"
           }
          ],
          "pie": [
           {
            "automargin": true,
            "type": "pie"
           }
          ],
          "scatter": [
           {
            "marker": {
             "colorbar": {
              "outlinewidth": 0,
              "ticks": ""
             }
            },
            "type": "scatter"
           }
          ],
          "scatter3d": [
           {
            "line": {
             "colorbar": {
              "outlinewidth": 0,
              "ticks": ""
             }
            },
            "marker": {
             "colorbar": {
              "outlinewidth": 0,
              "ticks": ""
             }
            },
            "type": "scatter3d"
           }
          ],
          "scattercarpet": [
           {
            "marker": {
             "colorbar": {
              "outlinewidth": 0,
              "ticks": ""
             }
            },
            "type": "scattercarpet"
           }
          ],
          "scattergeo": [
           {
            "marker": {
             "colorbar": {
              "outlinewidth": 0,
              "ticks": ""
             }
            },
            "type": "scattergeo"
           }
          ],
          "scattergl": [
           {
            "marker": {
             "colorbar": {
              "outlinewidth": 0,
              "ticks": ""
             }
            },
            "type": "scattergl"
           }
          ],
          "scattermapbox": [
           {
            "marker": {
             "colorbar": {
              "outlinewidth": 0,
              "ticks": ""
             }
            },
            "type": "scattermapbox"
           }
          ],
          "scatterpolar": [
           {
            "marker": {
             "colorbar": {
              "outlinewidth": 0,
              "ticks": ""
             }
            },
            "type": "scatterpolar"
           }
          ],
          "scatterpolargl": [
           {
            "marker": {
             "colorbar": {
              "outlinewidth": 0,
              "ticks": ""
             }
            },
            "type": "scatterpolargl"
           }
          ],
          "scatterternary": [
           {
            "marker": {
             "colorbar": {
              "outlinewidth": 0,
              "ticks": ""
             }
            },
            "type": "scatterternary"
           }
          ],
          "surface": [
           {
            "colorbar": {
             "outlinewidth": 0,
             "ticks": ""
            },
            "colorscale": [
             [
              0,
              "#0d0887"
             ],
             [
              0.1111111111111111,
              "#46039f"
             ],
             [
              0.2222222222222222,
              "#7201a8"
             ],
             [
              0.3333333333333333,
              "#9c179e"
             ],
             [
              0.4444444444444444,
              "#bd3786"
             ],
             [
              0.5555555555555556,
              "#d8576b"
             ],
             [
              0.6666666666666666,
              "#ed7953"
             ],
             [
              0.7777777777777778,
              "#fb9f3a"
             ],
             [
              0.8888888888888888,
              "#fdca26"
             ],
             [
              1,
              "#f0f921"
             ]
            ],
            "type": "surface"
           }
          ],
          "table": [
           {
            "cells": {
             "fill": {
              "color": "#EBF0F8"
             },
             "line": {
              "color": "white"
             }
            },
            "header": {
             "fill": {
              "color": "#C8D4E3"
             },
             "line": {
              "color": "white"
             }
            },
            "type": "table"
           }
          ]
         },
         "layout": {
          "annotationdefaults": {
           "arrowcolor": "#2a3f5f",
           "arrowhead": 0,
           "arrowwidth": 1
          },
          "autotypenumbers": "strict",
          "coloraxis": {
           "colorbar": {
            "outlinewidth": 0,
            "ticks": ""
           }
          },
          "colorscale": {
           "diverging": [
            [
             0,
             "#8e0152"
            ],
            [
             0.1,
             "#c51b7d"
            ],
            [
             0.2,
             "#de77ae"
            ],
            [
             0.3,
             "#f1b6da"
            ],
            [
             0.4,
             "#fde0ef"
            ],
            [
             0.5,
             "#f7f7f7"
            ],
            [
             0.6,
             "#e6f5d0"
            ],
            [
             0.7,
             "#b8e186"
            ],
            [
             0.8,
             "#7fbc41"
            ],
            [
             0.9,
             "#4d9221"
            ],
            [
             1,
             "#276419"
            ]
           ],
           "sequential": [
            [
             0,
             "#0d0887"
            ],
            [
             0.1111111111111111,
             "#46039f"
            ],
            [
             0.2222222222222222,
             "#7201a8"
            ],
            [
             0.3333333333333333,
             "#9c179e"
            ],
            [
             0.4444444444444444,
             "#bd3786"
            ],
            [
             0.5555555555555556,
             "#d8576b"
            ],
            [
             0.6666666666666666,
             "#ed7953"
            ],
            [
             0.7777777777777778,
             "#fb9f3a"
            ],
            [
             0.8888888888888888,
             "#fdca26"
            ],
            [
             1,
             "#f0f921"
            ]
           ],
           "sequentialminus": [
            [
             0,
             "#0d0887"
            ],
            [
             0.1111111111111111,
             "#46039f"
            ],
            [
             0.2222222222222222,
             "#7201a8"
            ],
            [
             0.3333333333333333,
             "#9c179e"
            ],
            [
             0.4444444444444444,
             "#bd3786"
            ],
            [
             0.5555555555555556,
             "#d8576b"
            ],
            [
             0.6666666666666666,
             "#ed7953"
            ],
            [
             0.7777777777777778,
             "#fb9f3a"
            ],
            [
             0.8888888888888888,
             "#fdca26"
            ],
            [
             1,
             "#f0f921"
            ]
           ]
          },
          "colorway": [
           "#636efa",
           "#EF553B",
           "#00cc96",
           "#ab63fa",
           "#FFA15A",
           "#19d3f3",
           "#FF6692",
           "#B6E880",
           "#FF97FF",
           "#FECB52"
          ],
          "font": {
           "color": "#2a3f5f"
          },
          "geo": {
           "bgcolor": "white",
           "lakecolor": "white",
           "landcolor": "#E5ECF6",
           "showlakes": true,
           "showland": true,
           "subunitcolor": "white"
          },
          "hoverlabel": {
           "align": "left"
          },
          "hovermode": "closest",
          "mapbox": {
           "style": "light"
          },
          "paper_bgcolor": "white",
          "plot_bgcolor": "#E5ECF6",
          "polar": {
           "angularaxis": {
            "gridcolor": "white",
            "linecolor": "white",
            "ticks": ""
           },
           "bgcolor": "#E5ECF6",
           "radialaxis": {
            "gridcolor": "white",
            "linecolor": "white",
            "ticks": ""
           }
          },
          "scene": {
           "xaxis": {
            "backgroundcolor": "#E5ECF6",
            "gridcolor": "white",
            "gridwidth": 2,
            "linecolor": "white",
            "showbackground": true,
            "ticks": "",
            "zerolinecolor": "white"
           },
           "yaxis": {
            "backgroundcolor": "#E5ECF6",
            "gridcolor": "white",
            "gridwidth": 2,
            "linecolor": "white",
            "showbackground": true,
            "ticks": "",
            "zerolinecolor": "white"
           },
           "zaxis": {
            "backgroundcolor": "#E5ECF6",
            "gridcolor": "white",
            "gridwidth": 2,
            "linecolor": "white",
            "showbackground": true,
            "ticks": "",
            "zerolinecolor": "white"
           }
          },
          "shapedefaults": {
           "line": {
            "color": "#2a3f5f"
           }
          },
          "ternary": {
           "aaxis": {
            "gridcolor": "white",
            "linecolor": "white",
            "ticks": ""
           },
           "baxis": {
            "gridcolor": "white",
            "linecolor": "white",
            "ticks": ""
           },
           "bgcolor": "#E5ECF6",
           "caxis": {
            "gridcolor": "white",
            "linecolor": "white",
            "ticks": ""
           }
          },
          "title": {
           "x": 0.05
          },
          "xaxis": {
           "automargin": true,
           "gridcolor": "white",
           "linecolor": "white",
           "ticks": "",
           "title": {
            "standoff": 15
           },
           "zerolinecolor": "white",
           "zerolinewidth": 2
          },
          "yaxis": {
           "automargin": true,
           "gridcolor": "white",
           "linecolor": "white",
           "ticks": "",
           "title": {
            "standoff": 15
           },
           "zerolinecolor": "white",
           "zerolinewidth": 2
          }
         }
        },
        "title": {
         "text": "2021/02 - 2021/06 貴州茅台(600519) K線圖 - 多頭吞噬/空頭吞噬型態"
        },
        "width": 1000,
        "xaxis": {
         "autorange": true,
         "range": [
          "2021-02-04 12:00",
          "2021-06-04 12:00"
         ],
         "rangeslider": {
          "autorange": true,
          "range": [
           "2021-02-04 12:00",
           "2021-06-04 12:00"
          ],
          "yaxis": {
           "_template": null,
           "rangemode": "match"
          }
         },
         "title": {
          "text": "日期"
         },
         "type": "date"
        },
        "yaxis": {
         "autorange": true,
         "range": [
          1823.6839057074653,
          2670.2059868706597
         ],
         "title": {
          "text": "股價"
         }
        }
       }
      },
      "image/png": "[encoded data removed]",
      "text/html": [
       "<div>                            <div id=\"fa0bc65c-47e0-4cff-b049-4e4c2b2e6531\" class=\"plotly-graph-div\" style=\"height:600px; width:1000px;\"></div>            <script type=\"text/javascript\">                require([\"plotly\"], function(Plotly) {                    window.PLOTLYENV=window.PLOTLYENV || {};                                    if (document.getElementById(\"fa0bc65c-47e0-4cff-b049-4e4c2b2e6531\")) {                    Plotly.newPlot(                        \"fa0bc65c-47e0-4cff-b049-4e4c2b2e6531\",                        [{\"close\":[2313.0,2368.800048828125,2456.429931640625,2601.0,2471.0,2460.0,2288.02001953125,2307.0,2189.0,2150.0,2122.780029296875,2158.0,2058.0,2140.0,2033.0,2060.110107421875,1960.0,1936.989990234375,1970.010009765625,2048.0,2026.0,1975.449951171875,2010.5,2030.3599853515625,2069.699951171875,2010.0,1989.989990234375,1996.0,1989.0,1971.0,2013.0,2034.0999755859375,2056.050048828125,2009.0,2044.5,2162.0,2126.030029296875,2061.0,2070.0,2020.0,2008.8900146484375,2021.0,2047.0,2015.5999755859375,2054.97998046875,2088.0,2094.800048828125,2080.0,2055.5,2108.93994140625,2077.820068359375,2094.43994140625,2042.0,2026.3599853515625,2006.780029296875,1959.0,1903.0,1879.030029296875,1959.0,1984.0,1971.5,2009.8499755859375,2057.9599609375,2059.31005859375,2049.0,2058.8798828125,2042.0999755859375,2071.2900390625,2194.5,2220.0,2245.0,2230.0,2218.0,2240.949951171875,2222.0,2222.219970703125,2251.5],\"decreasing\":{\"line\":{\"color\":\"green\"}},\"high\":[2364.60009765625,2378.8798828125,2456.429931640625,2601.199951171875,2627.8798828125,2496.659912109375,2455.0,2344.889892578125,2310.0,2224.5,2179.949951171875,2177.639892578125,2180.0,2149.77001953125,2096.0,2095.0,2085.0,2000.0,1999.8699951171875,2079.989990234375,2077.0,2069.800048828125,2019.989990234375,2050.0,2086.360107421875,2036.050048828125,2026.0899658203125,2008.800048828125,2013.0,1988.8800048828125,2022.0,2096.35009765625,2086.0,2046.02001953125,2046.800048828125,2165.0,2161.97998046875,2117.300048828125,2079.0,2054.0,2030.0,2049.800048828125,2048.0,2046.9000244140625,2068.0,2098.360107421875,2129.0,2097.800048828125,2099.0,2119.8798828125,2135.0,2095.25,2047.5,2049.93994140625,2036.0,2006.8399658203125,1967.97998046875,1909.0,1966.0,1999.0,1985.050048828125,2030.5,2085.199951171875,2077.0,2074.81005859375,2074.10009765625,2079.8798828125,2080.06005859375,2200.10009765625,2241.800048828125,2320.0,2250.0,2218.35009765625,2248.949951171875,2264.0,2260.340087890625,2288.0],\"increasing\":{\"line\":{\"color\":\"red\"}},\"low\":[2291.0,2313.0,2350.0,2485.0,2465.0,2381.60009765625,2278.219970703125,2265.0,2160.5,2121.2099609375,2067.300048828125,2120.0,2033.0,2033.0,2010.0999755859375,1988.0,1960.0,1900.1800537109375,1967.0,1961.47998046875,2002.010009765625,1951.1500244140625,1965.0,1976.010009765625,2039.0,1992.22998046875,1955.550048828125,1970.0,1981.0,1946.800048828125,1958.0,2026.1500244140625,2035.0799560546875,2000.0,2001.219970703125,2056.0,2102.300048828125,2050.0,2044.0,2005.010009765625,1991.699951171875,2009.0,2016.0,1990.0,2012.0,2033.0,2070.0,2065.10009765625,2051.5,2052.5,2073.60009765625,2065.090087890625,2003.0,2014.0,2003.7099609375,1953.0,1901.0,1866.010009765625,1873.300048828125,1949.0,1953.0,1976.0,2025.0999755859375,2045.06005859375,2040.0,2045.3599853515625,2037.02001953125,2031.0,2085.0,2193.080078125,2201.10009765625,2205.510009765625,2172.0,2206.0,2208.179931640625,2210.080078125,2214.0400390625],\"open\":[2325.0,2337.0,2368.800048828125,2485.0,2587.97998046875,2451.159912109375,2455.0,2288.02001953125,2307.989990234375,2209.0,2100.0,2160.0,2180.0,2040.0,2095.0,2000.0,2074.9599609375,1955.0,1977.0,1976.989990234375,2070.0,2050.0,1972.800048828125,2000.0,2043.6099853515625,2035.0,2000.0999755859375,1998.8800048828125,1981.0,1970.010009765625,1985.0,2043.199951171875,2040.0,2045.0999755859375,2024.0,2056.0,2161.0,2104.06005859375,2047.030029296875,2042.0,2011.0,2020.0,2035.0,2030.9000244140625,2025.0799560546875,2055.0,2071.10009765625,2076.0,2089.89990234375,2055.969970703125,2132.0,2087.080078125,2010.0,2047.0400390625,2026.0,2000.0,1965.0,1900.0,1876.0,1949.0799560546875,1965.75,1982.0,2025.0999755859375,2065.0,2059.0,2074.0,2055.080078125,2051.0,2085.0,2207.97998046875,2211.02001953125,2240.969970703125,2215.5,2222.0,2250.0,2220.0,2215.0],\"type\":\"candlestick\",\"x\":[\"2021-02-05T00:00:00\",\"2021-02-08T00:00:00\",\"2021-02-09T00:00:00\",\"2021-02-10T00:00:00\",\"2021-02-18T00:00:00\",\"2021-02-19T00:00:00\",\"2021-02-22T00:00:00\",\"2021-02-23T00:00:00\",\"2021-02-24T00:00:00\",\"2021-02-25T00:00:00\",\"2021-02-26T00:00:00\",\"2021-03-01T00:00:00\",\"2021-03-02T00:00:00\",\"2021-03-03T00:00:00\",\"2021-03-04T00:00:00\",\"2021-03-05T00:00:00\",\"2021-03-08T00:00:00\",\"2021-03-09T00:00:00\",\"2021-03-10T00:00:00\",\"2021-03-11T00:00:00\",\"2021-03-12T00:00:00\",\"2021-03-15T00:00:00\",\"2021-03-16T00:00:00\",\"2021-03-17T00:00:00\",\"2021-03-18T00:00:00\",\"2021-03-19T00:00:00\",\"2021-03-22T00:00:00\",\"2021-03-23T00:00:00\",\"2021-03-24T00:00:00\",\"2021-03-25T00:00:00\",\"2021-03-26T00:00:00\",\"2021-03-29T00:00:00\",\"2021-03-30T00:00:00\",\"2021-03-31T00:00:00\",\"2021-04-01T00:00:00\",\"2021-04-02T00:00:00\",\"2021-04-06T00:00:00\",\"2021-04-07T00:00:00\",\"2021-04-08T00:00:00\",\"2021-04-09T00:00:00\",\"2021-04-12T00:00:00\",\"2021-04-13T00:00:00\",\"2021-04-14T00:00:00\",\"2021-04-15T00:00:00\",\"2021-04-16T00:00:00\",\"2021-04-19T00:00:00\",\"2021-04-20T00:00:00\",\"2021-04-21T00:00:00\",\"2021-04-22T00:00:00\",\"2021-04-23T00:00:00\",\"2021-04-26T00:00:00\",\"2021-04-27T00:00:00\",\"2021-04-28T00:00:00\",\"2021-04-29T00:00:00\",\"2021-04-30T00:00:00\",\"2021-05-06T00:00:00\",\"2021-05-07T00:00:00\",\"2021-05-10T00:00:00\",\"2021-05-11T00:00:00\",\"2021-05-12T00:00:00\",\"2021-05-13T00:00:00\",\"2021-05-14T00:00:00\",\"2021-05-17T00:00:00\",\"2021-05-18T00:00:00\",\"2021-05-19T00:00:00\",\"2021-05-20T00:00:00\",\"2021-05-21T00:00:00\",\"2021-05-24T00:00:00\",\"2021-05-25T00:00:00\",\"2021-05-26T00:00:00\",\"2021-05-27T00:00:00\",\"2021-05-28T00:00:00\",\"2021-05-31T00:00:00\",\"2021-06-01T00:00:00\",\"2021-06-02T00:00:00\",\"2021-06-03T00:00:00\",\"2021-06-04T00:00:00\"]}],                        {\"annotations\":[{\"arrowhead\":1,\"font\":{\"size\":15},\"opacity\":0.9,\"showarrow\":true,\"text\":\"\\u7a7a\\u982d\\u541e\\u566c \",\"x\":\"2021-02-24T00:00:00\",\"y\":2311.0},{\"arrowhead\":1,\"font\":{\"size\":15},\"opacity\":0.9,\"showarrow\":true,\"text\":\"\\u7a7a\\u982d\\u541e\\u566c \",\"x\":\"2021-03-08T00:00:00\",\"y\":2086.0},{\"arrowhead\":1,\"font\":{\"size\":15},\"opacity\":0.9,\"showarrow\":true,\"text\":\"\\u7a7a\\u982d\\u541e\\u566c \",\"x\":\"2021-04-22T00:00:00\",\"y\":2100.0},{\"arrowhead\":1,\"font\":{\"size\":15},\"opacity\":0.9,\"showarrow\":true,\"text\":\"\\u591a\\u982d\\u541e\\u566c \",\"x\":\"2021-05-11T00:00:00\",\"y\":1967.0}],\"height\":600,\"template\":{\"data\":{\"bar\":[{\"error_x\":{\"color\":\"#2a3f5f\"},\"error_y\":{\"color\":\"#2a3f5f\"},\"marker\":{\"line\":{\"color\":\"#E5ECF6\",\"width\":0.5},\"pattern\":{\"fillmode\":\"overlay\",\"size\":10,\"solidity\":0.2}},\"type\":\"bar\"}],\"barpolar\":[{\"marker\":{\"line\":{\"color\":\"#E5ECF6\",\"width\":0.5},\"pattern\":{\"fillmode\":\"overlay\",\"size\":10,\"solidity\":0.2}},\"type\":\"barpolar\"}],\"carpet\":[{\"aaxis\":{\"endlinecolor\":\"#2a3f5f\",\"gridcolor\":\"white\",\"linecolor\":\"white\",\"minorgridcolor\":\"white\",\"startlinecolor\":\"#2a3f5f\"},\"baxis\":{\"endlinecolor\":\"#2a3f5f\",\"gridcolor\":\"white\",\"linecolor\":\"white\",\"minorgridcolor\":\"white\",\"startlinecolor\":\"#2a3f5f\"},\"type\":\"carpet\"}],\"choropleth\":[{\"colorbar\":{\"outlinewidth\":0,\"ticks\":\"\"},\"type\":\"choropleth\"}],\"contour\":[{\"colorbar\":{\"outlinewidth\":0,\"ticks\":\"\"},\"colorscale\":[[0.0,\"#0d0887\"],[0.1111111111111111,\"#46039f\"],[0.2222222222222222,\"#7201a8\"],[0.3333333333333333,\"#9c179e\"],[0.4444444444444444,\"#bd3786\"],[0.5555555555555556,\"#d8576b\"],[0.6666666666666666,\"#ed7953\"],[0.7777777777777778,\"#fb9f3a\"],[0.8888888888888888,\"#fdca26\"],[1.0,\"#f0f921\"]],\"type\":\"contour\"}],\"contourcarpet\":[{\"colorbar\":{\"outlinewidth\":0,\"ticks\":\"\"},\"type\":\"contourcarpet\"}],\"heatmap\":[{\"colorbar\":{\"outlinewidth\":0,\"ticks\":\"\"},\"colorscale\":[[0.0,\"#0d0887\"],[0.1111111111111111,\"#46039f\"],[0.2222222222222222,\"#7201a8\"],[0.3333333333333333,\"#9c179e\"],[0.4444444444444444,\"#bd3786\"],[0.5555555555555556,\"#d8576b\"],[0.6666666666666666,\"#ed7953\"],[0.7777777777777778,\"#fb9f3a\"],[0.8888888888888888,\"#fdca26\"],[1.0,\"#f0f921\"]],\"type\":\"heatmap\"}],\"heatmapgl\":[{\"colorbar\":{\"outlinewidth\":0,\"ticks\":\"\"},\"colorscale\":[[0.0,\"#0d0887\"],[0.1111111111111111,\"#46039f\"],[0.2222222222222222,\"#7201a8\"],[0.3333333333333333,\"#9c179e\"],[0.4444444444444444,\"#bd3786\"],[0.5555555555555556,\"#d8576b\"],[0.6666666666666666,\"#ed7953\"],[0.7777777777777778,\"#fb9f3a\"],[0.8888888888888888,\"#fdca26\"],[1.0,\"#f0f921\"]],\"type\":\"heatmapgl\"}],\"histogram\":[{\"marker\":{\"pattern\":{\"fillmode\":\"overlay\",\"size\":10,\"solidity\":0.2}},\"type\":\"histogram\"}],\"histogram2d\":[{\"colorbar\":{\"outlinewidth\":0,\"ticks\":\"\"},\"colorscale\":[[0.0,\"#0d0887\"],[0.1111111111111111,\"#46039f\"],[0.2222222222222222,\"#7201a8\"],[0.3333333333333333,\"#9c179e\"],[0.4444444444444444,\"#bd3786\"],[0.5555555555555556,\"#d8576b\"],[0.6666666666666666,\"#ed7953\"],[0.7777777777777778,\"#fb9f3a\"],[0.8888888888888888,\"#fdca26\"],[1.0,\"#f0f921\"]],\"type\":\"histogram2d\"}],\"histogram2dcontour\":[{\"colorbar\":{\"outlinewidth\":0,\"ticks\":\"\"},\"colorscale\":[[0.0,\"#0d0887\"],[0.1111111111111111,\"#46039f\"],[0.2222222222222222,\"#7201a8\"],[0.3333333333333333,\"#9c179e\"],[0.4444444444444444,\"#bd3786\"],[0.5555555555555556,\"#d8576b\"],[0.6666666666666666,\"#ed7953\"],[0.7777777777777778,\"#fb9f3a\"],[0.8888888888888888,\"#fdca26\"],[1.0,\"#f0f921\"]],\"type\":\"histogram2dcontour\"}],\"mesh3d\":[{\"colorbar\":{\"outlinewidth\":0,\"ticks\":\"\"},\"type\":\"mesh3d\"}],\"parcoords\":[{\"line\":{\"colorbar\":{\"outlinewidth\":0,\"ticks\":\"\"}},\"type\":\"parcoords\"}],\"pie\":[{\"automargin\":true,\"type\":\"pie\"}],\"scatter\":[{\"marker\":{\"colorbar\":{\"outlinewidth\":0,\"ticks\":\"\"}},\"type\":\"scatter\"}],\"scatter3d\":[{\"line\":{\"colorbar\":{\"outlinewidth\":0,\"ticks\":\"\"}},\"marker\":{\"colorbar\":{\"outlinewidth\":0,\"ticks\":\"\"}},\"type\":\"scatter3d\"}],\"scattercarpet\":[{\"marker\":{\"colorbar\":{\"outlinewidth\":0,\"ticks\":\"\"}},\"type\":\"scattercarpet\"}],\"scattergeo\":[{\"marker\":{\"colorbar\":{\"outlinewidth\":0,\"ticks\":\"\"}},\"type\":\"scattergeo\"}],\"scattergl\":[{\"marker\":{\"colorbar\":{\"outlinewidth\":0,\"ticks\":\"\"}},\"type\":\"scattergl\"}],\"scattermapbox\":[{\"marker\":{\"colorbar\":{\"outlinewidth\":0,\"ticks\":\"\"}},\"type\":\"scattermapbox\"}],\"scatterpolar\":[{\"marker\":{\"colorbar\":{\"outlinewidth\":0,\"ticks\":\"\"}},\"type\":\"scatterpolar\"}],\"scatterpolargl\":[{\"marker\":{\"colorbar\":{\"outlinewidth\":0,\"ticks\":\"\"}},\"type\":\"scatterpolargl\"}],\"scatterternary\":[{\"marker\":{\"colorbar\":{\"outlinewidth\":0,\"ticks\":\"\"}},\"type\":\"scatterternary\"}],\"surface\":[{\"colorbar\":{\"outlinewidth\":0,\"ticks\":\"\"},\"colorscale\":[[0.0,\"#0d0887\"],[0.1111111111111111,\"#46039f\"],[0.2222222222222222,\"#7201a8\"],[0.3333333333333333,\"#9c179e\"],[0.4444444444444444,\"#bd3786\"],[0.5555555555555556,\"#d8576b\"],[0.6666666666666666,\"#ed7953\"],[0.7777777777777778,\"#fb9f3a\"],[0.8888888888888888,\"#fdca26\"],[1.0,\"#f0f921\"]],\"type\":\"surface\"}],\"table\":[{\"cells\":{\"fill\":{\"color\":\"#EBF0F8\"},\"line\":{\"color\":\"white\"}},\"header\":{\"fill\":{\"color\":\"#C8D4E3\"},\"line\":{\"color\":\"white\"}},\"type\":\"table\"}]},\"layout\":{\"annotationdefaults\":{\"arrowcolor\":\"#2a3f5f\",\"arrowhead\":0,\"arrowwidth\":1},\"autotypenumbers\":\"strict\",\"coloraxis\":{\"colorbar\":{\"outlinewidth\":0,\"ticks\":\"\"}},\"colorscale\":{\"diverging\":[[0,\"#8e0152\"],[0.1,\"#c51b7d\"],[0.2,\"#de77ae\"],[0.3,\"#f1b6da\"],[0.4,\"#fde0ef\"],[0.5,\"#f7f7f7\"],[0.6,\"#e6f5d0\"],[0.7,\"#b8e186\"],[0.8,\"#7fbc41\"],[0.9,\"#4d9221\"],[1,\"#276419\"]],\"sequential\":[[0.0,\"#0d0887\"],[0.1111111111111111,\"#46039f\"],[0.2222222222222222,\"#7201a8\"],[0.3333333333333333,\"#9c179e\"],[0.4444444444444444,\"#bd3786\"],[0.5555555555555556,\"#d8576b\"],[0.6666666666666666,\"#ed7953\"],[0.7777777777777778,\"#fb9f3a\"],[0.8888888888888888,\"#fdca26\"],[1.0,\"#f0f921\"]],\"sequentialminus\":[[0.0,\"#0d0887\"],[0.1111111111111111,\"#46039f\"],[0.2222222222222222,\"#7201a8\"],[0.3333333333333333,\"#9c179e\"],[0.4444444444444444,\"#bd3786\"],[0.5555555555555556,\"#d8576b\"],[0.6666666666666666,\"#ed7953\"],[0.7777777777777778,\"#fb9f3a\"],[0.8888888888888888,\"#fdca26\"],[1.0,\"#f0f921\"]]},\"colorway\":[\"#636efa\",\"#EF553B\",\"#00cc96\",\"#ab63fa\",\"#FFA15A\",\"#19d3f3\",\"#FF6692\",\"#B6E880\",\"#FF97FF\",\"#FECB52\"],\"font\":{\"color\":\"#2a3f5f\"},\"geo\":{\"bgcolor\":\"white\",\"lakecolor\":\"white\",\"landcolor\":\"#E5ECF6\",\"showlakes\":true,\"showland\":true,\"subunitcolor\":\"white\"},\"hoverlabel\":{\"align\":\"left\"},\"hovermode\":\"closest\",\"mapbox\":{\"style\":\"light\"},\"paper_bgcolor\":\"white\",\"plot_bgcolor\":\"#E5ECF6\",\"polar\":{\"angularaxis\":{\"gridcolor\":\"white\",\"linecolor\":\"white\",\"ticks\":\"\"},\"bgcolor\":\"#E5ECF6\",\"radialaxis\":{\"gridcolor\":\"white\",\"linecolor\":\"white\",\"ticks\":\"\"}},\"scene\":{\"xaxis\":{\"backgroundcolor\":\"#E5ECF6\",\"gridcolor\":\"white\",\"gridwidth\":2,\"linecolor\":\"white\",\"showbackground\":true,\"ticks\":\"\",\"zerolinecolor\":\"white\"},\"yaxis\":{\"backgroundcolor\":\"#E5ECF6\",\"gridcolor\":\"white\",\"gridwidth\":2,\"linecolor\":\"white\",\"showbackground\":true,\"ticks\":\"\",\"zerolinecolor\":\"white\"},\"zaxis\":{\"backgroundcolor\":\"#E5ECF6\",\"gridcolor\":\"white\",\"gridwidth\":2,\"linecolor\":\"white\",\"showbackground\":true,\"ticks\":\"\",\"zerolinecolor\":\"white\"}},\"shapedefaults\":{\"line\":{\"color\":\"#2a3f5f\"}},\"ternary\":{\"aaxis\":{\"gridcolor\":\"white\",\"linecolor\":\"white\",\"ticks\":\"\"},\"baxis\":{\"gridcolor\":\"white\",\"linecolor\":\"white\",\"ticks\":\"\"},\"bgcolor\":\"#E5ECF6\",\"caxis\":{\"gridcolor\":\"white\",\"linecolor\":\"white\",\"ticks\":\"\"}},\"title\":{\"x\":0.05},\"xaxis\":{\"automargin\":true,\"gridcolor\":\"white\",\"linecolor\":\"white\",\"ticks\":\"\",\"title\":{\"standoff\":15},\"zerolinecolor\":\"white\",\"zerolinewidth\":2},\"yaxis\":{\"automargin\":true,\"gridcolor\":\"white\",\"linecolor\":\"white\",\"ticks\":\"\",\"title\":{\"standoff\":15},\"zerolinecolor\":\"white\",\"zerolinewidth\":2}}},\"title\":{\"text\":\"2021/02 - 2021/06 \\u8cb4\\u5dde\\u8305\\u53f0(600519) K\\u7dda\\u5716 - \\u591a\\u982d\\u541e\\u566c/\\u7a7a\\u982d\\u541e\\u566c\\u578b\\u614b\"},\"width\":1000,\"xaxis\":{\"title\":{\"text\":\"\\u65e5\\u671f\"}},\"yaxis\":{\"title\":{\"text\":\"\\u80a1\\u50f9\"}}},                        {\"responsive\": true}                    ).then(function(){\n",
       "                            \n",
       "var gd = document.getElementById('fa0bc65c-47e0-4cff-b049-4e4c2b2e6531');\n",
       "var x = new MutationObserver(function (mutations, observer) {{\n",
       "        var display = window.getComputedStyle(gd).display;\n",
       "        if (!display || display === 'none') {{\n",
       "            console.log([gd, 'removed!']);\n",
       "            Plotly.purge(gd);\n",
       "            observer.disconnect();\n",
       "        }}\n",
       "}});\n",
       "\n",
       "// Listen for the removal of the full notebook cells\n",
       "var notebookContainer = gd.closest('#notebook-container');\n",
       "if (notebookContainer) {{\n",
       "    x.observe(notebookContainer, {childList: true});\n",
       "}}\n",
       "\n",
       "// Listen for the clearing of the current output cell\n",
       "var outputEl = gd.closest('.output');\n",
       "if (outputEl) {{\n",
       "    x.observe(outputEl, {childList: true});\n",
       "}}\n",
       "\n",
       "                        })                };                });            </script>        </div>"
      ]
     },
     "metadata": {},
     "output_type": "display_data"
    }
   ],
   "source": [
    "# 畫大盤Ｋ線圖\n",
    "fig = go.Figure(data = [go.Candlestick(x = df.index,\n",
    "                open = df['Open'],\n",
    "                high = df['High'],\n",
    "                low = df['Low'],\n",
    "                close = df['Close'],\n",
    "                increasing_line_color = 'red', \n",
    "                decreasing_line_color = 'green')])\n",
    "# 標示吞噬型態\n",
    "for i in range(len(idx)):\n",
    "    day = idx[i]\n",
    "    direction = '多頭' if df.loc[day][-1] > 0 else '空頭'\n",
    "    high = df.loc[day][1]\n",
    "    fig.add_annotation(x = day, \n",
    "                       y = high + 1,\n",
    "                       opacity = 0.9,\n",
    "                       font_size = 15,\n",
    "                       text = direction + \"吞噬 \",\n",
    "                       showarrow = True,\n",
    "                       arrowhead = 1)\n",
    "    \n",
    "# 設圖標及圖長寬\n",
    "fig.update_layout(\n",
    "    title_text = \"2021/02 - 2021/06 貴州茅台(600519) K線圖 - 多頭吞噬/空頭吞噬型態\",\n",
    "    width = 1000,\n",
    "    height = 600\n",
    ")\n",
    "# 設x軸標題\n",
    "fig.update_xaxes(title_text = \"日期\")\n",
    "\n",
    "# 設y軸標題\n",
    "fig.update_yaxes(title_text = \"股價\")\n",
    "\n",
    "fig.show()"
   ]
  }
 ],
 "metadata": {
  "kernelspec": {
   "display_name": "Python 3",
   "language": "python",
   "name": "python3"
  },
  "language_info": {
   "codemirror_mode": {
    "name": "ipython",
    "version": 3
   },
   "file_extension": ".py",
   "mimetype": "text/x-python",
   "name": "python",
   "nbconvert_exporter": "python",
   "pygments_lexer": "ipython3",
   "version": "3.8.8"
  }
 },
 "nbformat": 4,
 "nbformat_minor": 4
}
