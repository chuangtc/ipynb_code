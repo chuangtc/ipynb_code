{
 "cells": [
  {
   "cell_type": "markdown",
   "id": "2cd554c6-a986-4137-ba24-199f0942668a",
   "metadata": {},
   "source": [
    "# Part 0: Import 套件"
   ]
  },
  {
   "cell_type": "code",
   "execution_count": 16,
   "id": "469e66c7-f8ba-4bfd-be1f-90076e6b94a6",
   "metadata": {},
   "outputs": [],
   "source": [
    "# 資料處理套件\n",
    "import pandas as pd\n",
    "\n",
    "# 畫圖套件\n",
    "import plotly.graph_objects as go\n",
    "from plotly.subplots import make_subplots"
   ]
  },
  {
   "cell_type": "markdown",
   "id": "dff9002a-0516-4f88-877a-8704f0c0d12b",
   "metadata": {},
   "source": [
    "# Part 1: 分析上市個股買賣超日報"
   ]
  },
  {
   "cell_type": "markdown",
   "id": "d874f066-e3e7-4958-8b57-0e3159d31696",
   "metadata": {},
   "source": [
    "## 1.1 :讀取下載的買賣超日報資料"
   ]
  },
  {
   "cell_type": "markdown",
   "id": "1fae5112-51ad-4613-8ad7-7b287f2060c8",
   "metadata": {},
   "source": [
    "#### 怎麼讀不到資料？"
   ]
  },
  {
   "cell_type": "code",
   "execution_count": 2,
   "id": "f89c86ba-e0e1-407f-a8d5-8e1813d5111b",
   "metadata": {},
   "outputs": [
    {
     "ename": "ParserError",
     "evalue": "Error tokenizing data. C error: Expected 2 fields in line 3, saw 11\n",
     "output_type": "error",
     "traceback": [
      "\u001b[0;31m---------------------------------------------------------------------------\u001b[0m",
      "\u001b[0;31mParserError\u001b[0m                               Traceback (most recent call last)",
      "\u001b[0;32m<ipython-input-2-3dfb8683ee9f>\u001b[0m in \u001b[0;36m<module>\u001b[0;34m\u001b[0m\n\u001b[0;32m----> 1\u001b[0;31m \u001b[0mdf_raw\u001b[0m \u001b[0;34m=\u001b[0m \u001b[0mpd\u001b[0m\u001b[0;34m.\u001b[0m\u001b[0mread_csv\u001b[0m\u001b[0;34m(\u001b[0m\u001b[0;34m'/Users/hou/Desktop/my_course/trading/stock_daily_report/20211230/2330.CSV'\u001b[0m\u001b[0;34m)\u001b[0m\u001b[0;34m\u001b[0m\u001b[0;34m\u001b[0m\u001b[0m\n\u001b[0m\u001b[1;32m      2\u001b[0m \u001b[0mdf_raw\u001b[0m\u001b[0;34m\u001b[0m\u001b[0;34m\u001b[0m\u001b[0m\n",
      "\u001b[0;32m~/opt/anaconda3/lib/python3.8/site-packages/pandas/io/parsers.py\u001b[0m in \u001b[0;36mread_csv\u001b[0;34m(filepath_or_buffer, sep, delimiter, header, names, index_col, usecols, squeeze, prefix, mangle_dupe_cols, dtype, engine, converters, true_values, false_values, skipinitialspace, skiprows, skipfooter, nrows, na_values, keep_default_na, na_filter, verbose, skip_blank_lines, parse_dates, infer_datetime_format, keep_date_col, date_parser, dayfirst, cache_dates, iterator, chunksize, compression, thousands, decimal, lineterminator, quotechar, quoting, doublequote, escapechar, comment, encoding, dialect, error_bad_lines, warn_bad_lines, delim_whitespace, low_memory, memory_map, float_precision, storage_options)\u001b[0m\n\u001b[1;32m    608\u001b[0m     \u001b[0mkwds\u001b[0m\u001b[0;34m.\u001b[0m\u001b[0mupdate\u001b[0m\u001b[0;34m(\u001b[0m\u001b[0mkwds_defaults\u001b[0m\u001b[0;34m)\u001b[0m\u001b[0;34m\u001b[0m\u001b[0;34m\u001b[0m\u001b[0m\n\u001b[1;32m    609\u001b[0m \u001b[0;34m\u001b[0m\u001b[0m\n\u001b[0;32m--> 610\u001b[0;31m     \u001b[0;32mreturn\u001b[0m \u001b[0m_read\u001b[0m\u001b[0;34m(\u001b[0m\u001b[0mfilepath_or_buffer\u001b[0m\u001b[0;34m,\u001b[0m \u001b[0mkwds\u001b[0m\u001b[0;34m)\u001b[0m\u001b[0;34m\u001b[0m\u001b[0;34m\u001b[0m\u001b[0m\n\u001b[0m\u001b[1;32m    611\u001b[0m \u001b[0;34m\u001b[0m\u001b[0m\n\u001b[1;32m    612\u001b[0m \u001b[0;34m\u001b[0m\u001b[0m\n",
      "\u001b[0;32m~/opt/anaconda3/lib/python3.8/site-packages/pandas/io/parsers.py\u001b[0m in \u001b[0;36m_read\u001b[0;34m(filepath_or_buffer, kwds)\u001b[0m\n\u001b[1;32m    466\u001b[0m \u001b[0;34m\u001b[0m\u001b[0m\n\u001b[1;32m    467\u001b[0m     \u001b[0;32mwith\u001b[0m \u001b[0mparser\u001b[0m\u001b[0;34m:\u001b[0m\u001b[0;34m\u001b[0m\u001b[0;34m\u001b[0m\u001b[0m\n\u001b[0;32m--> 468\u001b[0;31m         \u001b[0;32mreturn\u001b[0m \u001b[0mparser\u001b[0m\u001b[0;34m.\u001b[0m\u001b[0mread\u001b[0m\u001b[0;34m(\u001b[0m\u001b[0mnrows\u001b[0m\u001b[0;34m)\u001b[0m\u001b[0;34m\u001b[0m\u001b[0;34m\u001b[0m\u001b[0m\n\u001b[0m\u001b[1;32m    469\u001b[0m \u001b[0;34m\u001b[0m\u001b[0m\n\u001b[1;32m    470\u001b[0m \u001b[0;34m\u001b[0m\u001b[0m\n",
      "\u001b[0;32m~/opt/anaconda3/lib/python3.8/site-packages/pandas/io/parsers.py\u001b[0m in \u001b[0;36mread\u001b[0;34m(self, nrows)\u001b[0m\n\u001b[1;32m   1055\u001b[0m     \u001b[0;32mdef\u001b[0m \u001b[0mread\u001b[0m\u001b[0;34m(\u001b[0m\u001b[0mself\u001b[0m\u001b[0;34m,\u001b[0m \u001b[0mnrows\u001b[0m\u001b[0;34m=\u001b[0m\u001b[0;32mNone\u001b[0m\u001b[0;34m)\u001b[0m\u001b[0;34m:\u001b[0m\u001b[0;34m\u001b[0m\u001b[0;34m\u001b[0m\u001b[0m\n\u001b[1;32m   1056\u001b[0m         \u001b[0mnrows\u001b[0m \u001b[0;34m=\u001b[0m \u001b[0mvalidate_integer\u001b[0m\u001b[0;34m(\u001b[0m\u001b[0;34m\"nrows\"\u001b[0m\u001b[0;34m,\u001b[0m \u001b[0mnrows\u001b[0m\u001b[0;34m)\u001b[0m\u001b[0;34m\u001b[0m\u001b[0;34m\u001b[0m\u001b[0m\n\u001b[0;32m-> 1057\u001b[0;31m         \u001b[0mindex\u001b[0m\u001b[0;34m,\u001b[0m \u001b[0mcolumns\u001b[0m\u001b[0;34m,\u001b[0m \u001b[0mcol_dict\u001b[0m \u001b[0;34m=\u001b[0m \u001b[0mself\u001b[0m\u001b[0;34m.\u001b[0m\u001b[0m_engine\u001b[0m\u001b[0;34m.\u001b[0m\u001b[0mread\u001b[0m\u001b[0;34m(\u001b[0m\u001b[0mnrows\u001b[0m\u001b[0;34m)\u001b[0m\u001b[0;34m\u001b[0m\u001b[0;34m\u001b[0m\u001b[0m\n\u001b[0m\u001b[1;32m   1058\u001b[0m \u001b[0;34m\u001b[0m\u001b[0m\n\u001b[1;32m   1059\u001b[0m         \u001b[0;32mif\u001b[0m \u001b[0mindex\u001b[0m \u001b[0;32mis\u001b[0m \u001b[0;32mNone\u001b[0m\u001b[0;34m:\u001b[0m\u001b[0;34m\u001b[0m\u001b[0;34m\u001b[0m\u001b[0m\n",
      "\u001b[0;32m~/opt/anaconda3/lib/python3.8/site-packages/pandas/io/parsers.py\u001b[0m in \u001b[0;36mread\u001b[0;34m(self, nrows)\u001b[0m\n\u001b[1;32m   2059\u001b[0m     \u001b[0;32mdef\u001b[0m \u001b[0mread\u001b[0m\u001b[0;34m(\u001b[0m\u001b[0mself\u001b[0m\u001b[0;34m,\u001b[0m \u001b[0mnrows\u001b[0m\u001b[0;34m=\u001b[0m\u001b[0;32mNone\u001b[0m\u001b[0;34m)\u001b[0m\u001b[0;34m:\u001b[0m\u001b[0;34m\u001b[0m\u001b[0;34m\u001b[0m\u001b[0m\n\u001b[1;32m   2060\u001b[0m         \u001b[0;32mtry\u001b[0m\u001b[0;34m:\u001b[0m\u001b[0;34m\u001b[0m\u001b[0;34m\u001b[0m\u001b[0m\n\u001b[0;32m-> 2061\u001b[0;31m             \u001b[0mdata\u001b[0m \u001b[0;34m=\u001b[0m \u001b[0mself\u001b[0m\u001b[0;34m.\u001b[0m\u001b[0m_reader\u001b[0m\u001b[0;34m.\u001b[0m\u001b[0mread\u001b[0m\u001b[0;34m(\u001b[0m\u001b[0mnrows\u001b[0m\u001b[0;34m)\u001b[0m\u001b[0;34m\u001b[0m\u001b[0;34m\u001b[0m\u001b[0m\n\u001b[0m\u001b[1;32m   2062\u001b[0m         \u001b[0;32mexcept\u001b[0m \u001b[0mStopIteration\u001b[0m\u001b[0;34m:\u001b[0m\u001b[0;34m\u001b[0m\u001b[0;34m\u001b[0m\u001b[0m\n\u001b[1;32m   2063\u001b[0m             \u001b[0;32mif\u001b[0m \u001b[0mself\u001b[0m\u001b[0;34m.\u001b[0m\u001b[0m_first_chunk\u001b[0m\u001b[0;34m:\u001b[0m\u001b[0;34m\u001b[0m\u001b[0;34m\u001b[0m\u001b[0m\n",
      "\u001b[0;32mpandas/_libs/parsers.pyx\u001b[0m in \u001b[0;36mpandas._libs.parsers.TextReader.read\u001b[0;34m()\u001b[0m\n",
      "\u001b[0;32mpandas/_libs/parsers.pyx\u001b[0m in \u001b[0;36mpandas._libs.parsers.TextReader._read_low_memory\u001b[0;34m()\u001b[0m\n",
      "\u001b[0;32mpandas/_libs/parsers.pyx\u001b[0m in \u001b[0;36mpandas._libs.parsers.TextReader._read_rows\u001b[0;34m()\u001b[0m\n",
      "\u001b[0;32mpandas/_libs/parsers.pyx\u001b[0m in \u001b[0;36mpandas._libs.parsers.TextReader._tokenize_rows\u001b[0;34m()\u001b[0m\n",
      "\u001b[0;32mpandas/_libs/parsers.pyx\u001b[0m in \u001b[0;36mpandas._libs.parsers.raise_parser_error\u001b[0;34m()\u001b[0m\n",
      "\u001b[0;31mParserError\u001b[0m: Error tokenizing data. C error: Expected 2 fields in line 3, saw 11\n"
     ]
    }
   ],
   "source": [
    "df_raw = pd.read_csv('/Users/hou/Desktop/my_course/trading/stock_daily_report/20211230/2330.CSV')\n",
    "df_raw"
   ]
  },
  {
   "cell_type": "markdown",
   "id": "9c0dcdff-bb01-4404-99f3-bcc12eca45ef",
   "metadata": {},
   "source": [
    "#### 資料怎麼變成亂碼？"
   ]
  },
  {
   "cell_type": "code",
   "execution_count": 3,
   "id": "2220cc6c-7d32-421c-99e6-01627a3b0b33",
   "metadata": {},
   "outputs": [
    {
     "data": {
      "text/html": [
       "<div>\n",
       "<style scoped>\n",
       "    .dataframe tbody tr th:only-of-type {\n",
       "        vertical-align: middle;\n",
       "    }\n",
       "\n",
       "    .dataframe tbody tr th {\n",
       "        vertical-align: top;\n",
       "    }\n",
       "\n",
       "    .dataframe thead th {\n",
       "        text-align: right;\n",
       "    }\n",
       "</style>\n",
       "<table border=\"1\" class=\"dataframe\">\n",
       "  <thead>\n",
       "    <tr style=\"text-align: right;\">\n",
       "      <th></th>\n",
       "      <th>�Ǹ�</th>\n",
       "      <th>���</th>\n",
       "      <th>����</th>\n",
       "      <th>�R�i�Ѽ�</th>\n",
       "      <th>��X�Ѽ�</th>\n",
       "      <th>Unnamed: 5</th>\n",
       "      <th>�Ǹ�.1</th>\n",
       "      <th>���.1</th>\n",
       "      <th>����.1</th>\n",
       "      <th>�R�i�Ѽ�.1</th>\n",
       "      <th>��X�Ѽ�.1</th>\n",
       "    </tr>\n",
       "  </thead>\n",
       "  <tbody>\n",
       "    <tr>\n",
       "      <th>0</th>\n",
       "      <td>1</td>\n",
       "      <td>1020�X�@�@�w</td>\n",
       "      <td>615.0</td>\n",
       "      <td>6100</td>\n",
       "      <td>7000</td>\n",
       "      <td>NaN</td>\n",
       "      <td>2</td>\n",
       "      <td>1020�X�@�@�w</td>\n",
       "      <td>616.0</td>\n",
       "      <td>15110</td>\n",
       "      <td>0</td>\n",
       "    </tr>\n",
       "    <tr>\n",
       "      <th>1</th>\n",
       "      <td>3</td>\n",
       "      <td>1020�X�@�@�w</td>\n",
       "      <td>617.0</td>\n",
       "      <td>53300</td>\n",
       "      <td>9319</td>\n",
       "      <td>NaN</td>\n",
       "      <td>4</td>\n",
       "      <td>1020�X�@�@�w</td>\n",
       "      <td>618.0</td>\n",
       "      <td>32000</td>\n",
       "      <td>1060</td>\n",
       "    </tr>\n",
       "    <tr>\n",
       "      <th>2</th>\n",
       "      <td>5</td>\n",
       "      <td>1020�X�@�@�w</td>\n",
       "      <td>619.0</td>\n",
       "      <td>0</td>\n",
       "      <td>7000</td>\n",
       "      <td>NaN</td>\n",
       "      <td>6</td>\n",
       "      <td>1021�X�w�x��</td>\n",
       "      <td>615.0</td>\n",
       "      <td>1320</td>\n",
       "      <td>420</td>\n",
       "    </tr>\n",
       "    <tr>\n",
       "      <th>3</th>\n",
       "      <td>7</td>\n",
       "      <td>1021�X�w�x��</td>\n",
       "      <td>616.0</td>\n",
       "      <td>1000</td>\n",
       "      <td>2250</td>\n",
       "      <td>NaN</td>\n",
       "      <td>8</td>\n",
       "      <td>1021�X�w�x��</td>\n",
       "      <td>617.0</td>\n",
       "      <td>0</td>\n",
       "      <td>300</td>\n",
       "    </tr>\n",
       "    <tr>\n",
       "      <th>4</th>\n",
       "      <td>9</td>\n",
       "      <td>1021�X�w�x��</td>\n",
       "      <td>618.0</td>\n",
       "      <td>0</td>\n",
       "      <td>400</td>\n",
       "      <td>NaN</td>\n",
       "      <td>10</td>\n",
       "      <td>1021�X�w�x��</td>\n",
       "      <td>619.0</td>\n",
       "      <td>0</td>\n",
       "      <td>1000</td>\n",
       "    </tr>\n",
       "    <tr>\n",
       "      <th>...</th>\n",
       "      <td>...</td>\n",
       "      <td>...</td>\n",
       "      <td>...</td>\n",
       "      <td>...</td>\n",
       "      <td>...</td>\n",
       "      <td>...</td>\n",
       "      <td>...</td>\n",
       "      <td>...</td>\n",
       "      <td>...</td>\n",
       "      <td>...</td>\n",
       "      <td>...</td>\n",
       "    </tr>\n",
       "    <tr>\n",
       "      <th>1547</th>\n",
       "      <td>3095</td>\n",
       "      <td>9A9X���צˬ�</td>\n",
       "      <td>618.0</td>\n",
       "      <td>0</td>\n",
       "      <td>2000</td>\n",
       "      <td>NaN</td>\n",
       "      <td>3096</td>\n",
       "      <td>9A9X���צˬ�</td>\n",
       "      <td>619.0</td>\n",
       "      <td>0</td>\n",
       "      <td>3000</td>\n",
       "    </tr>\n",
       "    <tr>\n",
       "      <th>1548</th>\n",
       "      <td>3097</td>\n",
       "      <td>9A9Y���תO��</td>\n",
       "      <td>615.0</td>\n",
       "      <td>2006</td>\n",
       "      <td>10500</td>\n",
       "      <td>NaN</td>\n",
       "      <td>3098</td>\n",
       "      <td>9A9Y���תO��</td>\n",
       "      <td>616.0</td>\n",
       "      <td>2045</td>\n",
       "      <td>806</td>\n",
       "    </tr>\n",
       "    <tr>\n",
       "      <th>1549</th>\n",
       "      <td>3099</td>\n",
       "      <td>9A9Y���תO��</td>\n",
       "      <td>617.0</td>\n",
       "      <td>0</td>\n",
       "      <td>10</td>\n",
       "      <td>NaN</td>\n",
       "      <td>3100</td>\n",
       "      <td>9A9Z���״_��</td>\n",
       "      <td>615.0</td>\n",
       "      <td>300</td>\n",
       "      <td>0</td>\n",
       "    </tr>\n",
       "    <tr>\n",
       "      <th>1550</th>\n",
       "      <td>3101</td>\n",
       "      <td>9A9Z���״_��</td>\n",
       "      <td>616.0</td>\n",
       "      <td>0</td>\n",
       "      <td>5200</td>\n",
       "      <td>NaN</td>\n",
       "      <td>3102</td>\n",
       "      <td>9A9Z���״_��</td>\n",
       "      <td>617.0</td>\n",
       "      <td>0</td>\n",
       "      <td>4310</td>\n",
       "    </tr>\n",
       "    <tr>\n",
       "      <th>1551</th>\n",
       "      <td>3103</td>\n",
       "      <td>9A9Z���״_��</td>\n",
       "      <td>618.0</td>\n",
       "      <td>2000</td>\n",
       "      <td>19000</td>\n",
       "      <td>NaN</td>\n",
       "      <td>3104</td>\n",
       "      <td>9A9Z���״_��</td>\n",
       "      <td>619.0</td>\n",
       "      <td>0</td>\n",
       "      <td>10000</td>\n",
       "    </tr>\n",
       "  </tbody>\n",
       "</table>\n",
       "<p>1552 rows × 11 columns</p>\n",
       "</div>"
      ],
      "text/plain": [
       "       �Ǹ�           ���   ����  �R�i�Ѽ�  ��X�Ѽ�  Unnamed: 5  �Ǹ�.1  \\\n",
       "0        1  1020�X�@�@�w  615.0     6100    7000         NaN      2   \n",
       "1        3  1020�X�@�@�w  617.0    53300    9319         NaN      4   \n",
       "2        5  1020�X�@�@�w  619.0        0    7000         NaN      6   \n",
       "3        7  1021�X�w�x��  616.0     1000    2250         NaN      8   \n",
       "4        9  1021�X�w�x��  618.0        0     400         NaN     10   \n",
       "...    ...           ...    ...      ...     ...         ...    ...   \n",
       "1547  3095    9A9X���צˬ�  618.0        0    2000         NaN   3096   \n",
       "1548  3097   9A9Y���תO��  615.0     2006   10500         NaN   3098   \n",
       "1549  3099   9A9Y���תO��  617.0        0      10         NaN   3100   \n",
       "1550  3101   9A9Z���״_��  616.0        0    5200         NaN   3102   \n",
       "1551  3103   9A9Z���״_��  618.0     2000   19000         NaN   3104   \n",
       "\n",
       "             ���.1  ����.1  �R�i�Ѽ�.1  ��X�Ѽ�.1  \n",
       "0     1020�X�@�@�w   616.0      15110         0  \n",
       "1     1020�X�@�@�w   618.0      32000      1060  \n",
       "2     1021�X�w�x��   615.0       1320       420  \n",
       "3     1021�X�w�x��   617.0          0       300  \n",
       "4     1021�X�w�x��   619.0          0      1000  \n",
       "...            ...     ...        ...       ...  \n",
       "1547    9A9X���צˬ�   619.0          0      3000  \n",
       "1548   9A9Y���תO��   616.0       2045       806  \n",
       "1549   9A9Z���״_��   615.0        300         0  \n",
       "1550   9A9Z���״_��   617.0          0      4310  \n",
       "1551   9A9Z���״_��   619.0          0     10000  \n",
       "\n",
       "[1552 rows x 11 columns]"
      ]
     },
     "execution_count": 3,
     "metadata": {},
     "output_type": "execute_result"
    }
   ],
   "source": [
    "df_raw = pd.read_csv('/Users/hou/Desktop/my_course/trading/stock_daily_report/20211230/2330.CSV', skiprows = 2)\n",
    "df_raw"
   ]
  },
  {
   "cell_type": "code",
   "execution_count": 4,
   "id": "1f8e904a-3c8b-4b6a-bf51-cd8a3781d53b",
   "metadata": {},
   "outputs": [
    {
     "data": {
      "text/html": [
       "<div>\n",
       "<style scoped>\n",
       "    .dataframe tbody tr th:only-of-type {\n",
       "        vertical-align: middle;\n",
       "    }\n",
       "\n",
       "    .dataframe tbody tr th {\n",
       "        vertical-align: top;\n",
       "    }\n",
       "\n",
       "    .dataframe thead th {\n",
       "        text-align: right;\n",
       "    }\n",
       "</style>\n",
       "<table border=\"1\" class=\"dataframe\">\n",
       "  <thead>\n",
       "    <tr style=\"text-align: right;\">\n",
       "      <th></th>\n",
       "      <th>序號</th>\n",
       "      <th>券商</th>\n",
       "      <th>價格</th>\n",
       "      <th>買進股數</th>\n",
       "      <th>賣出股數</th>\n",
       "      <th>Unnamed: 5</th>\n",
       "      <th>序號.1</th>\n",
       "      <th>券商.1</th>\n",
       "      <th>價格.1</th>\n",
       "      <th>買進股數.1</th>\n",
       "      <th>賣出股數.1</th>\n",
       "    </tr>\n",
       "  </thead>\n",
       "  <tbody>\n",
       "    <tr>\n",
       "      <th>0</th>\n",
       "      <td>1</td>\n",
       "      <td>1020合　　庫</td>\n",
       "      <td>615.0</td>\n",
       "      <td>6100</td>\n",
       "      <td>7000</td>\n",
       "      <td>NaN</td>\n",
       "      <td>2</td>\n",
       "      <td>1020合　　庫</td>\n",
       "      <td>616.0</td>\n",
       "      <td>15110</td>\n",
       "      <td>0</td>\n",
       "    </tr>\n",
       "    <tr>\n",
       "      <th>1</th>\n",
       "      <td>3</td>\n",
       "      <td>1020合　　庫</td>\n",
       "      <td>617.0</td>\n",
       "      <td>53300</td>\n",
       "      <td>9319</td>\n",
       "      <td>NaN</td>\n",
       "      <td>4</td>\n",
       "      <td>1020合　　庫</td>\n",
       "      <td>618.0</td>\n",
       "      <td>32000</td>\n",
       "      <td>1060</td>\n",
       "    </tr>\n",
       "    <tr>\n",
       "      <th>2</th>\n",
       "      <td>5</td>\n",
       "      <td>1020合　　庫</td>\n",
       "      <td>619.0</td>\n",
       "      <td>0</td>\n",
       "      <td>7000</td>\n",
       "      <td>NaN</td>\n",
       "      <td>6</td>\n",
       "      <td>1021合庫台中</td>\n",
       "      <td>615.0</td>\n",
       "      <td>1320</td>\n",
       "      <td>420</td>\n",
       "    </tr>\n",
       "    <tr>\n",
       "      <th>3</th>\n",
       "      <td>7</td>\n",
       "      <td>1021合庫台中</td>\n",
       "      <td>616.0</td>\n",
       "      <td>1000</td>\n",
       "      <td>2250</td>\n",
       "      <td>NaN</td>\n",
       "      <td>8</td>\n",
       "      <td>1021合庫台中</td>\n",
       "      <td>617.0</td>\n",
       "      <td>0</td>\n",
       "      <td>300</td>\n",
       "    </tr>\n",
       "    <tr>\n",
       "      <th>4</th>\n",
       "      <td>9</td>\n",
       "      <td>1021合庫台中</td>\n",
       "      <td>618.0</td>\n",
       "      <td>0</td>\n",
       "      <td>400</td>\n",
       "      <td>NaN</td>\n",
       "      <td>10</td>\n",
       "      <td>1021合庫台中</td>\n",
       "      <td>619.0</td>\n",
       "      <td>0</td>\n",
       "      <td>1000</td>\n",
       "    </tr>\n",
       "    <tr>\n",
       "      <th>...</th>\n",
       "      <td>...</td>\n",
       "      <td>...</td>\n",
       "      <td>...</td>\n",
       "      <td>...</td>\n",
       "      <td>...</td>\n",
       "      <td>...</td>\n",
       "      <td>...</td>\n",
       "      <td>...</td>\n",
       "      <td>...</td>\n",
       "      <td>...</td>\n",
       "      <td>...</td>\n",
       "    </tr>\n",
       "    <tr>\n",
       "      <th>1547</th>\n",
       "      <td>3095</td>\n",
       "      <td>9A9X永豐竹科</td>\n",
       "      <td>618.0</td>\n",
       "      <td>0</td>\n",
       "      <td>2000</td>\n",
       "      <td>NaN</td>\n",
       "      <td>3096</td>\n",
       "      <td>9A9X永豐竹科</td>\n",
       "      <td>619.0</td>\n",
       "      <td>0</td>\n",
       "      <td>3000</td>\n",
       "    </tr>\n",
       "    <tr>\n",
       "      <th>1548</th>\n",
       "      <td>3097</td>\n",
       "      <td>9A9Y永豐板盛</td>\n",
       "      <td>615.0</td>\n",
       "      <td>2006</td>\n",
       "      <td>10500</td>\n",
       "      <td>NaN</td>\n",
       "      <td>3098</td>\n",
       "      <td>9A9Y永豐板盛</td>\n",
       "      <td>616.0</td>\n",
       "      <td>2045</td>\n",
       "      <td>806</td>\n",
       "    </tr>\n",
       "    <tr>\n",
       "      <th>1549</th>\n",
       "      <td>3099</td>\n",
       "      <td>9A9Y永豐板盛</td>\n",
       "      <td>617.0</td>\n",
       "      <td>0</td>\n",
       "      <td>10</td>\n",
       "      <td>NaN</td>\n",
       "      <td>3100</td>\n",
       "      <td>9A9Z永豐復興</td>\n",
       "      <td>615.0</td>\n",
       "      <td>300</td>\n",
       "      <td>0</td>\n",
       "    </tr>\n",
       "    <tr>\n",
       "      <th>1550</th>\n",
       "      <td>3101</td>\n",
       "      <td>9A9Z永豐復興</td>\n",
       "      <td>616.0</td>\n",
       "      <td>0</td>\n",
       "      <td>5200</td>\n",
       "      <td>NaN</td>\n",
       "      <td>3102</td>\n",
       "      <td>9A9Z永豐復興</td>\n",
       "      <td>617.0</td>\n",
       "      <td>0</td>\n",
       "      <td>4310</td>\n",
       "    </tr>\n",
       "    <tr>\n",
       "      <th>1551</th>\n",
       "      <td>3103</td>\n",
       "      <td>9A9Z永豐復興</td>\n",
       "      <td>618.0</td>\n",
       "      <td>2000</td>\n",
       "      <td>19000</td>\n",
       "      <td>NaN</td>\n",
       "      <td>3104</td>\n",
       "      <td>9A9Z永豐復興</td>\n",
       "      <td>619.0</td>\n",
       "      <td>0</td>\n",
       "      <td>10000</td>\n",
       "    </tr>\n",
       "  </tbody>\n",
       "</table>\n",
       "<p>1552 rows × 11 columns</p>\n",
       "</div>"
      ],
      "text/plain": [
       "        序號        券商     價格   買進股數   賣出股數  Unnamed: 5  序號.1      券商.1   價格.1  \\\n",
       "0        1  1020合　　庫  615.0   6100   7000         NaN     2  1020合　　庫  616.0   \n",
       "1        3  1020合　　庫  617.0  53300   9319         NaN     4  1020合　　庫  618.0   \n",
       "2        5  1020合　　庫  619.0      0   7000         NaN     6  1021合庫台中  615.0   \n",
       "3        7  1021合庫台中  616.0   1000   2250         NaN     8  1021合庫台中  617.0   \n",
       "4        9  1021合庫台中  618.0      0    400         NaN    10  1021合庫台中  619.0   \n",
       "...    ...       ...    ...    ...    ...         ...   ...       ...    ...   \n",
       "1547  3095  9A9X永豐竹科  618.0      0   2000         NaN  3096  9A9X永豐竹科  619.0   \n",
       "1548  3097  9A9Y永豐板盛  615.0   2006  10500         NaN  3098  9A9Y永豐板盛  616.0   \n",
       "1549  3099  9A9Y永豐板盛  617.0      0     10         NaN  3100  9A9Z永豐復興  615.0   \n",
       "1550  3101  9A9Z永豐復興  616.0      0   5200         NaN  3102  9A9Z永豐復興  617.0   \n",
       "1551  3103  9A9Z永豐復興  618.0   2000  19000         NaN  3104  9A9Z永豐復興  619.0   \n",
       "\n",
       "      買進股數.1  賣出股數.1  \n",
       "0      15110       0  \n",
       "1      32000    1060  \n",
       "2       1320     420  \n",
       "3          0     300  \n",
       "4          0    1000  \n",
       "...      ...     ...  \n",
       "1547       0    3000  \n",
       "1548    2045     806  \n",
       "1549     300       0  \n",
       "1550       0    4310  \n",
       "1551       0   10000  \n",
       "\n",
       "[1552 rows x 11 columns]"
      ]
     },
     "execution_count": 4,
     "metadata": {},
     "output_type": "execute_result"
    }
   ],
   "source": [
    "df_raw = pd.read_csv('/Users/hou/Desktop/my_course/trading/stock_daily_report/20211230/2330.CSV', skiprows = 2, encoding = 'big5hkscs')\n",
    "df_raw"
   ]
  },
  {
   "cell_type": "markdown",
   "id": "629b4795-222e-4449-99e7-c02f0952e0f2",
   "metadata": {},
   "source": [
    "## 1.2 :整理買賣超日報資料"
   ]
  },
  {
   "cell_type": "markdown",
   "id": "f0751b9c-718c-49aa-aca5-cc9b7d3c6b3b",
   "metadata": {},
   "source": [
    "#### 將兩欄的資料整理成同一欄"
   ]
  },
  {
   "cell_type": "code",
   "execution_count": 5,
   "id": "ce842e5c-17ef-4b01-ba8e-912dccf7f602",
   "metadata": {},
   "outputs": [
    {
     "data": {
      "text/html": [
       "<div>\n",
       "<style scoped>\n",
       "    .dataframe tbody tr th:only-of-type {\n",
       "        vertical-align: middle;\n",
       "    }\n",
       "\n",
       "    .dataframe tbody tr th {\n",
       "        vertical-align: top;\n",
       "    }\n",
       "\n",
       "    .dataframe thead th {\n",
       "        text-align: right;\n",
       "    }\n",
       "</style>\n",
       "<table border=\"1\" class=\"dataframe\">\n",
       "  <thead>\n",
       "    <tr style=\"text-align: right;\">\n",
       "      <th></th>\n",
       "      <th>序號</th>\n",
       "      <th>證券商</th>\n",
       "      <th>成交單價</th>\n",
       "      <th>買進股數</th>\n",
       "      <th>賣出股數</th>\n",
       "    </tr>\n",
       "  </thead>\n",
       "  <tbody>\n",
       "  </tbody>\n",
       "</table>\n",
       "</div>"
      ],
      "text/plain": [
       "Empty DataFrame\n",
       "Columns: [序號, 證券商, 成交單價, 買進股數, 賣出股數]\n",
       "Index: []"
      ]
     },
     "execution_count": 5,
     "metadata": {},
     "output_type": "execute_result"
    }
   ],
   "source": [
    "df = pd.DataFrame(columns = ['序號', '證券商', '成交單價', '買進股數', '賣出股數'])\n",
    "df"
   ]
  },
  {
   "cell_type": "code",
   "execution_count": 6,
   "id": "4d06862d-a38d-4ede-865d-653e248656ac",
   "metadata": {},
   "outputs": [],
   "source": [
    "df['序號'] = df_raw['序號'].append(df_raw['序號.1'])\n",
    "df['證券商'] = df_raw['券商'].append(df_raw['券商.1'])\n",
    "df['成交單價'] = df_raw['價格'].append(df_raw['價格.1'])\n",
    "df['買進股數'] = df_raw['買進股數'].append(df_raw['買進股數.1'])\n",
    "df['賣出股數'] = df_raw['賣出股數'].append(df_raw['賣出股數.1'])"
   ]
  },
  {
   "cell_type": "code",
   "execution_count": 7,
   "id": "bbe18aac-ccbe-4728-bd94-8f2afe1c0d2b",
   "metadata": {},
   "outputs": [
    {
     "data": {
      "text/html": [
       "<div>\n",
       "<style scoped>\n",
       "    .dataframe tbody tr th:only-of-type {\n",
       "        vertical-align: middle;\n",
       "    }\n",
       "\n",
       "    .dataframe tbody tr th {\n",
       "        vertical-align: top;\n",
       "    }\n",
       "\n",
       "    .dataframe thead th {\n",
       "        text-align: right;\n",
       "    }\n",
       "</style>\n",
       "<table border=\"1\" class=\"dataframe\">\n",
       "  <thead>\n",
       "    <tr style=\"text-align: right;\">\n",
       "      <th></th>\n",
       "      <th>序號</th>\n",
       "      <th>證券商</th>\n",
       "      <th>成交單價</th>\n",
       "      <th>買進股數</th>\n",
       "      <th>賣出股數</th>\n",
       "    </tr>\n",
       "  </thead>\n",
       "  <tbody>\n",
       "    <tr>\n",
       "      <th>0</th>\n",
       "      <td>1</td>\n",
       "      <td>1020合　　庫</td>\n",
       "      <td>615.0</td>\n",
       "      <td>6100</td>\n",
       "      <td>7000</td>\n",
       "    </tr>\n",
       "    <tr>\n",
       "      <th>1</th>\n",
       "      <td>3</td>\n",
       "      <td>1020合　　庫</td>\n",
       "      <td>617.0</td>\n",
       "      <td>53300</td>\n",
       "      <td>9319</td>\n",
       "    </tr>\n",
       "    <tr>\n",
       "      <th>2</th>\n",
       "      <td>5</td>\n",
       "      <td>1020合　　庫</td>\n",
       "      <td>619.0</td>\n",
       "      <td>0</td>\n",
       "      <td>7000</td>\n",
       "    </tr>\n",
       "    <tr>\n",
       "      <th>3</th>\n",
       "      <td>7</td>\n",
       "      <td>1021合庫台中</td>\n",
       "      <td>616.0</td>\n",
       "      <td>1000</td>\n",
       "      <td>2250</td>\n",
       "    </tr>\n",
       "    <tr>\n",
       "      <th>4</th>\n",
       "      <td>9</td>\n",
       "      <td>1021合庫台中</td>\n",
       "      <td>618.0</td>\n",
       "      <td>0</td>\n",
       "      <td>400</td>\n",
       "    </tr>\n",
       "    <tr>\n",
       "      <th>...</th>\n",
       "      <td>...</td>\n",
       "      <td>...</td>\n",
       "      <td>...</td>\n",
       "      <td>...</td>\n",
       "      <td>...</td>\n",
       "    </tr>\n",
       "    <tr>\n",
       "      <th>1547</th>\n",
       "      <td>3096</td>\n",
       "      <td>9A9X永豐竹科</td>\n",
       "      <td>619.0</td>\n",
       "      <td>0</td>\n",
       "      <td>3000</td>\n",
       "    </tr>\n",
       "    <tr>\n",
       "      <th>1548</th>\n",
       "      <td>3098</td>\n",
       "      <td>9A9Y永豐板盛</td>\n",
       "      <td>616.0</td>\n",
       "      <td>2045</td>\n",
       "      <td>806</td>\n",
       "    </tr>\n",
       "    <tr>\n",
       "      <th>1549</th>\n",
       "      <td>3100</td>\n",
       "      <td>9A9Z永豐復興</td>\n",
       "      <td>615.0</td>\n",
       "      <td>300</td>\n",
       "      <td>0</td>\n",
       "    </tr>\n",
       "    <tr>\n",
       "      <th>1550</th>\n",
       "      <td>3102</td>\n",
       "      <td>9A9Z永豐復興</td>\n",
       "      <td>617.0</td>\n",
       "      <td>0</td>\n",
       "      <td>4310</td>\n",
       "    </tr>\n",
       "    <tr>\n",
       "      <th>1551</th>\n",
       "      <td>3104</td>\n",
       "      <td>9A9Z永豐復興</td>\n",
       "      <td>619.0</td>\n",
       "      <td>0</td>\n",
       "      <td>10000</td>\n",
       "    </tr>\n",
       "  </tbody>\n",
       "</table>\n",
       "<p>3104 rows × 5 columns</p>\n",
       "</div>"
      ],
      "text/plain": [
       "        序號       證券商   成交單價   買進股數   賣出股數\n",
       "0        1  1020合　　庫  615.0   6100   7000\n",
       "1        3  1020合　　庫  617.0  53300   9319\n",
       "2        5  1020合　　庫  619.0      0   7000\n",
       "3        7  1021合庫台中  616.0   1000   2250\n",
       "4        9  1021合庫台中  618.0      0    400\n",
       "...    ...       ...    ...    ...    ...\n",
       "1547  3096  9A9X永豐竹科  619.0      0   3000\n",
       "1548  3098  9A9Y永豐板盛  616.0   2045    806\n",
       "1549  3100  9A9Z永豐復興  615.0    300      0\n",
       "1550  3102  9A9Z永豐復興  617.0      0   4310\n",
       "1551  3104  9A9Z永豐復興  619.0      0  10000\n",
       "\n",
       "[3104 rows x 5 columns]"
      ]
     },
     "execution_count": 7,
     "metadata": {},
     "output_type": "execute_result"
    }
   ],
   "source": [
    "df"
   ]
  },
  {
   "cell_type": "markdown",
   "id": "70fd2bba-1bab-4715-bc3a-dd71ef46e097",
   "metadata": {},
   "source": [
    "#### 按序號排列"
   ]
  },
  {
   "cell_type": "code",
   "execution_count": 8,
   "id": "73d4c65e-c94c-4b35-b224-243c8318f7a5",
   "metadata": {},
   "outputs": [
    {
     "data": {
      "text/html": [
       "<div>\n",
       "<style scoped>\n",
       "    .dataframe tbody tr th:only-of-type {\n",
       "        vertical-align: middle;\n",
       "    }\n",
       "\n",
       "    .dataframe tbody tr th {\n",
       "        vertical-align: top;\n",
       "    }\n",
       "\n",
       "    .dataframe thead th {\n",
       "        text-align: right;\n",
       "    }\n",
       "</style>\n",
       "<table border=\"1\" class=\"dataframe\">\n",
       "  <thead>\n",
       "    <tr style=\"text-align: right;\">\n",
       "      <th></th>\n",
       "      <th>序號</th>\n",
       "      <th>證券商</th>\n",
       "      <th>成交單價</th>\n",
       "      <th>買進股數</th>\n",
       "      <th>賣出股數</th>\n",
       "    </tr>\n",
       "  </thead>\n",
       "  <tbody>\n",
       "    <tr>\n",
       "      <th>0</th>\n",
       "      <td>1</td>\n",
       "      <td>1020合　　庫</td>\n",
       "      <td>615.0</td>\n",
       "      <td>6100</td>\n",
       "      <td>7000</td>\n",
       "    </tr>\n",
       "    <tr>\n",
       "      <th>0</th>\n",
       "      <td>2</td>\n",
       "      <td>1020合　　庫</td>\n",
       "      <td>616.0</td>\n",
       "      <td>15110</td>\n",
       "      <td>0</td>\n",
       "    </tr>\n",
       "    <tr>\n",
       "      <th>1</th>\n",
       "      <td>3</td>\n",
       "      <td>1020合　　庫</td>\n",
       "      <td>617.0</td>\n",
       "      <td>53300</td>\n",
       "      <td>9319</td>\n",
       "    </tr>\n",
       "    <tr>\n",
       "      <th>1</th>\n",
       "      <td>4</td>\n",
       "      <td>1020合　　庫</td>\n",
       "      <td>618.0</td>\n",
       "      <td>32000</td>\n",
       "      <td>1060</td>\n",
       "    </tr>\n",
       "    <tr>\n",
       "      <th>2</th>\n",
       "      <td>5</td>\n",
       "      <td>1020合　　庫</td>\n",
       "      <td>619.0</td>\n",
       "      <td>0</td>\n",
       "      <td>7000</td>\n",
       "    </tr>\n",
       "    <tr>\n",
       "      <th>...</th>\n",
       "      <td>...</td>\n",
       "      <td>...</td>\n",
       "      <td>...</td>\n",
       "      <td>...</td>\n",
       "      <td>...</td>\n",
       "    </tr>\n",
       "    <tr>\n",
       "      <th>1549</th>\n",
       "      <td>3100</td>\n",
       "      <td>9A9Z永豐復興</td>\n",
       "      <td>615.0</td>\n",
       "      <td>300</td>\n",
       "      <td>0</td>\n",
       "    </tr>\n",
       "    <tr>\n",
       "      <th>1550</th>\n",
       "      <td>3101</td>\n",
       "      <td>9A9Z永豐復興</td>\n",
       "      <td>616.0</td>\n",
       "      <td>0</td>\n",
       "      <td>5200</td>\n",
       "    </tr>\n",
       "    <tr>\n",
       "      <th>1550</th>\n",
       "      <td>3102</td>\n",
       "      <td>9A9Z永豐復興</td>\n",
       "      <td>617.0</td>\n",
       "      <td>0</td>\n",
       "      <td>4310</td>\n",
       "    </tr>\n",
       "    <tr>\n",
       "      <th>1551</th>\n",
       "      <td>3103</td>\n",
       "      <td>9A9Z永豐復興</td>\n",
       "      <td>618.0</td>\n",
       "      <td>2000</td>\n",
       "      <td>19000</td>\n",
       "    </tr>\n",
       "    <tr>\n",
       "      <th>1551</th>\n",
       "      <td>3104</td>\n",
       "      <td>9A9Z永豐復興</td>\n",
       "      <td>619.0</td>\n",
       "      <td>0</td>\n",
       "      <td>10000</td>\n",
       "    </tr>\n",
       "  </tbody>\n",
       "</table>\n",
       "<p>3104 rows × 5 columns</p>\n",
       "</div>"
      ],
      "text/plain": [
       "        序號       證券商   成交單價   買進股數   賣出股數\n",
       "0        1  1020合　　庫  615.0   6100   7000\n",
       "0        2  1020合　　庫  616.0  15110      0\n",
       "1        3  1020合　　庫  617.0  53300   9319\n",
       "1        4  1020合　　庫  618.0  32000   1060\n",
       "2        5  1020合　　庫  619.0      0   7000\n",
       "...    ...       ...    ...    ...    ...\n",
       "1549  3100  9A9Z永豐復興  615.0    300      0\n",
       "1550  3101  9A9Z永豐復興  616.0      0   5200\n",
       "1550  3102  9A9Z永豐復興  617.0      0   4310\n",
       "1551  3103  9A9Z永豐復興  618.0   2000  19000\n",
       "1551  3104  9A9Z永豐復興  619.0      0  10000\n",
       "\n",
       "[3104 rows x 5 columns]"
      ]
     },
     "execution_count": 8,
     "metadata": {},
     "output_type": "execute_result"
    }
   ],
   "source": [
    "df = df.sort_values(by = ['序號'])\n",
    "df"
   ]
  },
  {
   "cell_type": "markdown",
   "id": "20b96c29-d4a9-4fc7-900c-c0025328e842",
   "metadata": {},
   "source": [
    "#### 移除空值"
   ]
  },
  {
   "cell_type": "code",
   "execution_count": 9,
   "id": "09bbdc70-68b0-42da-8621-4d355e533139",
   "metadata": {},
   "outputs": [
    {
     "data": {
      "text/html": [
       "<div>\n",
       "<style scoped>\n",
       "    .dataframe tbody tr th:only-of-type {\n",
       "        vertical-align: middle;\n",
       "    }\n",
       "\n",
       "    .dataframe tbody tr th {\n",
       "        vertical-align: top;\n",
       "    }\n",
       "\n",
       "    .dataframe thead th {\n",
       "        text-align: right;\n",
       "    }\n",
       "</style>\n",
       "<table border=\"1\" class=\"dataframe\">\n",
       "  <thead>\n",
       "    <tr style=\"text-align: right;\">\n",
       "      <th></th>\n",
       "      <th>序號</th>\n",
       "      <th>證券商</th>\n",
       "      <th>成交單價</th>\n",
       "      <th>買進股數</th>\n",
       "      <th>賣出股數</th>\n",
       "    </tr>\n",
       "  </thead>\n",
       "  <tbody>\n",
       "    <tr>\n",
       "      <th>0</th>\n",
       "      <td>1</td>\n",
       "      <td>1020合　　庫</td>\n",
       "      <td>615.0</td>\n",
       "      <td>6100</td>\n",
       "      <td>7000</td>\n",
       "    </tr>\n",
       "    <tr>\n",
       "      <th>0</th>\n",
       "      <td>2</td>\n",
       "      <td>1020合　　庫</td>\n",
       "      <td>616.0</td>\n",
       "      <td>15110</td>\n",
       "      <td>0</td>\n",
       "    </tr>\n",
       "    <tr>\n",
       "      <th>1</th>\n",
       "      <td>3</td>\n",
       "      <td>1020合　　庫</td>\n",
       "      <td>617.0</td>\n",
       "      <td>53300</td>\n",
       "      <td>9319</td>\n",
       "    </tr>\n",
       "    <tr>\n",
       "      <th>1</th>\n",
       "      <td>4</td>\n",
       "      <td>1020合　　庫</td>\n",
       "      <td>618.0</td>\n",
       "      <td>32000</td>\n",
       "      <td>1060</td>\n",
       "    </tr>\n",
       "    <tr>\n",
       "      <th>2</th>\n",
       "      <td>5</td>\n",
       "      <td>1020合　　庫</td>\n",
       "      <td>619.0</td>\n",
       "      <td>0</td>\n",
       "      <td>7000</td>\n",
       "    </tr>\n",
       "    <tr>\n",
       "      <th>...</th>\n",
       "      <td>...</td>\n",
       "      <td>...</td>\n",
       "      <td>...</td>\n",
       "      <td>...</td>\n",
       "      <td>...</td>\n",
       "    </tr>\n",
       "    <tr>\n",
       "      <th>1549</th>\n",
       "      <td>3100</td>\n",
       "      <td>9A9Z永豐復興</td>\n",
       "      <td>615.0</td>\n",
       "      <td>300</td>\n",
       "      <td>0</td>\n",
       "    </tr>\n",
       "    <tr>\n",
       "      <th>1550</th>\n",
       "      <td>3101</td>\n",
       "      <td>9A9Z永豐復興</td>\n",
       "      <td>616.0</td>\n",
       "      <td>0</td>\n",
       "      <td>5200</td>\n",
       "    </tr>\n",
       "    <tr>\n",
       "      <th>1550</th>\n",
       "      <td>3102</td>\n",
       "      <td>9A9Z永豐復興</td>\n",
       "      <td>617.0</td>\n",
       "      <td>0</td>\n",
       "      <td>4310</td>\n",
       "    </tr>\n",
       "    <tr>\n",
       "      <th>1551</th>\n",
       "      <td>3103</td>\n",
       "      <td>9A9Z永豐復興</td>\n",
       "      <td>618.0</td>\n",
       "      <td>2000</td>\n",
       "      <td>19000</td>\n",
       "    </tr>\n",
       "    <tr>\n",
       "      <th>1551</th>\n",
       "      <td>3104</td>\n",
       "      <td>9A9Z永豐復興</td>\n",
       "      <td>619.0</td>\n",
       "      <td>0</td>\n",
       "      <td>10000</td>\n",
       "    </tr>\n",
       "  </tbody>\n",
       "</table>\n",
       "<p>3104 rows × 5 columns</p>\n",
       "</div>"
      ],
      "text/plain": [
       "        序號       證券商   成交單價   買進股數   賣出股數\n",
       "0        1  1020合　　庫  615.0   6100   7000\n",
       "0        2  1020合　　庫  616.0  15110      0\n",
       "1        3  1020合　　庫  617.0  53300   9319\n",
       "1        4  1020合　　庫  618.0  32000   1060\n",
       "2        5  1020合　　庫  619.0      0   7000\n",
       "...    ...       ...    ...    ...    ...\n",
       "1549  3100  9A9Z永豐復興  615.0    300      0\n",
       "1550  3101  9A9Z永豐復興  616.0      0   5200\n",
       "1550  3102  9A9Z永豐復興  617.0      0   4310\n",
       "1551  3103  9A9Z永豐復興  618.0   2000  19000\n",
       "1551  3104  9A9Z永豐復興  619.0      0  10000\n",
       "\n",
       "[3104 rows x 5 columns]"
      ]
     },
     "execution_count": 9,
     "metadata": {},
     "output_type": "execute_result"
    }
   ],
   "source": [
    "df.dropna(how = 'all', inplace=True)\n",
    "df"
   ]
  },
  {
   "cell_type": "markdown",
   "id": "31d79bcb-5121-418a-b8fd-0863aafd2f63",
   "metadata": {},
   "source": [
    "#### 計算淨股數 ＝ 買進股數 - 賣出股數"
   ]
  },
  {
   "cell_type": "code",
   "execution_count": 10,
   "id": "db4b25a5-86d1-4baf-a74c-84fd32f6759f",
   "metadata": {},
   "outputs": [
    {
     "data": {
      "text/html": [
       "<div>\n",
       "<style scoped>\n",
       "    .dataframe tbody tr th:only-of-type {\n",
       "        vertical-align: middle;\n",
       "    }\n",
       "\n",
       "    .dataframe tbody tr th {\n",
       "        vertical-align: top;\n",
       "    }\n",
       "\n",
       "    .dataframe thead th {\n",
       "        text-align: right;\n",
       "    }\n",
       "</style>\n",
       "<table border=\"1\" class=\"dataframe\">\n",
       "  <thead>\n",
       "    <tr style=\"text-align: right;\">\n",
       "      <th></th>\n",
       "      <th>序號</th>\n",
       "      <th>證券商</th>\n",
       "      <th>成交單價</th>\n",
       "      <th>買進股數</th>\n",
       "      <th>賣出股數</th>\n",
       "      <th>淨股數</th>\n",
       "    </tr>\n",
       "  </thead>\n",
       "  <tbody>\n",
       "    <tr>\n",
       "      <th>0</th>\n",
       "      <td>1</td>\n",
       "      <td>1020合　　庫</td>\n",
       "      <td>615.0</td>\n",
       "      <td>6100</td>\n",
       "      <td>7000</td>\n",
       "      <td>-900</td>\n",
       "    </tr>\n",
       "    <tr>\n",
       "      <th>0</th>\n",
       "      <td>2</td>\n",
       "      <td>1020合　　庫</td>\n",
       "      <td>616.0</td>\n",
       "      <td>15110</td>\n",
       "      <td>0</td>\n",
       "      <td>15110</td>\n",
       "    </tr>\n",
       "    <tr>\n",
       "      <th>1</th>\n",
       "      <td>3</td>\n",
       "      <td>1020合　　庫</td>\n",
       "      <td>617.0</td>\n",
       "      <td>53300</td>\n",
       "      <td>9319</td>\n",
       "      <td>43981</td>\n",
       "    </tr>\n",
       "    <tr>\n",
       "      <th>1</th>\n",
       "      <td>4</td>\n",
       "      <td>1020合　　庫</td>\n",
       "      <td>618.0</td>\n",
       "      <td>32000</td>\n",
       "      <td>1060</td>\n",
       "      <td>30940</td>\n",
       "    </tr>\n",
       "    <tr>\n",
       "      <th>2</th>\n",
       "      <td>5</td>\n",
       "      <td>1020合　　庫</td>\n",
       "      <td>619.0</td>\n",
       "      <td>0</td>\n",
       "      <td>7000</td>\n",
       "      <td>-7000</td>\n",
       "    </tr>\n",
       "    <tr>\n",
       "      <th>...</th>\n",
       "      <td>...</td>\n",
       "      <td>...</td>\n",
       "      <td>...</td>\n",
       "      <td>...</td>\n",
       "      <td>...</td>\n",
       "      <td>...</td>\n",
       "    </tr>\n",
       "    <tr>\n",
       "      <th>1549</th>\n",
       "      <td>3100</td>\n",
       "      <td>9A9Z永豐復興</td>\n",
       "      <td>615.0</td>\n",
       "      <td>300</td>\n",
       "      <td>0</td>\n",
       "      <td>300</td>\n",
       "    </tr>\n",
       "    <tr>\n",
       "      <th>1550</th>\n",
       "      <td>3101</td>\n",
       "      <td>9A9Z永豐復興</td>\n",
       "      <td>616.0</td>\n",
       "      <td>0</td>\n",
       "      <td>5200</td>\n",
       "      <td>-5200</td>\n",
       "    </tr>\n",
       "    <tr>\n",
       "      <th>1550</th>\n",
       "      <td>3102</td>\n",
       "      <td>9A9Z永豐復興</td>\n",
       "      <td>617.0</td>\n",
       "      <td>0</td>\n",
       "      <td>4310</td>\n",
       "      <td>-4310</td>\n",
       "    </tr>\n",
       "    <tr>\n",
       "      <th>1551</th>\n",
       "      <td>3103</td>\n",
       "      <td>9A9Z永豐復興</td>\n",
       "      <td>618.0</td>\n",
       "      <td>2000</td>\n",
       "      <td>19000</td>\n",
       "      <td>-17000</td>\n",
       "    </tr>\n",
       "    <tr>\n",
       "      <th>1551</th>\n",
       "      <td>3104</td>\n",
       "      <td>9A9Z永豐復興</td>\n",
       "      <td>619.0</td>\n",
       "      <td>0</td>\n",
       "      <td>10000</td>\n",
       "      <td>-10000</td>\n",
       "    </tr>\n",
       "  </tbody>\n",
       "</table>\n",
       "<p>3104 rows × 6 columns</p>\n",
       "</div>"
      ],
      "text/plain": [
       "        序號       證券商   成交單價   買進股數   賣出股數    淨股數\n",
       "0        1  1020合　　庫  615.0   6100   7000   -900\n",
       "0        2  1020合　　庫  616.0  15110      0  15110\n",
       "1        3  1020合　　庫  617.0  53300   9319  43981\n",
       "1        4  1020合　　庫  618.0  32000   1060  30940\n",
       "2        5  1020合　　庫  619.0      0   7000  -7000\n",
       "...    ...       ...    ...    ...    ...    ...\n",
       "1549  3100  9A9Z永豐復興  615.0    300      0    300\n",
       "1550  3101  9A9Z永豐復興  616.0      0   5200  -5200\n",
       "1550  3102  9A9Z永豐復興  617.0      0   4310  -4310\n",
       "1551  3103  9A9Z永豐復興  618.0   2000  19000 -17000\n",
       "1551  3104  9A9Z永豐復興  619.0      0  10000 -10000\n",
       "\n",
       "[3104 rows x 6 columns]"
      ]
     },
     "execution_count": 10,
     "metadata": {},
     "output_type": "execute_result"
    }
   ],
   "source": [
    "df[\"淨股數\"] = df['買進股數'] - df['賣出股數']\n",
    "df"
   ]
  },
  {
   "cell_type": "markdown",
   "id": "d9daad8d-4aa5-4007-9129-04ab1eac7694",
   "metadata": {},
   "source": [
    "## 1.3 :計算各證券商的交易淨股數"
   ]
  },
  {
   "cell_type": "code",
   "execution_count": 11,
   "id": "20c05a66-bbb6-4e2e-8582-b9e63f3854c1",
   "metadata": {},
   "outputs": [
    {
     "data": {
      "text/html": [
       "<div>\n",
       "<style scoped>\n",
       "    .dataframe tbody tr th:only-of-type {\n",
       "        vertical-align: middle;\n",
       "    }\n",
       "\n",
       "    .dataframe tbody tr th {\n",
       "        vertical-align: top;\n",
       "    }\n",
       "\n",
       "    .dataframe thead th {\n",
       "        text-align: right;\n",
       "    }\n",
       "</style>\n",
       "<table border=\"1\" class=\"dataframe\">\n",
       "  <thead>\n",
       "    <tr style=\"text-align: right;\">\n",
       "      <th></th>\n",
       "      <th>證券商</th>\n",
       "      <th>淨股數</th>\n",
       "    </tr>\n",
       "  </thead>\n",
       "  <tbody>\n",
       "    <tr>\n",
       "      <th>606</th>\n",
       "      <td>9600富邦</td>\n",
       "      <td>2320003</td>\n",
       "    </tr>\n",
       "    <tr>\n",
       "      <th>786</th>\n",
       "      <td>9A00永豐金</td>\n",
       "      <td>903513</td>\n",
       "    </tr>\n",
       "    <tr>\n",
       "      <th>112</th>\n",
       "      <td>1650瑞銀</td>\n",
       "      <td>887000</td>\n",
       "    </tr>\n",
       "    <tr>\n",
       "      <th>376</th>\n",
       "      <td>8440摩根大通</td>\n",
       "      <td>662782</td>\n",
       "    </tr>\n",
       "    <tr>\n",
       "      <th>551</th>\n",
       "      <td>9268凱基台北</td>\n",
       "      <td>560486</td>\n",
       "    </tr>\n",
       "    <tr>\n",
       "      <th>...</th>\n",
       "      <td>...</td>\n",
       "      <td>...</td>\n",
       "    </tr>\n",
       "    <tr>\n",
       "      <th>104</th>\n",
       "      <td>1380台灣匯立</td>\n",
       "      <td>-718294</td>\n",
       "    </tr>\n",
       "    <tr>\n",
       "      <th>607</th>\n",
       "      <td>9604富邦陽明</td>\n",
       "      <td>-782844</td>\n",
       "    </tr>\n",
       "    <tr>\n",
       "      <th>106</th>\n",
       "      <td>1470台灣摩根</td>\n",
       "      <td>-792040</td>\n",
       "    </tr>\n",
       "    <tr>\n",
       "      <th>107</th>\n",
       "      <td>1480美商高盛</td>\n",
       "      <td>-880200</td>\n",
       "    </tr>\n",
       "    <tr>\n",
       "      <th>103</th>\n",
       "      <td>1360港麥格理</td>\n",
       "      <td>-1610138</td>\n",
       "    </tr>\n",
       "  </tbody>\n",
       "</table>\n",
       "<p>833 rows × 2 columns</p>\n",
       "</div>"
      ],
      "text/plain": [
       "          證券商      淨股數\n",
       "606    9600富邦  2320003\n",
       "786   9A00永豐金   903513\n",
       "112    1650瑞銀   887000\n",
       "376  8440摩根大通   662782\n",
       "551  9268凱基台北   560486\n",
       "..        ...      ...\n",
       "104  1380台灣匯立  -718294\n",
       "607  9604富邦陽明  -782844\n",
       "106  1470台灣摩根  -792040\n",
       "107  1480美商高盛  -880200\n",
       "103  1360港麥格理 -1610138\n",
       "\n",
       "[833 rows x 2 columns]"
      ]
     },
     "execution_count": 11,
     "metadata": {},
     "output_type": "execute_result"
    }
   ],
   "source": [
    "df_stock_count = df.groupby('證券商', as_index=False)['淨股數'].sum()\n",
    "df_stock_count = df_stock_count.sort_values(by = ['淨股數'], ascending = False)\n",
    "df_stock_count"
   ]
  },
  {
   "cell_type": "markdown",
   "id": "d3ff7083-1f5c-467f-bb1f-611cacc3b1fd",
   "metadata": {},
   "source": [
    "#### 計算交易淨張數 (四捨五入淨股數至千位數)"
   ]
  },
  {
   "cell_type": "code",
   "execution_count": 12,
   "id": "d6e4771b-53fa-4c7f-93e1-764885b488cf",
   "metadata": {},
   "outputs": [
    {
     "data": {
      "text/html": [
       "<div>\n",
       "<style scoped>\n",
       "    .dataframe tbody tr th:only-of-type {\n",
       "        vertical-align: middle;\n",
       "    }\n",
       "\n",
       "    .dataframe tbody tr th {\n",
       "        vertical-align: top;\n",
       "    }\n",
       "\n",
       "    .dataframe thead th {\n",
       "        text-align: right;\n",
       "    }\n",
       "</style>\n",
       "<table border=\"1\" class=\"dataframe\">\n",
       "  <thead>\n",
       "    <tr style=\"text-align: right;\">\n",
       "      <th></th>\n",
       "      <th>證券商</th>\n",
       "      <th>淨股數</th>\n",
       "      <th>淨張數</th>\n",
       "    </tr>\n",
       "  </thead>\n",
       "  <tbody>\n",
       "    <tr>\n",
       "      <th>606</th>\n",
       "      <td>9600富邦</td>\n",
       "      <td>2320003</td>\n",
       "      <td>2320.0</td>\n",
       "    </tr>\n",
       "    <tr>\n",
       "      <th>786</th>\n",
       "      <td>9A00永豐金</td>\n",
       "      <td>903513</td>\n",
       "      <td>904.0</td>\n",
       "    </tr>\n",
       "    <tr>\n",
       "      <th>112</th>\n",
       "      <td>1650瑞銀</td>\n",
       "      <td>887000</td>\n",
       "      <td>887.0</td>\n",
       "    </tr>\n",
       "    <tr>\n",
       "      <th>376</th>\n",
       "      <td>8440摩根大通</td>\n",
       "      <td>662782</td>\n",
       "      <td>663.0</td>\n",
       "    </tr>\n",
       "    <tr>\n",
       "      <th>551</th>\n",
       "      <td>9268凱基台北</td>\n",
       "      <td>560486</td>\n",
       "      <td>560.0</td>\n",
       "    </tr>\n",
       "    <tr>\n",
       "      <th>...</th>\n",
       "      <td>...</td>\n",
       "      <td>...</td>\n",
       "      <td>...</td>\n",
       "    </tr>\n",
       "    <tr>\n",
       "      <th>104</th>\n",
       "      <td>1380台灣匯立</td>\n",
       "      <td>-718294</td>\n",
       "      <td>-718.0</td>\n",
       "    </tr>\n",
       "    <tr>\n",
       "      <th>607</th>\n",
       "      <td>9604富邦陽明</td>\n",
       "      <td>-782844</td>\n",
       "      <td>-783.0</td>\n",
       "    </tr>\n",
       "    <tr>\n",
       "      <th>106</th>\n",
       "      <td>1470台灣摩根</td>\n",
       "      <td>-792040</td>\n",
       "      <td>-792.0</td>\n",
       "    </tr>\n",
       "    <tr>\n",
       "      <th>107</th>\n",
       "      <td>1480美商高盛</td>\n",
       "      <td>-880200</td>\n",
       "      <td>-880.0</td>\n",
       "    </tr>\n",
       "    <tr>\n",
       "      <th>103</th>\n",
       "      <td>1360港麥格理</td>\n",
       "      <td>-1610138</td>\n",
       "      <td>-1610.0</td>\n",
       "    </tr>\n",
       "  </tbody>\n",
       "</table>\n",
       "<p>833 rows × 3 columns</p>\n",
       "</div>"
      ],
      "text/plain": [
       "          證券商      淨股數     淨張數\n",
       "606    9600富邦  2320003  2320.0\n",
       "786   9A00永豐金   903513   904.0\n",
       "112    1650瑞銀   887000   887.0\n",
       "376  8440摩根大通   662782   663.0\n",
       "551  9268凱基台北   560486   560.0\n",
       "..        ...      ...     ...\n",
       "104  1380台灣匯立  -718294  -718.0\n",
       "607  9604富邦陽明  -782844  -783.0\n",
       "106  1470台灣摩根  -792040  -792.0\n",
       "107  1480美商高盛  -880200  -880.0\n",
       "103  1360港麥格理 -1610138 -1610.0\n",
       "\n",
       "[833 rows x 3 columns]"
      ]
     },
     "execution_count": 12,
     "metadata": {},
     "output_type": "execute_result"
    }
   ],
   "source": [
    "df_stock_count['淨張數'] = df_stock_count['淨股數'].round(decimals = -3) / 1000\n",
    "df_stock_count"
   ]
  },
  {
   "cell_type": "markdown",
   "id": "f77e3fb4-bd54-4f61-bb9f-9b1bd3b2cadd",
   "metadata": {},
   "source": [
    "#### 前15大買超證券商"
   ]
  },
  {
   "cell_type": "code",
   "execution_count": 13,
   "id": "6ef79082-37b9-466d-b1a4-1afa807c79ce",
   "metadata": {},
   "outputs": [
    {
     "data": {
      "text/html": [
       "<div>\n",
       "<style scoped>\n",
       "    .dataframe tbody tr th:only-of-type {\n",
       "        vertical-align: middle;\n",
       "    }\n",
       "\n",
       "    .dataframe tbody tr th {\n",
       "        vertical-align: top;\n",
       "    }\n",
       "\n",
       "    .dataframe thead th {\n",
       "        text-align: right;\n",
       "    }\n",
       "</style>\n",
       "<table border=\"1\" class=\"dataframe\">\n",
       "  <thead>\n",
       "    <tr style=\"text-align: right;\">\n",
       "      <th></th>\n",
       "      <th>證券商</th>\n",
       "      <th>淨股數</th>\n",
       "      <th>淨張數</th>\n",
       "    </tr>\n",
       "  </thead>\n",
       "  <tbody>\n",
       "    <tr>\n",
       "      <th>606</th>\n",
       "      <td>9600富邦</td>\n",
       "      <td>2320003</td>\n",
       "      <td>2320.0</td>\n",
       "    </tr>\n",
       "    <tr>\n",
       "      <th>786</th>\n",
       "      <td>9A00永豐金</td>\n",
       "      <td>903513</td>\n",
       "      <td>904.0</td>\n",
       "    </tr>\n",
       "    <tr>\n",
       "      <th>112</th>\n",
       "      <td>1650瑞銀</td>\n",
       "      <td>887000</td>\n",
       "      <td>887.0</td>\n",
       "    </tr>\n",
       "    <tr>\n",
       "      <th>376</th>\n",
       "      <td>8440摩根大通</td>\n",
       "      <td>662782</td>\n",
       "      <td>663.0</td>\n",
       "    </tr>\n",
       "    <tr>\n",
       "      <th>551</th>\n",
       "      <td>9268凱基台北</td>\n",
       "      <td>560486</td>\n",
       "      <td>560.0</td>\n",
       "    </tr>\n",
       "    <tr>\n",
       "      <th>441</th>\n",
       "      <td>8960上海匯豐</td>\n",
       "      <td>429776</td>\n",
       "      <td>430.0</td>\n",
       "    </tr>\n",
       "    <tr>\n",
       "      <th>109</th>\n",
       "      <td>1560港商野村</td>\n",
       "      <td>367000</td>\n",
       "      <td>367.0</td>\n",
       "    </tr>\n",
       "    <tr>\n",
       "      <th>105</th>\n",
       "      <td>1440美林</td>\n",
       "      <td>259000</td>\n",
       "      <td>259.0</td>\n",
       "    </tr>\n",
       "    <tr>\n",
       "      <th>166</th>\n",
       "      <td>5850統    一</td>\n",
       "      <td>216306</td>\n",
       "      <td>216.0</td>\n",
       "    </tr>\n",
       "    <tr>\n",
       "      <th>640</th>\n",
       "      <td>9800元大</td>\n",
       "      <td>203646</td>\n",
       "      <td>204.0</td>\n",
       "    </tr>\n",
       "    <tr>\n",
       "      <th>93</th>\n",
       "      <td>1260宏    遠</td>\n",
       "      <td>118877</td>\n",
       "      <td>119.0</td>\n",
       "    </tr>\n",
       "    <tr>\n",
       "      <th>283</th>\n",
       "      <td>7000兆豐</td>\n",
       "      <td>87950</td>\n",
       "      <td>88.0</td>\n",
       "    </tr>\n",
       "    <tr>\n",
       "      <th>0</th>\n",
       "      <td>1020合　　庫</td>\n",
       "      <td>82131</td>\n",
       "      <td>82.0</td>\n",
       "    </tr>\n",
       "    <tr>\n",
       "      <th>361</th>\n",
       "      <td>8150台    新</td>\n",
       "      <td>79018</td>\n",
       "      <td>79.0</td>\n",
       "    </tr>\n",
       "    <tr>\n",
       "      <th>196</th>\n",
       "      <td>5920元    富</td>\n",
       "      <td>75362</td>\n",
       "      <td>75.0</td>\n",
       "    </tr>\n",
       "  </tbody>\n",
       "</table>\n",
       "</div>"
      ],
      "text/plain": [
       "            證券商      淨股數     淨張數\n",
       "606      9600富邦  2320003  2320.0\n",
       "786     9A00永豐金   903513   904.0\n",
       "112      1650瑞銀   887000   887.0\n",
       "376    8440摩根大通   662782   663.0\n",
       "551    9268凱基台北   560486   560.0\n",
       "441    8960上海匯豐   429776   430.0\n",
       "109    1560港商野村   367000   367.0\n",
       "105      1440美林   259000   259.0\n",
       "166  5850統    一   216306   216.0\n",
       "640      9800元大   203646   204.0\n",
       "93   1260宏    遠   118877   119.0\n",
       "283      7000兆豐    87950    88.0\n",
       "0      1020合　　庫    82131    82.0\n",
       "361  8150台    新    79018    79.0\n",
       "196  5920元    富    75362    75.0"
      ]
     },
     "execution_count": 13,
     "metadata": {},
     "output_type": "execute_result"
    }
   ],
   "source": [
    "df_buy_most = df_stock_count.head(15)\n",
    "df_buy_most"
   ]
  },
  {
   "cell_type": "markdown",
   "id": "e53f3680-e466-47e1-8795-46a72a5590e9",
   "metadata": {},
   "source": [
    "#### 前15大賣超證券商"
   ]
  },
  {
   "cell_type": "code",
   "execution_count": 14,
   "id": "beedb6b5-858f-4511-be99-07f6eb1bc9ec",
   "metadata": {},
   "outputs": [
    {
     "data": {
      "text/html": [
       "<div>\n",
       "<style scoped>\n",
       "    .dataframe tbody tr th:only-of-type {\n",
       "        vertical-align: middle;\n",
       "    }\n",
       "\n",
       "    .dataframe tbody tr th {\n",
       "        vertical-align: top;\n",
       "    }\n",
       "\n",
       "    .dataframe thead th {\n",
       "        text-align: right;\n",
       "    }\n",
       "</style>\n",
       "<table border=\"1\" class=\"dataframe\">\n",
       "  <thead>\n",
       "    <tr style=\"text-align: right;\">\n",
       "      <th></th>\n",
       "      <th>證券商</th>\n",
       "      <th>淨股數</th>\n",
       "      <th>淨張數</th>\n",
       "    </tr>\n",
       "  </thead>\n",
       "  <tbody>\n",
       "    <tr>\n",
       "      <th>103</th>\n",
       "      <td>1360港麥格理</td>\n",
       "      <td>-1610138</td>\n",
       "      <td>-1610.0</td>\n",
       "    </tr>\n",
       "    <tr>\n",
       "      <th>107</th>\n",
       "      <td>1480美商高盛</td>\n",
       "      <td>-880200</td>\n",
       "      <td>-880.0</td>\n",
       "    </tr>\n",
       "    <tr>\n",
       "      <th>106</th>\n",
       "      <td>1470台灣摩根</td>\n",
       "      <td>-792040</td>\n",
       "      <td>-792.0</td>\n",
       "    </tr>\n",
       "    <tr>\n",
       "      <th>607</th>\n",
       "      <td>9604富邦陽明</td>\n",
       "      <td>-782844</td>\n",
       "      <td>-783.0</td>\n",
       "    </tr>\n",
       "    <tr>\n",
       "      <th>104</th>\n",
       "      <td>1380台灣匯立</td>\n",
       "      <td>-718294</td>\n",
       "      <td>-718.0</td>\n",
       "    </tr>\n",
       "    <tr>\n",
       "      <th>428</th>\n",
       "      <td>8880國泰綜合</td>\n",
       "      <td>-631882</td>\n",
       "      <td>-632.0</td>\n",
       "    </tr>\n",
       "    <tr>\n",
       "      <th>442</th>\n",
       "      <td>9100群益</td>\n",
       "      <td>-417112</td>\n",
       "      <td>-417.0</td>\n",
       "    </tr>\n",
       "    <tr>\n",
       "      <th>111</th>\n",
       "      <td>1590花旗環球</td>\n",
       "      <td>-278206</td>\n",
       "      <td>-278.0</td>\n",
       "    </tr>\n",
       "    <tr>\n",
       "      <th>567</th>\n",
       "      <td>9300華南永昌</td>\n",
       "      <td>-173900</td>\n",
       "      <td>-174.0</td>\n",
       "    </tr>\n",
       "    <tr>\n",
       "      <th>439</th>\n",
       "      <td>8890大和國泰</td>\n",
       "      <td>-143000</td>\n",
       "      <td>-143.0</td>\n",
       "    </tr>\n",
       "    <tr>\n",
       "      <th>200</th>\n",
       "      <td>5925元富台中</td>\n",
       "      <td>-139206</td>\n",
       "      <td>-139.0</td>\n",
       "    </tr>\n",
       "    <tr>\n",
       "      <th>119</th>\n",
       "      <td>5050大    展</td>\n",
       "      <td>-106990</td>\n",
       "      <td>-107.0</td>\n",
       "    </tr>\n",
       "    <tr>\n",
       "      <th>377</th>\n",
       "      <td>8450康    和</td>\n",
       "      <td>-68904</td>\n",
       "      <td>-69.0</td>\n",
       "    </tr>\n",
       "    <tr>\n",
       "      <th>411</th>\n",
       "      <td>8840玉    山</td>\n",
       "      <td>-66476</td>\n",
       "      <td>-66.0</td>\n",
       "    </tr>\n",
       "    <tr>\n",
       "      <th>492</th>\n",
       "      <td>918x群益延平</td>\n",
       "      <td>-58210</td>\n",
       "      <td>-58.0</td>\n",
       "    </tr>\n",
       "  </tbody>\n",
       "</table>\n",
       "</div>"
      ],
      "text/plain": [
       "            證券商      淨股數     淨張數\n",
       "103    1360港麥格理 -1610138 -1610.0\n",
       "107    1480美商高盛  -880200  -880.0\n",
       "106    1470台灣摩根  -792040  -792.0\n",
       "607    9604富邦陽明  -782844  -783.0\n",
       "104    1380台灣匯立  -718294  -718.0\n",
       "428    8880國泰綜合  -631882  -632.0\n",
       "442      9100群益  -417112  -417.0\n",
       "111    1590花旗環球  -278206  -278.0\n",
       "567    9300華南永昌  -173900  -174.0\n",
       "439    8890大和國泰  -143000  -143.0\n",
       "200    5925元富台中  -139206  -139.0\n",
       "119  5050大    展  -106990  -107.0\n",
       "377  8450康    和   -68904   -69.0\n",
       "411  8840玉    山   -66476   -66.0\n",
       "492    918x群益延平   -58210   -58.0"
      ]
     },
     "execution_count": 14,
     "metadata": {},
     "output_type": "execute_result"
    }
   ],
   "source": [
    "df_sell_most = df_stock_count.sort_values(by = ['淨股數'], ascending = True).head(15)\n",
    "df_sell_most"
   ]
  },
  {
   "cell_type": "markdown",
   "id": "9812f979-2400-470a-b91d-95ca0af6e11c",
   "metadata": {},
   "source": [
    "## 1.4 :畫出前15大買賣超證券商交易淨張數"
   ]
  },
  {
   "cell_type": "markdown",
   "id": "63ae6144-e046-46ad-bf92-ca3a542bc8e9",
   "metadata": {},
   "source": [
    "#### 前15大買超證券商"
   ]
  },
  {
   "cell_type": "code",
   "execution_count": 20,
   "id": "796c50e6-1a81-4334-90a8-7176bd2a34be",
   "metadata": {},
   "outputs": [
    {
     "data": {
      "application/vnd.plotly.v1+json": {
       "config": {
        "plotlyServerURL": "https://plot.ly"
       },
       "data": [
        {
         "marker": {
          "color": "red"
         },
         "name": "淨張數",
         "showlegend": false,
         "type": "bar",
         "x": [
          "9600富邦",
          "9A00永豐金",
          "1650瑞銀",
          "8440摩根大通",
          "9268凱基台北",
          "8960上海匯豐",
          "1560港商野村",
          "1440美林",
          "5850統    一",
          "9800元大",
          "1260宏    遠",
          "7000兆豐",
          "1020合　　庫",
          "8150台    新",
          "5920元    富"
         ],
         "xaxis": "x",
         "y": [
          2320,
          904,
          887,
          663,
          560,
          430,
          367,
          259,
          216,
          204,
          119,
          88,
          82,
          79,
          75
         ],
         "yaxis": "y"
        }
       ],
       "layout": {
        "height": 400,
        "template": {
         "data": {
          "bar": [
           {
            "error_x": {
             "color": "#2a3f5f"
            },
            "error_y": {
             "color": "#2a3f5f"
            },
            "marker": {
             "line": {
              "color": "#E5ECF6",
              "width": 0.5
             },
             "pattern": {
              "fillmode": "overlay",
              "size": 10,
              "solidity": 0.2
             }
            },
            "type": "bar"
           }
          ],
          "barpolar": [
           {
            "marker": {
             "line": {
              "color": "#E5ECF6",
              "width": 0.5
             },
             "pattern": {
              "fillmode": "overlay",
              "size": 10,
              "solidity": 0.2
             }
            },
            "type": "barpolar"
           }
          ],
          "carpet": [
           {
            "aaxis": {
             "endlinecolor": "#2a3f5f",
             "gridcolor": "white",
             "linecolor": "white",
             "minorgridcolor": "white",
             "startlinecolor": "#2a3f5f"
            },
            "baxis": {
             "endlinecolor": "#2a3f5f",
             "gridcolor": "white",
             "linecolor": "white",
             "minorgridcolor": "white",
             "startlinecolor": "#2a3f5f"
            },
            "type": "carpet"
           }
          ],
          "choropleth": [
           {
            "colorbar": {
             "outlinewidth": 0,
             "ticks": ""
            },
            "type": "choropleth"
           }
          ],
          "contour": [
           {
            "colorbar": {
             "outlinewidth": 0,
             "ticks": ""
            },
            "colorscale": [
             [
              0,
              "#0d0887"
             ],
             [
              0.1111111111111111,
              "#46039f"
             ],
             [
              0.2222222222222222,
              "#7201a8"
             ],
             [
              0.3333333333333333,
              "#9c179e"
             ],
             [
              0.4444444444444444,
              "#bd3786"
             ],
             [
              0.5555555555555556,
              "#d8576b"
             ],
             [
              0.6666666666666666,
              "#ed7953"
             ],
             [
              0.7777777777777778,
              "#fb9f3a"
             ],
             [
              0.8888888888888888,
              "#fdca26"
             ],
             [
              1,
              "#f0f921"
             ]
            ],
            "type": "contour"
           }
          ],
          "contourcarpet": [
           {
            "colorbar": {
             "outlinewidth": 0,
             "ticks": ""
            },
            "type": "contourcarpet"
           }
          ],
          "heatmap": [
           {
            "colorbar": {
             "outlinewidth": 0,
             "ticks": ""
            },
            "colorscale": [
             [
              0,
              "#0d0887"
             ],
             [
              0.1111111111111111,
              "#46039f"
             ],
             [
              0.2222222222222222,
              "#7201a8"
             ],
             [
              0.3333333333333333,
              "#9c179e"
             ],
             [
              0.4444444444444444,
              "#bd3786"
             ],
             [
              0.5555555555555556,
              "#d8576b"
             ],
             [
              0.6666666666666666,
              "#ed7953"
             ],
             [
              0.7777777777777778,
              "#fb9f3a"
             ],
             [
              0.8888888888888888,
              "#fdca26"
             ],
             [
              1,
              "#f0f921"
             ]
            ],
            "type": "heatmap"
           }
          ],
          "heatmapgl": [
           {
            "colorbar": {
             "outlinewidth": 0,
             "ticks": ""
            },
            "colorscale": [
             [
              0,
              "#0d0887"
             ],
             [
              0.1111111111111111,
              "#46039f"
             ],
             [
              0.2222222222222222,
              "#7201a8"
             ],
             [
              0.3333333333333333,
              "#9c179e"
             ],
             [
              0.4444444444444444,
              "#bd3786"
             ],
             [
              0.5555555555555556,
              "#d8576b"
             ],
             [
              0.6666666666666666,
              "#ed7953"
             ],
             [
              0.7777777777777778,
              "#fb9f3a"
             ],
             [
              0.8888888888888888,
              "#fdca26"
             ],
             [
              1,
              "#f0f921"
             ]
            ],
            "type": "heatmapgl"
           }
          ],
          "histogram": [
           {
            "marker": {
             "pattern": {
              "fillmode": "overlay",
              "size": 10,
              "solidity": 0.2
             }
            },
            "type": "histogram"
           }
          ],
          "histogram2d": [
           {
            "colorbar": {
             "outlinewidth": 0,
             "ticks": ""
            },
            "colorscale": [
             [
              0,
              "#0d0887"
             ],
             [
              0.1111111111111111,
              "#46039f"
             ],
             [
              0.2222222222222222,
              "#7201a8"
             ],
             [
              0.3333333333333333,
              "#9c179e"
             ],
             [
              0.4444444444444444,
              "#bd3786"
             ],
             [
              0.5555555555555556,
              "#d8576b"
             ],
             [
              0.6666666666666666,
              "#ed7953"
             ],
             [
              0.7777777777777778,
              "#fb9f3a"
             ],
             [
              0.8888888888888888,
              "#fdca26"
             ],
             [
              1,
              "#f0f921"
             ]
            ],
            "type": "histogram2d"
           }
          ],
          "histogram2dcontour": [
           {
            "colorbar": {
             "outlinewidth": 0,
             "ticks": ""
            },
            "colorscale": [
             [
              0,
              "#0d0887"
             ],
             [
              0.1111111111111111,
              "#46039f"
             ],
             [
              0.2222222222222222,
              "#7201a8"
             ],
             [
              0.3333333333333333,
              "#9c179e"
             ],
             [
              0.4444444444444444,
              "#bd3786"
             ],
             [
              0.5555555555555556,
              "#d8576b"
             ],
             [
              0.6666666666666666,
              "#ed7953"
             ],
             [
              0.7777777777777778,
              "#fb9f3a"
             ],
             [
              0.8888888888888888,
              "#fdca26"
             ],
             [
              1,
              "#f0f921"
             ]
            ],
            "type": "histogram2dcontour"
           }
          ],
          "mesh3d": [
           {
            "colorbar": {
             "outlinewidth": 0,
             "ticks": ""
            },
            "type": "mesh3d"
           }
          ],
          "parcoords": [
           {
            "line": {
             "colorbar": {
              "outlinewidth": 0,
              "ticks": ""
             }
            },
            "type": "parcoords"
           }
          ],
          "pie": [
           {
            "automargin": true,
            "type": "pie"
           }
          ],
          "scatter": [
           {
            "marker": {
             "colorbar": {
              "outlinewidth": 0,
              "ticks": ""
             }
            },
            "type": "scatter"
           }
          ],
          "scatter3d": [
           {
            "line": {
             "colorbar": {
              "outlinewidth": 0,
              "ticks": ""
             }
            },
            "marker": {
             "colorbar": {
              "outlinewidth": 0,
              "ticks": ""
             }
            },
            "type": "scatter3d"
           }
          ],
          "scattercarpet": [
           {
            "marker": {
             "colorbar": {
              "outlinewidth": 0,
              "ticks": ""
             }
            },
            "type": "scattercarpet"
           }
          ],
          "scattergeo": [
           {
            "marker": {
             "colorbar": {
              "outlinewidth": 0,
              "ticks": ""
             }
            },
            "type": "scattergeo"
           }
          ],
          "scattergl": [
           {
            "marker": {
             "colorbar": {
              "outlinewidth": 0,
              "ticks": ""
             }
            },
            "type": "scattergl"
           }
          ],
          "scattermapbox": [
           {
            "marker": {
             "colorbar": {
              "outlinewidth": 0,
              "ticks": ""
             }
            },
            "type": "scattermapbox"
           }
          ],
          "scatterpolar": [
           {
            "marker": {
             "colorbar": {
              "outlinewidth": 0,
              "ticks": ""
             }
            },
            "type": "scatterpolar"
           }
          ],
          "scatterpolargl": [
           {
            "marker": {
             "colorbar": {
              "outlinewidth": 0,
              "ticks": ""
             }
            },
            "type": "scatterpolargl"
           }
          ],
          "scatterternary": [
           {
            "marker": {
             "colorbar": {
              "outlinewidth": 0,
              "ticks": ""
             }
            },
            "type": "scatterternary"
           }
          ],
          "surface": [
           {
            "colorbar": {
             "outlinewidth": 0,
             "ticks": ""
            },
            "colorscale": [
             [
              0,
              "#0d0887"
             ],
             [
              0.1111111111111111,
              "#46039f"
             ],
             [
              0.2222222222222222,
              "#7201a8"
             ],
             [
              0.3333333333333333,
              "#9c179e"
             ],
             [
              0.4444444444444444,
              "#bd3786"
             ],
             [
              0.5555555555555556,
              "#d8576b"
             ],
             [
              0.6666666666666666,
              "#ed7953"
             ],
             [
              0.7777777777777778,
              "#fb9f3a"
             ],
             [
              0.8888888888888888,
              "#fdca26"
             ],
             [
              1,
              "#f0f921"
             ]
            ],
            "type": "surface"
           }
          ],
          "table": [
           {
            "cells": {
             "fill": {
              "color": "#EBF0F8"
             },
             "line": {
              "color": "white"
             }
            },
            "header": {
             "fill": {
              "color": "#C8D4E3"
             },
             "line": {
              "color": "white"
             }
            },
            "type": "table"
           }
          ]
         },
         "layout": {
          "annotationdefaults": {
           "arrowcolor": "#2a3f5f",
           "arrowhead": 0,
           "arrowwidth": 1
          },
          "autotypenumbers": "strict",
          "coloraxis": {
           "colorbar": {
            "outlinewidth": 0,
            "ticks": ""
           }
          },
          "colorscale": {
           "diverging": [
            [
             0,
             "#8e0152"
            ],
            [
             0.1,
             "#c51b7d"
            ],
            [
             0.2,
             "#de77ae"
            ],
            [
             0.3,
             "#f1b6da"
            ],
            [
             0.4,
             "#fde0ef"
            ],
            [
             0.5,
             "#f7f7f7"
            ],
            [
             0.6,
             "#e6f5d0"
            ],
            [
             0.7,
             "#b8e186"
            ],
            [
             0.8,
             "#7fbc41"
            ],
            [
             0.9,
             "#4d9221"
            ],
            [
             1,
             "#276419"
            ]
           ],
           "sequential": [
            [
             0,
             "#0d0887"
            ],
            [
             0.1111111111111111,
             "#46039f"
            ],
            [
             0.2222222222222222,
             "#7201a8"
            ],
            [
             0.3333333333333333,
             "#9c179e"
            ],
            [
             0.4444444444444444,
             "#bd3786"
            ],
            [
             0.5555555555555556,
             "#d8576b"
            ],
            [
             0.6666666666666666,
             "#ed7953"
            ],
            [
             0.7777777777777778,
             "#fb9f3a"
            ],
            [
             0.8888888888888888,
             "#fdca26"
            ],
            [
             1,
             "#f0f921"
            ]
           ],
           "sequentialminus": [
            [
             0,
             "#0d0887"
            ],
            [
             0.1111111111111111,
             "#46039f"
            ],
            [
             0.2222222222222222,
             "#7201a8"
            ],
            [
             0.3333333333333333,
             "#9c179e"
            ],
            [
             0.4444444444444444,
             "#bd3786"
            ],
            [
             0.5555555555555556,
             "#d8576b"
            ],
            [
             0.6666666666666666,
             "#ed7953"
            ],
            [
             0.7777777777777778,
             "#fb9f3a"
            ],
            [
             0.8888888888888888,
             "#fdca26"
            ],
            [
             1,
             "#f0f921"
            ]
           ]
          },
          "colorway": [
           "#636efa",
           "#EF553B",
           "#00cc96",
           "#ab63fa",
           "#FFA15A",
           "#19d3f3",
           "#FF6692",
           "#B6E880",
           "#FF97FF",
           "#FECB52"
          ],
          "font": {
           "color": "#2a3f5f"
          },
          "geo": {
           "bgcolor": "white",
           "lakecolor": "white",
           "landcolor": "#E5ECF6",
           "showlakes": true,
           "showland": true,
           "subunitcolor": "white"
          },
          "hoverlabel": {
           "align": "left"
          },
          "hovermode": "closest",
          "mapbox": {
           "style": "light"
          },
          "paper_bgcolor": "white",
          "plot_bgcolor": "#E5ECF6",
          "polar": {
           "angularaxis": {
            "gridcolor": "white",
            "linecolor": "white",
            "ticks": ""
           },
           "bgcolor": "#E5ECF6",
           "radialaxis": {
            "gridcolor": "white",
            "linecolor": "white",
            "ticks": ""
           }
          },
          "scene": {
           "xaxis": {
            "backgroundcolor": "#E5ECF6",
            "gridcolor": "white",
            "gridwidth": 2,
            "linecolor": "white",
            "showbackground": true,
            "ticks": "",
            "zerolinecolor": "white"
           },
           "yaxis": {
            "backgroundcolor": "#E5ECF6",
            "gridcolor": "white",
            "gridwidth": 2,
            "linecolor": "white",
            "showbackground": true,
            "ticks": "",
            "zerolinecolor": "white"
           },
           "zaxis": {
            "backgroundcolor": "#E5ECF6",
            "gridcolor": "white",
            "gridwidth": 2,
            "linecolor": "white",
            "showbackground": true,
            "ticks": "",
            "zerolinecolor": "white"
           }
          },
          "shapedefaults": {
           "line": {
            "color": "#2a3f5f"
           }
          },
          "ternary": {
           "aaxis": {
            "gridcolor": "white",
            "linecolor": "white",
            "ticks": ""
           },
           "baxis": {
            "gridcolor": "white",
            "linecolor": "white",
            "ticks": ""
           },
           "bgcolor": "#E5ECF6",
           "caxis": {
            "gridcolor": "white",
            "linecolor": "white",
            "ticks": ""
           }
          },
          "title": {
           "x": 0.05
          },
          "xaxis": {
           "automargin": true,
           "gridcolor": "white",
           "linecolor": "white",
           "ticks": "",
           "title": {
            "standoff": 15
           },
           "zerolinecolor": "white",
           "zerolinewidth": 2
          },
          "yaxis": {
           "automargin": true,
           "gridcolor": "white",
           "linecolor": "white",
           "ticks": "",
           "title": {
            "standoff": 15
           },
           "zerolinecolor": "white",
           "zerolinewidth": 2
          }
         }
        },
        "title": {
         "text": "2021/12/30 台積電(2330) 前15大買超券商"
        },
        "width": 800,
        "xaxis": {
         "anchor": "y",
         "autorange": true,
         "domain": [
          0,
          1
         ],
         "range": [
          -0.5,
          14.5
         ],
         "title": {
          "text": "證券商"
         },
         "type": "category"
        },
        "yaxis": {
         "anchor": "x",
         "autorange": true,
         "domain": [
          0,
          1
         ],
         "range": [
          0,
          2442.1052631578946
         ],
         "title": {
          "text": "淨張數"
         },
         "type": "linear"
        }
       }
      },
      "image/png": "[encoded data removed]",
      "text/html": [
       "<div>                            <div id=\"cf7f0ca6-d0b4-4cce-8e7a-1fe8f93aeb17\" class=\"plotly-graph-div\" style=\"height:400px; width:800px;\"></div>            <script type=\"text/javascript\">                require([\"plotly\"], function(Plotly) {                    window.PLOTLYENV=window.PLOTLYENV || {};                                    if (document.getElementById(\"cf7f0ca6-d0b4-4cce-8e7a-1fe8f93aeb17\")) {                    Plotly.newPlot(                        \"cf7f0ca6-d0b4-4cce-8e7a-1fe8f93aeb17\",                        [{\"marker\":{\"color\":\"red\"},\"name\":\"\\u6de8\\u5f35\\u6578\",\"showlegend\":false,\"type\":\"bar\",\"x\":[\"9600\\u5bcc\\u90a6\",\"9A00\\u6c38\\u8c50\\u91d1\",\"1650\\u745e\\u9280\",\"8440\\u6469\\u6839\\u5927\\u901a\",\"9268\\u51f1\\u57fa\\u53f0\\u5317\",\"8960\\u4e0a\\u6d77\\u532f\\u8c50\",\"1560\\u6e2f\\u5546\\u91ce\\u6751\",\"1440\\u7f8e\\u6797\",\"5850\\u7d71    \\u4e00\",\"9800\\u5143\\u5927\",\"1260\\u5b8f    \\u9060\",\"7000\\u5146\\u8c50\",\"1020\\u5408\\u3000\\u3000\\u5eab\",\"8150\\u53f0    \\u65b0\",\"5920\\u5143    \\u5bcc\"],\"xaxis\":\"x\",\"y\":[2320.0,904.0,887.0,663.0,560.0,430.0,367.0,259.0,216.0,204.0,119.0,88.0,82.0,79.0,75.0],\"yaxis\":\"y\"}],                        {\"height\":400,\"template\":{\"data\":{\"bar\":[{\"error_x\":{\"color\":\"#2a3f5f\"},\"error_y\":{\"color\":\"#2a3f5f\"},\"marker\":{\"line\":{\"color\":\"#E5ECF6\",\"width\":0.5},\"pattern\":{\"fillmode\":\"overlay\",\"size\":10,\"solidity\":0.2}},\"type\":\"bar\"}],\"barpolar\":[{\"marker\":{\"line\":{\"color\":\"#E5ECF6\",\"width\":0.5},\"pattern\":{\"fillmode\":\"overlay\",\"size\":10,\"solidity\":0.2}},\"type\":\"barpolar\"}],\"carpet\":[{\"aaxis\":{\"endlinecolor\":\"#2a3f5f\",\"gridcolor\":\"white\",\"linecolor\":\"white\",\"minorgridcolor\":\"white\",\"startlinecolor\":\"#2a3f5f\"},\"baxis\":{\"endlinecolor\":\"#2a3f5f\",\"gridcolor\":\"white\",\"linecolor\":\"white\",\"minorgridcolor\":\"white\",\"startlinecolor\":\"#2a3f5f\"},\"type\":\"carpet\"}],\"choropleth\":[{\"colorbar\":{\"outlinewidth\":0,\"ticks\":\"\"},\"type\":\"choropleth\"}],\"contour\":[{\"colorbar\":{\"outlinewidth\":0,\"ticks\":\"\"},\"colorscale\":[[0.0,\"#0d0887\"],[0.1111111111111111,\"#46039f\"],[0.2222222222222222,\"#7201a8\"],[0.3333333333333333,\"#9c179e\"],[0.4444444444444444,\"#bd3786\"],[0.5555555555555556,\"#d8576b\"],[0.6666666666666666,\"#ed7953\"],[0.7777777777777778,\"#fb9f3a\"],[0.8888888888888888,\"#fdca26\"],[1.0,\"#f0f921\"]],\"type\":\"contour\"}],\"contourcarpet\":[{\"colorbar\":{\"outlinewidth\":0,\"ticks\":\"\"},\"type\":\"contourcarpet\"}],\"heatmap\":[{\"colorbar\":{\"outlinewidth\":0,\"ticks\":\"\"},\"colorscale\":[[0.0,\"#0d0887\"],[0.1111111111111111,\"#46039f\"],[0.2222222222222222,\"#7201a8\"],[0.3333333333333333,\"#9c179e\"],[0.4444444444444444,\"#bd3786\"],[0.5555555555555556,\"#d8576b\"],[0.6666666666666666,\"#ed7953\"],[0.7777777777777778,\"#fb9f3a\"],[0.8888888888888888,\"#fdca26\"],[1.0,\"#f0f921\"]],\"type\":\"heatmap\"}],\"heatmapgl\":[{\"colorbar\":{\"outlinewidth\":0,\"ticks\":\"\"},\"colorscale\":[[0.0,\"#0d0887\"],[0.1111111111111111,\"#46039f\"],[0.2222222222222222,\"#7201a8\"],[0.3333333333333333,\"#9c179e\"],[0.4444444444444444,\"#bd3786\"],[0.5555555555555556,\"#d8576b\"],[0.6666666666666666,\"#ed7953\"],[0.7777777777777778,\"#fb9f3a\"],[0.8888888888888888,\"#fdca26\"],[1.0,\"#f0f921\"]],\"type\":\"heatmapgl\"}],\"histogram\":[{\"marker\":{\"pattern\":{\"fillmode\":\"overlay\",\"size\":10,\"solidity\":0.2}},\"type\":\"histogram\"}],\"histogram2d\":[{\"colorbar\":{\"outlinewidth\":0,\"ticks\":\"\"},\"colorscale\":[[0.0,\"#0d0887\"],[0.1111111111111111,\"#46039f\"],[0.2222222222222222,\"#7201a8\"],[0.3333333333333333,\"#9c179e\"],[0.4444444444444444,\"#bd3786\"],[0.5555555555555556,\"#d8576b\"],[0.6666666666666666,\"#ed7953\"],[0.7777777777777778,\"#fb9f3a\"],[0.8888888888888888,\"#fdca26\"],[1.0,\"#f0f921\"]],\"type\":\"histogram2d\"}],\"histogram2dcontour\":[{\"colorbar\":{\"outlinewidth\":0,\"ticks\":\"\"},\"colorscale\":[[0.0,\"#0d0887\"],[0.1111111111111111,\"#46039f\"],[0.2222222222222222,\"#7201a8\"],[0.3333333333333333,\"#9c179e\"],[0.4444444444444444,\"#bd3786\"],[0.5555555555555556,\"#d8576b\"],[0.6666666666666666,\"#ed7953\"],[0.7777777777777778,\"#fb9f3a\"],[0.8888888888888888,\"#fdca26\"],[1.0,\"#f0f921\"]],\"type\":\"histogram2dcontour\"}],\"mesh3d\":[{\"colorbar\":{\"outlinewidth\":0,\"ticks\":\"\"},\"type\":\"mesh3d\"}],\"parcoords\":[{\"line\":{\"colorbar\":{\"outlinewidth\":0,\"ticks\":\"\"}},\"type\":\"parcoords\"}],\"pie\":[{\"automargin\":true,\"type\":\"pie\"}],\"scatter\":[{\"marker\":{\"colorbar\":{\"outlinewidth\":0,\"ticks\":\"\"}},\"type\":\"scatter\"}],\"scatter3d\":[{\"line\":{\"colorbar\":{\"outlinewidth\":0,\"ticks\":\"\"}},\"marker\":{\"colorbar\":{\"outlinewidth\":0,\"ticks\":\"\"}},\"type\":\"scatter3d\"}],\"scattercarpet\":[{\"marker\":{\"colorbar\":{\"outlinewidth\":0,\"ticks\":\"\"}},\"type\":\"scattercarpet\"}],\"scattergeo\":[{\"marker\":{\"colorbar\":{\"outlinewidth\":0,\"ticks\":\"\"}},\"type\":\"scattergeo\"}],\"scattergl\":[{\"marker\":{\"colorbar\":{\"outlinewidth\":0,\"ticks\":\"\"}},\"type\":\"scattergl\"}],\"scattermapbox\":[{\"marker\":{\"colorbar\":{\"outlinewidth\":0,\"ticks\":\"\"}},\"type\":\"scattermapbox\"}],\"scatterpolar\":[{\"marker\":{\"colorbar\":{\"outlinewidth\":0,\"ticks\":\"\"}},\"type\":\"scatterpolar\"}],\"scatterpolargl\":[{\"marker\":{\"colorbar\":{\"outlinewidth\":0,\"ticks\":\"\"}},\"type\":\"scatterpolargl\"}],\"scatterternary\":[{\"marker\":{\"colorbar\":{\"outlinewidth\":0,\"ticks\":\"\"}},\"type\":\"scatterternary\"}],\"surface\":[{\"colorbar\":{\"outlinewidth\":0,\"ticks\":\"\"},\"colorscale\":[[0.0,\"#0d0887\"],[0.1111111111111111,\"#46039f\"],[0.2222222222222222,\"#7201a8\"],[0.3333333333333333,\"#9c179e\"],[0.4444444444444444,\"#bd3786\"],[0.5555555555555556,\"#d8576b\"],[0.6666666666666666,\"#ed7953\"],[0.7777777777777778,\"#fb9f3a\"],[0.8888888888888888,\"#fdca26\"],[1.0,\"#f0f921\"]],\"type\":\"surface\"}],\"table\":[{\"cells\":{\"fill\":{\"color\":\"#EBF0F8\"},\"line\":{\"color\":\"white\"}},\"header\":{\"fill\":{\"color\":\"#C8D4E3\"},\"line\":{\"color\":\"white\"}},\"type\":\"table\"}]},\"layout\":{\"annotationdefaults\":{\"arrowcolor\":\"#2a3f5f\",\"arrowhead\":0,\"arrowwidth\":1},\"autotypenumbers\":\"strict\",\"coloraxis\":{\"colorbar\":{\"outlinewidth\":0,\"ticks\":\"\"}},\"colorscale\":{\"diverging\":[[0,\"#8e0152\"],[0.1,\"#c51b7d\"],[0.2,\"#de77ae\"],[0.3,\"#f1b6da\"],[0.4,\"#fde0ef\"],[0.5,\"#f7f7f7\"],[0.6,\"#e6f5d0\"],[0.7,\"#b8e186\"],[0.8,\"#7fbc41\"],[0.9,\"#4d9221\"],[1,\"#276419\"]],\"sequential\":[[0.0,\"#0d0887\"],[0.1111111111111111,\"#46039f\"],[0.2222222222222222,\"#7201a8\"],[0.3333333333333333,\"#9c179e\"],[0.4444444444444444,\"#bd3786\"],[0.5555555555555556,\"#d8576b\"],[0.6666666666666666,\"#ed7953\"],[0.7777777777777778,\"#fb9f3a\"],[0.8888888888888888,\"#fdca26\"],[1.0,\"#f0f921\"]],\"sequentialminus\":[[0.0,\"#0d0887\"],[0.1111111111111111,\"#46039f\"],[0.2222222222222222,\"#7201a8\"],[0.3333333333333333,\"#9c179e\"],[0.4444444444444444,\"#bd3786\"],[0.5555555555555556,\"#d8576b\"],[0.6666666666666666,\"#ed7953\"],[0.7777777777777778,\"#fb9f3a\"],[0.8888888888888888,\"#fdca26\"],[1.0,\"#f0f921\"]]},\"colorway\":[\"#636efa\",\"#EF553B\",\"#00cc96\",\"#ab63fa\",\"#FFA15A\",\"#19d3f3\",\"#FF6692\",\"#B6E880\",\"#FF97FF\",\"#FECB52\"],\"font\":{\"color\":\"#2a3f5f\"},\"geo\":{\"bgcolor\":\"white\",\"lakecolor\":\"white\",\"landcolor\":\"#E5ECF6\",\"showlakes\":true,\"showland\":true,\"subunitcolor\":\"white\"},\"hoverlabel\":{\"align\":\"left\"},\"hovermode\":\"closest\",\"mapbox\":{\"style\":\"light\"},\"paper_bgcolor\":\"white\",\"plot_bgcolor\":\"#E5ECF6\",\"polar\":{\"angularaxis\":{\"gridcolor\":\"white\",\"linecolor\":\"white\",\"ticks\":\"\"},\"bgcolor\":\"#E5ECF6\",\"radialaxis\":{\"gridcolor\":\"white\",\"linecolor\":\"white\",\"ticks\":\"\"}},\"scene\":{\"xaxis\":{\"backgroundcolor\":\"#E5ECF6\",\"gridcolor\":\"white\",\"gridwidth\":2,\"linecolor\":\"white\",\"showbackground\":true,\"ticks\":\"\",\"zerolinecolor\":\"white\"},\"yaxis\":{\"backgroundcolor\":\"#E5ECF6\",\"gridcolor\":\"white\",\"gridwidth\":2,\"linecolor\":\"white\",\"showbackground\":true,\"ticks\":\"\",\"zerolinecolor\":\"white\"},\"zaxis\":{\"backgroundcolor\":\"#E5ECF6\",\"gridcolor\":\"white\",\"gridwidth\":2,\"linecolor\":\"white\",\"showbackground\":true,\"ticks\":\"\",\"zerolinecolor\":\"white\"}},\"shapedefaults\":{\"line\":{\"color\":\"#2a3f5f\"}},\"ternary\":{\"aaxis\":{\"gridcolor\":\"white\",\"linecolor\":\"white\",\"ticks\":\"\"},\"baxis\":{\"gridcolor\":\"white\",\"linecolor\":\"white\",\"ticks\":\"\"},\"bgcolor\":\"#E5ECF6\",\"caxis\":{\"gridcolor\":\"white\",\"linecolor\":\"white\",\"ticks\":\"\"}},\"title\":{\"x\":0.05},\"xaxis\":{\"automargin\":true,\"gridcolor\":\"white\",\"linecolor\":\"white\",\"ticks\":\"\",\"title\":{\"standoff\":15},\"zerolinecolor\":\"white\",\"zerolinewidth\":2},\"yaxis\":{\"automargin\":true,\"gridcolor\":\"white\",\"linecolor\":\"white\",\"ticks\":\"\",\"title\":{\"standoff\":15},\"zerolinecolor\":\"white\",\"zerolinewidth\":2}}},\"title\":{\"text\":\"2021/12/30 \\u53f0\\u7a4d\\u96fb(2330) \\u524d15\\u5927\\u8cb7\\u8d85\\u5238\\u5546\"},\"width\":800,\"xaxis\":{\"anchor\":\"y\",\"domain\":[0.0,1.0],\"title\":{\"text\":\"\\u8b49\\u5238\\u5546\"}},\"yaxis\":{\"anchor\":\"x\",\"domain\":[0.0,1.0],\"title\":{\"text\":\"\\u6de8\\u5f35\\u6578\"}}},                        {\"responsive\": true}                    ).then(function(){\n",
       "                            \n",
       "var gd = document.getElementById('cf7f0ca6-d0b4-4cce-8e7a-1fe8f93aeb17');\n",
       "var x = new MutationObserver(function (mutations, observer) {{\n",
       "        var display = window.getComputedStyle(gd).display;\n",
       "        if (!display || display === 'none') {{\n",
       "            console.log([gd, 'removed!']);\n",
       "            Plotly.purge(gd);\n",
       "            observer.disconnect();\n",
       "        }}\n",
       "}});\n",
       "\n",
       "// Listen for the removal of the full notebook cells\n",
       "var notebookContainer = gd.closest('#notebook-container');\n",
       "if (notebookContainer) {{\n",
       "    x.observe(notebookContainer, {childList: true});\n",
       "}}\n",
       "\n",
       "// Listen for the clearing of the current output cell\n",
       "var outputEl = gd.closest('.output');\n",
       "if (outputEl) {{\n",
       "    x.observe(outputEl, {childList: true});\n",
       "}}\n",
       "\n",
       "                        })                };                });            </script>        </div>"
      ]
     },
     "metadata": {},
     "output_type": "display_data"
    }
   ],
   "source": [
    "# 設定子圖\n",
    "fig = make_subplots(rows = 1, \n",
    "                    cols = 1, \n",
    "                    shared_xaxes = True, \n",
    "                    vertical_spacing = 0.05, \n",
    "                    horizontal_spacing = 0.05)\n",
    "\n",
    "\n",
    "# 圖一：買賣超淨張數\n",
    "fig.add_trace(go.Bar(x = df_buy_most['證券商'], \n",
    "                     y = df_buy_most['淨張數'], \n",
    "                     showlegend = False,\n",
    "                     name = '淨張數',\n",
    "                     marker = dict(color = 'red')), \n",
    "              row = 1, \n",
    "              col = 1)\n",
    "\n",
    "# 設x軸標題\n",
    "fig.update_xaxes(title_text = \"證券商\")\n",
    "\n",
    "# 設y軸標題\n",
    "fig.update_yaxes(title_text = \"淨張數\")\n",
    "\n",
    "# 設圖標及圖長寬\n",
    "fig.update_layout(\n",
    "    title_text = \"2021/12/30 台積電(2330) 前15大買超券商\",\n",
    "    width = 800,\n",
    "    height = 400\n",
    ")"
   ]
  }
 ],
 "metadata": {
  "kernelspec": {
   "display_name": "Python 3",
   "language": "python",
   "name": "python3"
  },
  "language_info": {
   "codemirror_mode": {
    "name": "ipython",
    "version": 3
   },
   "file_extension": ".py",
   "mimetype": "text/x-python",
   "name": "python",
   "nbconvert_exporter": "python",
   "pygments_lexer": "ipython3",
   "version": "3.8.8"
  }
 },
 "nbformat": 4,
 "nbformat_minor": 5
}
