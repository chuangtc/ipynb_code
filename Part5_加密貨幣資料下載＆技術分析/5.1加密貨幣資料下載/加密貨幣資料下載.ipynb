{
 "cells": [
  {
   "cell_type": "markdown",
   "id": "55f33c01-7973-4869-a964-2ed9bcfceba4",
   "metadata": {},
   "source": [
    "# 加密貨幣 資料下載"
   ]
  },
  {
   "cell_type": "markdown",
   "id": "b8b6d52d-9d76-44e3-ae33-2ebb80a423e4",
   "metadata": {},
   "source": [
    "## Part 1: 用Yahoo財經套件 下載加密貨幣即時/歷史資料\n",
    "沒有yfinance套件可以用以下指令安裝\n",
    "- pip install yfinance"
   ]
  },
  {
   "cell_type": "code",
   "execution_count": 25,
   "id": "6110c7ad-632b-4ca7-aa8d-fc00f85117f4",
   "metadata": {
    "tags": []
   },
   "outputs": [],
   "source": [
    "import yfinance as yf"
   ]
  },
  {
   "cell_type": "code",
   "execution_count": 26,
   "id": "f6826be9-b003-457e-8033-fc5e76870f1a",
   "metadata": {},
   "outputs": [
    {
     "name": "stdout",
     "output_type": "stream",
     "text": [
      "[*********************100%***********************]  1 of 1 completed\n"
     ]
    },
    {
     "data": {
      "text/html": [
       "<div>\n",
       "<style scoped>\n",
       "    .dataframe tbody tr th:only-of-type {\n",
       "        vertical-align: middle;\n",
       "    }\n",
       "\n",
       "    .dataframe tbody tr th {\n",
       "        vertical-align: top;\n",
       "    }\n",
       "\n",
       "    .dataframe thead th {\n",
       "        text-align: right;\n",
       "    }\n",
       "</style>\n",
       "<table border=\"1\" class=\"dataframe\">\n",
       "  <thead>\n",
       "    <tr style=\"text-align: right;\">\n",
       "      <th></th>\n",
       "      <th>Open</th>\n",
       "      <th>High</th>\n",
       "      <th>Low</th>\n",
       "      <th>Close</th>\n",
       "      <th>Adj Close</th>\n",
       "      <th>Volume</th>\n",
       "    </tr>\n",
       "    <tr>\n",
       "      <th>Datetime</th>\n",
       "      <th></th>\n",
       "      <th></th>\n",
       "      <th></th>\n",
       "      <th></th>\n",
       "      <th></th>\n",
       "      <th></th>\n",
       "    </tr>\n",
       "  </thead>\n",
       "  <tbody>\n",
       "    <tr>\n",
       "      <th>2022-02-27 00:00:00+00:00</th>\n",
       "      <td>39098.699219</td>\n",
       "      <td>39116.535156</td>\n",
       "      <td>39078.054688</td>\n",
       "      <td>39078.054688</td>\n",
       "      <td>39078.054688</td>\n",
       "      <td>11143168</td>\n",
       "    </tr>\n",
       "    <tr>\n",
       "      <th>2022-02-27 00:05:00+00:00</th>\n",
       "      <td>39074.781250</td>\n",
       "      <td>39082.425781</td>\n",
       "      <td>39070.128906</td>\n",
       "      <td>39082.425781</td>\n",
       "      <td>39082.425781</td>\n",
       "      <td>0</td>\n",
       "    </tr>\n",
       "    <tr>\n",
       "      <th>2022-02-27 00:10:00+00:00</th>\n",
       "      <td>39141.714844</td>\n",
       "      <td>39167.390625</td>\n",
       "      <td>39140.707031</td>\n",
       "      <td>39167.390625</td>\n",
       "      <td>39167.390625</td>\n",
       "      <td>22392832</td>\n",
       "    </tr>\n",
       "    <tr>\n",
       "      <th>2022-02-27 00:15:00+00:00</th>\n",
       "      <td>39192.046875</td>\n",
       "      <td>39213.785156</td>\n",
       "      <td>39187.644531</td>\n",
       "      <td>39213.785156</td>\n",
       "      <td>39213.785156</td>\n",
       "      <td>21030912</td>\n",
       "    </tr>\n",
       "    <tr>\n",
       "      <th>2022-02-27 00:20:00+00:00</th>\n",
       "      <td>39216.593750</td>\n",
       "      <td>39216.593750</td>\n",
       "      <td>39183.984375</td>\n",
       "      <td>39183.984375</td>\n",
       "      <td>39183.984375</td>\n",
       "      <td>2148352</td>\n",
       "    </tr>\n",
       "    <tr>\n",
       "      <th>2022-02-27 00:25:00+00:00</th>\n",
       "      <td>39151.164062</td>\n",
       "      <td>39151.164062</td>\n",
       "      <td>39066.242188</td>\n",
       "      <td>39066.242188</td>\n",
       "      <td>39066.242188</td>\n",
       "      <td>14336000</td>\n",
       "    </tr>\n",
       "    <tr>\n",
       "      <th>2022-02-27 00:30:00+00:00</th>\n",
       "      <td>39059.734375</td>\n",
       "      <td>39059.734375</td>\n",
       "      <td>38870.710938</td>\n",
       "      <td>38870.710938</td>\n",
       "      <td>38870.710938</td>\n",
       "      <td>97085440</td>\n",
       "    </tr>\n",
       "    <tr>\n",
       "      <th>2022-02-27 00:35:00+00:00</th>\n",
       "      <td>38889.855469</td>\n",
       "      <td>38889.855469</td>\n",
       "      <td>38867.324219</td>\n",
       "      <td>38867.324219</td>\n",
       "      <td>38867.324219</td>\n",
       "      <td>22503424</td>\n",
       "    </tr>\n",
       "    <tr>\n",
       "      <th>2022-02-27 00:40:00+00:00</th>\n",
       "      <td>38804.546875</td>\n",
       "      <td>38857.148438</td>\n",
       "      <td>38804.546875</td>\n",
       "      <td>38857.148438</td>\n",
       "      <td>38857.148438</td>\n",
       "      <td>0</td>\n",
       "    </tr>\n",
       "    <tr>\n",
       "      <th>2022-02-27 00:45:00+00:00</th>\n",
       "      <td>38860.652344</td>\n",
       "      <td>38860.652344</td>\n",
       "      <td>38820.113281</td>\n",
       "      <td>38820.113281</td>\n",
       "      <td>38820.113281</td>\n",
       "      <td>0</td>\n",
       "    </tr>\n",
       "    <tr>\n",
       "      <th>2022-02-27 00:50:00+00:00</th>\n",
       "      <td>38829.355469</td>\n",
       "      <td>38843.273438</td>\n",
       "      <td>38822.238281</td>\n",
       "      <td>38843.273438</td>\n",
       "      <td>38843.273438</td>\n",
       "      <td>0</td>\n",
       "    </tr>\n",
       "    <tr>\n",
       "      <th>2022-02-27 00:55:00+00:00</th>\n",
       "      <td>38855.746094</td>\n",
       "      <td>38891.851562</td>\n",
       "      <td>38855.746094</td>\n",
       "      <td>38877.792969</td>\n",
       "      <td>38877.792969</td>\n",
       "      <td>2663424</td>\n",
       "    </tr>\n",
       "    <tr>\n",
       "      <th>2022-02-27 01:00:00+00:00</th>\n",
       "      <td>38831.093750</td>\n",
       "      <td>38851.542969</td>\n",
       "      <td>38831.093750</td>\n",
       "      <td>38851.542969</td>\n",
       "      <td>38851.542969</td>\n",
       "      <td>7631872</td>\n",
       "    </tr>\n",
       "    <tr>\n",
       "      <th>2022-02-27 01:05:00+00:00</th>\n",
       "      <td>38790.632812</td>\n",
       "      <td>38790.632812</td>\n",
       "      <td>38619.093750</td>\n",
       "      <td>38619.093750</td>\n",
       "      <td>38619.093750</td>\n",
       "      <td>16403456</td>\n",
       "    </tr>\n",
       "    <tr>\n",
       "      <th>2022-02-27 01:10:00+00:00</th>\n",
       "      <td>38538.582031</td>\n",
       "      <td>38538.582031</td>\n",
       "      <td>38432.843750</td>\n",
       "      <td>38450.707031</td>\n",
       "      <td>38450.707031</td>\n",
       "      <td>110820352</td>\n",
       "    </tr>\n",
       "    <tr>\n",
       "      <th>2022-02-27 01:15:00+00:00</th>\n",
       "      <td>38461.535156</td>\n",
       "      <td>38537.968750</td>\n",
       "      <td>38461.535156</td>\n",
       "      <td>38537.968750</td>\n",
       "      <td>38537.968750</td>\n",
       "      <td>103690240</td>\n",
       "    </tr>\n",
       "    <tr>\n",
       "      <th>2022-02-27 01:20:00+00:00</th>\n",
       "      <td>38534.035156</td>\n",
       "      <td>38534.035156</td>\n",
       "      <td>38515.019531</td>\n",
       "      <td>38515.019531</td>\n",
       "      <td>38515.019531</td>\n",
       "      <td>24185856</td>\n",
       "    </tr>\n",
       "    <tr>\n",
       "      <th>2022-02-27 01:25:00+00:00</th>\n",
       "      <td>38513.675781</td>\n",
       "      <td>38526.582031</td>\n",
       "      <td>38498.671875</td>\n",
       "      <td>38498.671875</td>\n",
       "      <td>38498.671875</td>\n",
       "      <td>15287296</td>\n",
       "    </tr>\n",
       "    <tr>\n",
       "      <th>2022-02-27 01:30:00+00:00</th>\n",
       "      <td>38486.710938</td>\n",
       "      <td>38486.710938</td>\n",
       "      <td>38431.078125</td>\n",
       "      <td>38482.617188</td>\n",
       "      <td>38482.617188</td>\n",
       "      <td>45377536</td>\n",
       "    </tr>\n",
       "    <tr>\n",
       "      <th>2022-02-27 01:35:00+00:00</th>\n",
       "      <td>38493.507812</td>\n",
       "      <td>38493.507812</td>\n",
       "      <td>38486.113281</td>\n",
       "      <td>38486.113281</td>\n",
       "      <td>38486.113281</td>\n",
       "      <td>18957312</td>\n",
       "    </tr>\n",
       "    <tr>\n",
       "      <th>2022-02-27 01:40:00+00:00</th>\n",
       "      <td>38440.050781</td>\n",
       "      <td>38499.269531</td>\n",
       "      <td>38440.050781</td>\n",
       "      <td>38499.269531</td>\n",
       "      <td>38499.269531</td>\n",
       "      <td>53678080</td>\n",
       "    </tr>\n",
       "    <tr>\n",
       "      <th>2022-02-27 01:45:00+00:00</th>\n",
       "      <td>38508.566406</td>\n",
       "      <td>38508.566406</td>\n",
       "      <td>38505.761719</td>\n",
       "      <td>38505.761719</td>\n",
       "      <td>38505.761719</td>\n",
       "      <td>17254400</td>\n",
       "    </tr>\n",
       "    <tr>\n",
       "      <th>2022-02-27 01:50:00+00:00</th>\n",
       "      <td>38502.308594</td>\n",
       "      <td>38502.308594</td>\n",
       "      <td>38484.105469</td>\n",
       "      <td>38484.105469</td>\n",
       "      <td>38484.105469</td>\n",
       "      <td>12119040</td>\n",
       "    </tr>\n",
       "    <tr>\n",
       "      <th>2022-02-27 01:55:00+00:00</th>\n",
       "      <td>38465.988281</td>\n",
       "      <td>38474.859375</td>\n",
       "      <td>38442.703125</td>\n",
       "      <td>38442.703125</td>\n",
       "      <td>38442.703125</td>\n",
       "      <td>42377216</td>\n",
       "    </tr>\n",
       "    <tr>\n",
       "      <th>2022-02-27 02:00:00+00:00</th>\n",
       "      <td>38393.292969</td>\n",
       "      <td>38393.292969</td>\n",
       "      <td>38293.500000</td>\n",
       "      <td>38344.757812</td>\n",
       "      <td>38344.757812</td>\n",
       "      <td>47054848</td>\n",
       "    </tr>\n",
       "    <tr>\n",
       "      <th>2022-02-27 02:05:00+00:00</th>\n",
       "      <td>38370.082031</td>\n",
       "      <td>38408.917969</td>\n",
       "      <td>38370.082031</td>\n",
       "      <td>38408.917969</td>\n",
       "      <td>38408.917969</td>\n",
       "      <td>54351872</td>\n",
       "    </tr>\n",
       "    <tr>\n",
       "      <th>2022-02-27 02:10:00+00:00</th>\n",
       "      <td>38414.378906</td>\n",
       "      <td>38436.421875</td>\n",
       "      <td>38414.378906</td>\n",
       "      <td>38436.421875</td>\n",
       "      <td>38436.421875</td>\n",
       "      <td>33294336</td>\n",
       "    </tr>\n",
       "    <tr>\n",
       "      <th>2022-02-27 02:15:00+00:00</th>\n",
       "      <td>38451.320312</td>\n",
       "      <td>38471.183594</td>\n",
       "      <td>38442.191406</td>\n",
       "      <td>38471.183594</td>\n",
       "      <td>38471.183594</td>\n",
       "      <td>13509632</td>\n",
       "    </tr>\n",
       "    <tr>\n",
       "      <th>2022-02-27 02:20:00+00:00</th>\n",
       "      <td>38487.054688</td>\n",
       "      <td>38487.054688</td>\n",
       "      <td>38464.378906</td>\n",
       "      <td>38464.378906</td>\n",
       "      <td>38464.378906</td>\n",
       "      <td>24453120</td>\n",
       "    </tr>\n",
       "    <tr>\n",
       "      <th>2022-02-27 02:25:00+00:00</th>\n",
       "      <td>38449.902344</td>\n",
       "      <td>38479.234375</td>\n",
       "      <td>38449.902344</td>\n",
       "      <td>38479.234375</td>\n",
       "      <td>38479.234375</td>\n",
       "      <td>29252608</td>\n",
       "    </tr>\n",
       "    <tr>\n",
       "      <th>2022-02-27 02:30:00+00:00</th>\n",
       "      <td>38485.156250</td>\n",
       "      <td>38515.742188</td>\n",
       "      <td>38485.156250</td>\n",
       "      <td>38515.742188</td>\n",
       "      <td>38515.742188</td>\n",
       "      <td>34521088</td>\n",
       "    </tr>\n",
       "    <tr>\n",
       "      <th>2022-02-27 02:35:00+00:00</th>\n",
       "      <td>38540.816406</td>\n",
       "      <td>38541.000000</td>\n",
       "      <td>38539.207031</td>\n",
       "      <td>38541.000000</td>\n",
       "      <td>38541.000000</td>\n",
       "      <td>20781056</td>\n",
       "    </tr>\n",
       "    <tr>\n",
       "      <th>2022-02-27 02:40:00+00:00</th>\n",
       "      <td>38558.199219</td>\n",
       "      <td>38558.199219</td>\n",
       "      <td>38536.144531</td>\n",
       "      <td>38536.144531</td>\n",
       "      <td>38536.144531</td>\n",
       "      <td>10424320</td>\n",
       "    </tr>\n",
       "    <tr>\n",
       "      <th>2022-02-27 02:45:00+00:00</th>\n",
       "      <td>38539.441406</td>\n",
       "      <td>38539.441406</td>\n",
       "      <td>38515.878906</td>\n",
       "      <td>38515.878906</td>\n",
       "      <td>38515.878906</td>\n",
       "      <td>9996288</td>\n",
       "    </tr>\n",
       "    <tr>\n",
       "      <th>2022-02-27 02:50:00+00:00</th>\n",
       "      <td>38521.371094</td>\n",
       "      <td>38554.644531</td>\n",
       "      <td>38521.371094</td>\n",
       "      <td>38549.351562</td>\n",
       "      <td>38549.351562</td>\n",
       "      <td>948224</td>\n",
       "    </tr>\n",
       "    <tr>\n",
       "      <th>2022-02-27 02:55:00+00:00</th>\n",
       "      <td>38550.300781</td>\n",
       "      <td>38578.351562</td>\n",
       "      <td>38550.300781</td>\n",
       "      <td>38578.351562</td>\n",
       "      <td>38578.351562</td>\n",
       "      <td>18581504</td>\n",
       "    </tr>\n",
       "    <tr>\n",
       "      <th>2022-02-27 03:00:00+00:00</th>\n",
       "      <td>38574.625000</td>\n",
       "      <td>38592.234375</td>\n",
       "      <td>38547.769531</td>\n",
       "      <td>38592.234375</td>\n",
       "      <td>38592.234375</td>\n",
       "      <td>8224768</td>\n",
       "    </tr>\n",
       "    <tr>\n",
       "      <th>2022-02-27 03:05:00+00:00</th>\n",
       "      <td>38594.359375</td>\n",
       "      <td>38609.480469</td>\n",
       "      <td>38594.359375</td>\n",
       "      <td>38607.023438</td>\n",
       "      <td>38607.023438</td>\n",
       "      <td>30855168</td>\n",
       "    </tr>\n",
       "    <tr>\n",
       "      <th>2022-02-27 03:10:00+00:00</th>\n",
       "      <td>38607.160156</td>\n",
       "      <td>38622.621094</td>\n",
       "      <td>38602.558594</td>\n",
       "      <td>38622.621094</td>\n",
       "      <td>38622.621094</td>\n",
       "      <td>24436736</td>\n",
       "    </tr>\n",
       "    <tr>\n",
       "      <th>2022-02-27 03:15:00+00:00</th>\n",
       "      <td>38605.375000</td>\n",
       "      <td>38606.472656</td>\n",
       "      <td>38605.292969</td>\n",
       "      <td>38605.292969</td>\n",
       "      <td>38605.292969</td>\n",
       "      <td>0</td>\n",
       "    </tr>\n",
       "    <tr>\n",
       "      <th>2022-02-27 03:20:00+00:00</th>\n",
       "      <td>38597.929688</td>\n",
       "      <td>38623.335938</td>\n",
       "      <td>38597.929688</td>\n",
       "      <td>38623.335938</td>\n",
       "      <td>38623.335938</td>\n",
       "      <td>3219456</td>\n",
       "    </tr>\n",
       "    <tr>\n",
       "      <th>2022-02-27 03:25:00+00:00</th>\n",
       "      <td>38645.484375</td>\n",
       "      <td>38656.039062</td>\n",
       "      <td>38645.484375</td>\n",
       "      <td>38656.039062</td>\n",
       "      <td>38656.039062</td>\n",
       "      <td>3334144</td>\n",
       "    </tr>\n",
       "    <tr>\n",
       "      <th>2022-02-27 03:30:00+00:00</th>\n",
       "      <td>38650.933594</td>\n",
       "      <td>38652.375000</td>\n",
       "      <td>38650.878906</td>\n",
       "      <td>38650.878906</td>\n",
       "      <td>38650.878906</td>\n",
       "      <td>14278656</td>\n",
       "    </tr>\n",
       "    <tr>\n",
       "      <th>2022-02-27 03:35:00+00:00</th>\n",
       "      <td>38638.992188</td>\n",
       "      <td>38638.992188</td>\n",
       "      <td>38618.480469</td>\n",
       "      <td>38619.265625</td>\n",
       "      <td>38619.265625</td>\n",
       "      <td>980992</td>\n",
       "    </tr>\n",
       "    <tr>\n",
       "      <th>2022-02-27 03:40:00+00:00</th>\n",
       "      <td>38628.140625</td>\n",
       "      <td>38630.941406</td>\n",
       "      <td>38628.140625</td>\n",
       "      <td>38630.941406</td>\n",
       "      <td>38630.941406</td>\n",
       "      <td>11735040</td>\n",
       "    </tr>\n",
       "    <tr>\n",
       "      <th>2022-02-27 03:44:00+00:00</th>\n",
       "      <td>38628.304688</td>\n",
       "      <td>38628.304688</td>\n",
       "      <td>38628.304688</td>\n",
       "      <td>38628.304688</td>\n",
       "      <td>38628.304688</td>\n",
       "      <td>0</td>\n",
       "    </tr>\n",
       "  </tbody>\n",
       "</table>\n",
       "</div>"
      ],
      "text/plain": [
       "                                   Open          High           Low  \\\n",
       "Datetime                                                              \n",
       "2022-02-27 00:00:00+00:00  39098.699219  39116.535156  39078.054688   \n",
       "2022-02-27 00:05:00+00:00  39074.781250  39082.425781  39070.128906   \n",
       "2022-02-27 00:10:00+00:00  39141.714844  39167.390625  39140.707031   \n",
       "2022-02-27 00:15:00+00:00  39192.046875  39213.785156  39187.644531   \n",
       "2022-02-27 00:20:00+00:00  39216.593750  39216.593750  39183.984375   \n",
       "2022-02-27 00:25:00+00:00  39151.164062  39151.164062  39066.242188   \n",
       "2022-02-27 00:30:00+00:00  39059.734375  39059.734375  38870.710938   \n",
       "2022-02-27 00:35:00+00:00  38889.855469  38889.855469  38867.324219   \n",
       "2022-02-27 00:40:00+00:00  38804.546875  38857.148438  38804.546875   \n",
       "2022-02-27 00:45:00+00:00  38860.652344  38860.652344  38820.113281   \n",
       "2022-02-27 00:50:00+00:00  38829.355469  38843.273438  38822.238281   \n",
       "2022-02-27 00:55:00+00:00  38855.746094  38891.851562  38855.746094   \n",
       "2022-02-27 01:00:00+00:00  38831.093750  38851.542969  38831.093750   \n",
       "2022-02-27 01:05:00+00:00  38790.632812  38790.632812  38619.093750   \n",
       "2022-02-27 01:10:00+00:00  38538.582031  38538.582031  38432.843750   \n",
       "2022-02-27 01:15:00+00:00  38461.535156  38537.968750  38461.535156   \n",
       "2022-02-27 01:20:00+00:00  38534.035156  38534.035156  38515.019531   \n",
       "2022-02-27 01:25:00+00:00  38513.675781  38526.582031  38498.671875   \n",
       "2022-02-27 01:30:00+00:00  38486.710938  38486.710938  38431.078125   \n",
       "2022-02-27 01:35:00+00:00  38493.507812  38493.507812  38486.113281   \n",
       "2022-02-27 01:40:00+00:00  38440.050781  38499.269531  38440.050781   \n",
       "2022-02-27 01:45:00+00:00  38508.566406  38508.566406  38505.761719   \n",
       "2022-02-27 01:50:00+00:00  38502.308594  38502.308594  38484.105469   \n",
       "2022-02-27 01:55:00+00:00  38465.988281  38474.859375  38442.703125   \n",
       "2022-02-27 02:00:00+00:00  38393.292969  38393.292969  38293.500000   \n",
       "2022-02-27 02:05:00+00:00  38370.082031  38408.917969  38370.082031   \n",
       "2022-02-27 02:10:00+00:00  38414.378906  38436.421875  38414.378906   \n",
       "2022-02-27 02:15:00+00:00  38451.320312  38471.183594  38442.191406   \n",
       "2022-02-27 02:20:00+00:00  38487.054688  38487.054688  38464.378906   \n",
       "2022-02-27 02:25:00+00:00  38449.902344  38479.234375  38449.902344   \n",
       "2022-02-27 02:30:00+00:00  38485.156250  38515.742188  38485.156250   \n",
       "2022-02-27 02:35:00+00:00  38540.816406  38541.000000  38539.207031   \n",
       "2022-02-27 02:40:00+00:00  38558.199219  38558.199219  38536.144531   \n",
       "2022-02-27 02:45:00+00:00  38539.441406  38539.441406  38515.878906   \n",
       "2022-02-27 02:50:00+00:00  38521.371094  38554.644531  38521.371094   \n",
       "2022-02-27 02:55:00+00:00  38550.300781  38578.351562  38550.300781   \n",
       "2022-02-27 03:00:00+00:00  38574.625000  38592.234375  38547.769531   \n",
       "2022-02-27 03:05:00+00:00  38594.359375  38609.480469  38594.359375   \n",
       "2022-02-27 03:10:00+00:00  38607.160156  38622.621094  38602.558594   \n",
       "2022-02-27 03:15:00+00:00  38605.375000  38606.472656  38605.292969   \n",
       "2022-02-27 03:20:00+00:00  38597.929688  38623.335938  38597.929688   \n",
       "2022-02-27 03:25:00+00:00  38645.484375  38656.039062  38645.484375   \n",
       "2022-02-27 03:30:00+00:00  38650.933594  38652.375000  38650.878906   \n",
       "2022-02-27 03:35:00+00:00  38638.992188  38638.992188  38618.480469   \n",
       "2022-02-27 03:40:00+00:00  38628.140625  38630.941406  38628.140625   \n",
       "2022-02-27 03:44:00+00:00  38628.304688  38628.304688  38628.304688   \n",
       "\n",
       "                                  Close     Adj Close     Volume  \n",
       "Datetime                                                          \n",
       "2022-02-27 00:00:00+00:00  39078.054688  39078.054688   11143168  \n",
       "2022-02-27 00:05:00+00:00  39082.425781  39082.425781          0  \n",
       "2022-02-27 00:10:00+00:00  39167.390625  39167.390625   22392832  \n",
       "2022-02-27 00:15:00+00:00  39213.785156  39213.785156   21030912  \n",
       "2022-02-27 00:20:00+00:00  39183.984375  39183.984375    2148352  \n",
       "2022-02-27 00:25:00+00:00  39066.242188  39066.242188   14336000  \n",
       "2022-02-27 00:30:00+00:00  38870.710938  38870.710938   97085440  \n",
       "2022-02-27 00:35:00+00:00  38867.324219  38867.324219   22503424  \n",
       "2022-02-27 00:40:00+00:00  38857.148438  38857.148438          0  \n",
       "2022-02-27 00:45:00+00:00  38820.113281  38820.113281          0  \n",
       "2022-02-27 00:50:00+00:00  38843.273438  38843.273438          0  \n",
       "2022-02-27 00:55:00+00:00  38877.792969  38877.792969    2663424  \n",
       "2022-02-27 01:00:00+00:00  38851.542969  38851.542969    7631872  \n",
       "2022-02-27 01:05:00+00:00  38619.093750  38619.093750   16403456  \n",
       "2022-02-27 01:10:00+00:00  38450.707031  38450.707031  110820352  \n",
       "2022-02-27 01:15:00+00:00  38537.968750  38537.968750  103690240  \n",
       "2022-02-27 01:20:00+00:00  38515.019531  38515.019531   24185856  \n",
       "2022-02-27 01:25:00+00:00  38498.671875  38498.671875   15287296  \n",
       "2022-02-27 01:30:00+00:00  38482.617188  38482.617188   45377536  \n",
       "2022-02-27 01:35:00+00:00  38486.113281  38486.113281   18957312  \n",
       "2022-02-27 01:40:00+00:00  38499.269531  38499.269531   53678080  \n",
       "2022-02-27 01:45:00+00:00  38505.761719  38505.761719   17254400  \n",
       "2022-02-27 01:50:00+00:00  38484.105469  38484.105469   12119040  \n",
       "2022-02-27 01:55:00+00:00  38442.703125  38442.703125   42377216  \n",
       "2022-02-27 02:00:00+00:00  38344.757812  38344.757812   47054848  \n",
       "2022-02-27 02:05:00+00:00  38408.917969  38408.917969   54351872  \n",
       "2022-02-27 02:10:00+00:00  38436.421875  38436.421875   33294336  \n",
       "2022-02-27 02:15:00+00:00  38471.183594  38471.183594   13509632  \n",
       "2022-02-27 02:20:00+00:00  38464.378906  38464.378906   24453120  \n",
       "2022-02-27 02:25:00+00:00  38479.234375  38479.234375   29252608  \n",
       "2022-02-27 02:30:00+00:00  38515.742188  38515.742188   34521088  \n",
       "2022-02-27 02:35:00+00:00  38541.000000  38541.000000   20781056  \n",
       "2022-02-27 02:40:00+00:00  38536.144531  38536.144531   10424320  \n",
       "2022-02-27 02:45:00+00:00  38515.878906  38515.878906    9996288  \n",
       "2022-02-27 02:50:00+00:00  38549.351562  38549.351562     948224  \n",
       "2022-02-27 02:55:00+00:00  38578.351562  38578.351562   18581504  \n",
       "2022-02-27 03:00:00+00:00  38592.234375  38592.234375    8224768  \n",
       "2022-02-27 03:05:00+00:00  38607.023438  38607.023438   30855168  \n",
       "2022-02-27 03:10:00+00:00  38622.621094  38622.621094   24436736  \n",
       "2022-02-27 03:15:00+00:00  38605.292969  38605.292969          0  \n",
       "2022-02-27 03:20:00+00:00  38623.335938  38623.335938    3219456  \n",
       "2022-02-27 03:25:00+00:00  38656.039062  38656.039062    3334144  \n",
       "2022-02-27 03:30:00+00:00  38650.878906  38650.878906   14278656  \n",
       "2022-02-27 03:35:00+00:00  38619.265625  38619.265625     980992  \n",
       "2022-02-27 03:40:00+00:00  38630.941406  38630.941406   11735040  \n",
       "2022-02-27 03:44:00+00:00  38628.304688  38628.304688          0  "
      ]
     },
     "execution_count": 26,
     "metadata": {},
     "output_type": "execute_result"
    }
   ],
   "source": [
    "btc = yf.download(tickers = \"BTC-USD\", period = \"1d\", interval = \"5m\")\n",
    "btc"
   ]
  },
  {
   "cell_type": "markdown",
   "id": "27029f9b-7e91-4094-972f-f2b341a52612",
   "metadata": {},
   "source": [
    "## Part 2: 畫出加密貨幣走勢圖\n",
    "### 2.1: 用matplotlib畫走勢圖"
   ]
  },
  {
   "cell_type": "code",
   "execution_count": 29,
   "id": "38dccc1a-60e2-4211-8199-20bfadcff07e",
   "metadata": {},
   "outputs": [
    {
     "data": {
      "text/plain": [
       "Text(0.5, 1.0, 'BTC Close Price')"
      ]
     },
     "execution_count": 29,
     "metadata": {},
     "output_type": "execute_result"
    },
    {
     "data": {
      "image/png": "[encoded data removed]",
      "text/plain": [
       "<Figure size 1080x360 with 1 Axes>"
      ]
     },
     "metadata": {
      "needs_background": "light"
     },
     "output_type": "display_data"
    }
   ],
   "source": [
    "import matplotlib.pyplot as plt\n",
    "fig = plt.figure(figsize = (15, 5))\n",
    "plt.plot(btc['Close'], color = 'red')\n",
    "plt.title('BTC Close Price')"
   ]
  },
  {
   "cell_type": "markdown",
   "id": "26e3ea99-b62c-41a3-8b4d-b17a13d75f97",
   "metadata": {
    "tags": []
   },
   "source": [
    "### 2.2: 用plotly畫走勢圖\n",
    "沒有plotly套件可以用以下指令安裝\n",
    "- pip install plotly\n",
    "- jupyter labextension install jupyterlab-plotly"
   ]
  },
  {
   "cell_type": "code",
   "execution_count": 31,
   "id": "89060cda-d342-40fe-b04f-3272ece83c88",
   "metadata": {},
   "outputs": [
    {
     "data": {
      "application/vnd.plotly.v1+json": {
       "config": {
        "plotlyServerURL": "https://plot.ly"
       },
       "data": [
        {
         "hovertemplate": "variable=Close<br>Datetime=%{x}<br>value=%{y}<extra></extra>",
         "legendgroup": "Close",
         "line": {
          "color": "#636efa",
          "dash": "solid"
         },
         "marker": {
          "symbol": "circle"
         },
         "mode": "lines",
         "name": "Close",
         "orientation": "v",
         "showlegend": true,
         "type": "scatter",
         "x": [
          "2022-02-27T00:00:00+00:00",
          "2022-02-27T00:05:00+00:00",
          "2022-02-27T00:10:00+00:00",
          "2022-02-27T00:15:00+00:00",
          "2022-02-27T00:20:00+00:00",
          "2022-02-27T00:25:00+00:00",
          "2022-02-27T00:30:00+00:00",
          "2022-02-27T00:35:00+00:00",
          "2022-02-27T00:40:00+00:00",
          "2022-02-27T00:45:00+00:00",
          "2022-02-27T00:50:00+00:00",
          "2022-02-27T00:55:00+00:00",
          "2022-02-27T01:00:00+00:00",
          "2022-02-27T01:05:00+00:00",
          "2022-02-27T01:10:00+00:00",
          "2022-02-27T01:15:00+00:00",
          "2022-02-27T01:20:00+00:00",
          "2022-02-27T01:25:00+00:00",
          "2022-02-27T01:30:00+00:00",
          "2022-02-27T01:35:00+00:00",
          "2022-02-27T01:40:00+00:00",
          "2022-02-27T01:45:00+00:00",
          "2022-02-27T01:50:00+00:00",
          "2022-02-27T01:55:00+00:00",
          "2022-02-27T02:00:00+00:00",
          "2022-02-27T02:05:00+00:00",
          "2022-02-27T02:10:00+00:00",
          "2022-02-27T02:15:00+00:00",
          "2022-02-27T02:20:00+00:00",
          "2022-02-27T02:25:00+00:00",
          "2022-02-27T02:30:00+00:00",
          "2022-02-27T02:35:00+00:00",
          "2022-02-27T02:40:00+00:00",
          "2022-02-27T02:45:00+00:00",
          "2022-02-27T02:50:00+00:00",
          "2022-02-27T02:55:00+00:00",
          "2022-02-27T03:00:00+00:00",
          "2022-02-27T03:05:00+00:00",
          "2022-02-27T03:10:00+00:00",
          "2022-02-27T03:15:00+00:00",
          "2022-02-27T03:20:00+00:00",
          "2022-02-27T03:25:00+00:00",
          "2022-02-27T03:30:00+00:00",
          "2022-02-27T03:35:00+00:00",
          "2022-02-27T03:40:00+00:00",
          "2022-02-27T03:44:00+00:00"
         ],
         "xaxis": "x",
         "y": [
          39078.0546875,
          39082.42578125,
          39167.390625,
          39213.78515625,
          39183.984375,
          39066.2421875,
          38870.7109375,
          38867.32421875,
          38857.1484375,
          38820.11328125,
          38843.2734375,
          38877.79296875,
          38851.54296875,
          38619.09375,
          38450.70703125,
          38537.96875,
          38515.01953125,
          38498.671875,
          38482.6171875,
          38486.11328125,
          38499.26953125,
          38505.76171875,
          38484.10546875,
          38442.703125,
          38344.7578125,
          38408.91796875,
          38436.421875,
          38471.18359375,
          38464.37890625,
          38479.234375,
          38515.7421875,
          38541,
          38536.14453125,
          38515.87890625,
          38549.3515625,
          38578.3515625,
          38592.234375,
          38607.0234375,
          38622.62109375,
          38605.29296875,
          38623.3359375,
          38656.0390625,
          38650.87890625,
          38619.265625,
          38630.94140625,
          38628.3046875
         ],
         "yaxis": "y"
        }
       ],
       "layout": {
        "autosize": true,
        "legend": {
         "title": {
          "text": "variable"
         },
         "tracegroupgap": 0
        },
        "template": {
         "data": {
          "bar": [
           {
            "error_x": {
             "color": "#2a3f5f"
            },
            "error_y": {
             "color": "#2a3f5f"
            },
            "marker": {
             "line": {
              "color": "#E5ECF6",
              "width": 0.5
             },
             "pattern": {
              "fillmode": "overlay",
              "size": 10,
              "solidity": 0.2
             }
            },
            "type": "bar"
           }
          ],
          "barpolar": [
           {
            "marker": {
             "line": {
              "color": "#E5ECF6",
              "width": 0.5
             },
             "pattern": {
              "fillmode": "overlay",
              "size": 10,
              "solidity": 0.2
             }
            },
            "type": "barpolar"
           }
          ],
          "carpet": [
           {
            "aaxis": {
             "endlinecolor": "#2a3f5f",
             "gridcolor": "white",
             "linecolor": "white",
             "minorgridcolor": "white",
             "startlinecolor": "#2a3f5f"
            },
            "baxis": {
             "endlinecolor": "#2a3f5f",
             "gridcolor": "white",
             "linecolor": "white",
             "minorgridcolor": "white",
             "startlinecolor": "#2a3f5f"
            },
            "type": "carpet"
           }
          ],
          "choropleth": [
           {
            "colorbar": {
             "outlinewidth": 0,
             "ticks": ""
            },
            "type": "choropleth"
           }
          ],
          "contour": [
           {
            "colorbar": {
             "outlinewidth": 0,
             "ticks": ""
            },
            "colorscale": [
             [
              0,
              "#0d0887"
             ],
             [
              0.1111111111111111,
              "#46039f"
             ],
             [
              0.2222222222222222,
              "#7201a8"
             ],
             [
              0.3333333333333333,
              "#9c179e"
             ],
             [
              0.4444444444444444,
              "#bd3786"
             ],
             [
              0.5555555555555556,
              "#d8576b"
             ],
             [
              0.6666666666666666,
              "#ed7953"
             ],
             [
              0.7777777777777778,
              "#fb9f3a"
             ],
             [
              0.8888888888888888,
              "#fdca26"
             ],
             [
              1,
              "#f0f921"
             ]
            ],
            "type": "contour"
           }
          ],
          "contourcarpet": [
           {
            "colorbar": {
             "outlinewidth": 0,
             "ticks": ""
            },
            "type": "contourcarpet"
           }
          ],
          "heatmap": [
           {
            "colorbar": {
             "outlinewidth": 0,
             "ticks": ""
            },
            "colorscale": [
             [
              0,
              "#0d0887"
             ],
             [
              0.1111111111111111,
              "#46039f"
             ],
             [
              0.2222222222222222,
              "#7201a8"
             ],
             [
              0.3333333333333333,
              "#9c179e"
             ],
             [
              0.4444444444444444,
              "#bd3786"
             ],
             [
              0.5555555555555556,
              "#d8576b"
             ],
             [
              0.6666666666666666,
              "#ed7953"
             ],
             [
              0.7777777777777778,
              "#fb9f3a"
             ],
             [
              0.8888888888888888,
              "#fdca26"
             ],
             [
              1,
              "#f0f921"
             ]
            ],
            "type": "heatmap"
           }
          ],
          "heatmapgl": [
           {
            "colorbar": {
             "outlinewidth": 0,
             "ticks": ""
            },
            "colorscale": [
             [
              0,
              "#0d0887"
             ],
             [
              0.1111111111111111,
              "#46039f"
             ],
             [
              0.2222222222222222,
              "#7201a8"
             ],
             [
              0.3333333333333333,
              "#9c179e"
             ],
             [
              0.4444444444444444,
              "#bd3786"
             ],
             [
              0.5555555555555556,
              "#d8576b"
             ],
             [
              0.6666666666666666,
              "#ed7953"
             ],
             [
              0.7777777777777778,
              "#fb9f3a"
             ],
             [
              0.8888888888888888,
              "#fdca26"
             ],
             [
              1,
              "#f0f921"
             ]
            ],
            "type": "heatmapgl"
           }
          ],
          "histogram": [
           {
            "marker": {
             "pattern": {
              "fillmode": "overlay",
              "size": 10,
              "solidity": 0.2
             }
            },
            "type": "histogram"
           }
          ],
          "histogram2d": [
           {
            "colorbar": {
             "outlinewidth": 0,
             "ticks": ""
            },
            "colorscale": [
             [
              0,
              "#0d0887"
             ],
             [
              0.1111111111111111,
              "#46039f"
             ],
             [
              0.2222222222222222,
              "#7201a8"
             ],
             [
              0.3333333333333333,
              "#9c179e"
             ],
             [
              0.4444444444444444,
              "#bd3786"
             ],
             [
              0.5555555555555556,
              "#d8576b"
             ],
             [
              0.6666666666666666,
              "#ed7953"
             ],
             [
              0.7777777777777778,
              "#fb9f3a"
             ],
             [
              0.8888888888888888,
              "#fdca26"
             ],
             [
              1,
              "#f0f921"
             ]
            ],
            "type": "histogram2d"
           }
          ],
          "histogram2dcontour": [
           {
            "colorbar": {
             "outlinewidth": 0,
             "ticks": ""
            },
            "colorscale": [
             [
              0,
              "#0d0887"
             ],
             [
              0.1111111111111111,
              "#46039f"
             ],
             [
              0.2222222222222222,
              "#7201a8"
             ],
             [
              0.3333333333333333,
              "#9c179e"
             ],
             [
              0.4444444444444444,
              "#bd3786"
             ],
             [
              0.5555555555555556,
              "#d8576b"
             ],
             [
              0.6666666666666666,
              "#ed7953"
             ],
             [
              0.7777777777777778,
              "#fb9f3a"
             ],
             [
              0.8888888888888888,
              "#fdca26"
             ],
             [
              1,
              "#f0f921"
             ]
            ],
            "type": "histogram2dcontour"
           }
          ],
          "mesh3d": [
           {
            "colorbar": {
             "outlinewidth": 0,
             "ticks": ""
            },
            "type": "mesh3d"
           }
          ],
          "parcoords": [
           {
            "line": {
             "colorbar": {
              "outlinewidth": 0,
              "ticks": ""
             }
            },
            "type": "parcoords"
           }
          ],
          "pie": [
           {
            "automargin": true,
            "type": "pie"
           }
          ],
          "scatter": [
           {
            "marker": {
             "colorbar": {
              "outlinewidth": 0,
              "ticks": ""
             }
            },
            "type": "scatter"
           }
          ],
          "scatter3d": [
           {
            "line": {
             "colorbar": {
              "outlinewidth": 0,
              "ticks": ""
             }
            },
            "marker": {
             "colorbar": {
              "outlinewidth": 0,
              "ticks": ""
             }
            },
            "type": "scatter3d"
           }
          ],
          "scattercarpet": [
           {
            "marker": {
             "colorbar": {
              "outlinewidth": 0,
              "ticks": ""
             }
            },
            "type": "scattercarpet"
           }
          ],
          "scattergeo": [
           {
            "marker": {
             "colorbar": {
              "outlinewidth": 0,
              "ticks": ""
             }
            },
            "type": "scattergeo"
           }
          ],
          "scattergl": [
           {
            "marker": {
             "colorbar": {
              "outlinewidth": 0,
              "ticks": ""
             }
            },
            "type": "scattergl"
           }
          ],
          "scattermapbox": [
           {
            "marker": {
             "colorbar": {
              "outlinewidth": 0,
              "ticks": ""
             }
            },
            "type": "scattermapbox"
           }
          ],
          "scatterpolar": [
           {
            "marker": {
             "colorbar": {
              "outlinewidth": 0,
              "ticks": ""
             }
            },
            "type": "scatterpolar"
           }
          ],
          "scatterpolargl": [
           {
            "marker": {
             "colorbar": {
              "outlinewidth": 0,
              "ticks": ""
             }
            },
            "type": "scatterpolargl"
           }
          ],
          "scatterternary": [
           {
            "marker": {
             "colorbar": {
              "outlinewidth": 0,
              "ticks": ""
             }
            },
            "type": "scatterternary"
           }
          ],
          "surface": [
           {
            "colorbar": {
             "outlinewidth": 0,
             "ticks": ""
            },
            "colorscale": [
             [
              0,
              "#0d0887"
             ],
             [
              0.1111111111111111,
              "#46039f"
             ],
             [
              0.2222222222222222,
              "#7201a8"
             ],
             [
              0.3333333333333333,
              "#9c179e"
             ],
             [
              0.4444444444444444,
              "#bd3786"
             ],
             [
              0.5555555555555556,
              "#d8576b"
             ],
             [
              0.6666666666666666,
              "#ed7953"
             ],
             [
              0.7777777777777778,
              "#fb9f3a"
             ],
             [
              0.8888888888888888,
              "#fdca26"
             ],
             [
              1,
              "#f0f921"
             ]
            ],
            "type": "surface"
           }
          ],
          "table": [
           {
            "cells": {
             "fill": {
              "color": "#EBF0F8"
             },
             "line": {
              "color": "white"
             }
            },
            "header": {
             "fill": {
              "color": "#C8D4E3"
             },
             "line": {
              "color": "white"
             }
            },
            "type": "table"
           }
          ]
         },
         "layout": {
          "annotationdefaults": {
           "arrowcolor": "#2a3f5f",
           "arrowhead": 0,
           "arrowwidth": 1
          },
          "autotypenumbers": "strict",
          "coloraxis": {
           "colorbar": {
            "outlinewidth": 0,
            "ticks": ""
           }
          },
          "colorscale": {
           "diverging": [
            [
             0,
             "#8e0152"
            ],
            [
             0.1,
             "#c51b7d"
            ],
            [
             0.2,
             "#de77ae"
            ],
            [
             0.3,
             "#f1b6da"
            ],
            [
             0.4,
             "#fde0ef"
            ],
            [
             0.5,
             "#f7f7f7"
            ],
            [
             0.6,
             "#e6f5d0"
            ],
            [
             0.7,
             "#b8e186"
            ],
            [
             0.8,
             "#7fbc41"
            ],
            [
             0.9,
             "#4d9221"
            ],
            [
             1,
             "#276419"
            ]
           ],
           "sequential": [
            [
             0,
             "#0d0887"
            ],
            [
             0.1111111111111111,
             "#46039f"
            ],
            [
             0.2222222222222222,
             "#7201a8"
            ],
            [
             0.3333333333333333,
             "#9c179e"
            ],
            [
             0.4444444444444444,
             "#bd3786"
            ],
            [
             0.5555555555555556,
             "#d8576b"
            ],
            [
             0.6666666666666666,
             "#ed7953"
            ],
            [
             0.7777777777777778,
             "#fb9f3a"
            ],
            [
             0.8888888888888888,
             "#fdca26"
            ],
            [
             1,
             "#f0f921"
            ]
           ],
           "sequentialminus": [
            [
             0,
             "#0d0887"
            ],
            [
             0.1111111111111111,
             "#46039f"
            ],
            [
             0.2222222222222222,
             "#7201a8"
            ],
            [
             0.3333333333333333,
             "#9c179e"
            ],
            [
             0.4444444444444444,
             "#bd3786"
            ],
            [
             0.5555555555555556,
             "#d8576b"
            ],
            [
             0.6666666666666666,
             "#ed7953"
            ],
            [
             0.7777777777777778,
             "#fb9f3a"
            ],
            [
             0.8888888888888888,
             "#fdca26"
            ],
            [
             1,
             "#f0f921"
            ]
           ]
          },
          "colorway": [
           "#636efa",
           "#EF553B",
           "#00cc96",
           "#ab63fa",
           "#FFA15A",
           "#19d3f3",
           "#FF6692",
           "#B6E880",
           "#FF97FF",
           "#FECB52"
          ],
          "font": {
           "color": "#2a3f5f"
          },
          "geo": {
           "bgcolor": "white",
           "lakecolor": "white",
           "landcolor": "#E5ECF6",
           "showlakes": true,
           "showland": true,
           "subunitcolor": "white"
          },
          "hoverlabel": {
           "align": "left"
          },
          "hovermode": "closest",
          "mapbox": {
           "style": "light"
          },
          "paper_bgcolor": "white",
          "plot_bgcolor": "#E5ECF6",
          "polar": {
           "angularaxis": {
            "gridcolor": "white",
            "linecolor": "white",
            "ticks": ""
           },
           "bgcolor": "#E5ECF6",
           "radialaxis": {
            "gridcolor": "white",
            "linecolor": "white",
            "ticks": ""
           }
          },
          "scene": {
           "xaxis": {
            "backgroundcolor": "#E5ECF6",
            "gridcolor": "white",
            "gridwidth": 2,
            "linecolor": "white",
            "showbackground": true,
            "ticks": "",
            "zerolinecolor": "white"
           },
           "yaxis": {
            "backgroundcolor": "#E5ECF6",
            "gridcolor": "white",
            "gridwidth": 2,
            "linecolor": "white",
            "showbackground": true,
            "ticks": "",
            "zerolinecolor": "white"
           },
           "zaxis": {
            "backgroundcolor": "#E5ECF6",
            "gridcolor": "white",
            "gridwidth": 2,
            "linecolor": "white",
            "showbackground": true,
            "ticks": "",
            "zerolinecolor": "white"
           }
          },
          "shapedefaults": {
           "line": {
            "color": "#2a3f5f"
           }
          },
          "ternary": {
           "aaxis": {
            "gridcolor": "white",
            "linecolor": "white",
            "ticks": ""
           },
           "baxis": {
            "gridcolor": "white",
            "linecolor": "white",
            "ticks": ""
           },
           "bgcolor": "#E5ECF6",
           "caxis": {
            "gridcolor": "white",
            "linecolor": "white",
            "ticks": ""
           }
          },
          "title": {
           "x": 0.05
          },
          "xaxis": {
           "automargin": true,
           "gridcolor": "white",
           "linecolor": "white",
           "ticks": "",
           "title": {
            "standoff": 15
           },
           "zerolinecolor": "white",
           "zerolinewidth": 2
          },
          "yaxis": {
           "automargin": true,
           "gridcolor": "white",
           "linecolor": "white",
           "ticks": "",
           "title": {
            "standoff": 15
           },
           "zerolinecolor": "white",
           "zerolinewidth": 2
          }
         }
        },
        "title": {
         "text": "比特幣收盤價"
        },
        "xaxis": {
         "anchor": "y",
         "autorange": true,
         "domain": [
          0,
          1
         ],
         "range": [
          "2022-02-27",
          "2022-02-27 03:44"
         ],
         "title": {
          "text": "Datetime"
         },
         "type": "date"
        },
        "yaxis": {
         "anchor": "x",
         "autorange": true,
         "domain": [
          0,
          1
         ],
         "range": [
          38296.478515625,
          39262.064453125
         ],
         "title": {
          "text": "value"
         },
         "type": "linear"
        }
       }
      },
      "image/png": "[encoded data removed]",
      "text/html": [
       "<div>                            <div id=\"a8314bea-e0a7-4570-b803-4c185fdd76d8\" class=\"plotly-graph-div\" style=\"height:525px; width:100%;\"></div>            <script type=\"text/javascript\">                require([\"plotly\"], function(Plotly) {                    window.PLOTLYENV=window.PLOTLYENV || {};                                    if (document.getElementById(\"a8314bea-e0a7-4570-b803-4c185fdd76d8\")) {                    Plotly.newPlot(                        \"a8314bea-e0a7-4570-b803-4c185fdd76d8\",                        [{\"hovertemplate\":\"variable=Close<br>Datetime=%{x}<br>value=%{y}<extra></extra>\",\"legendgroup\":\"Close\",\"line\":{\"color\":\"#636efa\",\"dash\":\"solid\"},\"marker\":{\"symbol\":\"circle\"},\"mode\":\"lines\",\"name\":\"Close\",\"orientation\":\"v\",\"showlegend\":true,\"x\":[\"2022-02-27T00:00:00+00:00\",\"2022-02-27T00:05:00+00:00\",\"2022-02-27T00:10:00+00:00\",\"2022-02-27T00:15:00+00:00\",\"2022-02-27T00:20:00+00:00\",\"2022-02-27T00:25:00+00:00\",\"2022-02-27T00:30:00+00:00\",\"2022-02-27T00:35:00+00:00\",\"2022-02-27T00:40:00+00:00\",\"2022-02-27T00:45:00+00:00\",\"2022-02-27T00:50:00+00:00\",\"2022-02-27T00:55:00+00:00\",\"2022-02-27T01:00:00+00:00\",\"2022-02-27T01:05:00+00:00\",\"2022-02-27T01:10:00+00:00\",\"2022-02-27T01:15:00+00:00\",\"2022-02-27T01:20:00+00:00\",\"2022-02-27T01:25:00+00:00\",\"2022-02-27T01:30:00+00:00\",\"2022-02-27T01:35:00+00:00\",\"2022-02-27T01:40:00+00:00\",\"2022-02-27T01:45:00+00:00\",\"2022-02-27T01:50:00+00:00\",\"2022-02-27T01:55:00+00:00\",\"2022-02-27T02:00:00+00:00\",\"2022-02-27T02:05:00+00:00\",\"2022-02-27T02:10:00+00:00\",\"2022-02-27T02:15:00+00:00\",\"2022-02-27T02:20:00+00:00\",\"2022-02-27T02:25:00+00:00\",\"2022-02-27T02:30:00+00:00\",\"2022-02-27T02:35:00+00:00\",\"2022-02-27T02:40:00+00:00\",\"2022-02-27T02:45:00+00:00\",\"2022-02-27T02:50:00+00:00\",\"2022-02-27T02:55:00+00:00\",\"2022-02-27T03:00:00+00:00\",\"2022-02-27T03:05:00+00:00\",\"2022-02-27T03:10:00+00:00\",\"2022-02-27T03:15:00+00:00\",\"2022-02-27T03:20:00+00:00\",\"2022-02-27T03:25:00+00:00\",\"2022-02-27T03:30:00+00:00\",\"2022-02-27T03:35:00+00:00\",\"2022-02-27T03:40:00+00:00\",\"2022-02-27T03:44:00+00:00\"],\"xaxis\":\"x\",\"y\":[39078.0546875,39082.42578125,39167.390625,39213.78515625,39183.984375,39066.2421875,38870.7109375,38867.32421875,38857.1484375,38820.11328125,38843.2734375,38877.79296875,38851.54296875,38619.09375,38450.70703125,38537.96875,38515.01953125,38498.671875,38482.6171875,38486.11328125,38499.26953125,38505.76171875,38484.10546875,38442.703125,38344.7578125,38408.91796875,38436.421875,38471.18359375,38464.37890625,38479.234375,38515.7421875,38541.0,38536.14453125,38515.87890625,38549.3515625,38578.3515625,38592.234375,38607.0234375,38622.62109375,38605.29296875,38623.3359375,38656.0390625,38650.87890625,38619.265625,38630.94140625,38628.3046875],\"yaxis\":\"y\",\"type\":\"scatter\"}],                        {\"template\":{\"data\":{\"bar\":[{\"error_x\":{\"color\":\"#2a3f5f\"},\"error_y\":{\"color\":\"#2a3f5f\"},\"marker\":{\"line\":{\"color\":\"#E5ECF6\",\"width\":0.5},\"pattern\":{\"fillmode\":\"overlay\",\"size\":10,\"solidity\":0.2}},\"type\":\"bar\"}],\"barpolar\":[{\"marker\":{\"line\":{\"color\":\"#E5ECF6\",\"width\":0.5},\"pattern\":{\"fillmode\":\"overlay\",\"size\":10,\"solidity\":0.2}},\"type\":\"barpolar\"}],\"carpet\":[{\"aaxis\":{\"endlinecolor\":\"#2a3f5f\",\"gridcolor\":\"white\",\"linecolor\":\"white\",\"minorgridcolor\":\"white\",\"startlinecolor\":\"#2a3f5f\"},\"baxis\":{\"endlinecolor\":\"#2a3f5f\",\"gridcolor\":\"white\",\"linecolor\":\"white\",\"minorgridcolor\":\"white\",\"startlinecolor\":\"#2a3f5f\"},\"type\":\"carpet\"}],\"choropleth\":[{\"colorbar\":{\"outlinewidth\":0,\"ticks\":\"\"},\"type\":\"choropleth\"}],\"contour\":[{\"colorbar\":{\"outlinewidth\":0,\"ticks\":\"\"},\"colorscale\":[[0.0,\"#0d0887\"],[0.1111111111111111,\"#46039f\"],[0.2222222222222222,\"#7201a8\"],[0.3333333333333333,\"#9c179e\"],[0.4444444444444444,\"#bd3786\"],[0.5555555555555556,\"#d8576b\"],[0.6666666666666666,\"#ed7953\"],[0.7777777777777778,\"#fb9f3a\"],[0.8888888888888888,\"#fdca26\"],[1.0,\"#f0f921\"]],\"type\":\"contour\"}],\"contourcarpet\":[{\"colorbar\":{\"outlinewidth\":0,\"ticks\":\"\"},\"type\":\"contourcarpet\"}],\"heatmap\":[{\"colorbar\":{\"outlinewidth\":0,\"ticks\":\"\"},\"colorscale\":[[0.0,\"#0d0887\"],[0.1111111111111111,\"#46039f\"],[0.2222222222222222,\"#7201a8\"],[0.3333333333333333,\"#9c179e\"],[0.4444444444444444,\"#bd3786\"],[0.5555555555555556,\"#d8576b\"],[0.6666666666666666,\"#ed7953\"],[0.7777777777777778,\"#fb9f3a\"],[0.8888888888888888,\"#fdca26\"],[1.0,\"#f0f921\"]],\"type\":\"heatmap\"}],\"heatmapgl\":[{\"colorbar\":{\"outlinewidth\":0,\"ticks\":\"\"},\"colorscale\":[[0.0,\"#0d0887\"],[0.1111111111111111,\"#46039f\"],[0.2222222222222222,\"#7201a8\"],[0.3333333333333333,\"#9c179e\"],[0.4444444444444444,\"#bd3786\"],[0.5555555555555556,\"#d8576b\"],[0.6666666666666666,\"#ed7953\"],[0.7777777777777778,\"#fb9f3a\"],[0.8888888888888888,\"#fdca26\"],[1.0,\"#f0f921\"]],\"type\":\"heatmapgl\"}],\"histogram\":[{\"marker\":{\"pattern\":{\"fillmode\":\"overlay\",\"size\":10,\"solidity\":0.2}},\"type\":\"histogram\"}],\"histogram2d\":[{\"colorbar\":{\"outlinewidth\":0,\"ticks\":\"\"},\"colorscale\":[[0.0,\"#0d0887\"],[0.1111111111111111,\"#46039f\"],[0.2222222222222222,\"#7201a8\"],[0.3333333333333333,\"#9c179e\"],[0.4444444444444444,\"#bd3786\"],[0.5555555555555556,\"#d8576b\"],[0.6666666666666666,\"#ed7953\"],[0.7777777777777778,\"#fb9f3a\"],[0.8888888888888888,\"#fdca26\"],[1.0,\"#f0f921\"]],\"type\":\"histogram2d\"}],\"histogram2dcontour\":[{\"colorbar\":{\"outlinewidth\":0,\"ticks\":\"\"},\"colorscale\":[[0.0,\"#0d0887\"],[0.1111111111111111,\"#46039f\"],[0.2222222222222222,\"#7201a8\"],[0.3333333333333333,\"#9c179e\"],[0.4444444444444444,\"#bd3786\"],[0.5555555555555556,\"#d8576b\"],[0.6666666666666666,\"#ed7953\"],[0.7777777777777778,\"#fb9f3a\"],[0.8888888888888888,\"#fdca26\"],[1.0,\"#f0f921\"]],\"type\":\"histogram2dcontour\"}],\"mesh3d\":[{\"colorbar\":{\"outlinewidth\":0,\"ticks\":\"\"},\"type\":\"mesh3d\"}],\"parcoords\":[{\"line\":{\"colorbar\":{\"outlinewidth\":0,\"ticks\":\"\"}},\"type\":\"parcoords\"}],\"pie\":[{\"automargin\":true,\"type\":\"pie\"}],\"scatter\":[{\"marker\":{\"colorbar\":{\"outlinewidth\":0,\"ticks\":\"\"}},\"type\":\"scatter\"}],\"scatter3d\":[{\"line\":{\"colorbar\":{\"outlinewidth\":0,\"ticks\":\"\"}},\"marker\":{\"colorbar\":{\"outlinewidth\":0,\"ticks\":\"\"}},\"type\":\"scatter3d\"}],\"scattercarpet\":[{\"marker\":{\"colorbar\":{\"outlinewidth\":0,\"ticks\":\"\"}},\"type\":\"scattercarpet\"}],\"scattergeo\":[{\"marker\":{\"colorbar\":{\"outlinewidth\":0,\"ticks\":\"\"}},\"type\":\"scattergeo\"}],\"scattergl\":[{\"marker\":{\"colorbar\":{\"outlinewidth\":0,\"ticks\":\"\"}},\"type\":\"scattergl\"}],\"scattermapbox\":[{\"marker\":{\"colorbar\":{\"outlinewidth\":0,\"ticks\":\"\"}},\"type\":\"scattermapbox\"}],\"scatterpolar\":[{\"marker\":{\"colorbar\":{\"outlinewidth\":0,\"ticks\":\"\"}},\"type\":\"scatterpolar\"}],\"scatterpolargl\":[{\"marker\":{\"colorbar\":{\"outlinewidth\":0,\"ticks\":\"\"}},\"type\":\"scatterpolargl\"}],\"scatterternary\":[{\"marker\":{\"colorbar\":{\"outlinewidth\":0,\"ticks\":\"\"}},\"type\":\"scatterternary\"}],\"surface\":[{\"colorbar\":{\"outlinewidth\":0,\"ticks\":\"\"},\"colorscale\":[[0.0,\"#0d0887\"],[0.1111111111111111,\"#46039f\"],[0.2222222222222222,\"#7201a8\"],[0.3333333333333333,\"#9c179e\"],[0.4444444444444444,\"#bd3786\"],[0.5555555555555556,\"#d8576b\"],[0.6666666666666666,\"#ed7953\"],[0.7777777777777778,\"#fb9f3a\"],[0.8888888888888888,\"#fdca26\"],[1.0,\"#f0f921\"]],\"type\":\"surface\"}],\"table\":[{\"cells\":{\"fill\":{\"color\":\"#EBF0F8\"},\"line\":{\"color\":\"white\"}},\"header\":{\"fill\":{\"color\":\"#C8D4E3\"},\"line\":{\"color\":\"white\"}},\"type\":\"table\"}]},\"layout\":{\"annotationdefaults\":{\"arrowcolor\":\"#2a3f5f\",\"arrowhead\":0,\"arrowwidth\":1},\"autotypenumbers\":\"strict\",\"coloraxis\":{\"colorbar\":{\"outlinewidth\":0,\"ticks\":\"\"}},\"colorscale\":{\"diverging\":[[0,\"#8e0152\"],[0.1,\"#c51b7d\"],[0.2,\"#de77ae\"],[0.3,\"#f1b6da\"],[0.4,\"#fde0ef\"],[0.5,\"#f7f7f7\"],[0.6,\"#e6f5d0\"],[0.7,\"#b8e186\"],[0.8,\"#7fbc41\"],[0.9,\"#4d9221\"],[1,\"#276419\"]],\"sequential\":[[0.0,\"#0d0887\"],[0.1111111111111111,\"#46039f\"],[0.2222222222222222,\"#7201a8\"],[0.3333333333333333,\"#9c179e\"],[0.4444444444444444,\"#bd3786\"],[0.5555555555555556,\"#d8576b\"],[0.6666666666666666,\"#ed7953\"],[0.7777777777777778,\"#fb9f3a\"],[0.8888888888888888,\"#fdca26\"],[1.0,\"#f0f921\"]],\"sequentialminus\":[[0.0,\"#0d0887\"],[0.1111111111111111,\"#46039f\"],[0.2222222222222222,\"#7201a8\"],[0.3333333333333333,\"#9c179e\"],[0.4444444444444444,\"#bd3786\"],[0.5555555555555556,\"#d8576b\"],[0.6666666666666666,\"#ed7953\"],[0.7777777777777778,\"#fb9f3a\"],[0.8888888888888888,\"#fdca26\"],[1.0,\"#f0f921\"]]},\"colorway\":[\"#636efa\",\"#EF553B\",\"#00cc96\",\"#ab63fa\",\"#FFA15A\",\"#19d3f3\",\"#FF6692\",\"#B6E880\",\"#FF97FF\",\"#FECB52\"],\"font\":{\"color\":\"#2a3f5f\"},\"geo\":{\"bgcolor\":\"white\",\"lakecolor\":\"white\",\"landcolor\":\"#E5ECF6\",\"showlakes\":true,\"showland\":true,\"subunitcolor\":\"white\"},\"hoverlabel\":{\"align\":\"left\"},\"hovermode\":\"closest\",\"mapbox\":{\"style\":\"light\"},\"paper_bgcolor\":\"white\",\"plot_bgcolor\":\"#E5ECF6\",\"polar\":{\"angularaxis\":{\"gridcolor\":\"white\",\"linecolor\":\"white\",\"ticks\":\"\"},\"bgcolor\":\"#E5ECF6\",\"radialaxis\":{\"gridcolor\":\"white\",\"linecolor\":\"white\",\"ticks\":\"\"}},\"scene\":{\"xaxis\":{\"backgroundcolor\":\"#E5ECF6\",\"gridcolor\":\"white\",\"gridwidth\":2,\"linecolor\":\"white\",\"showbackground\":true,\"ticks\":\"\",\"zerolinecolor\":\"white\"},\"yaxis\":{\"backgroundcolor\":\"#E5ECF6\",\"gridcolor\":\"white\",\"gridwidth\":2,\"linecolor\":\"white\",\"showbackground\":true,\"ticks\":\"\",\"zerolinecolor\":\"white\"},\"zaxis\":{\"backgroundcolor\":\"#E5ECF6\",\"gridcolor\":\"white\",\"gridwidth\":2,\"linecolor\":\"white\",\"showbackground\":true,\"ticks\":\"\",\"zerolinecolor\":\"white\"}},\"shapedefaults\":{\"line\":{\"color\":\"#2a3f5f\"}},\"ternary\":{\"aaxis\":{\"gridcolor\":\"white\",\"linecolor\":\"white\",\"ticks\":\"\"},\"baxis\":{\"gridcolor\":\"white\",\"linecolor\":\"white\",\"ticks\":\"\"},\"bgcolor\":\"#E5ECF6\",\"caxis\":{\"gridcolor\":\"white\",\"linecolor\":\"white\",\"ticks\":\"\"}},\"title\":{\"x\":0.05},\"xaxis\":{\"automargin\":true,\"gridcolor\":\"white\",\"linecolor\":\"white\",\"ticks\":\"\",\"title\":{\"standoff\":15},\"zerolinecolor\":\"white\",\"zerolinewidth\":2},\"yaxis\":{\"automargin\":true,\"gridcolor\":\"white\",\"linecolor\":\"white\",\"ticks\":\"\",\"title\":{\"standoff\":15},\"zerolinecolor\":\"white\",\"zerolinewidth\":2}}},\"xaxis\":{\"anchor\":\"y\",\"domain\":[0.0,1.0],\"title\":{\"text\":\"Datetime\"}},\"yaxis\":{\"anchor\":\"x\",\"domain\":[0.0,1.0],\"title\":{\"text\":\"value\"}},\"legend\":{\"title\":{\"text\":\"variable\"},\"tracegroupgap\":0},\"title\":{\"text\":\"\\u6bd4\\u7279\\u5e63\\u6536\\u76e4\\u50f9\"}},                        {\"responsive\": true}                    ).then(function(){\n",
       "                            \n",
       "var gd = document.getElementById('a8314bea-e0a7-4570-b803-4c185fdd76d8');\n",
       "var x = new MutationObserver(function (mutations, observer) {{\n",
       "        var display = window.getComputedStyle(gd).display;\n",
       "        if (!display || display === 'none') {{\n",
       "            console.log([gd, 'removed!']);\n",
       "            Plotly.purge(gd);\n",
       "            observer.disconnect();\n",
       "        }}\n",
       "}});\n",
       "\n",
       "// Listen for the removal of the full notebook cells\n",
       "var notebookContainer = gd.closest('#notebook-container');\n",
       "if (notebookContainer) {{\n",
       "    x.observe(notebookContainer, {childList: true});\n",
       "}}\n",
       "\n",
       "// Listen for the clearing of the current output cell\n",
       "var outputEl = gd.closest('.output');\n",
       "if (outputEl) {{\n",
       "    x.observe(outputEl, {childList: true});\n",
       "}}\n",
       "\n",
       "                        })                };                });            </script>        </div>"
      ]
     },
     "metadata": {},
     "output_type": "display_data"
    }
   ],
   "source": [
    "import plotly.express as px\n",
    "fig = px.line(btc['Close'], title = \"比特幣收盤價\")\n",
    "fig.show()"
   ]
  },
  {
   "cell_type": "markdown",
   "id": "d4b8009a-045e-42cb-a09c-e9f13a7ee69c",
   "metadata": {
    "tags": []
   },
   "source": [
    "## Part 3: 畫出加密貨幣K線圖"
   ]
  },
  {
   "cell_type": "code",
   "execution_count": 33,
   "id": "91076d58-ac5a-4359-a8aa-a74f471552b2",
   "metadata": {},
   "outputs": [
    {
     "data": {
      "application/vnd.plotly.v1+json": {
       "config": {
        "plotlyServerURL": "https://plot.ly"
       },
       "data": [
        {
         "close": [
          39078.0546875,
          39082.42578125,
          39167.390625,
          39213.78515625,
          39183.984375,
          39066.2421875,
          38870.7109375,
          38867.32421875,
          38857.1484375,
          38820.11328125,
          38843.2734375,
          38877.79296875,
          38851.54296875,
          38619.09375,
          38450.70703125,
          38537.96875,
          38515.01953125,
          38498.671875,
          38482.6171875,
          38486.11328125,
          38499.26953125,
          38505.76171875,
          38484.10546875,
          38442.703125,
          38344.7578125,
          38408.91796875,
          38436.421875,
          38471.18359375,
          38464.37890625,
          38479.234375,
          38515.7421875,
          38541,
          38536.14453125,
          38515.87890625,
          38549.3515625,
          38578.3515625,
          38592.234375,
          38607.0234375,
          38622.62109375,
          38605.29296875,
          38623.3359375,
          38656.0390625,
          38650.87890625,
          38619.265625,
          38630.94140625,
          38628.3046875
         ],
         "decreasing": {
          "line": {
           "color": "green"
          }
         },
         "high": [
          39116.53515625,
          39082.42578125,
          39167.390625,
          39213.78515625,
          39216.59375,
          39151.1640625,
          39059.734375,
          38889.85546875,
          38857.1484375,
          38860.65234375,
          38843.2734375,
          38891.8515625,
          38851.54296875,
          38790.6328125,
          38538.58203125,
          38537.96875,
          38534.03515625,
          38526.58203125,
          38486.7109375,
          38493.5078125,
          38499.26953125,
          38508.56640625,
          38502.30859375,
          38474.859375,
          38393.29296875,
          38408.91796875,
          38436.421875,
          38471.18359375,
          38487.0546875,
          38479.234375,
          38515.7421875,
          38541,
          38558.19921875,
          38539.44140625,
          38554.64453125,
          38578.3515625,
          38592.234375,
          38609.48046875,
          38622.62109375,
          38606.47265625,
          38623.3359375,
          38656.0390625,
          38652.375,
          38638.9921875,
          38630.94140625,
          38628.3046875
         ],
         "increasing": {
          "line": {
           "color": "red"
          }
         },
         "low": [
          39078.0546875,
          39070.12890625,
          39140.70703125,
          39187.64453125,
          39183.984375,
          39066.2421875,
          38870.7109375,
          38867.32421875,
          38804.546875,
          38820.11328125,
          38822.23828125,
          38855.74609375,
          38831.09375,
          38619.09375,
          38432.84375,
          38461.53515625,
          38515.01953125,
          38498.671875,
          38431.078125,
          38486.11328125,
          38440.05078125,
          38505.76171875,
          38484.10546875,
          38442.703125,
          38293.5,
          38370.08203125,
          38414.37890625,
          38442.19140625,
          38464.37890625,
          38449.90234375,
          38485.15625,
          38539.20703125,
          38536.14453125,
          38515.87890625,
          38521.37109375,
          38550.30078125,
          38547.76953125,
          38594.359375,
          38602.55859375,
          38605.29296875,
          38597.9296875,
          38645.484375,
          38650.87890625,
          38618.48046875,
          38628.140625,
          38628.3046875
         ],
         "open": [
          39098.69921875,
          39074.78125,
          39141.71484375,
          39192.046875,
          39216.59375,
          39151.1640625,
          39059.734375,
          38889.85546875,
          38804.546875,
          38860.65234375,
          38829.35546875,
          38855.74609375,
          38831.09375,
          38790.6328125,
          38538.58203125,
          38461.53515625,
          38534.03515625,
          38513.67578125,
          38486.7109375,
          38493.5078125,
          38440.05078125,
          38508.56640625,
          38502.30859375,
          38465.98828125,
          38393.29296875,
          38370.08203125,
          38414.37890625,
          38451.3203125,
          38487.0546875,
          38449.90234375,
          38485.15625,
          38540.81640625,
          38558.19921875,
          38539.44140625,
          38521.37109375,
          38550.30078125,
          38574.625,
          38594.359375,
          38607.16015625,
          38605.375,
          38597.9296875,
          38645.484375,
          38650.93359375,
          38638.9921875,
          38628.140625,
          38628.3046875
         ],
         "type": "candlestick",
         "x": [
          "2022-02-27T00:00:00+00:00",
          "2022-02-27T00:05:00+00:00",
          "2022-02-27T00:10:00+00:00",
          "2022-02-27T00:15:00+00:00",
          "2022-02-27T00:20:00+00:00",
          "2022-02-27T00:25:00+00:00",
          "2022-02-27T00:30:00+00:00",
          "2022-02-27T00:35:00+00:00",
          "2022-02-27T00:40:00+00:00",
          "2022-02-27T00:45:00+00:00",
          "2022-02-27T00:50:00+00:00",
          "2022-02-27T00:55:00+00:00",
          "2022-02-27T01:00:00+00:00",
          "2022-02-27T01:05:00+00:00",
          "2022-02-27T01:10:00+00:00",
          "2022-02-27T01:15:00+00:00",
          "2022-02-27T01:20:00+00:00",
          "2022-02-27T01:25:00+00:00",
          "2022-02-27T01:30:00+00:00",
          "2022-02-27T01:35:00+00:00",
          "2022-02-27T01:40:00+00:00",
          "2022-02-27T01:45:00+00:00",
          "2022-02-27T01:50:00+00:00",
          "2022-02-27T01:55:00+00:00",
          "2022-02-27T02:00:00+00:00",
          "2022-02-27T02:05:00+00:00",
          "2022-02-27T02:10:00+00:00",
          "2022-02-27T02:15:00+00:00",
          "2022-02-27T02:20:00+00:00",
          "2022-02-27T02:25:00+00:00",
          "2022-02-27T02:30:00+00:00",
          "2022-02-27T02:35:00+00:00",
          "2022-02-27T02:40:00+00:00",
          "2022-02-27T02:45:00+00:00",
          "2022-02-27T02:50:00+00:00",
          "2022-02-27T02:55:00+00:00",
          "2022-02-27T03:00:00+00:00",
          "2022-02-27T03:05:00+00:00",
          "2022-02-27T03:10:00+00:00",
          "2022-02-27T03:15:00+00:00",
          "2022-02-27T03:20:00+00:00",
          "2022-02-27T03:25:00+00:00",
          "2022-02-27T03:30:00+00:00",
          "2022-02-27T03:35:00+00:00",
          "2022-02-27T03:40:00+00:00",
          "2022-02-27T03:44:00+00:00"
         ]
        }
       ],
       "layout": {
        "height": 500,
        "template": {
         "data": {
          "bar": [
           {
            "error_x": {
             "color": "#2a3f5f"
            },
            "error_y": {
             "color": "#2a3f5f"
            },
            "marker": {
             "line": {
              "color": "#E5ECF6",
              "width": 0.5
             },
             "pattern": {
              "fillmode": "overlay",
              "size": 10,
              "solidity": 0.2
             }
            },
            "type": "bar"
           }
          ],
          "barpolar": [
           {
            "marker": {
             "line": {
              "color": "#E5ECF6",
              "width": 0.5
             },
             "pattern": {
              "fillmode": "overlay",
              "size": 10,
              "solidity": 0.2
             }
            },
            "type": "barpolar"
           }
          ],
          "carpet": [
           {
            "aaxis": {
             "endlinecolor": "#2a3f5f",
             "gridcolor": "white",
             "linecolor": "white",
             "minorgridcolor": "white",
             "startlinecolor": "#2a3f5f"
            },
            "baxis": {
             "endlinecolor": "#2a3f5f",
             "gridcolor": "white",
             "linecolor": "white",
             "minorgridcolor": "white",
             "startlinecolor": "#2a3f5f"
            },
            "type": "carpet"
           }
          ],
          "choropleth": [
           {
            "colorbar": {
             "outlinewidth": 0,
             "ticks": ""
            },
            "type": "choropleth"
           }
          ],
          "contour": [
           {
            "colorbar": {
             "outlinewidth": 0,
             "ticks": ""
            },
            "colorscale": [
             [
              0,
              "#0d0887"
             ],
             [
              0.1111111111111111,
              "#46039f"
             ],
             [
              0.2222222222222222,
              "#7201a8"
             ],
             [
              0.3333333333333333,
              "#9c179e"
             ],
             [
              0.4444444444444444,
              "#bd3786"
             ],
             [
              0.5555555555555556,
              "#d8576b"
             ],
             [
              0.6666666666666666,
              "#ed7953"
             ],
             [
              0.7777777777777778,
              "#fb9f3a"
             ],
             [
              0.8888888888888888,
              "#fdca26"
             ],
             [
              1,
              "#f0f921"
             ]
            ],
            "type": "contour"
           }
          ],
          "contourcarpet": [
           {
            "colorbar": {
             "outlinewidth": 0,
             "ticks": ""
            },
            "type": "contourcarpet"
           }
          ],
          "heatmap": [
           {
            "colorbar": {
             "outlinewidth": 0,
             "ticks": ""
            },
            "colorscale": [
             [
              0,
              "#0d0887"
             ],
             [
              0.1111111111111111,
              "#46039f"
             ],
             [
              0.2222222222222222,
              "#7201a8"
             ],
             [
              0.3333333333333333,
              "#9c179e"
             ],
             [
              0.4444444444444444,
              "#bd3786"
             ],
             [
              0.5555555555555556,
              "#d8576b"
             ],
             [
              0.6666666666666666,
              "#ed7953"
             ],
             [
              0.7777777777777778,
              "#fb9f3a"
             ],
             [
              0.8888888888888888,
              "#fdca26"
             ],
             [
              1,
              "#f0f921"
             ]
            ],
            "type": "heatmap"
           }
          ],
          "heatmapgl": [
           {
            "colorbar": {
             "outlinewidth": 0,
             "ticks": ""
            },
            "colorscale": [
             [
              0,
              "#0d0887"
             ],
             [
              0.1111111111111111,
              "#46039f"
             ],
             [
              0.2222222222222222,
              "#7201a8"
             ],
             [
              0.3333333333333333,
              "#9c179e"
             ],
             [
              0.4444444444444444,
              "#bd3786"
             ],
             [
              0.5555555555555556,
              "#d8576b"
             ],
             [
              0.6666666666666666,
              "#ed7953"
             ],
             [
              0.7777777777777778,
              "#fb9f3a"
             ],
             [
              0.8888888888888888,
              "#fdca26"
             ],
             [
              1,
              "#f0f921"
             ]
            ],
            "type": "heatmapgl"
           }
          ],
          "histogram": [
           {
            "marker": {
             "pattern": {
              "fillmode": "overlay",
              "size": 10,
              "solidity": 0.2
             }
            },
            "type": "histogram"
           }
          ],
          "histogram2d": [
           {
            "colorbar": {
             "outlinewidth": 0,
             "ticks": ""
            },
            "colorscale": [
             [
              0,
              "#0d0887"
             ],
             [
              0.1111111111111111,
              "#46039f"
             ],
             [
              0.2222222222222222,
              "#7201a8"
             ],
             [
              0.3333333333333333,
              "#9c179e"
             ],
             [
              0.4444444444444444,
              "#bd3786"
             ],
             [
              0.5555555555555556,
              "#d8576b"
             ],
             [
              0.6666666666666666,
              "#ed7953"
             ],
             [
              0.7777777777777778,
              "#fb9f3a"
             ],
             [
              0.8888888888888888,
              "#fdca26"
             ],
             [
              1,
              "#f0f921"
             ]
            ],
            "type": "histogram2d"
           }
          ],
          "histogram2dcontour": [
           {
            "colorbar": {
             "outlinewidth": 0,
             "ticks": ""
            },
            "colorscale": [
             [
              0,
              "#0d0887"
             ],
             [
              0.1111111111111111,
              "#46039f"
             ],
             [
              0.2222222222222222,
              "#7201a8"
             ],
             [
              0.3333333333333333,
              "#9c179e"
             ],
             [
              0.4444444444444444,
              "#bd3786"
             ],
             [
              0.5555555555555556,
              "#d8576b"
             ],
             [
              0.6666666666666666,
              "#ed7953"
             ],
             [
              0.7777777777777778,
              "#fb9f3a"
             ],
             [
              0.8888888888888888,
              "#fdca26"
             ],
             [
              1,
              "#f0f921"
             ]
            ],
            "type": "histogram2dcontour"
           }
          ],
          "mesh3d": [
           {
            "colorbar": {
             "outlinewidth": 0,
             "ticks": ""
            },
            "type": "mesh3d"
           }
          ],
          "parcoords": [
           {
            "line": {
             "colorbar": {
              "outlinewidth": 0,
              "ticks": ""
             }
            },
            "type": "parcoords"
           }
          ],
          "pie": [
           {
            "automargin": true,
            "type": "pie"
           }
          ],
          "scatter": [
           {
            "marker": {
             "colorbar": {
              "outlinewidth": 0,
              "ticks": ""
             }
            },
            "type": "scatter"
           }
          ],
          "scatter3d": [
           {
            "line": {
             "colorbar": {
              "outlinewidth": 0,
              "ticks": ""
             }
            },
            "marker": {
             "colorbar": {
              "outlinewidth": 0,
              "ticks": ""
             }
            },
            "type": "scatter3d"
           }
          ],
          "scattercarpet": [
           {
            "marker": {
             "colorbar": {
              "outlinewidth": 0,
              "ticks": ""
             }
            },
            "type": "scattercarpet"
           }
          ],
          "scattergeo": [
           {
            "marker": {
             "colorbar": {
              "outlinewidth": 0,
              "ticks": ""
             }
            },
            "type": "scattergeo"
           }
          ],
          "scattergl": [
           {
            "marker": {
             "colorbar": {
              "outlinewidth": 0,
              "ticks": ""
             }
            },
            "type": "scattergl"
           }
          ],
          "scattermapbox": [
           {
            "marker": {
             "colorbar": {
              "outlinewidth": 0,
              "ticks": ""
             }
            },
            "type": "scattermapbox"
           }
          ],
          "scatterpolar": [
           {
            "marker": {
             "colorbar": {
              "outlinewidth": 0,
              "ticks": ""
             }
            },
            "type": "scatterpolar"
           }
          ],
          "scatterpolargl": [
           {
            "marker": {
             "colorbar": {
              "outlinewidth": 0,
              "ticks": ""
             }
            },
            "type": "scatterpolargl"
           }
          ],
          "scatterternary": [
           {
            "marker": {
             "colorbar": {
              "outlinewidth": 0,
              "ticks": ""
             }
            },
            "type": "scatterternary"
           }
          ],
          "surface": [
           {
            "colorbar": {
             "outlinewidth": 0,
             "ticks": ""
            },
            "colorscale": [
             [
              0,
              "#0d0887"
             ],
             [
              0.1111111111111111,
              "#46039f"
             ],
             [
              0.2222222222222222,
              "#7201a8"
             ],
             [
              0.3333333333333333,
              "#9c179e"
             ],
             [
              0.4444444444444444,
              "#bd3786"
             ],
             [
              0.5555555555555556,
              "#d8576b"
             ],
             [
              0.6666666666666666,
              "#ed7953"
             ],
             [
              0.7777777777777778,
              "#fb9f3a"
             ],
             [
              0.8888888888888888,
              "#fdca26"
             ],
             [
              1,
              "#f0f921"
             ]
            ],
            "type": "surface"
           }
          ],
          "table": [
           {
            "cells": {
             "fill": {
              "color": "#EBF0F8"
             },
             "line": {
              "color": "white"
             }
            },
            "header": {
             "fill": {
              "color": "#C8D4E3"
             },
             "line": {
              "color": "white"
             }
            },
            "type": "table"
           }
          ]
         },
         "layout": {
          "annotationdefaults": {
           "arrowcolor": "#2a3f5f",
           "arrowhead": 0,
           "arrowwidth": 1
          },
          "autotypenumbers": "strict",
          "coloraxis": {
           "colorbar": {
            "outlinewidth": 0,
            "ticks": ""
           }
          },
          "colorscale": {
           "diverging": [
            [
             0,
             "#8e0152"
            ],
            [
             0.1,
             "#c51b7d"
            ],
            [
             0.2,
             "#de77ae"
            ],
            [
             0.3,
             "#f1b6da"
            ],
            [
             0.4,
             "#fde0ef"
            ],
            [
             0.5,
             "#f7f7f7"
            ],
            [
             0.6,
             "#e6f5d0"
            ],
            [
             0.7,
             "#b8e186"
            ],
            [
             0.8,
             "#7fbc41"
            ],
            [
             0.9,
             "#4d9221"
            ],
            [
             1,
             "#276419"
            ]
           ],
           "sequential": [
            [
             0,
             "#0d0887"
            ],
            [
             0.1111111111111111,
             "#46039f"
            ],
            [
             0.2222222222222222,
             "#7201a8"
            ],
            [
             0.3333333333333333,
             "#9c179e"
            ],
            [
             0.4444444444444444,
             "#bd3786"
            ],
            [
             0.5555555555555556,
             "#d8576b"
            ],
            [
             0.6666666666666666,
             "#ed7953"
            ],
            [
             0.7777777777777778,
             "#fb9f3a"
            ],
            [
             0.8888888888888888,
             "#fdca26"
            ],
            [
             1,
             "#f0f921"
            ]
           ],
           "sequentialminus": [
            [
             0,
             "#0d0887"
            ],
            [
             0.1111111111111111,
             "#46039f"
            ],
            [
             0.2222222222222222,
             "#7201a8"
            ],
            [
             0.3333333333333333,
             "#9c179e"
            ],
            [
             0.4444444444444444,
             "#bd3786"
            ],
            [
             0.5555555555555556,
             "#d8576b"
            ],
            [
             0.6666666666666666,
             "#ed7953"
            ],
            [
             0.7777777777777778,
             "#fb9f3a"
            ],
            [
             0.8888888888888888,
             "#fdca26"
            ],
            [
             1,
             "#f0f921"
            ]
           ]
          },
          "colorway": [
           "#636efa",
           "#EF553B",
           "#00cc96",
           "#ab63fa",
           "#FFA15A",
           "#19d3f3",
           "#FF6692",
           "#B6E880",
           "#FF97FF",
           "#FECB52"
          ],
          "font": {
           "color": "#2a3f5f"
          },
          "geo": {
           "bgcolor": "white",
           "lakecolor": "white",
           "landcolor": "#E5ECF6",
           "showlakes": true,
           "showland": true,
           "subunitcolor": "white"
          },
          "hoverlabel": {
           "align": "left"
          },
          "hovermode": "closest",
          "mapbox": {
           "style": "light"
          },
          "paper_bgcolor": "white",
          "plot_bgcolor": "#E5ECF6",
          "polar": {
           "angularaxis": {
            "gridcolor": "white",
            "linecolor": "white",
            "ticks": ""
           },
           "bgcolor": "#E5ECF6",
           "radialaxis": {
            "gridcolor": "white",
            "linecolor": "white",
            "ticks": ""
           }
          },
          "scene": {
           "xaxis": {
            "backgroundcolor": "#E5ECF6",
            "gridcolor": "white",
            "gridwidth": 2,
            "linecolor": "white",
            "showbackground": true,
            "ticks": "",
            "zerolinecolor": "white"
           },
           "yaxis": {
            "backgroundcolor": "#E5ECF6",
            "gridcolor": "white",
            "gridwidth": 2,
            "linecolor": "white",
            "showbackground": true,
            "ticks": "",
            "zerolinecolor": "white"
           },
           "zaxis": {
            "backgroundcolor": "#E5ECF6",
            "gridcolor": "white",
            "gridwidth": 2,
            "linecolor": "white",
            "showbackground": true,
            "ticks": "",
            "zerolinecolor": "white"
           }
          },
          "shapedefaults": {
           "line": {
            "color": "#2a3f5f"
           }
          },
          "ternary": {
           "aaxis": {
            "gridcolor": "white",
            "linecolor": "white",
            "ticks": ""
           },
           "baxis": {
            "gridcolor": "white",
            "linecolor": "white",
            "ticks": ""
           },
           "bgcolor": "#E5ECF6",
           "caxis": {
            "gridcolor": "white",
            "linecolor": "white",
            "ticks": ""
           }
          },
          "title": {
           "x": 0.05
          },
          "xaxis": {
           "automargin": true,
           "gridcolor": "white",
           "linecolor": "white",
           "ticks": "",
           "title": {
            "standoff": 15
           },
           "zerolinecolor": "white",
           "zerolinewidth": 2
          },
          "yaxis": {
           "automargin": true,
           "gridcolor": "white",
           "linecolor": "white",
           "ticks": "",
           "title": {
            "standoff": 15
           },
           "zerolinecolor": "white",
           "zerolinewidth": 2
          }
         }
        },
        "title": {
         "text": "比特幣K線圖"
        },
        "width": 800,
        "xaxis": {
         "autorange": true,
         "range": [
          "2022-02-26 23:58",
          "2022-02-27 03:46"
         ],
         "rangeslider": {
          "autorange": true,
          "range": [
           "2022-02-26 23:58",
           "2022-02-27 03:46"
          ],
          "yaxis": {
           "_template": null,
           "rangemode": "match"
          }
         },
         "type": "date"
        },
        "yaxis": {
         "autorange": true,
         "range": [
          38242.21701388889,
          39267.87673611111
         ]
        }
       }
      },
      "image/png": "[encoded data removed]",
      "text/html": [
       "<div>                            <div id=\"acbef3c7-e502-498d-9718-a5342fc6fce1\" class=\"plotly-graph-div\" style=\"height:500px; width:800px;\"></div>            <script type=\"text/javascript\">                require([\"plotly\"], function(Plotly) {                    window.PLOTLYENV=window.PLOTLYENV || {};                                    if (document.getElementById(\"acbef3c7-e502-498d-9718-a5342fc6fce1\")) {                    Plotly.newPlot(                        \"acbef3c7-e502-498d-9718-a5342fc6fce1\",                        [{\"close\":[39078.0546875,39082.42578125,39167.390625,39213.78515625,39183.984375,39066.2421875,38870.7109375,38867.32421875,38857.1484375,38820.11328125,38843.2734375,38877.79296875,38851.54296875,38619.09375,38450.70703125,38537.96875,38515.01953125,38498.671875,38482.6171875,38486.11328125,38499.26953125,38505.76171875,38484.10546875,38442.703125,38344.7578125,38408.91796875,38436.421875,38471.18359375,38464.37890625,38479.234375,38515.7421875,38541.0,38536.14453125,38515.87890625,38549.3515625,38578.3515625,38592.234375,38607.0234375,38622.62109375,38605.29296875,38623.3359375,38656.0390625,38650.87890625,38619.265625,38630.94140625,38628.3046875],\"decreasing\":{\"line\":{\"color\":\"green\"}},\"high\":[39116.53515625,39082.42578125,39167.390625,39213.78515625,39216.59375,39151.1640625,39059.734375,38889.85546875,38857.1484375,38860.65234375,38843.2734375,38891.8515625,38851.54296875,38790.6328125,38538.58203125,38537.96875,38534.03515625,38526.58203125,38486.7109375,38493.5078125,38499.26953125,38508.56640625,38502.30859375,38474.859375,38393.29296875,38408.91796875,38436.421875,38471.18359375,38487.0546875,38479.234375,38515.7421875,38541.0,38558.19921875,38539.44140625,38554.64453125,38578.3515625,38592.234375,38609.48046875,38622.62109375,38606.47265625,38623.3359375,38656.0390625,38652.375,38638.9921875,38630.94140625,38628.3046875],\"increasing\":{\"line\":{\"color\":\"red\"}},\"low\":[39078.0546875,39070.12890625,39140.70703125,39187.64453125,39183.984375,39066.2421875,38870.7109375,38867.32421875,38804.546875,38820.11328125,38822.23828125,38855.74609375,38831.09375,38619.09375,38432.84375,38461.53515625,38515.01953125,38498.671875,38431.078125,38486.11328125,38440.05078125,38505.76171875,38484.10546875,38442.703125,38293.5,38370.08203125,38414.37890625,38442.19140625,38464.37890625,38449.90234375,38485.15625,38539.20703125,38536.14453125,38515.87890625,38521.37109375,38550.30078125,38547.76953125,38594.359375,38602.55859375,38605.29296875,38597.9296875,38645.484375,38650.87890625,38618.48046875,38628.140625,38628.3046875],\"open\":[39098.69921875,39074.78125,39141.71484375,39192.046875,39216.59375,39151.1640625,39059.734375,38889.85546875,38804.546875,38860.65234375,38829.35546875,38855.74609375,38831.09375,38790.6328125,38538.58203125,38461.53515625,38534.03515625,38513.67578125,38486.7109375,38493.5078125,38440.05078125,38508.56640625,38502.30859375,38465.98828125,38393.29296875,38370.08203125,38414.37890625,38451.3203125,38487.0546875,38449.90234375,38485.15625,38540.81640625,38558.19921875,38539.44140625,38521.37109375,38550.30078125,38574.625,38594.359375,38607.16015625,38605.375,38597.9296875,38645.484375,38650.93359375,38638.9921875,38628.140625,38628.3046875],\"x\":[\"2022-02-27T00:00:00+00:00\",\"2022-02-27T00:05:00+00:00\",\"2022-02-27T00:10:00+00:00\",\"2022-02-27T00:15:00+00:00\",\"2022-02-27T00:20:00+00:00\",\"2022-02-27T00:25:00+00:00\",\"2022-02-27T00:30:00+00:00\",\"2022-02-27T00:35:00+00:00\",\"2022-02-27T00:40:00+00:00\",\"2022-02-27T00:45:00+00:00\",\"2022-02-27T00:50:00+00:00\",\"2022-02-27T00:55:00+00:00\",\"2022-02-27T01:00:00+00:00\",\"2022-02-27T01:05:00+00:00\",\"2022-02-27T01:10:00+00:00\",\"2022-02-27T01:15:00+00:00\",\"2022-02-27T01:20:00+00:00\",\"2022-02-27T01:25:00+00:00\",\"2022-02-27T01:30:00+00:00\",\"2022-02-27T01:35:00+00:00\",\"2022-02-27T01:40:00+00:00\",\"2022-02-27T01:45:00+00:00\",\"2022-02-27T01:50:00+00:00\",\"2022-02-27T01:55:00+00:00\",\"2022-02-27T02:00:00+00:00\",\"2022-02-27T02:05:00+00:00\",\"2022-02-27T02:10:00+00:00\",\"2022-02-27T02:15:00+00:00\",\"2022-02-27T02:20:00+00:00\",\"2022-02-27T02:25:00+00:00\",\"2022-02-27T02:30:00+00:00\",\"2022-02-27T02:35:00+00:00\",\"2022-02-27T02:40:00+00:00\",\"2022-02-27T02:45:00+00:00\",\"2022-02-27T02:50:00+00:00\",\"2022-02-27T02:55:00+00:00\",\"2022-02-27T03:00:00+00:00\",\"2022-02-27T03:05:00+00:00\",\"2022-02-27T03:10:00+00:00\",\"2022-02-27T03:15:00+00:00\",\"2022-02-27T03:20:00+00:00\",\"2022-02-27T03:25:00+00:00\",\"2022-02-27T03:30:00+00:00\",\"2022-02-27T03:35:00+00:00\",\"2022-02-27T03:40:00+00:00\",\"2022-02-27T03:44:00+00:00\"],\"type\":\"candlestick\"}],                        {\"template\":{\"data\":{\"bar\":[{\"error_x\":{\"color\":\"#2a3f5f\"},\"error_y\":{\"color\":\"#2a3f5f\"},\"marker\":{\"line\":{\"color\":\"#E5ECF6\",\"width\":0.5},\"pattern\":{\"fillmode\":\"overlay\",\"size\":10,\"solidity\":0.2}},\"type\":\"bar\"}],\"barpolar\":[{\"marker\":{\"line\":{\"color\":\"#E5ECF6\",\"width\":0.5},\"pattern\":{\"fillmode\":\"overlay\",\"size\":10,\"solidity\":0.2}},\"type\":\"barpolar\"}],\"carpet\":[{\"aaxis\":{\"endlinecolor\":\"#2a3f5f\",\"gridcolor\":\"white\",\"linecolor\":\"white\",\"minorgridcolor\":\"white\",\"startlinecolor\":\"#2a3f5f\"},\"baxis\":{\"endlinecolor\":\"#2a3f5f\",\"gridcolor\":\"white\",\"linecolor\":\"white\",\"minorgridcolor\":\"white\",\"startlinecolor\":\"#2a3f5f\"},\"type\":\"carpet\"}],\"choropleth\":[{\"colorbar\":{\"outlinewidth\":0,\"ticks\":\"\"},\"type\":\"choropleth\"}],\"contour\":[{\"colorbar\":{\"outlinewidth\":0,\"ticks\":\"\"},\"colorscale\":[[0.0,\"#0d0887\"],[0.1111111111111111,\"#46039f\"],[0.2222222222222222,\"#7201a8\"],[0.3333333333333333,\"#9c179e\"],[0.4444444444444444,\"#bd3786\"],[0.5555555555555556,\"#d8576b\"],[0.6666666666666666,\"#ed7953\"],[0.7777777777777778,\"#fb9f3a\"],[0.8888888888888888,\"#fdca26\"],[1.0,\"#f0f921\"]],\"type\":\"contour\"}],\"contourcarpet\":[{\"colorbar\":{\"outlinewidth\":0,\"ticks\":\"\"},\"type\":\"contourcarpet\"}],\"heatmap\":[{\"colorbar\":{\"outlinewidth\":0,\"ticks\":\"\"},\"colorscale\":[[0.0,\"#0d0887\"],[0.1111111111111111,\"#46039f\"],[0.2222222222222222,\"#7201a8\"],[0.3333333333333333,\"#9c179e\"],[0.4444444444444444,\"#bd3786\"],[0.5555555555555556,\"#d8576b\"],[0.6666666666666666,\"#ed7953\"],[0.7777777777777778,\"#fb9f3a\"],[0.8888888888888888,\"#fdca26\"],[1.0,\"#f0f921\"]],\"type\":\"heatmap\"}],\"heatmapgl\":[{\"colorbar\":{\"outlinewidth\":0,\"ticks\":\"\"},\"colorscale\":[[0.0,\"#0d0887\"],[0.1111111111111111,\"#46039f\"],[0.2222222222222222,\"#7201a8\"],[0.3333333333333333,\"#9c179e\"],[0.4444444444444444,\"#bd3786\"],[0.5555555555555556,\"#d8576b\"],[0.6666666666666666,\"#ed7953\"],[0.7777777777777778,\"#fb9f3a\"],[0.8888888888888888,\"#fdca26\"],[1.0,\"#f0f921\"]],\"type\":\"heatmapgl\"}],\"histogram\":[{\"marker\":{\"pattern\":{\"fillmode\":\"overlay\",\"size\":10,\"solidity\":0.2}},\"type\":\"histogram\"}],\"histogram2d\":[{\"colorbar\":{\"outlinewidth\":0,\"ticks\":\"\"},\"colorscale\":[[0.0,\"#0d0887\"],[0.1111111111111111,\"#46039f\"],[0.2222222222222222,\"#7201a8\"],[0.3333333333333333,\"#9c179e\"],[0.4444444444444444,\"#bd3786\"],[0.5555555555555556,\"#d8576b\"],[0.6666666666666666,\"#ed7953\"],[0.7777777777777778,\"#fb9f3a\"],[0.8888888888888888,\"#fdca26\"],[1.0,\"#f0f921\"]],\"type\":\"histogram2d\"}],\"histogram2dcontour\":[{\"colorbar\":{\"outlinewidth\":0,\"ticks\":\"\"},\"colorscale\":[[0.0,\"#0d0887\"],[0.1111111111111111,\"#46039f\"],[0.2222222222222222,\"#7201a8\"],[0.3333333333333333,\"#9c179e\"],[0.4444444444444444,\"#bd3786\"],[0.5555555555555556,\"#d8576b\"],[0.6666666666666666,\"#ed7953\"],[0.7777777777777778,\"#fb9f3a\"],[0.8888888888888888,\"#fdca26\"],[1.0,\"#f0f921\"]],\"type\":\"histogram2dcontour\"}],\"mesh3d\":[{\"colorbar\":{\"outlinewidth\":0,\"ticks\":\"\"},\"type\":\"mesh3d\"}],\"parcoords\":[{\"line\":{\"colorbar\":{\"outlinewidth\":0,\"ticks\":\"\"}},\"type\":\"parcoords\"}],\"pie\":[{\"automargin\":true,\"type\":\"pie\"}],\"scatter\":[{\"marker\":{\"colorbar\":{\"outlinewidth\":0,\"ticks\":\"\"}},\"type\":\"scatter\"}],\"scatter3d\":[{\"line\":{\"colorbar\":{\"outlinewidth\":0,\"ticks\":\"\"}},\"marker\":{\"colorbar\":{\"outlinewidth\":0,\"ticks\":\"\"}},\"type\":\"scatter3d\"}],\"scattercarpet\":[{\"marker\":{\"colorbar\":{\"outlinewidth\":0,\"ticks\":\"\"}},\"type\":\"scattercarpet\"}],\"scattergeo\":[{\"marker\":{\"colorbar\":{\"outlinewidth\":0,\"ticks\":\"\"}},\"type\":\"scattergeo\"}],\"scattergl\":[{\"marker\":{\"colorbar\":{\"outlinewidth\":0,\"ticks\":\"\"}},\"type\":\"scattergl\"}],\"scattermapbox\":[{\"marker\":{\"colorbar\":{\"outlinewidth\":0,\"ticks\":\"\"}},\"type\":\"scattermapbox\"}],\"scatterpolar\":[{\"marker\":{\"colorbar\":{\"outlinewidth\":0,\"ticks\":\"\"}},\"type\":\"scatterpolar\"}],\"scatterpolargl\":[{\"marker\":{\"colorbar\":{\"outlinewidth\":0,\"ticks\":\"\"}},\"type\":\"scatterpolargl\"}],\"scatterternary\":[{\"marker\":{\"colorbar\":{\"outlinewidth\":0,\"ticks\":\"\"}},\"type\":\"scatterternary\"}],\"surface\":[{\"colorbar\":{\"outlinewidth\":0,\"ticks\":\"\"},\"colorscale\":[[0.0,\"#0d0887\"],[0.1111111111111111,\"#46039f\"],[0.2222222222222222,\"#7201a8\"],[0.3333333333333333,\"#9c179e\"],[0.4444444444444444,\"#bd3786\"],[0.5555555555555556,\"#d8576b\"],[0.6666666666666666,\"#ed7953\"],[0.7777777777777778,\"#fb9f3a\"],[0.8888888888888888,\"#fdca26\"],[1.0,\"#f0f921\"]],\"type\":\"surface\"}],\"table\":[{\"cells\":{\"fill\":{\"color\":\"#EBF0F8\"},\"line\":{\"color\":\"white\"}},\"header\":{\"fill\":{\"color\":\"#C8D4E3\"},\"line\":{\"color\":\"white\"}},\"type\":\"table\"}]},\"layout\":{\"annotationdefaults\":{\"arrowcolor\":\"#2a3f5f\",\"arrowhead\":0,\"arrowwidth\":1},\"autotypenumbers\":\"strict\",\"coloraxis\":{\"colorbar\":{\"outlinewidth\":0,\"ticks\":\"\"}},\"colorscale\":{\"diverging\":[[0,\"#8e0152\"],[0.1,\"#c51b7d\"],[0.2,\"#de77ae\"],[0.3,\"#f1b6da\"],[0.4,\"#fde0ef\"],[0.5,\"#f7f7f7\"],[0.6,\"#e6f5d0\"],[0.7,\"#b8e186\"],[0.8,\"#7fbc41\"],[0.9,\"#4d9221\"],[1,\"#276419\"]],\"sequential\":[[0.0,\"#0d0887\"],[0.1111111111111111,\"#46039f\"],[0.2222222222222222,\"#7201a8\"],[0.3333333333333333,\"#9c179e\"],[0.4444444444444444,\"#bd3786\"],[0.5555555555555556,\"#d8576b\"],[0.6666666666666666,\"#ed7953\"],[0.7777777777777778,\"#fb9f3a\"],[0.8888888888888888,\"#fdca26\"],[1.0,\"#f0f921\"]],\"sequentialminus\":[[0.0,\"#0d0887\"],[0.1111111111111111,\"#46039f\"],[0.2222222222222222,\"#7201a8\"],[0.3333333333333333,\"#9c179e\"],[0.4444444444444444,\"#bd3786\"],[0.5555555555555556,\"#d8576b\"],[0.6666666666666666,\"#ed7953\"],[0.7777777777777778,\"#fb9f3a\"],[0.8888888888888888,\"#fdca26\"],[1.0,\"#f0f921\"]]},\"colorway\":[\"#636efa\",\"#EF553B\",\"#00cc96\",\"#ab63fa\",\"#FFA15A\",\"#19d3f3\",\"#FF6692\",\"#B6E880\",\"#FF97FF\",\"#FECB52\"],\"font\":{\"color\":\"#2a3f5f\"},\"geo\":{\"bgcolor\":\"white\",\"lakecolor\":\"white\",\"landcolor\":\"#E5ECF6\",\"showlakes\":true,\"showland\":true,\"subunitcolor\":\"white\"},\"hoverlabel\":{\"align\":\"left\"},\"hovermode\":\"closest\",\"mapbox\":{\"style\":\"light\"},\"paper_bgcolor\":\"white\",\"plot_bgcolor\":\"#E5ECF6\",\"polar\":{\"angularaxis\":{\"gridcolor\":\"white\",\"linecolor\":\"white\",\"ticks\":\"\"},\"bgcolor\":\"#E5ECF6\",\"radialaxis\":{\"gridcolor\":\"white\",\"linecolor\":\"white\",\"ticks\":\"\"}},\"scene\":{\"xaxis\":{\"backgroundcolor\":\"#E5ECF6\",\"gridcolor\":\"white\",\"gridwidth\":2,\"linecolor\":\"white\",\"showbackground\":true,\"ticks\":\"\",\"zerolinecolor\":\"white\"},\"yaxis\":{\"backgroundcolor\":\"#E5ECF6\",\"gridcolor\":\"white\",\"gridwidth\":2,\"linecolor\":\"white\",\"showbackground\":true,\"ticks\":\"\",\"zerolinecolor\":\"white\"},\"zaxis\":{\"backgroundcolor\":\"#E5ECF6\",\"gridcolor\":\"white\",\"gridwidth\":2,\"linecolor\":\"white\",\"showbackground\":true,\"ticks\":\"\",\"zerolinecolor\":\"white\"}},\"shapedefaults\":{\"line\":{\"color\":\"#2a3f5f\"}},\"ternary\":{\"aaxis\":{\"gridcolor\":\"white\",\"linecolor\":\"white\",\"ticks\":\"\"},\"baxis\":{\"gridcolor\":\"white\",\"linecolor\":\"white\",\"ticks\":\"\"},\"bgcolor\":\"#E5ECF6\",\"caxis\":{\"gridcolor\":\"white\",\"linecolor\":\"white\",\"ticks\":\"\"}},\"title\":{\"x\":0.05},\"xaxis\":{\"automargin\":true,\"gridcolor\":\"white\",\"linecolor\":\"white\",\"ticks\":\"\",\"title\":{\"standoff\":15},\"zerolinecolor\":\"white\",\"zerolinewidth\":2},\"yaxis\":{\"automargin\":true,\"gridcolor\":\"white\",\"linecolor\":\"white\",\"ticks\":\"\",\"title\":{\"standoff\":15},\"zerolinecolor\":\"white\",\"zerolinewidth\":2}}},\"width\":800,\"height\":500,\"title\":{\"text\":\"\\u6bd4\\u7279\\u5e63K\\u7dda\\u5716\"}},                        {\"responsive\": true}                    ).then(function(){\n",
       "                            \n",
       "var gd = document.getElementById('acbef3c7-e502-498d-9718-a5342fc6fce1');\n",
       "var x = new MutationObserver(function (mutations, observer) {{\n",
       "        var display = window.getComputedStyle(gd).display;\n",
       "        if (!display || display === 'none') {{\n",
       "            console.log([gd, 'removed!']);\n",
       "            Plotly.purge(gd);\n",
       "            observer.disconnect();\n",
       "        }}\n",
       "}});\n",
       "\n",
       "// Listen for the removal of the full notebook cells\n",
       "var notebookContainer = gd.closest('#notebook-container');\n",
       "if (notebookContainer) {{\n",
       "    x.observe(notebookContainer, {childList: true});\n",
       "}}\n",
       "\n",
       "// Listen for the clearing of the current output cell\n",
       "var outputEl = gd.closest('.output');\n",
       "if (outputEl) {{\n",
       "    x.observe(outputEl, {childList: true});\n",
       "}}\n",
       "\n",
       "                        })                };                });            </script>        </div>"
      ]
     },
     "metadata": {},
     "output_type": "display_data"
    }
   ],
   "source": [
    "import plotly.graph_objects as go\n",
    "fig = go.Figure(data = go.Candlestick(x = btc.index,\n",
    "                                      open = btc['Open'],\n",
    "                                      high = btc['High'],\n",
    "                                      low = btc['Low'],\n",
    "                                      close = btc['Close'],\n",
    "                                      increasing_line_color = 'red',\n",
    "                                      decreasing_line_color = 'green'))\n",
    "\n",
    "fig.update_layout(width = 800, height = 500, title = \"比特幣K線圖\")\n",
    "fig.show()"
   ]
  },
  {
   "cell_type": "code",
   "execution_count": null,
   "id": "f8efca11-17b3-4b7b-99bd-bd2224c5d43b",
   "metadata": {},
   "outputs": [],
   "source": []
  }
 ],
 "metadata": {
  "kernelspec": {
   "display_name": "Python 3 (ipykernel)",
   "language": "python",
   "name": "python3"
  },
  "language_info": {
   "codemirror_mode": {
    "name": "ipython",
    "version": 3
   },
   "file_extension": ".py",
   "mimetype": "text/x-python",
   "name": "python",
   "nbconvert_exporter": "python",
   "pygments_lexer": "ipython3",
   "version": "3.9.7"
  }
 },
 "nbformat": 4,
 "nbformat_minor": 5
}
