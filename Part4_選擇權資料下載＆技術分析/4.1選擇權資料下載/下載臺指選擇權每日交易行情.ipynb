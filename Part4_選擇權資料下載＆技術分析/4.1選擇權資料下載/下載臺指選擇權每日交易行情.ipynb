{
 "cells": [
  {
   "cell_type": "markdown",
   "metadata": {},
   "source": [
    "# Part 0: Import 套件"
   ]
  },
  {
   "cell_type": "code",
   "execution_count": null,
   "metadata": {},
   "outputs": [],
   "source": [
    "#下載資料套件\n",
    "import urllib3\n",
    "from bs4 import BeautifulSoup\n",
    "\n",
    "#資料處理套件\n",
    "import pandas as pd\n",
    "from datetime import datetime, date\n",
    "\n",
    "#畫圖套件\n",
    "import matplotlib.pyplot as plt\n",
    "%matplotlib inline\n",
    "\n",
    "from plotly.subplots import make_subplots\n",
    "import plotly.graph_objects as go"
   ]
  },
  {
   "cell_type": "markdown",
   "metadata": {},
   "source": [
    "# Part 1: 下載期交所 臺指選擇權 每日交易行情"
   ]
  },
  {
   "cell_type": "markdown",
   "metadata": {},
   "source": [
    "### 股海小英雄youtube影片：[【Python 爬蟲】台指選擇權Put/Call比免費下載 (上)｜股市多空頭趨勢預測](https://youtu.be/RqodmAWC8EE)\n",
    "### 資料來源：[期交所 臺指選擇權 每日交易行情](https://www.taifex.com.tw/cht/3/dlOptDailyMarketView)"
   ]
  },
  {
   "cell_type": "markdown",
   "metadata": {},
   "source": [
    "**注意:查詢區間不可超過30日**"
   ]
  },
  {
   "cell_type": "markdown",
   "metadata": {
    "tags": []
   },
   "source": [
    "用urllib3下載選擇權每日交易行情資料"
   ]
  },
  {
   "cell_type": "code",
   "execution_count": null,
   "metadata": {},
   "outputs": [],
   "source": [
    "http = urllib3.PoolManager()\n",
    "url = \"https://www.taifex.com.tw/cht/3/dlOptDataDown\"\n",
    "res = http.request(\n",
    "     'POST',\n",
    "      url,\n",
    "      fields={\n",
    "         'down_type': 1,\n",
    "         'commodity_id': 'TXO',\n",
    "         'queryStartDate': '2021/08/04',\n",
    "         'queryEndDate': '2021/08/11'\n",
    "      }\n",
    " )\n",
    "\n",
    "html_doc = res.data\n",
    "html_doc"
   ]
  },
  {
   "cell_type": "markdown",
   "metadata": {},
   "source": [
    "用BeautifulSoup解析資料"
   ]
  },
  {
   "cell_type": "code",
   "execution_count": null,
   "metadata": {},
   "outputs": [],
   "source": [
    "soup = BeautifulSoup(html_doc, 'html.parser')\n",
    "soup"
   ]
  },
  {
   "cell_type": "markdown",
   "metadata": {},
   "source": [
    "把資料依行數切割"
   ]
  },
  {
   "cell_type": "code",
   "execution_count": null,
   "metadata": {},
   "outputs": [],
   "source": [
    "soup_str = str(soup)\n",
    "lines = soup_str.split('\\r\\n')\n",
    "\n",
    "for i in range(5):\n",
    "    print(lines[i])\n",
    "    print()"
   ]
  },
  {
   "cell_type": "markdown",
   "metadata": {},
   "source": [
    "把下載的選擇權每日交易行情資料存入dataframe內"
   ]
  },
  {
   "cell_type": "code",
   "execution_count": null,
   "metadata": {},
   "outputs": [],
   "source": [
    "# 新增空的dataframe,定義欄位名稱\n",
    "df = pd.DataFrame(columns = lines[0].split(','))\n",
    "\n",
    "# 把選擇權資料一行一行寫入dataframe內\n",
    "for i in range(1, len(lines) - 1):\n",
    "    list_ = lines[i].split(',')[:-1]\n",
    "    df_length = len(df)\n",
    "    df.loc[df_length] = list_\n",
    "\n",
    "#顯示dataframe前20行的資料    \n",
    "df.head(20)"
   ]
  },
  {
   "cell_type": "markdown",
   "metadata": {},
   "source": [
    "# Part 2: 將下載的臺指選擇權 每日交易行情 另存成csv檔"
   ]
  },
  {
   "cell_type": "code",
   "execution_count": null,
   "metadata": {},
   "outputs": [],
   "source": [
    "df.to_csv('options.csv')"
   ]
  },
  {
   "cell_type": "markdown",
   "metadata": {},
   "source": [
    "# Part 3: 畫出臺指選擇權每日交易行情"
   ]
  },
  {
   "cell_type": "markdown",
   "metadata": {},
   "source": [
    "### 資料轉型：把日期從字串(string)換成時間(datetime)/浮點數(float)"
   ]
  },
  {
   "cell_type": "code",
   "execution_count": null,
   "metadata": {},
   "outputs": [],
   "source": [
    "# 資料轉型\n",
    "for col in [0, 3, 5, 6, 7, 8, 9, 10, 11, 12, 13, 14, 15]:\n",
    "    for row in range(df.shape[0]):\n",
    "        # 把\"日期\"從字串(string)換成時間(datetime)\n",
    "        if col == 0:\n",
    "            day = df.iloc[row,0].split('/')\n",
    "            df.iloc[row, 0] = datetime(int(day[0]), int(day[1]), int(day[2]))  \n",
    "        # 把字串(string)換成浮點數(float): \"履約價\", \"開盤價\", \"最高價\", \"最低價\", \"收盤價\", \"成交量\", \"結算價\", \"未沖銷契約數\", \"最後最佳買價\", \"最後最佳賣價\", \"歷史最高價\", \"歷史最低價\" \n",
    "        elif col != 0 and df.iloc[row, col] != '-':\n",
    "            df.iloc[row, col] = float(df.iloc[row,col])"
   ]
  },
  {
   "cell_type": "markdown",
   "metadata": {},
   "source": [
    "### 資料篩選：取出臺指選擇權202108W2的資料"
   ]
  },
  {
   "cell_type": "code",
   "execution_count": null,
   "metadata": {},
   "outputs": [],
   "source": [
    "df.head(20)"
   ]
  },
  {
   "cell_type": "code",
   "execution_count": null,
   "metadata": {},
   "outputs": [],
   "source": [
    "df.describe()"
   ]
  },
  {
   "cell_type": "code",
   "execution_count": null,
   "metadata": {},
   "outputs": [],
   "source": [
    "df['到期月份(週別)'].unique()"
   ]
  },
  {
   "cell_type": "markdown",
   "metadata": {},
   "source": [
    "選到期月份(週別)是'202108W2'的資料"
   ]
  },
  {
   "cell_type": "code",
   "execution_count": null,
   "metadata": {},
   "outputs": [],
   "source": [
    "df.loc[df['到期月份(週別)'] == '202108W2']"
   ]
  },
  {
   "cell_type": "markdown",
   "metadata": {},
   "source": [
    "選到期月份(週別)是'202108W2'&買權的資料"
   ]
  },
  {
   "cell_type": "code",
   "execution_count": null,
   "metadata": {},
   "outputs": [],
   "source": [
    "df.loc[(df['到期月份(週別)']  == '202108W2') & (df['買賣權'] == '買權')]"
   ]
  },
  {
   "cell_type": "markdown",
   "metadata": {},
   "source": [
    "選到期月份(週別)是'202108W2'&買權&履約價17800的資料"
   ]
  },
  {
   "cell_type": "code",
   "execution_count": null,
   "metadata": {},
   "outputs": [],
   "source": [
    "df.loc[(df['到期月份(週別)']  == '202108W2') & (df['買賣權'] == '買權') & (df['履約價'] == 17800)]"
   ]
  },
  {
   "cell_type": "markdown",
   "metadata": {},
   "source": [
    "選到期月份(週別)是'202108W2'&買權&履約價17800&一般交易時段的資料"
   ]
  },
  {
   "cell_type": "code",
   "execution_count": null,
   "metadata": {},
   "outputs": [],
   "source": [
    "df.loc[(df['到期月份(週別)']  == '202108W2') & (df['買賣權'] == '買權') & (df['履約價'] == 17800) & (df['交易時段'] == '一般')]"
   ]
  },
  {
   "cell_type": "markdown",
   "metadata": {},
   "source": [
    "用get_options函式篩選資料"
   ]
  },
  {
   "cell_type": "code",
   "execution_count": null,
   "metadata": {},
   "outputs": [],
   "source": [
    "def get_options(option_df, contract_period, put_or_call, strike_price, trade_period):\n",
    "    \n",
    "    option_df = df.loc[(df['到期月份(週別)'] == contract_period) & \\\n",
    "                       (df['買賣權'] == put_or_call) & \\\n",
    "                       (df['履約價'] == strike_price) & \\\n",
    "                       (df['交易時段'] == trade_period)]\n",
    "    return option_df"
   ]
  },
  {
   "cell_type": "code",
   "execution_count": null,
   "metadata": {},
   "outputs": [],
   "source": [
    "get_options(df, '202108W2', '買權', 17800, '一般')"
   ]
  },
  {
   "cell_type": "markdown",
   "metadata": {},
   "source": [
    "拿選擇權履約價17400-17700的資料"
   ]
  },
  {
   "cell_type": "code",
   "execution_count": null,
   "metadata": {},
   "outputs": [],
   "source": [
    "txo_17400_c = get_options(df, '202108W2', '買權', 17400, '一般')\n",
    "txo_17500_c = get_options(df, '202108W2', '買權', 17500, '一般')\n",
    "txo_17600_c = get_options(df, '202108W2', '買權', 17600, '一般')\n",
    "txo_17700_c = get_options(df, '202108W2', '買權', 17700, '一般')\n",
    "\n",
    "\n",
    "txo_17400_p = get_options(df, '202108W2', '賣權', 17400, '一般')\n",
    "txo_17500_p = get_options(df, '202108W2', '賣權', 17500, '一般')\n",
    "txo_17600_p = get_options(df, '202108W2', '賣權', 17600, '一般')\n",
    "txo_17700_p = get_options(df, '202108W2', '賣權', 17700, '一般')"
   ]
  },
  {
   "cell_type": "markdown",
   "metadata": {},
   "source": [
    "### 用matplotlib套件：畫出選擇權202108W2走勢圖"
   ]
  },
  {
   "cell_type": "code",
   "execution_count": null,
   "metadata": {},
   "outputs": [],
   "source": [
    "fig = plt.figure(figsize = (20, 5))\n",
    "plt.title('TXO Option 202108W2 Call 17400 Historical Data')\n",
    "\n",
    "plt.plot(txo_17400_c['交易日期'], txo_17400_c['收盤價'])\n",
    "\n",
    "plt.legend(['Close'])"
   ]
  },
  {
   "cell_type": "markdown",
   "metadata": {},
   "source": [
    "### 用plotly套件：畫出選擇權202108W2各履約價走勢圖"
   ]
  },
  {
   "cell_type": "code",
   "execution_count": null,
   "metadata": {},
   "outputs": [],
   "source": [
    "# Initialize figure with subplots\n",
    "fig = make_subplots(\n",
    "    rows=7, cols=2, subplot_titles=(\"買權\", \"賣權\")\n",
    ")\n",
    "\n",
    "# Add traces\n",
    "fig.add_trace(go.Scatter(x = txo_17400_c[\"交易日期\"], y = txo_17400_c[\"收盤價\"], name = \"買權17400\"), row=1, col=1)\n",
    "fig.add_trace(go.Scatter(x = txo_17500_c[\"交易日期\"], y = txo_17500_c[\"收盤價\"], name = \"買權17500\"), row=2, col=1)\n",
    "fig.add_trace(go.Scatter(x = txo_17600_c[\"交易日期\"], y = txo_17600_c[\"收盤價\"], name = \"買權17600\"), row=3, col=1)\n",
    "fig.add_trace(go.Scatter(x = txo_17700_c[\"交易日期\"], y = txo_17700_c[\"收盤價\"], name = \"買權17700\"), row=4, col=1)\n",
    "\n",
    "fig.add_trace(go.Scatter(x = txo_17400_p[\"交易日期\"], y = txo_17400_p[\"收盤價\"], name = \"賣權17400\"), row=1, col=2)\n",
    "fig.add_trace(go.Scatter(x = txo_17500_p[\"交易日期\"], y = txo_17500_p[\"收盤價\"], name = \"賣權17500\"), row=2, col=2)\n",
    "fig.add_trace(go.Scatter(x = txo_17600_p[\"交易日期\"], y = txo_17600_p[\"收盤價\"], name = \"賣權17600\"), row=3, col=2)\n",
    "fig.add_trace(go.Scatter(x = txo_17700_p[\"交易日期\"], y = txo_17700_p[\"收盤價\"], name = \"賣權17700\"), row=4, col=2)\n",
    "\n",
    "# Update yaxis properties\n",
    "fig.update_yaxes(title_text=\"17400\", row=1, col=2)\n",
    "fig.update_yaxes(title_text=\"17500\", row=2, col=2)\n",
    "fig.update_yaxes(title_text=\"17600\", row=3, col=2)\n",
    "fig.update_yaxes(title_text=\"17700\", row=4, col=2)\n",
    "\n",
    "# Update title and height\n",
    "fig.update_layout(title_text=\"台指選 每日交易行情 - 202108W2\", width = 1000, height=2000)\n",
    "\n",
    "fig.show()"
   ]
  }
 ],
 "metadata": {
  "kernelspec": {
   "display_name": "Python 3",
   "language": "python",
   "name": "python3"
  },
  "language_info": {
   "codemirror_mode": {
    "name": "ipython",
    "version": 3
   },
   "file_extension": ".py",
   "mimetype": "text/x-python",
   "name": "python",
   "nbconvert_exporter": "python",
   "pygments_lexer": "ipython3",
   "version": "3.8.8"
  }
 },
 "nbformat": 4,
 "nbformat_minor": 4
}
