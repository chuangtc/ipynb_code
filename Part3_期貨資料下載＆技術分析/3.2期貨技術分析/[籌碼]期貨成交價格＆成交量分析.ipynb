{
 "cells": [
  {
   "cell_type": "markdown",
   "id": "9f1f1c1f-7bca-4cfc-b90e-2aba34edc7e4",
   "metadata": {},
   "source": [
    "# 「期貨」成交價格＆成交量分析\n",
    "資料來源：[期交所 期貨商買賣日報表](https://www.taifex.com.tw/cht/3/dailyFutures)"
   ]
  },
  {
   "cell_type": "markdown",
   "id": "c3d7c991-df34-4e87-b86a-095588597545",
   "metadata": {},
   "source": [
    "## Part 1: 讀取 期貨買賣日報表"
   ]
  },
  {
   "cell_type": "code",
   "execution_count": 1,
   "id": "b00c9ab8-65cc-495d-8679-da2fd51f3b4d",
   "metadata": {},
   "outputs": [],
   "source": [
    "import pandas as pd"
   ]
  },
  {
   "cell_type": "code",
   "execution_count": 21,
   "id": "f639949d-171a-4e16-b282-3332e81ee7d4",
   "metadata": {},
   "outputs": [
    {
     "data": {
      "text/html": [
       "<div>\n",
       "<style scoped>\n",
       "    .dataframe tbody tr th:only-of-type {\n",
       "        vertical-align: middle;\n",
       "    }\n",
       "\n",
       "    .dataframe tbody tr th {\n",
       "        vertical-align: top;\n",
       "    }\n",
       "\n",
       "    .dataframe thead th {\n",
       "        text-align: right;\n",
       "    }\n",
       "</style>\n",
       "<table border=\"1\" class=\"dataframe\">\n",
       "  <thead>\n",
       "    <tr style=\"text-align: right;\">\n",
       "      <th></th>\n",
       "      <th>成交價格</th>\n",
       "      <th>全市場成交量</th>\n",
       "      <th>買進期貨商代號</th>\n",
       "      <th>買進期貨商名稱</th>\n",
       "      <th>賣出期貨商代號</th>\n",
       "      <th>賣出期貨商名稱</th>\n",
       "    </tr>\n",
       "  </thead>\n",
       "  <tbody>\n",
       "    <tr>\n",
       "      <th>0</th>\n",
       "      <td>17522</td>\n",
       "      <td>1</td>\n",
       "      <td>F008</td>\n",
       "      <td>統一期貨</td>\n",
       "      <td>F026</td>\n",
       "      <td>富邦期貨</td>\n",
       "    </tr>\n",
       "    <tr>\n",
       "      <th>1</th>\n",
       "      <td>17523</td>\n",
       "      <td>1</td>\n",
       "      <td>S585</td>\n",
       "      <td>統一證券</td>\n",
       "      <td>F020</td>\n",
       "      <td>群益期貨</td>\n",
       "    </tr>\n",
       "    <tr>\n",
       "      <th>2</th>\n",
       "      <td>17524</td>\n",
       "      <td>12</td>\n",
       "      <td>F002</td>\n",
       "      <td>永豐期貨</td>\n",
       "      <td>F020</td>\n",
       "      <td>群益期貨</td>\n",
       "    </tr>\n",
       "    <tr>\n",
       "      <th>3</th>\n",
       "      <td></td>\n",
       "      <td></td>\n",
       "      <td>F004</td>\n",
       "      <td>凱基期貨</td>\n",
       "      <td>F026</td>\n",
       "      <td>富邦期貨</td>\n",
       "    </tr>\n",
       "    <tr>\n",
       "      <th>4</th>\n",
       "      <td></td>\n",
       "      <td></td>\n",
       "      <td>F021</td>\n",
       "      <td>元大期貨</td>\n",
       "      <td></td>\n",
       "      <td></td>\n",
       "    </tr>\n",
       "    <tr>\n",
       "      <th>...</th>\n",
       "      <td>...</td>\n",
       "      <td>...</td>\n",
       "      <td>...</td>\n",
       "      <td>...</td>\n",
       "      <td>...</td>\n",
       "      <td>...</td>\n",
       "    </tr>\n",
       "    <tr>\n",
       "      <th>5959</th>\n",
       "      <td></td>\n",
       "      <td></td>\n",
       "      <td></td>\n",
       "      <td></td>\n",
       "      <td>F026</td>\n",
       "      <td>富邦期貨</td>\n",
       "    </tr>\n",
       "    <tr>\n",
       "      <th>5960</th>\n",
       "      <td></td>\n",
       "      <td></td>\n",
       "      <td></td>\n",
       "      <td></td>\n",
       "      <td>F029</td>\n",
       "      <td>康和期貨</td>\n",
       "    </tr>\n",
       "    <tr>\n",
       "      <th>5961</th>\n",
       "      <td></td>\n",
       "      <td></td>\n",
       "      <td></td>\n",
       "      <td></td>\n",
       "      <td>F030</td>\n",
       "      <td>兆豐期貨</td>\n",
       "    </tr>\n",
       "    <tr>\n",
       "      <th>5962</th>\n",
       "      <td></td>\n",
       "      <td></td>\n",
       "      <td></td>\n",
       "      <td></td>\n",
       "      <td>F039</td>\n",
       "      <td>大昌期貨</td>\n",
       "    </tr>\n",
       "    <tr>\n",
       "      <th>5963</th>\n",
       "      <td></td>\n",
       "      <td></td>\n",
       "      <td></td>\n",
       "      <td></td>\n",
       "      <td>S585</td>\n",
       "      <td>統一證券</td>\n",
       "    </tr>\n",
       "  </tbody>\n",
       "</table>\n",
       "<p>5964 rows × 6 columns</p>\n",
       "</div>"
      ],
      "text/plain": [
       "       成交價格 全市場成交量 買進期貨商代號 買進期貨商名稱 賣出期貨商代號 賣出期貨商名稱 \n",
       "0     17522      1    F008    統一期貨    F026     富邦期貨\n",
       "1     17523      1    S585    統一證券    F020     群益期貨\n",
       "2     17524     12    F002    永豐期貨    F020     群益期貨\n",
       "3                     F004    凱基期貨    F026     富邦期貨\n",
       "4                     F021    元大期貨                 \n",
       "...     ...    ...     ...     ...     ...      ...\n",
       "5959                                  F026     富邦期貨\n",
       "5960                                  F029     康和期貨\n",
       "5961                                  F030     兆豐期貨\n",
       "5962                                  F039     大昌期貨\n",
       "5963                                  S585     統一證券\n",
       "\n",
       "[5964 rows x 6 columns]"
      ]
     },
     "execution_count": 21,
     "metadata": {},
     "output_type": "execute_result"
    }
   ],
   "source": [
    "df = pd.read_csv('20220304_TX_202203.csv', encoding = 'big5hkscs', skiprows = 1)\n",
    "df"
   ]
  },
  {
   "cell_type": "markdown",
   "id": "cc48e7f0-2c66-4dd6-9f57-dacb8c8ac749",
   "metadata": {},
   "source": [
    "# Part 2: 資料處理"
   ]
  },
  {
   "cell_type": "markdown",
   "id": "6d247a7a-9fec-4b17-8283-fe4ba788f1c3",
   "metadata": {},
   "source": [
    "#### 2.1: 選取 「成交價格」, 「全市場成交量」欄位"
   ]
  },
  {
   "cell_type": "code",
   "execution_count": 22,
   "id": "09a80e76-49a4-48c2-b660-40095b3ae2ee",
   "metadata": {},
   "outputs": [
    {
     "data": {
      "text/html": [
       "<div>\n",
       "<style scoped>\n",
       "    .dataframe tbody tr th:only-of-type {\n",
       "        vertical-align: middle;\n",
       "    }\n",
       "\n",
       "    .dataframe tbody tr th {\n",
       "        vertical-align: top;\n",
       "    }\n",
       "\n",
       "    .dataframe thead th {\n",
       "        text-align: right;\n",
       "    }\n",
       "</style>\n",
       "<table border=\"1\" class=\"dataframe\">\n",
       "  <thead>\n",
       "    <tr style=\"text-align: right;\">\n",
       "      <th></th>\n",
       "      <th>成交價格</th>\n",
       "      <th>全市場成交量</th>\n",
       "    </tr>\n",
       "  </thead>\n",
       "  <tbody>\n",
       "    <tr>\n",
       "      <th>0</th>\n",
       "      <td>17522</td>\n",
       "      <td>1</td>\n",
       "    </tr>\n",
       "    <tr>\n",
       "      <th>1</th>\n",
       "      <td>17523</td>\n",
       "      <td>1</td>\n",
       "    </tr>\n",
       "    <tr>\n",
       "      <th>2</th>\n",
       "      <td>17524</td>\n",
       "      <td>12</td>\n",
       "    </tr>\n",
       "    <tr>\n",
       "      <th>3</th>\n",
       "      <td></td>\n",
       "      <td></td>\n",
       "    </tr>\n",
       "    <tr>\n",
       "      <th>4</th>\n",
       "      <td></td>\n",
       "      <td></td>\n",
       "    </tr>\n",
       "    <tr>\n",
       "      <th>...</th>\n",
       "      <td>...</td>\n",
       "      <td>...</td>\n",
       "    </tr>\n",
       "    <tr>\n",
       "      <th>5959</th>\n",
       "      <td></td>\n",
       "      <td></td>\n",
       "    </tr>\n",
       "    <tr>\n",
       "      <th>5960</th>\n",
       "      <td></td>\n",
       "      <td></td>\n",
       "    </tr>\n",
       "    <tr>\n",
       "      <th>5961</th>\n",
       "      <td></td>\n",
       "      <td></td>\n",
       "    </tr>\n",
       "    <tr>\n",
       "      <th>5962</th>\n",
       "      <td></td>\n",
       "      <td></td>\n",
       "    </tr>\n",
       "    <tr>\n",
       "      <th>5963</th>\n",
       "      <td></td>\n",
       "      <td></td>\n",
       "    </tr>\n",
       "  </tbody>\n",
       "</table>\n",
       "<p>5964 rows × 2 columns</p>\n",
       "</div>"
      ],
      "text/plain": [
       "       成交價格 全市場成交量\n",
       "0     17522      1\n",
       "1     17523      1\n",
       "2     17524     12\n",
       "3                 \n",
       "4                 \n",
       "...     ...    ...\n",
       "5959              \n",
       "5960              \n",
       "5961              \n",
       "5962              \n",
       "5963              \n",
       "\n",
       "[5964 rows x 2 columns]"
      ]
     },
     "execution_count": 22,
     "metadata": {},
     "output_type": "execute_result"
    }
   ],
   "source": [
    "df = df[['成交價格', '全市場成交量']]\n",
    "df"
   ]
  },
  {
   "cell_type": "markdown",
   "id": "91771608-883f-4fb1-8b80-0d2c1c67b043",
   "metadata": {},
   "source": [
    "#### 2.2: 刪除沒有資料的列"
   ]
  },
  {
   "cell_type": "code",
   "execution_count": null,
   "id": "8ee586a6-4937-4dba-9050-36d3f97e3b72",
   "metadata": {},
   "outputs": [
    {
     "data": {
      "text/html": [
       "<div>\n",
       "<style scoped>\n",
       "    .dataframe tbody tr th:only-of-type {\n",
       "        vertical-align: middle;\n",
       "    }\n",
       "\n",
       "    .dataframe tbody tr th {\n",
       "        vertical-align: top;\n",
       "    }\n",
       "\n",
       "    .dataframe thead th {\n",
       "        text-align: right;\n",
       "    }\n",
       "</style>\n",
       "<table border=\"1\" class=\"dataframe\">\n",
       "  <thead>\n",
       "    <tr style=\"text-align: right;\">\n",
       "      <th></th>\n",
       "      <th>成交價格</th>\n",
       "      <th>全市場成交量</th>\n",
       "    </tr>\n",
       "  </thead>\n",
       "  <tbody>\n",
       "    <tr>\n",
       "      <th>0</th>\n",
       "      <td>17522</td>\n",
       "      <td>1</td>\n",
       "    </tr>\n",
       "    <tr>\n",
       "      <th>1</th>\n",
       "      <td>17523</td>\n",
       "      <td>1</td>\n",
       "    </tr>\n",
       "    <tr>\n",
       "      <th>2</th>\n",
       "      <td>17524</td>\n",
       "      <td>12</td>\n",
       "    </tr>\n",
       "    <tr>\n",
       "      <th>6</th>\n",
       "      <td>17525</td>\n",
       "      <td>4</td>\n",
       "    </tr>\n",
       "    <tr>\n",
       "      <th>10</th>\n",
       "      <td>17526</td>\n",
       "      <td>7</td>\n",
       "    </tr>\n",
       "    <tr>\n",
       "      <th>...</th>\n",
       "      <td>...</td>\n",
       "      <td>...</td>\n",
       "    </tr>\n",
       "    <tr>\n",
       "      <th>5873</th>\n",
       "      <td>17784</td>\n",
       "      <td>266</td>\n",
       "    </tr>\n",
       "    <tr>\n",
       "      <th>5896</th>\n",
       "      <td>17785</td>\n",
       "      <td>221</td>\n",
       "    </tr>\n",
       "    <tr>\n",
       "      <th>5918</th>\n",
       "      <td>17786</td>\n",
       "      <td>115</td>\n",
       "    </tr>\n",
       "    <tr>\n",
       "      <th>5934</th>\n",
       "      <td>17787</td>\n",
       "      <td>94</td>\n",
       "    </tr>\n",
       "    <tr>\n",
       "      <th>5950</th>\n",
       "      <td>17788</td>\n",
       "      <td>46</td>\n",
       "    </tr>\n",
       "  </tbody>\n",
       "</table>\n",
       "<p>267 rows × 2 columns</p>\n",
       "</div>"
      ],
      "text/plain": [
       "       成交價格 全市場成交量\n",
       "0     17522      1\n",
       "1     17523      1\n",
       "2     17524     12\n",
       "6     17525      4\n",
       "10    17526      7\n",
       "...     ...    ...\n",
       "5873  17784    266\n",
       "5896  17785    221\n",
       "5918  17786    115\n",
       "5934  17787     94\n",
       "5950  17788     46\n",
       "\n",
       "[267 rows x 2 columns]"
      ]
     },
     "execution_count": 24,
     "metadata": {},
     "output_type": "execute_result"
    }
   ],
   "source": [
    "df = df.drop(df[df.成交價格 == ' '].index)\n",
    "df"
   ]
  },
  {
   "cell_type": "markdown",
   "id": "70a998ab-e68c-4e55-a7c3-eca976f94cf2",
   "metadata": {},
   "source": [
    "#### 2.3: 資料轉型 - 把數值資料從文字改為整數"
   ]
  },
  {
   "cell_type": "code",
   "execution_count": 29,
   "id": "4361f148-15f6-4e46-9bb2-919075f2b615",
   "metadata": {},
   "outputs": [],
   "source": [
    "for row in range(len(df)):\n",
    "    df.iloc[row, 1] = int(df.iloc[row, 1])"
   ]
  },
  {
   "cell_type": "code",
   "execution_count": 32,
   "id": "ac6366f5-68e7-47a4-bd0c-7df59d9522e4",
   "metadata": {},
   "outputs": [
    {
     "data": {
      "text/plain": [
       "118785"
      ]
     },
     "execution_count": 32,
     "metadata": {},
     "output_type": "execute_result"
    }
   ],
   "source": [
    "sum(df.全市場成交量)"
   ]
  },
  {
   "cell_type": "markdown",
   "id": "51008c7e-feea-49ce-85a0-b92cda60d481",
   "metadata": {},
   "source": [
    "## Part 3: 畫出台指期成交價格＆成交量圖"
   ]
  },
  {
   "cell_type": "code",
   "execution_count": 31,
   "id": "fd50de8f-5f80-4cf7-b40d-c507b2a9b2cd",
   "metadata": {},
   "outputs": [
    {
     "data": {
      "application/vnd.plotly.v1+json": {
       "config": {
        "plotlyServerURL": "https://plot.ly"
       },
       "data": [
        {
         "alignmentgroup": "True",
         "hovertemplate": "成交價格=%{x}<br>全市場成交量=%{y}<extra></extra>",
         "legendgroup": "",
         "marker": {
          "color": "#636efa",
          "pattern": {
           "shape": ""
          }
         },
         "name": "",
         "offsetgroup": "",
         "orientation": "v",
         "showlegend": false,
         "textposition": "auto",
         "type": "bar",
         "x": [
          "17522",
          "17523",
          "17524",
          "17525",
          "17526",
          "17527",
          "17528",
          "17529",
          "17530",
          "17531",
          "17532",
          "17533",
          "17534",
          "17535",
          "17536",
          "17537",
          "17538",
          "17539",
          "17540",
          "17541",
          "17542",
          "17543",
          "17544",
          "17545",
          "17546",
          "17547",
          "17548",
          "17549",
          "17550",
          "17551",
          "17552",
          "17553",
          "17554",
          "17555",
          "17556",
          "17557",
          "17558",
          "17559",
          "17560",
          "17561",
          "17562",
          "17563",
          "17564",
          "17565",
          "17566",
          "17567",
          "17568",
          "17569",
          "17570",
          "17571",
          "17572",
          "17573",
          "17574",
          "17575",
          "17576",
          "17577",
          "17578",
          "17579",
          "17580",
          "17581",
          "17582",
          "17583",
          "17584",
          "17585",
          "17586",
          "17587",
          "17588",
          "17589",
          "17590",
          "17591",
          "17592",
          "17593",
          "17594",
          "17595",
          "17596",
          "17597",
          "17598",
          "17599",
          "17600",
          "17601",
          "17602",
          "17603",
          "17604",
          "17605",
          "17606",
          "17607",
          "17608",
          "17609",
          "17610",
          "17611",
          "17612",
          "17613",
          "17614",
          "17615",
          "17616",
          "17617",
          "17618",
          "17619",
          "17620",
          "17621",
          "17622",
          "17623",
          "17624",
          "17625",
          "17626",
          "17627",
          "17628",
          "17629",
          "17630",
          "17631",
          "17632",
          "17633",
          "17634",
          "17635",
          "17636",
          "17637",
          "17638",
          "17639",
          "17640",
          "17641",
          "17642",
          "17643",
          "17644",
          "17645",
          "17646",
          "17647",
          "17648",
          "17649",
          "17650",
          "17651",
          "17652",
          "17653",
          "17654",
          "17655",
          "17656",
          "17657",
          "17658",
          "17659",
          "17660",
          "17661",
          "17662",
          "17663",
          "17664",
          "17665",
          "17666",
          "17667",
          "17668",
          "17669",
          "17670",
          "17671",
          "17672",
          "17673",
          "17674",
          "17675",
          "17676",
          "17677",
          "17678",
          "17679",
          "17680",
          "17681",
          "17682",
          "17683",
          "17684",
          "17685",
          "17686",
          "17687",
          "17688",
          "17689",
          "17690",
          "17691",
          "17692",
          "17693",
          "17694",
          "17695",
          "17696",
          "17697",
          "17698",
          "17699",
          "17700",
          "17701",
          "17702",
          "17703",
          "17704",
          "17705",
          "17706",
          "17707",
          "17708",
          "17709",
          "17710",
          "17711",
          "17712",
          "17713",
          "17714",
          "17715",
          "17716",
          "17717",
          "17718",
          "17719",
          "17720",
          "17721",
          "17722",
          "17723",
          "17724",
          "17725",
          "17726",
          "17727",
          "17728",
          "17729",
          "17730",
          "17731",
          "17732",
          "17733",
          "17734",
          "17735",
          "17736",
          "17737",
          "17738",
          "17739",
          "17740",
          "17741",
          "17742",
          "17743",
          "17744",
          "17745",
          "17746",
          "17747",
          "17748",
          "17749",
          "17750",
          "17751",
          "17752",
          "17753",
          "17754",
          "17755",
          "17756",
          "17757",
          "17758",
          "17759",
          "17760",
          "17761",
          "17762",
          "17763",
          "17764",
          "17765",
          "17766",
          "17767",
          "17768",
          "17769",
          "17770",
          "17771",
          "17772",
          "17773",
          "17774",
          "17775",
          "17776",
          "17777",
          "17778",
          "17779",
          "17780",
          "17781",
          "17782",
          "17783",
          "17784",
          "17785",
          "17786",
          "17787",
          "17788"
         ],
         "xaxis": "x",
         "y": [
          1,
          1,
          12,
          4,
          7,
          12,
          16,
          15,
          47,
          49,
          24,
          43,
          25,
          21,
          16,
          17,
          7,
          9,
          11,
          13,
          34,
          39,
          28,
          36,
          46,
          35,
          30,
          35,
          82,
          67,
          97,
          85,
          123,
          130,
          111,
          78,
          134,
          113,
          99,
          68,
          78,
          98,
          107,
          76,
          107,
          115,
          69,
          89,
          81,
          79,
          132,
          127,
          149,
          106,
          107,
          123,
          163,
          186,
          181,
          162,
          132,
          173,
          235,
          194,
          151,
          188,
          207,
          186,
          260,
          200,
          131,
          142,
          68,
          59,
          84,
          121,
          126,
          134,
          271,
          249,
          252,
          130,
          110,
          221,
          115,
          206,
          1272,
          428,
          546,
          314,
          307,
          313,
          261,
          226,
          247,
          160,
          222,
          136,
          274,
          225,
          172,
          248,
          226,
          392,
          264,
          263,
          220,
          189,
          403,
          248,
          180,
          179,
          198,
          271,
          180,
          161,
          158,
          124,
          176,
          183,
          186,
          256,
          290,
          484,
          444,
          346,
          345,
          361,
          444,
          336,
          282,
          347,
          333,
          476,
          743,
          556,
          614,
          394,
          609,
          601,
          608,
          666,
          573,
          672,
          709,
          777,
          1014,
          913,
          1274,
          758,
          735,
          598,
          488,
          543,
          390,
          398,
          454,
          394,
          736,
          462,
          499,
          422,
          494,
          602,
          550,
          566,
          902,
          869,
          1244,
          1061,
          1128,
          1106,
          977,
          1189,
          718,
          620,
          748,
          750,
          1401,
          733,
          817,
          744,
          681,
          877,
          589,
          870,
          887,
          814,
          1171,
          852,
          984,
          883,
          856,
          1471,
          993,
          975,
          995,
          1032,
          1690,
          1037,
          1047,
          1140,
          1173,
          1584,
          1336,
          1080,
          1074,
          1077,
          1309,
          1050,
          792,
          753,
          583,
          696,
          577,
          501,
          617,
          492,
          660,
          558,
          629,
          737,
          711,
          952,
          750,
          705,
          844,
          814,
          1110,
          705,
          710,
          750,
          875,
          1054,
          965,
          1129,
          1096,
          927,
          1293,
          855,
          711,
          691,
          552,
          592,
          357,
          317,
          391,
          200,
          283,
          180,
          165,
          128,
          86,
          106,
          140,
          239,
          180,
          202,
          424,
          363,
          419,
          335,
          266,
          221,
          115,
          94,
          46
         ],
         "yaxis": "y"
        }
       ],
       "layout": {
        "autosize": true,
        "barmode": "relative",
        "legend": {
         "tracegroupgap": 0
        },
        "margin": {
         "t": 60
        },
        "template": {
         "data": {
          "bar": [
           {
            "error_x": {
             "color": "#2a3f5f"
            },
            "error_y": {
             "color": "#2a3f5f"
            },
            "marker": {
             "line": {
              "color": "#E5ECF6",
              "width": 0.5
             },
             "pattern": {
              "fillmode": "overlay",
              "size": 10,
              "solidity": 0.2
             }
            },
            "type": "bar"
           }
          ],
          "barpolar": [
           {
            "marker": {
             "line": {
              "color": "#E5ECF6",
              "width": 0.5
             },
             "pattern": {
              "fillmode": "overlay",
              "size": 10,
              "solidity": 0.2
             }
            },
            "type": "barpolar"
           }
          ],
          "carpet": [
           {
            "aaxis": {
             "endlinecolor": "#2a3f5f",
             "gridcolor": "white",
             "linecolor": "white",
             "minorgridcolor": "white",
             "startlinecolor": "#2a3f5f"
            },
            "baxis": {
             "endlinecolor": "#2a3f5f",
             "gridcolor": "white",
             "linecolor": "white",
             "minorgridcolor": "white",
             "startlinecolor": "#2a3f5f"
            },
            "type": "carpet"
           }
          ],
          "choropleth": [
           {
            "colorbar": {
             "outlinewidth": 0,
             "ticks": ""
            },
            "type": "choropleth"
           }
          ],
          "contour": [
           {
            "colorbar": {
             "outlinewidth": 0,
             "ticks": ""
            },
            "colorscale": [
             [
              0,
              "#0d0887"
             ],
             [
              0.1111111111111111,
              "#46039f"
             ],
             [
              0.2222222222222222,
              "#7201a8"
             ],
             [
              0.3333333333333333,
              "#9c179e"
             ],
             [
              0.4444444444444444,
              "#bd3786"
             ],
             [
              0.5555555555555556,
              "#d8576b"
             ],
             [
              0.6666666666666666,
              "#ed7953"
             ],
             [
              0.7777777777777778,
              "#fb9f3a"
             ],
             [
              0.8888888888888888,
              "#fdca26"
             ],
             [
              1,
              "#f0f921"
             ]
            ],
            "type": "contour"
           }
          ],
          "contourcarpet": [
           {
            "colorbar": {
             "outlinewidth": 0,
             "ticks": ""
            },
            "type": "contourcarpet"
           }
          ],
          "heatmap": [
           {
            "colorbar": {
             "outlinewidth": 0,
             "ticks": ""
            },
            "colorscale": [
             [
              0,
              "#0d0887"
             ],
             [
              0.1111111111111111,
              "#46039f"
             ],
             [
              0.2222222222222222,
              "#7201a8"
             ],
             [
              0.3333333333333333,
              "#9c179e"
             ],
             [
              0.4444444444444444,
              "#bd3786"
             ],
             [
              0.5555555555555556,
              "#d8576b"
             ],
             [
              0.6666666666666666,
              "#ed7953"
             ],
             [
              0.7777777777777778,
              "#fb9f3a"
             ],
             [
              0.8888888888888888,
              "#fdca26"
             ],
             [
              1,
              "#f0f921"
             ]
            ],
            "type": "heatmap"
           }
          ],
          "heatmapgl": [
           {
            "colorbar": {
             "outlinewidth": 0,
             "ticks": ""
            },
            "colorscale": [
             [
              0,
              "#0d0887"
             ],
             [
              0.1111111111111111,
              "#46039f"
             ],
             [
              0.2222222222222222,
              "#7201a8"
             ],
             [
              0.3333333333333333,
              "#9c179e"
             ],
             [
              0.4444444444444444,
              "#bd3786"
             ],
             [
              0.5555555555555556,
              "#d8576b"
             ],
             [
              0.6666666666666666,
              "#ed7953"
             ],
             [
              0.7777777777777778,
              "#fb9f3a"
             ],
             [
              0.8888888888888888,
              "#fdca26"
             ],
             [
              1,
              "#f0f921"
             ]
            ],
            "type": "heatmapgl"
           }
          ],
          "histogram": [
           {
            "marker": {
             "pattern": {
              "fillmode": "overlay",
              "size": 10,
              "solidity": 0.2
             }
            },
            "type": "histogram"
           }
          ],
          "histogram2d": [
           {
            "colorbar": {
             "outlinewidth": 0,
             "ticks": ""
            },
            "colorscale": [
             [
              0,
              "#0d0887"
             ],
             [
              0.1111111111111111,
              "#46039f"
             ],
             [
              0.2222222222222222,
              "#7201a8"
             ],
             [
              0.3333333333333333,
              "#9c179e"
             ],
             [
              0.4444444444444444,
              "#bd3786"
             ],
             [
              0.5555555555555556,
              "#d8576b"
             ],
             [
              0.6666666666666666,
              "#ed7953"
             ],
             [
              0.7777777777777778,
              "#fb9f3a"
             ],
             [
              0.8888888888888888,
              "#fdca26"
             ],
             [
              1,
              "#f0f921"
             ]
            ],
            "type": "histogram2d"
           }
          ],
          "histogram2dcontour": [
           {
            "colorbar": {
             "outlinewidth": 0,
             "ticks": ""
            },
            "colorscale": [
             [
              0,
              "#0d0887"
             ],
             [
              0.1111111111111111,
              "#46039f"
             ],
             [
              0.2222222222222222,
              "#7201a8"
             ],
             [
              0.3333333333333333,
              "#9c179e"
             ],
             [
              0.4444444444444444,
              "#bd3786"
             ],
             [
              0.5555555555555556,
              "#d8576b"
             ],
             [
              0.6666666666666666,
              "#ed7953"
             ],
             [
              0.7777777777777778,
              "#fb9f3a"
             ],
             [
              0.8888888888888888,
              "#fdca26"
             ],
             [
              1,
              "#f0f921"
             ]
            ],
            "type": "histogram2dcontour"
           }
          ],
          "mesh3d": [
           {
            "colorbar": {
             "outlinewidth": 0,
             "ticks": ""
            },
            "type": "mesh3d"
           }
          ],
          "parcoords": [
           {
            "line": {
             "colorbar": {
              "outlinewidth": 0,
              "ticks": ""
             }
            },
            "type": "parcoords"
           }
          ],
          "pie": [
           {
            "automargin": true,
            "type": "pie"
           }
          ],
          "scatter": [
           {
            "marker": {
             "colorbar": {
              "outlinewidth": 0,
              "ticks": ""
             }
            },
            "type": "scatter"
           }
          ],
          "scatter3d": [
           {
            "line": {
             "colorbar": {
              "outlinewidth": 0,
              "ticks": ""
             }
            },
            "marker": {
             "colorbar": {
              "outlinewidth": 0,
              "ticks": ""
             }
            },
            "type": "scatter3d"
           }
          ],
          "scattercarpet": [
           {
            "marker": {
             "colorbar": {
              "outlinewidth": 0,
              "ticks": ""
             }
            },
            "type": "scattercarpet"
           }
          ],
          "scattergeo": [
           {
            "marker": {
             "colorbar": {
              "outlinewidth": 0,
              "ticks": ""
             }
            },
            "type": "scattergeo"
           }
          ],
          "scattergl": [
           {
            "marker": {
             "colorbar": {
              "outlinewidth": 0,
              "ticks": ""
             }
            },
            "type": "scattergl"
           }
          ],
          "scattermapbox": [
           {
            "marker": {
             "colorbar": {
              "outlinewidth": 0,
              "ticks": ""
             }
            },
            "type": "scattermapbox"
           }
          ],
          "scatterpolar": [
           {
            "marker": {
             "colorbar": {
              "outlinewidth": 0,
              "ticks": ""
             }
            },
            "type": "scatterpolar"
           }
          ],
          "scatterpolargl": [
           {
            "marker": {
             "colorbar": {
              "outlinewidth": 0,
              "ticks": ""
             }
            },
            "type": "scatterpolargl"
           }
          ],
          "scatterternary": [
           {
            "marker": {
             "colorbar": {
              "outlinewidth": 0,
              "ticks": ""
             }
            },
            "type": "scatterternary"
           }
          ],
          "surface": [
           {
            "colorbar": {
             "outlinewidth": 0,
             "ticks": ""
            },
            "colorscale": [
             [
              0,
              "#0d0887"
             ],
             [
              0.1111111111111111,
              "#46039f"
             ],
             [
              0.2222222222222222,
              "#7201a8"
             ],
             [
              0.3333333333333333,
              "#9c179e"
             ],
             [
              0.4444444444444444,
              "#bd3786"
             ],
             [
              0.5555555555555556,
              "#d8576b"
             ],
             [
              0.6666666666666666,
              "#ed7953"
             ],
             [
              0.7777777777777778,
              "#fb9f3a"
             ],
             [
              0.8888888888888888,
              "#fdca26"
             ],
             [
              1,
              "#f0f921"
             ]
            ],
            "type": "surface"
           }
          ],
          "table": [
           {
            "cells": {
             "fill": {
              "color": "#EBF0F8"
             },
             "line": {
              "color": "white"
             }
            },
            "header": {
             "fill": {
              "color": "#C8D4E3"
             },
             "line": {
              "color": "white"
             }
            },
            "type": "table"
           }
          ]
         },
         "layout": {
          "annotationdefaults": {
           "arrowcolor": "#2a3f5f",
           "arrowhead": 0,
           "arrowwidth": 1
          },
          "autotypenumbers": "strict",
          "coloraxis": {
           "colorbar": {
            "outlinewidth": 0,
            "ticks": ""
           }
          },
          "colorscale": {
           "diverging": [
            [
             0,
             "#8e0152"
            ],
            [
             0.1,
             "#c51b7d"
            ],
            [
             0.2,
             "#de77ae"
            ],
            [
             0.3,
             "#f1b6da"
            ],
            [
             0.4,
             "#fde0ef"
            ],
            [
             0.5,
             "#f7f7f7"
            ],
            [
             0.6,
             "#e6f5d0"
            ],
            [
             0.7,
             "#b8e186"
            ],
            [
             0.8,
             "#7fbc41"
            ],
            [
             0.9,
             "#4d9221"
            ],
            [
             1,
             "#276419"
            ]
           ],
           "sequential": [
            [
             0,
             "#0d0887"
            ],
            [
             0.1111111111111111,
             "#46039f"
            ],
            [
             0.2222222222222222,
             "#7201a8"
            ],
            [
             0.3333333333333333,
             "#9c179e"
            ],
            [
             0.4444444444444444,
             "#bd3786"
            ],
            [
             0.5555555555555556,
             "#d8576b"
            ],
            [
             0.6666666666666666,
             "#ed7953"
            ],
            [
             0.7777777777777778,
             "#fb9f3a"
            ],
            [
             0.8888888888888888,
             "#fdca26"
            ],
            [
             1,
             "#f0f921"
            ]
           ],
           "sequentialminus": [
            [
             0,
             "#0d0887"
            ],
            [
             0.1111111111111111,
             "#46039f"
            ],
            [
             0.2222222222222222,
             "#7201a8"
            ],
            [
             0.3333333333333333,
             "#9c179e"
            ],
            [
             0.4444444444444444,
             "#bd3786"
            ],
            [
             0.5555555555555556,
             "#d8576b"
            ],
            [
             0.6666666666666666,
             "#ed7953"
            ],
            [
             0.7777777777777778,
             "#fb9f3a"
            ],
            [
             0.8888888888888888,
             "#fdca26"
            ],
            [
             1,
             "#f0f921"
            ]
           ]
          },
          "colorway": [
           "#636efa",
           "#EF553B",
           "#00cc96",
           "#ab63fa",
           "#FFA15A",
           "#19d3f3",
           "#FF6692",
           "#B6E880",
           "#FF97FF",
           "#FECB52"
          ],
          "font": {
           "color": "#2a3f5f"
          },
          "geo": {
           "bgcolor": "white",
           "lakecolor": "white",
           "landcolor": "#E5ECF6",
           "showlakes": true,
           "showland": true,
           "subunitcolor": "white"
          },
          "hoverlabel": {
           "align": "left"
          },
          "hovermode": "closest",
          "mapbox": {
           "style": "light"
          },
          "paper_bgcolor": "white",
          "plot_bgcolor": "#E5ECF6",
          "polar": {
           "angularaxis": {
            "gridcolor": "white",
            "linecolor": "white",
            "ticks": ""
           },
           "bgcolor": "#E5ECF6",
           "radialaxis": {
            "gridcolor": "white",
            "linecolor": "white",
            "ticks": ""
           }
          },
          "scene": {
           "xaxis": {
            "backgroundcolor": "#E5ECF6",
            "gridcolor": "white",
            "gridwidth": 2,
            "linecolor": "white",
            "showbackground": true,
            "ticks": "",
            "zerolinecolor": "white"
           },
           "yaxis": {
            "backgroundcolor": "#E5ECF6",
            "gridcolor": "white",
            "gridwidth": 2,
            "linecolor": "white",
            "showbackground": true,
            "ticks": "",
            "zerolinecolor": "white"
           },
           "zaxis": {
            "backgroundcolor": "#E5ECF6",
            "gridcolor": "white",
            "gridwidth": 2,
            "linecolor": "white",
            "showbackground": true,
            "ticks": "",
            "zerolinecolor": "white"
           }
          },
          "shapedefaults": {
           "line": {
            "color": "#2a3f5f"
           }
          },
          "ternary": {
           "aaxis": {
            "gridcolor": "white",
            "linecolor": "white",
            "ticks": ""
           },
           "baxis": {
            "gridcolor": "white",
            "linecolor": "white",
            "ticks": ""
           },
           "bgcolor": "#E5ECF6",
           "caxis": {
            "gridcolor": "white",
            "linecolor": "white",
            "ticks": ""
           }
          },
          "title": {
           "x": 0.05
          },
          "xaxis": {
           "automargin": true,
           "gridcolor": "white",
           "linecolor": "white",
           "ticks": "",
           "title": {
            "standoff": 15
           },
           "zerolinecolor": "white",
           "zerolinewidth": 2
          },
          "yaxis": {
           "automargin": true,
           "gridcolor": "white",
           "linecolor": "white",
           "ticks": "",
           "title": {
            "standoff": 15
           },
           "zerolinecolor": "white",
           "zerolinewidth": 2
          }
         }
        },
        "xaxis": {
         "anchor": "y",
         "autorange": true,
         "domain": [
          0,
          1
         ],
         "range": [
          -0.5,
          266.5
         ],
         "title": {
          "text": "成交價格"
         },
         "type": "category"
        },
        "yaxis": {
         "anchor": "x",
         "autorange": true,
         "domain": [
          0,
          1
         ],
         "range": [
          0,
          1778.9473684210527
         ],
         "title": {
          "text": "全市場成交量"
         },
         "type": "linear"
        }
       }
      },
      "image/png": "[encoded data removed]",
      "text/html": [
       "<div>                            <div id=\"ad20e64f-1d62-4691-b71b-5324b38036f1\" class=\"plotly-graph-div\" style=\"height:525px; width:100%;\"></div>            <script type=\"text/javascript\">                require([\"plotly\"], function(Plotly) {                    window.PLOTLYENV=window.PLOTLYENV || {};                                    if (document.getElementById(\"ad20e64f-1d62-4691-b71b-5324b38036f1\")) {                    Plotly.newPlot(                        \"ad20e64f-1d62-4691-b71b-5324b38036f1\",                        [{\"alignmentgroup\":\"True\",\"hovertemplate\":\"\\u6210\\u4ea4\\u50f9\\u683c=%{x}<br>\\u5168\\u5e02\\u5834\\u6210\\u4ea4\\u91cf=%{y}<extra></extra>\",\"legendgroup\":\"\",\"marker\":{\"color\":\"#636efa\",\"pattern\":{\"shape\":\"\"}},\"name\":\"\",\"offsetgroup\":\"\",\"orientation\":\"v\",\"showlegend\":false,\"textposition\":\"auto\",\"x\":[\"17522\",\"17523\",\"17524\",\"17525\",\"17526\",\"17527\",\"17528\",\"17529\",\"17530\",\"17531\",\"17532\",\"17533\",\"17534\",\"17535\",\"17536\",\"17537\",\"17538\",\"17539\",\"17540\",\"17541\",\"17542\",\"17543\",\"17544\",\"17545\",\"17546\",\"17547\",\"17548\",\"17549\",\"17550\",\"17551\",\"17552\",\"17553\",\"17554\",\"17555\",\"17556\",\"17557\",\"17558\",\"17559\",\"17560\",\"17561\",\"17562\",\"17563\",\"17564\",\"17565\",\"17566\",\"17567\",\"17568\",\"17569\",\"17570\",\"17571\",\"17572\",\"17573\",\"17574\",\"17575\",\"17576\",\"17577\",\"17578\",\"17579\",\"17580\",\"17581\",\"17582\",\"17583\",\"17584\",\"17585\",\"17586\",\"17587\",\"17588\",\"17589\",\"17590\",\"17591\",\"17592\",\"17593\",\"17594\",\"17595\",\"17596\",\"17597\",\"17598\",\"17599\",\"17600\",\"17601\",\"17602\",\"17603\",\"17604\",\"17605\",\"17606\",\"17607\",\"17608\",\"17609\",\"17610\",\"17611\",\"17612\",\"17613\",\"17614\",\"17615\",\"17616\",\"17617\",\"17618\",\"17619\",\"17620\",\"17621\",\"17622\",\"17623\",\"17624\",\"17625\",\"17626\",\"17627\",\"17628\",\"17629\",\"17630\",\"17631\",\"17632\",\"17633\",\"17634\",\"17635\",\"17636\",\"17637\",\"17638\",\"17639\",\"17640\",\"17641\",\"17642\",\"17643\",\"17644\",\"17645\",\"17646\",\"17647\",\"17648\",\"17649\",\"17650\",\"17651\",\"17652\",\"17653\",\"17654\",\"17655\",\"17656\",\"17657\",\"17658\",\"17659\",\"17660\",\"17661\",\"17662\",\"17663\",\"17664\",\"17665\",\"17666\",\"17667\",\"17668\",\"17669\",\"17670\",\"17671\",\"17672\",\"17673\",\"17674\",\"17675\",\"17676\",\"17677\",\"17678\",\"17679\",\"17680\",\"17681\",\"17682\",\"17683\",\"17684\",\"17685\",\"17686\",\"17687\",\"17688\",\"17689\",\"17690\",\"17691\",\"17692\",\"17693\",\"17694\",\"17695\",\"17696\",\"17697\",\"17698\",\"17699\",\"17700\",\"17701\",\"17702\",\"17703\",\"17704\",\"17705\",\"17706\",\"17707\",\"17708\",\"17709\",\"17710\",\"17711\",\"17712\",\"17713\",\"17714\",\"17715\",\"17716\",\"17717\",\"17718\",\"17719\",\"17720\",\"17721\",\"17722\",\"17723\",\"17724\",\"17725\",\"17726\",\"17727\",\"17728\",\"17729\",\"17730\",\"17731\",\"17732\",\"17733\",\"17734\",\"17735\",\"17736\",\"17737\",\"17738\",\"17739\",\"17740\",\"17741\",\"17742\",\"17743\",\"17744\",\"17745\",\"17746\",\"17747\",\"17748\",\"17749\",\"17750\",\"17751\",\"17752\",\"17753\",\"17754\",\"17755\",\"17756\",\"17757\",\"17758\",\"17759\",\"17760\",\"17761\",\"17762\",\"17763\",\"17764\",\"17765\",\"17766\",\"17767\",\"17768\",\"17769\",\"17770\",\"17771\",\"17772\",\"17773\",\"17774\",\"17775\",\"17776\",\"17777\",\"17778\",\"17779\",\"17780\",\"17781\",\"17782\",\"17783\",\"17784\",\"17785\",\"17786\",\"17787\",\"17788\"],\"xaxis\":\"x\",\"y\":[1,1,12,4,7,12,16,15,47,49,24,43,25,21,16,17,7,9,11,13,34,39,28,36,46,35,30,35,82,67,97,85,123,130,111,78,134,113,99,68,78,98,107,76,107,115,69,89,81,79,132,127,149,106,107,123,163,186,181,162,132,173,235,194,151,188,207,186,260,200,131,142,68,59,84,121,126,134,271,249,252,130,110,221,115,206,1272,428,546,314,307,313,261,226,247,160,222,136,274,225,172,248,226,392,264,263,220,189,403,248,180,179,198,271,180,161,158,124,176,183,186,256,290,484,444,346,345,361,444,336,282,347,333,476,743,556,614,394,609,601,608,666,573,672,709,777,1014,913,1274,758,735,598,488,543,390,398,454,394,736,462,499,422,494,602,550,566,902,869,1244,1061,1128,1106,977,1189,718,620,748,750,1401,733,817,744,681,877,589,870,887,814,1171,852,984,883,856,1471,993,975,995,1032,1690,1037,1047,1140,1173,1584,1336,1080,1074,1077,1309,1050,792,753,583,696,577,501,617,492,660,558,629,737,711,952,750,705,844,814,1110,705,710,750,875,1054,965,1129,1096,927,1293,855,711,691,552,592,357,317,391,200,283,180,165,128,86,106,140,239,180,202,424,363,419,335,266,221,115,94,46],\"yaxis\":\"y\",\"type\":\"bar\"}],                        {\"template\":{\"data\":{\"bar\":[{\"error_x\":{\"color\":\"#2a3f5f\"},\"error_y\":{\"color\":\"#2a3f5f\"},\"marker\":{\"line\":{\"color\":\"#E5ECF6\",\"width\":0.5},\"pattern\":{\"fillmode\":\"overlay\",\"size\":10,\"solidity\":0.2}},\"type\":\"bar\"}],\"barpolar\":[{\"marker\":{\"line\":{\"color\":\"#E5ECF6\",\"width\":0.5},\"pattern\":{\"fillmode\":\"overlay\",\"size\":10,\"solidity\":0.2}},\"type\":\"barpolar\"}],\"carpet\":[{\"aaxis\":{\"endlinecolor\":\"#2a3f5f\",\"gridcolor\":\"white\",\"linecolor\":\"white\",\"minorgridcolor\":\"white\",\"startlinecolor\":\"#2a3f5f\"},\"baxis\":{\"endlinecolor\":\"#2a3f5f\",\"gridcolor\":\"white\",\"linecolor\":\"white\",\"minorgridcolor\":\"white\",\"startlinecolor\":\"#2a3f5f\"},\"type\":\"carpet\"}],\"choropleth\":[{\"colorbar\":{\"outlinewidth\":0,\"ticks\":\"\"},\"type\":\"choropleth\"}],\"contour\":[{\"colorbar\":{\"outlinewidth\":0,\"ticks\":\"\"},\"colorscale\":[[0.0,\"#0d0887\"],[0.1111111111111111,\"#46039f\"],[0.2222222222222222,\"#7201a8\"],[0.3333333333333333,\"#9c179e\"],[0.4444444444444444,\"#bd3786\"],[0.5555555555555556,\"#d8576b\"],[0.6666666666666666,\"#ed7953\"],[0.7777777777777778,\"#fb9f3a\"],[0.8888888888888888,\"#fdca26\"],[1.0,\"#f0f921\"]],\"type\":\"contour\"}],\"contourcarpet\":[{\"colorbar\":{\"outlinewidth\":0,\"ticks\":\"\"},\"type\":\"contourcarpet\"}],\"heatmap\":[{\"colorbar\":{\"outlinewidth\":0,\"ticks\":\"\"},\"colorscale\":[[0.0,\"#0d0887\"],[0.1111111111111111,\"#46039f\"],[0.2222222222222222,\"#7201a8\"],[0.3333333333333333,\"#9c179e\"],[0.4444444444444444,\"#bd3786\"],[0.5555555555555556,\"#d8576b\"],[0.6666666666666666,\"#ed7953\"],[0.7777777777777778,\"#fb9f3a\"],[0.8888888888888888,\"#fdca26\"],[1.0,\"#f0f921\"]],\"type\":\"heatmap\"}],\"heatmapgl\":[{\"colorbar\":{\"outlinewidth\":0,\"ticks\":\"\"},\"colorscale\":[[0.0,\"#0d0887\"],[0.1111111111111111,\"#46039f\"],[0.2222222222222222,\"#7201a8\"],[0.3333333333333333,\"#9c179e\"],[0.4444444444444444,\"#bd3786\"],[0.5555555555555556,\"#d8576b\"],[0.6666666666666666,\"#ed7953\"],[0.7777777777777778,\"#fb9f3a\"],[0.8888888888888888,\"#fdca26\"],[1.0,\"#f0f921\"]],\"type\":\"heatmapgl\"}],\"histogram\":[{\"marker\":{\"pattern\":{\"fillmode\":\"overlay\",\"size\":10,\"solidity\":0.2}},\"type\":\"histogram\"}],\"histogram2d\":[{\"colorbar\":{\"outlinewidth\":0,\"ticks\":\"\"},\"colorscale\":[[0.0,\"#0d0887\"],[0.1111111111111111,\"#46039f\"],[0.2222222222222222,\"#7201a8\"],[0.3333333333333333,\"#9c179e\"],[0.4444444444444444,\"#bd3786\"],[0.5555555555555556,\"#d8576b\"],[0.6666666666666666,\"#ed7953\"],[0.7777777777777778,\"#fb9f3a\"],[0.8888888888888888,\"#fdca26\"],[1.0,\"#f0f921\"]],\"type\":\"histogram2d\"}],\"histogram2dcontour\":[{\"colorbar\":{\"outlinewidth\":0,\"ticks\":\"\"},\"colorscale\":[[0.0,\"#0d0887\"],[0.1111111111111111,\"#46039f\"],[0.2222222222222222,\"#7201a8\"],[0.3333333333333333,\"#9c179e\"],[0.4444444444444444,\"#bd3786\"],[0.5555555555555556,\"#d8576b\"],[0.6666666666666666,\"#ed7953\"],[0.7777777777777778,\"#fb9f3a\"],[0.8888888888888888,\"#fdca26\"],[1.0,\"#f0f921\"]],\"type\":\"histogram2dcontour\"}],\"mesh3d\":[{\"colorbar\":{\"outlinewidth\":0,\"ticks\":\"\"},\"type\":\"mesh3d\"}],\"parcoords\":[{\"line\":{\"colorbar\":{\"outlinewidth\":0,\"ticks\":\"\"}},\"type\":\"parcoords\"}],\"pie\":[{\"automargin\":true,\"type\":\"pie\"}],\"scatter\":[{\"marker\":{\"colorbar\":{\"outlinewidth\":0,\"ticks\":\"\"}},\"type\":\"scatter\"}],\"scatter3d\":[{\"line\":{\"colorbar\":{\"outlinewidth\":0,\"ticks\":\"\"}},\"marker\":{\"colorbar\":{\"outlinewidth\":0,\"ticks\":\"\"}},\"type\":\"scatter3d\"}],\"scattercarpet\":[{\"marker\":{\"colorbar\":{\"outlinewidth\":0,\"ticks\":\"\"}},\"type\":\"scattercarpet\"}],\"scattergeo\":[{\"marker\":{\"colorbar\":{\"outlinewidth\":0,\"ticks\":\"\"}},\"type\":\"scattergeo\"}],\"scattergl\":[{\"marker\":{\"colorbar\":{\"outlinewidth\":0,\"ticks\":\"\"}},\"type\":\"scattergl\"}],\"scattermapbox\":[{\"marker\":{\"colorbar\":{\"outlinewidth\":0,\"ticks\":\"\"}},\"type\":\"scattermapbox\"}],\"scatterpolar\":[{\"marker\":{\"colorbar\":{\"outlinewidth\":0,\"ticks\":\"\"}},\"type\":\"scatterpolar\"}],\"scatterpolargl\":[{\"marker\":{\"colorbar\":{\"outlinewidth\":0,\"ticks\":\"\"}},\"type\":\"scatterpolargl\"}],\"scatterternary\":[{\"marker\":{\"colorbar\":{\"outlinewidth\":0,\"ticks\":\"\"}},\"type\":\"scatterternary\"}],\"surface\":[{\"colorbar\":{\"outlinewidth\":0,\"ticks\":\"\"},\"colorscale\":[[0.0,\"#0d0887\"],[0.1111111111111111,\"#46039f\"],[0.2222222222222222,\"#7201a8\"],[0.3333333333333333,\"#9c179e\"],[0.4444444444444444,\"#bd3786\"],[0.5555555555555556,\"#d8576b\"],[0.6666666666666666,\"#ed7953\"],[0.7777777777777778,\"#fb9f3a\"],[0.8888888888888888,\"#fdca26\"],[1.0,\"#f0f921\"]],\"type\":\"surface\"}],\"table\":[{\"cells\":{\"fill\":{\"color\":\"#EBF0F8\"},\"line\":{\"color\":\"white\"}},\"header\":{\"fill\":{\"color\":\"#C8D4E3\"},\"line\":{\"color\":\"white\"}},\"type\":\"table\"}]},\"layout\":{\"annotationdefaults\":{\"arrowcolor\":\"#2a3f5f\",\"arrowhead\":0,\"arrowwidth\":1},\"autotypenumbers\":\"strict\",\"coloraxis\":{\"colorbar\":{\"outlinewidth\":0,\"ticks\":\"\"}},\"colorscale\":{\"diverging\":[[0,\"#8e0152\"],[0.1,\"#c51b7d\"],[0.2,\"#de77ae\"],[0.3,\"#f1b6da\"],[0.4,\"#fde0ef\"],[0.5,\"#f7f7f7\"],[0.6,\"#e6f5d0\"],[0.7,\"#b8e186\"],[0.8,\"#7fbc41\"],[0.9,\"#4d9221\"],[1,\"#276419\"]],\"sequential\":[[0.0,\"#0d0887\"],[0.1111111111111111,\"#46039f\"],[0.2222222222222222,\"#7201a8\"],[0.3333333333333333,\"#9c179e\"],[0.4444444444444444,\"#bd3786\"],[0.5555555555555556,\"#d8576b\"],[0.6666666666666666,\"#ed7953\"],[0.7777777777777778,\"#fb9f3a\"],[0.8888888888888888,\"#fdca26\"],[1.0,\"#f0f921\"]],\"sequentialminus\":[[0.0,\"#0d0887\"],[0.1111111111111111,\"#46039f\"],[0.2222222222222222,\"#7201a8\"],[0.3333333333333333,\"#9c179e\"],[0.4444444444444444,\"#bd3786\"],[0.5555555555555556,\"#d8576b\"],[0.6666666666666666,\"#ed7953\"],[0.7777777777777778,\"#fb9f3a\"],[0.8888888888888888,\"#fdca26\"],[1.0,\"#f0f921\"]]},\"colorway\":[\"#636efa\",\"#EF553B\",\"#00cc96\",\"#ab63fa\",\"#FFA15A\",\"#19d3f3\",\"#FF6692\",\"#B6E880\",\"#FF97FF\",\"#FECB52\"],\"font\":{\"color\":\"#2a3f5f\"},\"geo\":{\"bgcolor\":\"white\",\"lakecolor\":\"white\",\"landcolor\":\"#E5ECF6\",\"showlakes\":true,\"showland\":true,\"subunitcolor\":\"white\"},\"hoverlabel\":{\"align\":\"left\"},\"hovermode\":\"closest\",\"mapbox\":{\"style\":\"light\"},\"paper_bgcolor\":\"white\",\"plot_bgcolor\":\"#E5ECF6\",\"polar\":{\"angularaxis\":{\"gridcolor\":\"white\",\"linecolor\":\"white\",\"ticks\":\"\"},\"bgcolor\":\"#E5ECF6\",\"radialaxis\":{\"gridcolor\":\"white\",\"linecolor\":\"white\",\"ticks\":\"\"}},\"scene\":{\"xaxis\":{\"backgroundcolor\":\"#E5ECF6\",\"gridcolor\":\"white\",\"gridwidth\":2,\"linecolor\":\"white\",\"showbackground\":true,\"ticks\":\"\",\"zerolinecolor\":\"white\"},\"yaxis\":{\"backgroundcolor\":\"#E5ECF6\",\"gridcolor\":\"white\",\"gridwidth\":2,\"linecolor\":\"white\",\"showbackground\":true,\"ticks\":\"\",\"zerolinecolor\":\"white\"},\"zaxis\":{\"backgroundcolor\":\"#E5ECF6\",\"gridcolor\":\"white\",\"gridwidth\":2,\"linecolor\":\"white\",\"showbackground\":true,\"ticks\":\"\",\"zerolinecolor\":\"white\"}},\"shapedefaults\":{\"line\":{\"color\":\"#2a3f5f\"}},\"ternary\":{\"aaxis\":{\"gridcolor\":\"white\",\"linecolor\":\"white\",\"ticks\":\"\"},\"baxis\":{\"gridcolor\":\"white\",\"linecolor\":\"white\",\"ticks\":\"\"},\"bgcolor\":\"#E5ECF6\",\"caxis\":{\"gridcolor\":\"white\",\"linecolor\":\"white\",\"ticks\":\"\"}},\"title\":{\"x\":0.05},\"xaxis\":{\"automargin\":true,\"gridcolor\":\"white\",\"linecolor\":\"white\",\"ticks\":\"\",\"title\":{\"standoff\":15},\"zerolinecolor\":\"white\",\"zerolinewidth\":2},\"yaxis\":{\"automargin\":true,\"gridcolor\":\"white\",\"linecolor\":\"white\",\"ticks\":\"\",\"title\":{\"standoff\":15},\"zerolinecolor\":\"white\",\"zerolinewidth\":2}}},\"xaxis\":{\"anchor\":\"y\",\"domain\":[0.0,1.0],\"title\":{\"text\":\"\\u6210\\u4ea4\\u50f9\\u683c\"}},\"yaxis\":{\"anchor\":\"x\",\"domain\":[0.0,1.0],\"title\":{\"text\":\"\\u5168\\u5e02\\u5834\\u6210\\u4ea4\\u91cf\"}},\"legend\":{\"tracegroupgap\":0},\"margin\":{\"t\":60},\"barmode\":\"relative\"},                        {\"responsive\": true}                    ).then(function(){\n",
       "                            \n",
       "var gd = document.getElementById('ad20e64f-1d62-4691-b71b-5324b38036f1');\n",
       "var x = new MutationObserver(function (mutations, observer) {{\n",
       "        var display = window.getComputedStyle(gd).display;\n",
       "        if (!display || display === 'none') {{\n",
       "            console.log([gd, 'removed!']);\n",
       "            Plotly.purge(gd);\n",
       "            observer.disconnect();\n",
       "        }}\n",
       "}});\n",
       "\n",
       "// Listen for the removal of the full notebook cells\n",
       "var notebookContainer = gd.closest('#notebook-container');\n",
       "if (notebookContainer) {{\n",
       "    x.observe(notebookContainer, {childList: true});\n",
       "}}\n",
       "\n",
       "// Listen for the clearing of the current output cell\n",
       "var outputEl = gd.closest('.output');\n",
       "if (outputEl) {{\n",
       "    x.observe(outputEl, {childList: true});\n",
       "}}\n",
       "\n",
       "                        })                };                });            </script>        </div>"
      ]
     },
     "metadata": {},
     "output_type": "display_data"
    }
   ],
   "source": [
    "import plotly.express as px\n",
    "fig = px.bar(df, x='成交價格', y='全市場成交量', title = '台指期成交價格＆成交量')\n",
    "fig.show()"
   ]
  }
 ],
 "metadata": {
  "kernelspec": {
   "display_name": "Python 3 (ipykernel)",
   "language": "python",
   "name": "python3"
  },
  "language_info": {
   "codemirror_mode": {
    "name": "ipython",
    "version": 3
   },
   "file_extension": ".py",
   "mimetype": "text/x-python",
   "name": "python",
   "nbconvert_exporter": "python",
   "pygments_lexer": "ipython3",
   "version": "3.9.7"
  }
 },
 "nbformat": 4,
 "nbformat_minor": 5
}
